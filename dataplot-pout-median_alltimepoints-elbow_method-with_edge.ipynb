{
 "cells": [
  {
   "cell_type": "code",
   "execution_count": 69,
   "id": "5d590ecd",
   "metadata": {},
   "outputs": [],
   "source": [
    "import os\n",
    "import pandas as pd\n",
    "import numpy as np\n",
    "from matplotlib import pyplot as plt\n",
    "from itertools import combinations\n",
    "from sklearn.decomposition import PCA"
   ]
  },
  {
   "cell_type": "code",
   "execution_count": 70,
   "id": "dee8d599",
   "metadata": {
    "scrolled": true
   },
   "outputs": [],
   "source": [
    "ph=1.5574E-4\n",
    "times=[1,2,3,6,7,9,13,16,21,24,31] "
   ]
  },
  {
   "cell_type": "code",
   "execution_count": 71,
   "id": "3c841df7",
   "metadata": {},
   "outputs": [],
   "source": [
    "def islinear(data):\n",
    "    pca = PCA() # Compute PCA\n",
    "    pca.fit_transform(data)\n",
    "    eigenvalues = pca.explained_variance_ # Get eigenvalues\n",
    "    eigenvalues = np.round(eigenvalues, 7) # Round off eigenvalues\n",
    "    islin=len([x for x in eigenvalues if x >0])!=2\n",
    "    print(\"is linear \",islin)\n",
    "    return islin "
   ]
  },
  {
   "cell_type": "code",
   "execution_count": 72,
   "id": "bcb1aedf",
   "metadata": {},
   "outputs": [],
   "source": [
    "path=\"C:/Workplace/C++/d2ome_v2/v2/v2/bin/Debug/\"\n",
    "pept=[x.split('_1_')[0] for x in os.listdir(path) if ((\".csv\" in x) and (\"_1_\" in x)) ]"
   ]
  },
  {
   "cell_type": "code",
   "execution_count": null,
   "id": "0a889b76",
   "metadata": {},
   "outputs": [],
   "source": []
  },
  {
   "cell_type": "code",
   "execution_count": 73,
   "id": "2253e55b",
   "metadata": {
    "scrolled": true
   },
   "outputs": [],
   "source": [
    "from sklearn.metrics import r2_score,mean_squared_error \n",
    "def estimateneh(const):\n",
    "    if not const or len(const)==0:\n",
    "        return None\n",
    "    \n",
    "    plt.scatter(times,const,c='k',s=120)\n",
    "    plt.ylabel(\"px(t)*NEH\")\n",
    "    plt.xlabel(\"Time\")\n",
    "    \n",
    "#     ========================\n",
    "\n",
    "    res=[]\n",
    "    for neh in range(100):\n",
    "        sum_er=0 \n",
    "        for i in range(len(times)):\n",
    "            pxt=[(x/10000) for x in list(range(1,500,1))]\n",
    "            diff=[abs(const[i]-neh*x) for x in pxt]\n",
    "            sum_er+=min(diff)\n",
    "        res.append(sum_er)\n",
    "    \n",
    "    # bet neh val    \n",
    "#     nehval=res.index(min(res))\n",
    "    nehval=0\n",
    "    for i,val in enumerate(res):\n",
    "        diff=float('inf')\n",
    "        if i!=0:\n",
    "            diff=res[i-1]-val\n",
    "\n",
    "        if(diff <0.001):\n",
    "            nehval=i\n",
    "            print(\"NEH=\",i-1)\n",
    "            break\n",
    "#         print(i,val/11,abs(diff))\n",
    "    \n",
    "    # compute the points for best neh val\n",
    "    temp_const=[]\n",
    "    for i in range(11):\n",
    "        pxt=[(x/10000) for x in list(range(1,500,1))]\n",
    "        diff=[abs(const[i]-nehval*x) for x in pxt]\n",
    "        temp_const.append(pxt[diff.index(min(diff))]*nehval) \n",
    "    \n",
    "    plt.scatter(times,temp_const,c='r',s=40)    \n",
    "    plt.show()\n",
    "    \n",
    "    corr_matrix = np.corrcoef(const, temp_const)\n",
    "    corr = corr_matrix[0,1]\n",
    "    R_sq = corr**2\n",
    "    r2=r2_score(const, temp_const)\n",
    "    rmse=(mean_squared_error(const, temp_const))**0.5\n",
    "\n",
    "    print(\"**************\",\"RMSE=\",rmse,\"R square=\",r2)\n",
    "    print(temp_const)\n",
    "    \n",
    "    print(\"\\n estimated NEH\",nehval)\n",
    "    plt.figure(figsize=(10,6))\n",
    "    plt.scatter(range(100),res,s=10,c='k')\n",
    "    plt.xlabel(\"NEH\")\n",
    "    plt.ylabel(\"Error\")\n",
    "    plt.show()\n",
    "#     ========================\n",
    "    \n",
    "    return nehval"
   ]
  },
  {
   "cell_type": "code",
   "execution_count": 74,
   "id": "b6f71133",
   "metadata": {
    "scrolled": true
   },
   "outputs": [
    {
     "name": "stdout",
     "output_type": "stream",
     "text": [
      "\n",
      " _AcVDTALENLSTLK_2 Time 1 ==================================>\n",
      "pxt*NEH = 0.1632 real_NEH= 23 ratio = 0.007095652173913044 \n",
      "\n",
      "vals 0.1276168851161491\n",
      "\n",
      " _AcVDTALENLSTLK_2 Time 2 ==================================>\n",
      "pxt*NEH = 0.399000105 real_NEH= 23 ratio = 0.017347830652173914 \n",
      "\n",
      "vals 0.36044742560802073\n",
      "\n",
      " _AcVDTALENLSTLK_2 Time 3 ==================================>\n",
      "pxt*NEH = 0.41730010700000003 real_NEH= 23 ratio = 0.01814348291304348 \n",
      "\n",
      "vals 0.33000407535697557\n",
      "\n",
      " _AcVDTALENLSTLK_2 Time 6 ==================================>\n",
      "pxt*NEH = 0.92720475 real_NEH= 23 ratio = 0.04031325 \n",
      "\n",
      "vals 1.110945761810987\n",
      "\n",
      " _AcVDTALENLSTLK_2 Time 7 ==================================>\n",
      "pxt*NEH = 0.9820052 real_NEH= 23 ratio = 0.04269587826086957 \n",
      "\n",
      "vals 0.9223413771954793\n",
      "\n",
      " _AcVDTALENLSTLK_2 Time 9 ==================================>\n",
      "pxt*NEH = 0.972005 real_NEH= 23 ratio = 0.04226108695652174 \n",
      "\n",
      "vals 1.0953439878799884\n",
      "\n",
      " _AcVDTALENLSTLK_2 Time 13 ==================================>\n",
      "pxt*NEH = 1.0890057199999998 real_NEH= 23 ratio = 0.04734807478260869 \n",
      "\n",
      "vals 1.2958389200573892\n",
      "\n",
      " _AcVDTALENLSTLK_2 Time 16 ==================================>\n",
      "pxt*NEH = 1.18560624 real_NEH= 23 ratio = 0.05154809739130435 \n",
      "\n",
      "vals 1.3445878295817735\n",
      "\n",
      " _AcVDTALENLSTLK_2 Time 21 ==================================>\n",
      "pxt*NEH = 1.0648055 real_NEH= 23 ratio = 0.04629589130434783 \n",
      "\n",
      "vals 1.206045938649577\n",
      "\n",
      " _AcVDTALENLSTLK_2 Time 24 ==================================>\n",
      "pxt*NEH = 1.13160598 real_NEH= 23 ratio = 0.04920026 \n",
      "\n",
      "vals 1.2797752428266156\n",
      "\n",
      " _AcVDTALENLSTLK_2 Time 31 ==================================>\n",
      "pxt*NEH = 1.09780594 real_NEH= 23 ratio = 0.04773069304347826 \n",
      "\n",
      "vals 1.3547383154885704\n",
      "\n",
      " [0.1632, 0.399000105, 0.41730010700000003, 0.92720475, 0.9820052, 0.972005, 1.0890057199999998, 1.18560624, 1.0648055, 1.13160598, 1.09780594]\n",
      "NEH= 24\n"
     ]
    },
    {
     "data": {
      "image/png": "[encoded data removed]",
      "text/plain": [
       "<Figure size 432x288 with 1 Axes>"
      ]
     },
     "metadata": {
      "needs_background": "light"
     },
     "output_type": "display_data"
    },
    {
     "name": "stdout",
     "output_type": "stream",
     "text": [
      "************** RMSE= 0.000631994877350812 R square= 0.9999965036611144\n",
      "[0.1625, 0.4, 0.4175, 0.9275, 0.9825, 0.9724999999999999, 1.09, 1.185, 1.065, 1.1325, 1.0975000000000001]\n",
      "\n",
      " estimated NEH 25\n"
     ]
    },
    {
     "data": {
      "image/png": "[encoded data removed]",
      "text/plain": [
       "<Figure size 720x432 with 1 Axes>"
      ]
     },
     "metadata": {
      "needs_background": "light"
     },
     "output_type": "display_data"
    },
    {
     "name": "stdout",
     "output_type": "stream",
     "text": [
      "\n",
      "True NEH = 23 \t estimated NEHs median 25\n",
      "===============================================================\n",
      "\n",
      "===============================================================\n",
      "\n",
      "===============================================================\n",
      "\n",
      "\n",
      " _DAMLENQTPELFQDVNKPK_3 Time 1 ==================================>\n",
      "pxt*NEH = 0.252 real_NEH= 37 ratio = 0.0068108108108108105 \n",
      "\n",
      "vals 0.10096559343419198\n",
      "\n",
      " _DAMLENQTPELFQDVNKPK_3 Time 2 ==================================>\n",
      "pxt*NEH = 0.727499325 real_NEH= 37 ratio = 0.01966214391891892 \n",
      "\n",
      "vals 0.29757862290242104\n",
      "\n",
      " _DAMLENQTPELFQDVNKPK_3 Time 3 ==================================>\n",
      "pxt*NEH = 0.7655995360000001 real_NEH= 37 ratio = 0.020691879351351354 \n",
      "\n",
      "vals 0.3317947964145975\n",
      "\n",
      " _DAMLENQTPELFQDVNKPK_3 Time 6 ==================================>\n",
      "pxt*NEH = 1.4820078 real_NEH= 37 ratio = 0.040054264864864866 \n",
      "\n",
      "vals 0.9953763447225414\n",
      "\n",
      " _DAMLENQTPELFQDVNKPK_3 Time 7 ==================================>\n",
      "pxt*NEH = 1.44710783 real_NEH= 37 ratio = 0.03911102243243243 \n",
      "\n",
      "vals 1.0905010924950482\n",
      "\n",
      " _DAMLENQTPELFQDVNKPK_3 Time 9 ==================================>\n",
      "pxt*NEH = 1.53140806 real_NEH= 37 ratio = 0.04138940702702702 \n",
      "\n",
      "vals 1.4245772309715403\n",
      "\n",
      " _DAMLENQTPELFQDVNKPK_3 Time 13 ==================================>\n",
      "pxt*NEH = 1.57760832 real_NEH= 37 ratio = 0.0426380627027027 \n",
      "\n",
      "vals 1.4647278114779803\n",
      "\n",
      " _DAMLENQTPELFQDVNKPK_3 Time 16 ==================================>\n",
      "pxt*NEH = 1.7150090999999998 real_NEH= 37 ratio = 0.04635159729729729 \n",
      "\n",
      "vals 1.6005534381283695\n",
      "\n",
      " _DAMLENQTPELFQDVNKPK_3 Time 21 ==================================>\n",
      "pxt*NEH = 1.66940884 real_NEH= 37 ratio = 0.04511915783783784 \n",
      "\n",
      "vals 1.6536070292453862\n",
      "\n",
      " _DAMLENQTPELFQDVNKPK_3 Time 24 ==================================>\n",
      "pxt*NEH = 1.57760832 real_NEH= 37 ratio = 0.0426380627027027 \n",
      "\n",
      "vals 1.526972649496557\n",
      "\n",
      " _DAMLENQTPELFQDVNKPK_3 Time 31 ==================================>\n",
      "pxt*NEH = 1.6966091799999998 real_NEH= 37 ratio = 0.04585430216216216 \n",
      "\n",
      "vals 1.8547224184258921\n",
      "\n",
      " [0.252, 0.727499325, 0.7655995360000001, 1.4820078, 1.44710783, 1.53140806, 1.57760832, 1.7150090999999998, 1.66940884, 1.57760832, 1.6966091799999998]\n",
      "NEH= 35\n"
     ]
    },
    {
     "data": {
      "image/png": "[encoded data removed]",
      "text/plain": [
       "<Figure size 432x288 with 1 Axes>"
      ]
     },
     "metadata": {
      "needs_background": "light"
     },
     "output_type": "display_data"
    },
    {
     "name": "stdout",
     "output_type": "stream",
     "text": [
      "************** RMSE= 0.000964664145805012 R square= 0.9999958017815785\n",
      "[0.252, 0.7272, 0.7667999999999999, 1.4832, 1.4472, 1.53, 1.5768, 1.7136, 1.6703999999999999, 1.5768, 1.6956000000000002]\n",
      "\n",
      " estimated NEH 36\n"
     ]
    },
    {
     "data": {
      "image/png": "[encoded data removed]",
      "text/plain": [
       "<Figure size 720x432 with 1 Axes>"
      ]
     },
     "metadata": {
      "needs_background": "light"
     },
     "output_type": "display_data"
    },
    {
     "name": "stdout",
     "output_type": "stream",
     "text": [
      "\n",
      "True NEH = 37 \t estimated NEHs median 36\n",
      "===============================================================\n",
      "\n",
      "===============================================================\n",
      "\n",
      "===============================================================\n",
      "\n",
      "\n",
      " _FPQLDDTSFANSR_2 Time 1 ==================================>\n",
      "pxt*NEH = 0.18 real_NEH= 26 ratio = 0.006923076923076922 \n",
      "\n",
      "vals 0.09470633412865287\n",
      "\n",
      " _FPQLDDTSFANSR_2 Time 2 ==================================>\n",
      "pxt*NEH = 0.48499990299999995 real_NEH= 26 ratio = 0.01865384242307692 \n",
      "\n",
      "vals 0.3130234550456242\n",
      "\n",
      " _FPQLDDTSFANSR_2 Time 3 ==================================>\n",
      "pxt*NEH = 0.4416 real_NEH= 26 ratio = 0.016984615384615383 \n",
      "\n",
      "vals 0.29669866489079133\n",
      "\n",
      " _FPQLDDTSFANSR_2 Time 6 ==================================>\n",
      "pxt*NEH = 1.0766990300000001 real_NEH= 26 ratio = 0.04141150115384616 \n",
      "\n",
      "vals 0.6328115944445515\n",
      "\n",
      " _FPQLDDTSFANSR_2 Time 7 ==================================>\n",
      "pxt*NEH = 0.99909903 real_NEH= 26 ratio = 0.03842688576923077 \n",
      "\n",
      "vals 0.8208668044417566\n",
      "\n",
      " _FPQLDDTSFANSR_2 Time 9 ==================================>\n",
      "pxt*NEH = 1.13279904 real_NEH= 26 ratio = 0.04356919384615385 \n",
      "\n",
      "vals 0.8152827548392036\n",
      "\n",
      " _FPQLDDTSFANSR_2 Time 13 ==================================>\n",
      "pxt*NEH = 1.20839848 real_NEH= 26 ratio = 0.04647686461538462 \n",
      "\n",
      "vals 1.3636419415960532\n",
      "\n",
      " _FPQLDDTSFANSR_2 Time 16 ==================================>\n",
      "pxt*NEH = 1.2767980799999998 real_NEH= 26 ratio = 0.04910761846153845 \n",
      "\n",
      "vals 0.8531014305390473\n",
      "\n",
      " _FPQLDDTSFANSR_2 Time 21 ==================================>\n",
      "pxt*NEH = 1.13159908 real_NEH= 26 ratio = 0.04352304153846154 \n",
      "\n",
      "vals 1.0189667694997657\n",
      "\n",
      " _FPQLDDTSFANSR_2 Time 24 ==================================>\n",
      "pxt*NEH = 1.22359848 real_NEH= 26 ratio = 0.047061479999999996 \n",
      "\n",
      "vals 1.1495886380893316\n",
      "\n",
      " _FPQLDDTSFANSR_2 Time 31 ==================================>\n",
      "pxt*NEH = 1.1999985 real_NEH= 26 ratio = 0.04615378846153846 \n",
      "\n",
      "vals 1.119787741020973\n",
      "\n",
      " [0.18, 0.48499990299999995, 0.4416, 1.0766990300000001, 0.99909903, 1.13279904, 1.20839848, 1.2767980799999998, 1.13159908, 1.22359848, 1.1999985]\n",
      "NEH= 26\n"
     ]
    },
    {
     "data": {
      "image/png": "[encoded data removed]",
      "text/plain": [
       "<Figure size 432x288 with 1 Axes>"
      ]
     },
     "metadata": {
      "needs_background": "light"
     },
     "output_type": "display_data"
    },
    {
     "name": "stdout",
     "output_type": "stream",
     "text": [
      "************** RMSE= 0.000872437036874225 R square= 0.9999942753910188\n",
      "[0.1809, 0.486, 0.4428, 1.0773, 0.999, 1.1340000000000001, 1.2096, 1.2771000000000001, 1.1313, 1.2231, 1.1988]\n",
      "\n",
      " estimated NEH 27\n"
     ]
    },
    {
     "data": {
      "image/png": "[encoded data removed]",
      "text/plain": [
       "<Figure size 720x432 with 1 Axes>"
      ]
     },
     "metadata": {
      "needs_background": "light"
     },
     "output_type": "display_data"
    },
    {
     "name": "stdout",
     "output_type": "stream",
     "text": [
      "\n",
      "True NEH = 26 \t estimated NEHs median 27\n",
      "===============================================================\n",
      "\n",
      "===============================================================\n",
      "\n",
      "===============================================================\n",
      "\n",
      "\n",
      " _GNAGQTNYGFANSTMER_2 Time 1 ==================================>\n",
      "pxt*NEH = 0.186 real_NEH= 36 ratio = 0.005166666666666667 \n",
      "\n",
      "vals 0.16225419564814075\n",
      "\n",
      " _GNAGQTNYGFANSTMER_2 Time 2 ==================================>\n",
      "pxt*NEH = 0.576299887 real_NEH= 36 ratio = 0.016008330194444444 \n",
      "\n",
      "vals 0.33382072056733453\n",
      "\n",
      " _GNAGQTNYGFANSTMER_2 Time 3 ==================================>\n",
      "pxt*NEH = 0.666699661 real_NEH= 36 ratio = 0.018519435027777777 \n",
      "\n",
      "vals 0.4543201261545663\n",
      "\n",
      " _GNAGQTNYGFANSTMER_2 Time 6 ==================================>\n",
      "pxt*NEH = 1.3720072799999998 real_NEH= 36 ratio = 0.03811131333333333 \n",
      "\n",
      "vals 1.4971800215134812\n",
      "\n",
      " _GNAGQTNYGFANSTMER_2 Time 7 ==================================>\n",
      "pxt*NEH = 1.32869897 real_NEH= 36 ratio = 0.03690830472222222 \n",
      "\n",
      "vals 1.080520011836339\n",
      "\n",
      " _GNAGQTNYGFANSTMER_2 Time 9 ==================================>\n",
      "pxt*NEH = 1.43840783 real_NEH= 36 ratio = 0.03995577305555556 \n",
      "\n",
      "vals 1.499021718181375\n",
      "\n",
      " _GNAGQTNYGFANSTMER_2 Time 13 ==================================>\n",
      "pxt*NEH = 1.4970081 real_NEH= 36 ratio = 0.04158355833333333 \n",
      "\n",
      "vals 1.4812305565535577\n",
      "\n",
      " _GNAGQTNYGFANSTMER_2 Time 16 ==================================>\n",
      "pxt*NEH = 1.6236085800000002 real_NEH= 36 ratio = 0.04510023833333334 \n",
      "\n",
      "vals 1.7278788571051362\n",
      "\n",
      " _GNAGQTNYGFANSTMER_2 Time 21 ==================================>\n",
      "pxt*NEH = 1.44710783 real_NEH= 36 ratio = 0.04019743972222222 \n",
      "\n",
      "vals 1.5461558546185619\n",
      "\n",
      " _GNAGQTNYGFANSTMER_2 Time 24 ==================================>\n",
      "pxt*NEH = 1.4880081 real_NEH= 36 ratio = 0.04133355833333333 \n",
      "\n",
      "vals 1.506021909718989\n",
      "\n",
      " _GNAGQTNYGFANSTMER_2 Time 31 ==================================>\n",
      "pxt*NEH = 1.4730078 real_NEH= 36 ratio = 0.040916883333333334 \n",
      "\n",
      "vals 1.6349617945346504\n",
      "\n",
      " [0.186, 0.576299887, 0.666699661, 1.3720072799999998, 1.32869897, 1.43840783, 1.4970081, 1.6236085800000002, 1.44710783, 1.4880081, 1.4730078]\n",
      "NEH= 33\n"
     ]
    },
    {
     "data": {
      "image/png": "[encoded data removed]",
      "text/plain": [
       "<Figure size 432x288 with 1 Axes>"
      ]
     },
     "metadata": {
      "needs_background": "light"
     },
     "output_type": "display_data"
    },
    {
     "name": "stdout",
     "output_type": "stream",
     "text": [
      "************** RMSE= 0.0011418708285962193 R square= 0.9999937364098528\n",
      "[0.187, 0.5746, 0.6664, 1.3736, 1.3294000000000001, 1.4382, 1.496, 1.6252, 1.4484, 1.4891999999999999, 1.4722]\n",
      "\n",
      " estimated NEH 34\n"
     ]
    },
    {
     "data": {
      "image/png": "[encoded data removed]",
      "text/plain": [
       "<Figure size 720x432 with 1 Axes>"
      ]
     },
     "metadata": {
      "needs_background": "light"
     },
     "output_type": "display_data"
    },
    {
     "name": "stdout",
     "output_type": "stream",
     "text": [
      "\n",
      "True NEH = 36 \t estimated NEHs median 34\n",
      "===============================================================\n",
      "\n",
      "===============================================================\n",
      "\n",
      "===============================================================\n",
      "\n",
      "\n",
      " _LDPGSPELQQVLK_2 Time 1 ==================================>\n",
      "pxt*NEH = 0.165 real_NEH= 26 ratio = 0.006346153846153847 \n",
      "\n",
      "vals 0.16930867994373772\n",
      "\n",
      " _LDPGSPELQQVLK_2 Time 2 ==================================>\n",
      "pxt*NEH = 0.406600107 real_NEH= 26 ratio = 0.015638465653846155 \n",
      "\n",
      "vals 0.3224289050174441\n",
      "\n",
      " _LDPGSPELQQVLK_2 Time 3 ==================================>\n",
      "pxt*NEH = 0.39590000000000003 real_NEH= 26 ratio = 0.015226923076923079 \n",
      "\n",
      "vals 0.2507635264975957\n",
      "\n",
      " _LDPGSPELQQVLK_2 Time 6 ==================================>\n",
      "pxt*NEH = 1.0199985 real_NEH= 26 ratio = 0.03923071153846154 \n",
      "\n",
      "vals 0.9573392862792397\n",
      "\n",
      " _LDPGSPELQQVLK_2 Time 7 ==================================>\n",
      "pxt*NEH = 0.97499925 real_NEH= 26 ratio = 0.03749997115384615 \n",
      "\n",
      "vals 1.025131562199584\n",
      "\n",
      " _LDPGSPELQQVLK_2 Time 9 ==================================>\n",
      "pxt*NEH = 1.0874985000000001 real_NEH= 26 ratio = 0.04182686538461539 \n",
      "\n",
      "vals 1.1113789231996705\n",
      "\n",
      " _LDPGSPELQQVLK_2 Time 13 ==================================>\n",
      "pxt*NEH = 1.142505 real_NEH= 26 ratio = 0.0439425 \n",
      "\n",
      "vals 1.2492981549779683\n",
      "\n",
      " _LDPGSPELQQVLK_2 Time 16 ==================================>\n",
      "pxt*NEH = 1.24500675 real_NEH= 26 ratio = 0.047884875 \n",
      "\n",
      "vals 1.3840808249846859\n",
      "\n",
      " _LDPGSPELQQVLK_2 Time 21 ==================================>\n",
      "pxt*NEH = 1.1777984400000001 real_NEH= 26 ratio = 0.045299940000000004 \n",
      "\n",
      "vals 1.122422976459811\n",
      "\n",
      " _LDPGSPELQQVLK_2 Time 24 ==================================>\n",
      "pxt*NEH = 1.18560624 real_NEH= 26 ratio = 0.04560024 \n",
      "\n",
      "vals 1.3586063967673934\n",
      "\n",
      " _LDPGSPELQQVLK_2 Time 31 ==================================>\n",
      "pxt*NEH = 1.21909854 real_NEH= 26 ratio = 0.04688840538461539 \n",
      "\n",
      "vals 1.1922768337020286\n",
      "\n",
      " [0.165, 0.406600107, 0.39590000000000003, 1.0199985, 0.97499925, 1.0874985000000001, 1.142505, 1.24500675, 1.1777984400000001, 1.18560624, 1.21909854]\n",
      "NEH= 25\n"
     ]
    },
    {
     "data": {
      "image/png": "[encoded data removed]",
      "text/plain": [
       "<Figure size 432x288 with 1 Axes>"
      ]
     },
     "metadata": {
      "needs_background": "light"
     },
     "output_type": "display_data"
    },
    {
     "name": "stdout",
     "output_type": "stream",
     "text": [
      "************** RMSE= 0.0007085394156771839 R square= 0.9999963907921071\n",
      "[0.1638, 0.40559999999999996, 0.3952, 1.0191999999999999, 0.975, 1.0868, 1.1414, 1.2454, 1.1778, 1.1856, 1.2193999999999998]\n",
      "\n",
      " estimated NEH 26\n"
     ]
    },
    {
     "data": {
      "image/png": "[encoded data removed]",
      "text/plain": [
       "<Figure size 720x432 with 1 Axes>"
      ]
     },
     "metadata": {
      "needs_background": "light"
     },
     "output_type": "display_data"
    },
    {
     "name": "stdout",
     "output_type": "stream",
     "text": [
      "\n",
      "True NEH = 26 \t estimated NEHs median 26\n",
      "===============================================================\n",
      "\n",
      "===============================================================\n",
      "\n",
      "===============================================================\n",
      "\n",
      "\n",
      " _LFDHPEVPTPPESASVSR_3 Time 1 ==================================>\n",
      "pxt*NEH = 0.198 real_NEH= 40 ratio = 0.00495 \n",
      "\n",
      "vals 0.19363305277411993\n",
      "\n",
      " _LFDHPEVPTPPESASVSR_3 Time 2 ==================================>\n",
      "pxt*NEH = 0.5428 real_NEH= 40 ratio = 0.013569999999999999 \n",
      "\n",
      "vals 0.37984289153000866\n",
      "\n",
      " _LFDHPEVPTPPESASVSR_3 Time 3 ==================================>\n",
      "pxt*NEH = 0.545199884 real_NEH= 40 ratio = 0.0136299971 \n",
      "\n",
      "vals 0.3889326102604487\n",
      "\n",
      " _LFDHPEVPTPPESASVSR_3 Time 6 ==================================>\n",
      "pxt*NEH = 1.29480702 real_NEH= 40 ratio = 0.0323701755 \n",
      "\n",
      "vals 1.1734545958569684\n",
      "\n",
      " _LFDHPEVPTPPESASVSR_3 Time 7 ==================================>\n",
      "pxt*NEH = 1.3199985 real_NEH= 40 ratio = 0.0329999625 \n",
      "\n",
      "vals 1.0614642600306827\n",
      "\n",
      " _LFDHPEVPTPPESASVSR_3 Time 9 ==================================>\n",
      "pxt*NEH = 1.44710783 real_NEH= 40 ratio = 0.03617769575 \n",
      "\n",
      "vals 1.4848937265344802\n",
      "\n",
      " _LFDHPEVPTPPESASVSR_3 Time 13 ==================================>\n",
      "pxt*NEH = 1.4880081 real_NEH= 40 ratio = 0.0372002025 \n",
      "\n",
      "vals 2.217907388386506\n",
      "\n",
      " _LFDHPEVPTPPESASVSR_3 Time 16 ==================================>\n",
      "pxt*NEH = 1.62690858 real_NEH= 40 ratio = 0.0406727145 \n",
      "\n",
      "vals 2.029653809128102\n",
      "\n",
      " _LFDHPEVPTPPESASVSR_3 Time 21 ==================================>\n",
      "pxt*NEH = 1.56800832 real_NEH= 40 ratio = 0.039200208 \n",
      "\n",
      "vals 1.3645483058846788\n",
      "\n",
      " _LFDHPEVPTPPESASVSR_3 Time 24 ==================================>\n",
      "pxt*NEH = 1.5283080599999999 real_NEH= 40 ratio = 0.038207701499999996 \n",
      "\n",
      "vals 1.4277560954872754\n",
      "\n",
      " _LFDHPEVPTPPESASVSR_3 Time 31 ==================================>\n",
      "pxt*NEH = 1.6467089099999999 real_NEH= 40 ratio = 0.041167722749999996 \n",
      "\n",
      "vals 1.8496430709328593\n",
      "\n",
      " [0.198, 0.5428, 0.545199884, 1.29480702, 1.3199985, 1.44710783, 1.4880081, 1.62690858, 1.56800832, 1.5283080599999999, 1.6467089099999999]\n",
      "NEH= 33\n"
     ]
    },
    {
     "data": {
      "image/png": "[encoded data removed]",
      "text/plain": [
       "<Figure size 432x288 with 1 Axes>"
      ]
     },
     "metadata": {
      "needs_background": "light"
     },
     "output_type": "display_data"
    },
    {
     "name": "stdout",
     "output_type": "stream",
     "text": [
      "************** RMSE= 0.0011647307630074843 R square= 0.9999943838673727\n",
      "[0.1972, 0.544, 0.544, 1.2954, 1.3192, 1.4484, 1.4891999999999999, 1.6286, 1.5674000000000001, 1.53, 1.6456]\n",
      "\n",
      " estimated NEH 34\n"
     ]
    },
    {
     "data": {
      "image/png": "[encoded data removed]",
      "text/plain": [
       "<Figure size 720x432 with 1 Axes>"
      ]
     },
     "metadata": {
      "needs_background": "light"
     },
     "output_type": "display_data"
    },
    {
     "name": "stdout",
     "output_type": "stream",
     "text": [
      "\n",
      "True NEH = 40 \t estimated NEHs median 34\n",
      "===============================================================\n",
      "\n",
      "===============================================================\n",
      "\n",
      "===============================================================\n",
      "\n",
      "\n",
      " _LGMLSPDGTcR_2 Time 1 ==================================>\n",
      "pxt*NEH = 0.1023 real_NEH= 18 ratio = 0.005683333333333334 \n",
      "\n",
      "vals 0.06786086046187167\n",
      "\n",
      " _LGMLSPDGTcR_2 Time 2 ==================================>\n",
      "pxt*NEH = 0.33 real_NEH= 18 ratio = 0.018333333333333333 \n",
      "\n",
      "vals 0.27482894395884694\n",
      "\n",
      " _LGMLSPDGTcR_2 Time 3 ==================================>\n",
      "pxt*NEH = 0.3318 real_NEH= 18 ratio = 0.018433333333333333 \n",
      "\n",
      "vals 0.22742051007108582\n",
      "\n",
      " _LGMLSPDGTcR_2 Time 6 ==================================>\n",
      "pxt*NEH = 0.6974994 real_NEH= 18 ratio = 0.03874996666666666 \n",
      "\n",
      "vals 0.5844956538443645\n",
      "\n",
      " _LGMLSPDGTcR_2 Time 7 ==================================>\n",
      "pxt*NEH = 0.6749994 real_NEH= 18 ratio = 0.03749996666666667 \n",
      "\n",
      "vals 0.6247892054918708\n",
      "\n",
      " _LGMLSPDGTcR_2 Time 9 ==================================>\n",
      "pxt*NEH = 0.742499325 real_NEH= 18 ratio = 0.0412499625 \n",
      "\n",
      "vals 0.6756472202916952\n",
      "\n",
      " _LGMLSPDGTcR_2 Time 13 ==================================>\n",
      "pxt*NEH = 0.76499925 real_NEH= 18 ratio = 0.04249995833333334 \n",
      "\n",
      "vals 0.7468735343717608\n",
      "\n",
      " _LGMLSPDGTcR_2 Time 16 ==================================>\n",
      "pxt*NEH = 0.8099992500000001 real_NEH= 18 ratio = 0.04499995833333334 \n",
      "\n",
      "vals 0.7772653720311665\n",
      "\n",
      " _LGMLSPDGTcR_2 Time 21 ==================================>\n",
      "pxt*NEH = 0.7547992600000001 real_NEH= 18 ratio = 0.041933292222222224 \n",
      "\n",
      "vals 0.7737897587591214\n",
      "\n",
      " _LGMLSPDGTcR_2 Time 24 ==================================>\n",
      "pxt*NEH = 0.73999926 real_NEH= 18 ratio = 0.04111107 \n",
      "\n",
      "vals 0.7257522861685805\n",
      "\n",
      " _LGMLSPDGTcR_2 Time 31 ==================================>\n",
      "pxt*NEH = 0.79359904 real_NEH= 18 ratio = 0.04408883555555556 \n",
      "\n",
      "vals 0.8460946272340112\n",
      "\n",
      " [0.1023, 0.33, 0.3318, 0.6974994, 0.6749994, 0.742499325, 0.76499925, 0.8099992500000001, 0.7547992600000001, 0.73999926, 0.79359904]\n",
      "NEH= 17\n"
     ]
    },
    {
     "data": {
      "image/png": "[encoded data removed]",
      "text/plain": [
       "<Figure size 432x288 with 1 Axes>"
      ]
     },
     "metadata": {
      "needs_background": "light"
     },
     "output_type": "display_data"
    },
    {
     "name": "stdout",
     "output_type": "stream",
     "text": [
      "************** RMSE= 0.0005105175019192975 R square= 0.9999950441967617\n",
      "[0.1026, 0.3294, 0.3312, 0.6966, 0.6749999999999999, 0.7416, 0.765, 0.8099999999999999, 0.7542, 0.7398, 0.7938000000000001]\n",
      "\n",
      " estimated NEH 18\n"
     ]
    },
    {
     "data": {
      "image/png": "[encoded data removed]",
      "text/plain": [
       "<Figure size 720x432 with 1 Axes>"
      ]
     },
     "metadata": {
      "needs_background": "light"
     },
     "output_type": "display_data"
    },
    {
     "name": "stdout",
     "output_type": "stream",
     "text": [
      "\n",
      "True NEH = 18 \t estimated NEHs median 18\n",
      "===============================================================\n",
      "\n",
      "===============================================================\n",
      "\n",
      "===============================================================\n",
      "\n",
      "\n",
      " _LKEDTQVADVTTSR_3 Time 1 ==================================>\n",
      "pxt*NEH = 0.16119999999999998 real_NEH= 24 ratio = 0.006716666666666666 \n",
      "\n",
      "vals 0.15273962942437677\n",
      "\n",
      " _LKEDTQVADVTTSR_3 Time 2 ==================================>\n",
      "pxt*NEH = 0.436800112 real_NEH= 24 ratio = 0.01820000466666667 \n",
      "\n",
      "vals 0.3628830835676231\n",
      "\n",
      " _LKEDTQVADVTTSR_3 Time 3 ==================================>\n",
      "pxt*NEH = 0.3996 real_NEH= 24 ratio = 0.01665 \n",
      "\n",
      "vals 0.34477360676702284\n",
      "\n",
      " _LKEDTQVADVTTSR_3 Time 6 ==================================>\n",
      "pxt*NEH = 1.0649985 real_NEH= 24 ratio = 0.044374937499999996 \n",
      "\n",
      "vals 1.0482316630055584\n",
      "\n",
      " _LKEDTQVADVTTSR_3 Time 7 ==================================>\n",
      "pxt*NEH = 0.8960036 real_NEH= 24 ratio = 0.037333483333333334 \n",
      "\n",
      "vals 0.9664492361674214\n",
      "\n",
      " _LKEDTQVADVTTSR_3 Time 9 ==================================>\n",
      "pxt*NEH = 1.06579854 real_NEH= 24 ratio = 0.044408272500000005 \n",
      "\n",
      "vals 1.043950889520227\n",
      "\n",
      " _LKEDTQVADVTTSR_3 Time 13 ==================================>\n",
      "pxt*NEH = 1.1808062400000001 real_NEH= 24 ratio = 0.04920026 \n",
      "\n",
      "vals 1.0932030356367164\n",
      "\n",
      " _LKEDTQVADVTTSR_3 Time 16 ==================================>\n",
      "pxt*NEH = 1.2475067499999999 real_NEH= 24 ratio = 0.051979447916666664 \n",
      "\n",
      "vals 1.2723256595516714\n",
      "\n",
      " _LKEDTQVADVTTSR_3 Time 21 ==================================>\n",
      "pxt*NEH = 1.08020572 real_NEH= 24 ratio = 0.045008571666666664 \n",
      "\n",
      "vals 1.2585575332901426\n",
      "\n",
      " _LKEDTQVADVTTSR_3 Time 24 ==================================>\n",
      "pxt*NEH = 1.14080621 real_NEH= 24 ratio = 0.04753359208333333 \n",
      "\n",
      "vals 1.2645760727300381\n",
      "\n",
      " _LKEDTQVADVTTSR_3 Time 31 ==================================>\n",
      "pxt*NEH = 1.13620598 real_NEH= 24 ratio = 0.04734191583333333 \n",
      "\n",
      "vals 1.1759104615392797\n",
      "\n",
      " [0.16119999999999998, 0.436800112, 0.3996, 1.0649985, 0.8960036, 1.06579854, 1.1808062400000001, 1.2475067499999999, 1.08020572, 1.14080621, 1.13620598]\n",
      "NEH= 26\n"
     ]
    },
    {
     "data": {
      "image/png": "[encoded data removed]",
      "text/plain": [
       "<Figure size 432x288 with 1 Axes>"
      ]
     },
     "metadata": {
      "needs_background": "light"
     },
     "output_type": "display_data"
    },
    {
     "name": "stdout",
     "output_type": "stream",
     "text": [
      "************** RMSE= 0.0007310255869880616 R square= 0.9999958328257904\n",
      "[0.162, 0.43739999999999996, 0.3996, 1.0637999999999999, 0.8964, 1.0665, 1.1799000000000002, 1.2473999999999998, 1.08, 1.1421, 1.1367]\n",
      "\n",
      " estimated NEH 27\n"
     ]
    },
    {
     "data": {
      "image/png": "[encoded data removed]",
      "text/plain": [
       "<Figure size 720x432 with 1 Axes>"
      ]
     },
     "metadata": {
      "needs_background": "light"
     },
     "output_type": "display_data"
    },
    {
     "name": "stdout",
     "output_type": "stream",
     "text": [
      "\n",
      "True NEH = 24 \t estimated NEHs median 27\n",
      "===============================================================\n",
      "\n",
      "===============================================================\n",
      "\n",
      "===============================================================\n",
      "\n",
      "\n",
      " _LLLPEDPLISGLLNSQALK_2 Time 1 ==================================>\n",
      "pxt*NEH = 0.165 real_NEH= 33 ratio = 0.005 \n",
      "\n",
      "vals 0.07983203954742728\n",
      "\n",
      " _LLLPEDPLISGLLNSQALK_2 Time 2 ==================================>\n",
      "pxt*NEH = 0.5382 real_NEH= 33 ratio = 0.01630909090909091 \n",
      "\n",
      "vals 0.2518512268084969\n",
      "\n",
      " _LLLPEDPLISGLLNSQALK_2 Time 3 ==================================>\n",
      "pxt*NEH = 0.5236000000000001 real_NEH= 33 ratio = 0.015866666666666668 \n",
      "\n",
      "vals 0.20828615887446\n",
      "\n",
      " _LLLPEDPLISGLLNSQALK_2 Time 6 ==================================>\n",
      "pxt*NEH = 1.3473072899999998 real_NEH= 33 ratio = 0.04082749363636363 \n",
      "\n",
      "vals 1.2219136113930147\n",
      "\n",
      " _LLLPEDPLISGLLNSQALK_2 Time 7 ==================================>\n",
      "pxt*NEH = 1.2584065 real_NEH= 33 ratio = 0.0381335303030303 \n",
      "\n",
      "vals 1.2773787326578456\n",
      "\n",
      " _LLLPEDPLISGLLNSQALK_2 Time 9 ==================================>\n",
      "pxt*NEH = 1.39160756 real_NEH= 33 ratio = 0.04216992606060606 \n",
      "\n",
      "vals 1.2664974611022934\n",
      "\n",
      " _LLLPEDPLISGLLNSQALK_2 Time 13 ==================================>\n",
      "pxt*NEH = 1.44710783 real_NEH= 33 ratio = 0.04385175242424243 \n",
      "\n",
      "vals 1.5379850020046117\n",
      "\n",
      " _LLLPEDPLISGLLNSQALK_2 Time 16 ==================================>\n",
      "pxt*NEH = 1.59360864 real_NEH= 33 ratio = 0.04829117090909091 \n",
      "\n",
      "vals 1.7781137064357373\n",
      "\n",
      " _LLLPEDPLISGLLNSQALK_2 Time 21 ==================================>\n",
      "pxt*NEH = 1.42100754 real_NEH= 33 ratio = 0.04306083454545454 \n",
      "\n",
      "vals 1.4950599983123227\n",
      "\n",
      " _LLLPEDPLISGLLNSQALK_2 Time 24 ==================================>\n",
      "pxt*NEH = 1.4880081 real_NEH= 33 ratio = 0.045091154545454544 \n",
      "\n",
      "vals 1.8769278237938354\n",
      "\n",
      " _LLLPEDPLISGLLNSQALK_2 Time 31 ==================================>\n",
      "pxt*NEH = 1.54690837 real_NEH= 33 ratio = 0.04687601121212121 \n",
      "\n",
      "vals 1.6836515664613678\n",
      "\n",
      " [0.165, 0.5382, 0.5236000000000001, 1.3473072899999998, 1.2584065, 1.39160756, 1.44710783, 1.59360864, 1.42100754, 1.4880081, 1.54690837]\n",
      "NEH= 32\n"
     ]
    },
    {
     "data": {
      "image/png": "[encoded data removed]",
      "text/plain": [
       "<Figure size 432x288 with 1 Axes>"
      ]
     },
     "metadata": {
      "needs_background": "light"
     },
     "output_type": "display_data"
    },
    {
     "name": "stdout",
     "output_type": "stream",
     "text": [
      "************** RMSE= 0.0009211991702863908 R square= 0.9999962296201467\n",
      "[0.165, 0.5378999999999999, 0.5247, 1.3464, 1.2573, 1.3926, 1.4487, 1.5939, 1.4223, 1.4883, 1.5476999999999999]\n",
      "\n",
      " estimated NEH 33\n"
     ]
    },
    {
     "data": {
      "image/png": "[encoded data removed]",
      "text/plain": [
       "<Figure size 720x432 with 1 Axes>"
      ]
     },
     "metadata": {
      "needs_background": "light"
     },
     "output_type": "display_data"
    },
    {
     "name": "stdout",
     "output_type": "stream",
     "text": [
      "\n",
      "True NEH = 33 \t estimated NEHs median 33\n",
      "===============================================================\n",
      "\n",
      "===============================================================\n",
      "\n",
      "===============================================================\n",
      "\n",
      "\n",
      " _LLLPEDPLISGLLNSQALK_3 Time 1 ==================================>\n",
      "pxt*NEH = 0.171 real_NEH= 33 ratio = 0.005181818181818182 \n",
      "\n",
      "vals 0.11391863834547308\n",
      "\n",
      " _LLLPEDPLISGLLNSQALK_3 Time 2 ==================================>\n",
      "pxt*NEH = 0.561599883 real_NEH= 33 ratio = 0.017018178272727273 \n",
      "\n",
      "vals 0.4025189379602456\n",
      "\n",
      " _LLLPEDPLISGLLNSQALK_3 Time 3 ==================================>\n",
      "pxt*NEH = 0.5236000000000001 real_NEH= 33 ratio = 0.015866666666666668 \n",
      "\n",
      "vals 0.32550773458776233\n",
      "\n",
      " _LLLPEDPLISGLLNSQALK_3 Time 6 ==================================>\n",
      "pxt*NEH = 1.3423049599999999 real_NEH= 33 ratio = 0.04067590787878787 \n",
      "\n",
      "vals 1.1785581291773437\n",
      "\n",
      " _LLLPEDPLISGLLNSQALK_3 Time 7 ==================================>\n",
      "pxt*NEH = 1.2899985 real_NEH= 33 ratio = 0.03909086363636364 \n",
      "\n",
      "vals 1.326503327664289\n",
      "\n",
      " _LLLPEDPLISGLLNSQALK_3 Time 9 ==================================>\n",
      "pxt*NEH = 1.37480728 real_NEH= 33 ratio = 0.041660826666666664 \n",
      "\n",
      "vals 1.3969562334747005\n",
      "\n",
      " _LLLPEDPLISGLLNSQALK_3 Time 13 ==================================>\n",
      "pxt*NEH = 1.4940081 real_NEH= 33 ratio = 0.04527297272727273 \n",
      "\n",
      "vals 1.6413177537580124\n",
      "\n",
      " _LLLPEDPLISGLLNSQALK_3 Time 16 ==================================>\n",
      "pxt*NEH = 1.6170085799999998 real_NEH= 33 ratio = 0.04900026 \n",
      "\n",
      "vals 1.5957743670267168\n",
      "\n",
      " _LLLPEDPLISGLLNSQALK_3 Time 21 ==================================>\n",
      "pxt*NEH = 1.43840783 real_NEH= 33 ratio = 0.043588116060606065 \n",
      "\n",
      "vals 1.4262970740028655\n",
      "\n",
      " _LLLPEDPLISGLLNSQALK_3 Time 24 ==================================>\n",
      "pxt*NEH = 1.4760078 real_NEH= 33 ratio = 0.04472750909090909 \n",
      "\n",
      "vals 1.4308087313299565\n",
      "\n",
      " _LLLPEDPLISGLLNSQALK_3 Time 31 ==================================>\n",
      "pxt*NEH = 1.5283080599999999 real_NEH= 33 ratio = 0.04631236545454545 \n",
      "\n",
      "vals 1.7060538656132465\n",
      "\n",
      " [0.171, 0.561599883, 0.5236000000000001, 1.3423049599999999, 1.2899985, 1.37480728, 1.4940081, 1.6170085799999998, 1.43840783, 1.4760078, 1.5283080599999999]\n",
      "NEH= 33\n"
     ]
    },
    {
     "data": {
      "image/png": "[encoded data removed]",
      "text/plain": [
       "<Figure size 432x288 with 1 Axes>"
      ]
     },
     "metadata": {
      "needs_background": "light"
     },
     "output_type": "display_data"
    },
    {
     "name": "stdout",
     "output_type": "stream",
     "text": [
      "************** RMSE= 0.001055169861491067 R square= 0.9999950428777433\n",
      "[0.17, 0.561, 0.5236000000000001, 1.343, 1.2886000000000002, 1.3736, 1.4926000000000001, 1.6184, 1.4382, 1.4756, 1.53]\n",
      "\n",
      " estimated NEH 34\n"
     ]
    },
    {
     "data": {
      "image/png": "[encoded data removed]",
      "text/plain": [
       "<Figure size 720x432 with 1 Axes>"
      ]
     },
     "metadata": {
      "needs_background": "light"
     },
     "output_type": "display_data"
    },
    {
     "name": "stdout",
     "output_type": "stream",
     "text": [
      "\n",
      "True NEH = 33 \t estimated NEHs median 34\n",
      "===============================================================\n",
      "\n",
      "===============================================================\n",
      "\n",
      "===============================================================\n",
      "\n",
      "\n",
      " _QGIQVLVSTSNVSSLEGAR_2 Time 1 ==================================>\n",
      "pxt*NEH = 0.165 real_NEH= 39 ratio = 0.004230769230769231 \n",
      "\n",
      "vals 0.1004777208595419\n",
      "\n",
      " _QGIQVLVSTSNVSSLEGAR_2 Time 2 ==================================>\n",
      "pxt*NEH = 0.5175 real_NEH= 39 ratio = 0.013269230769230768 \n",
      "\n",
      "vals 0.3759111793123378\n",
      "\n",
      " _QGIQVLVSTSNVSSLEGAR_2 Time 3 ==================================>\n",
      "pxt*NEH = 0.581399886 real_NEH= 39 ratio = 0.014907689384615385 \n",
      "\n",
      "vals 0.7101891394118844\n",
      "\n",
      " _QGIQVLVSTSNVSSLEGAR_2 Time 6 ==================================>\n",
      "pxt*NEH = 1.4429977799999998 real_NEH= 39 ratio = 0.03699994307692307 \n",
      "\n",
      "vals 1.37040122603497\n",
      "\n",
      " _QGIQVLVSTSNVSSLEGAR_2 Time 7 ==================================>\n",
      "pxt*NEH = 1.3689985199999999 real_NEH= 39 ratio = 0.03510252615384615 \n",
      "\n",
      "vals 1.2644393424953326\n",
      "\n",
      " _QGIQVLVSTSNVSSLEGAR_2 Time 9 ==================================>\n",
      "pxt*NEH = 1.4640075000000001 real_NEH= 39 ratio = 0.03753865384615385 \n",
      "\n",
      "vals 1.2775920326953636\n",
      "\n",
      " _QGIQVLVSTSNVSSLEGAR_2 Time 13 ==================================>\n",
      "pxt*NEH = 1.68640918 real_NEH= 39 ratio = 0.04324126102564103 \n",
      "\n",
      "vals 2.1946120344159787\n",
      "\n",
      " _QGIQVLVSTSNVSSLEGAR_2 Time 16 ==================================>\n",
      "pxt*NEH = 1.68980918 real_NEH= 39 ratio = 0.04332844051282051 \n",
      "\n",
      "vals 1.5355209208989087\n",
      "\n",
      " _QGIQVLVSTSNVSSLEGAR_2 Time 21 ==================================>\n",
      "pxt*NEH = 1.51590775 real_NEH= 39 ratio = 0.03886942948717949 \n",
      "\n",
      "vals 1.825570814404923\n",
      "\n",
      " _QGIQVLVSTSNVSSLEGAR_2 Time 24 ==================================>\n",
      "pxt*NEH = 1.4970081 real_NEH= 39 ratio = 0.03838482307692308 \n",
      "\n",
      "vals 1.4322786826676956\n",
      "\n",
      " _QGIQVLVSTSNVSSLEGAR_2 Time 31 ==================================>\n",
      "pxt*NEH = 1.6467089099999999 real_NEH= 39 ratio = 0.042223305384615384 \n",
      "\n",
      "vals 1.9960531997068809\n",
      "\n",
      " [0.165, 0.5175, 0.581399886, 1.4429977799999998, 1.3689985199999999, 1.4640075000000001, 1.68640918, 1.68980918, 1.51590775, 1.4970081, 1.6467089099999999]\n",
      "NEH= 34\n"
     ]
    },
    {
     "data": {
      "image/png": "[encoded data removed]",
      "text/plain": [
       "<Figure size 432x288 with 1 Axes>"
      ]
     },
     "metadata": {
      "needs_background": "light"
     },
     "output_type": "display_data"
    },
    {
     "name": "stdout",
     "output_type": "stream",
     "text": [
      "************** RMSE= 0.0008429305906503764 R square= 0.9999973308686365\n",
      "[0.1645, 0.518, 0.581, 1.442, 1.3685, 1.4629999999999999, 1.687, 1.6905000000000001, 1.5154999999999998, 1.498, 1.645]\n",
      "\n",
      " estimated NEH 35\n"
     ]
    },
    {
     "data": {
      "image/png": "[encoded data removed]",
      "text/plain": [
       "<Figure size 720x432 with 1 Axes>"
      ]
     },
     "metadata": {
      "needs_background": "light"
     },
     "output_type": "display_data"
    },
    {
     "name": "stdout",
     "output_type": "stream",
     "text": [
      "\n",
      "True NEH = 39 \t estimated NEHs median 35\n",
      "===============================================================\n",
      "\n",
      "===============================================================\n",
      "\n",
      "===============================================================\n",
      "\n",
      "\n",
      " _SDEAVKPLGVK_2 Time 1 ==================================>\n",
      "pxt*NEH = 0.1156 real_NEH= 19 ratio = 0.006084210526315789 \n",
      "\n",
      "vals 0.15323673781506678\n",
      "\n",
      " _SDEAVKPLGVK_2 Time 2 ==================================>\n",
      "pxt*NEH = 0.28140132 real_NEH= 19 ratio = 0.014810595789473685 \n",
      "\n",
      "vals 0.34473471794879984\n",
      "\n",
      " _SDEAVKPLGVK_2 Time 3 ==================================>\n",
      "pxt*NEH = 0.3741 real_NEH= 19 ratio = 0.019689473684210524 \n",
      "\n",
      "vals 0.32571877701270663\n",
      "\n",
      " _SDEAVKPLGVK_2 Time 6 ==================================>\n",
      "pxt*NEH = 0.7124993249999999 real_NEH= 19 ratio = 0.03749996447368421 \n",
      "\n",
      "vals 0.698207687968917\n",
      "\n",
      " _SDEAVKPLGVK_2 Time 7 ==================================>\n",
      "pxt*NEH = 0.730799391 real_NEH= 19 ratio = 0.03846312584210526 \n",
      "\n",
      "vals 0.7024762526189785\n",
      "\n",
      " _SDEAVKPLGVK_2 Time 9 ==================================>\n",
      "pxt*NEH = 0.8307987600000001 real_NEH= 19 ratio = 0.04372625052631579 \n",
      "\n",
      "vals 0.8640021925159656\n",
      "\n",
      " _SDEAVKPLGVK_2 Time 13 ==================================>\n",
      "pxt*NEH = 0.83300442 real_NEH= 19 ratio = 0.04384233789473684 \n",
      "\n",
      "vals 0.9495602366595916\n",
      "\n",
      " _SDEAVKPLGVK_2 Time 16 ==================================>\n",
      "pxt*NEH = 0.93169923 real_NEH= 19 ratio = 0.04903680157894737 \n",
      "\n",
      "vals 0.9747645581266214\n",
      "\n",
      " _SDEAVKPLGVK_2 Time 21 ==================================>\n",
      "pxt*NEH = 0.8658043200000001 real_NEH= 19 ratio = 0.045568648421052634 \n",
      "\n",
      "vals 1.0046241865887882\n",
      "\n",
      " _SDEAVKPLGVK_2 Time 24 ==================================>\n",
      "pxt*NEH = 0.9618042 real_NEH= 19 ratio = 0.05062127368421052 \n",
      "\n",
      "vals 0.9819159199764039\n",
      "\n",
      " _SDEAVKPLGVK_2 Time 31 ==================================>\n",
      "pxt*NEH = 0.8712044999999999 real_NEH= 19 ratio = 0.04585286842105263 \n",
      "\n",
      "vals 0.9344621035567323\n",
      "\n",
      " [0.1156, 0.28140132, 0.3741, 0.7124993249999999, 0.730799391, 0.8307987600000001, 0.83300442, 0.93169923, 0.8658043200000001, 0.9618042, 0.8712044999999999]\n",
      "NEH= 21\n"
     ]
    },
    {
     "data": {
      "image/png": "[encoded data removed]",
      "text/plain": [
       "<Figure size 432x288 with 1 Axes>"
      ]
     },
     "metadata": {
      "needs_background": "light"
     },
     "output_type": "display_data"
    },
    {
     "name": "stdout",
     "output_type": "stream",
     "text": [
      "************** RMSE= 0.0006699666605141812 R square= 0.9999940838469142\n",
      "[0.1166, 0.2816, 0.374, 0.7128, 0.7304, 0.8316, 0.8338000000000001, 0.9306, 0.8667999999999999, 0.9614, 0.8712000000000001]\n",
      "\n",
      " estimated NEH 22\n"
     ]
    },
    {
     "data": {
      "image/png": "[encoded data removed]",
      "text/plain": [
       "<Figure size 720x432 with 1 Axes>"
      ]
     },
     "metadata": {
      "needs_background": "light"
     },
     "output_type": "display_data"
    },
    {
     "name": "stdout",
     "output_type": "stream",
     "text": [
      "\n",
      "True NEH = 19 \t estimated NEHs median 22\n",
      "===============================================================\n",
      "\n",
      "===============================================================\n",
      "\n",
      "===============================================================\n",
      "\n",
      "\n",
      " _SDEAVKPLGVK_3 Time 1 ==================================>\n",
      "pxt*NEH = 0.129 real_NEH= 19 ratio = 0.006789473684210527 \n",
      "\n",
      "vals 0.1106615271044391\n",
      "\n",
      " _SDEAVKPLGVK_3 Time 2 ==================================>\n",
      "pxt*NEH = 0.34000008500000006 real_NEH= 19 ratio = 0.017894741315789477 \n",
      "\n",
      "vals 0.2976272625747385\n",
      "\n",
      " _SDEAVKPLGVK_3 Time 3 ==================================>\n",
      "pxt*NEH = 0.3132 real_NEH= 19 ratio = 0.01648421052631579 \n",
      "\n",
      "vals 0.24715159215311439\n",
      "\n",
      " _SDEAVKPLGVK_3 Time 6 ==================================>\n",
      "pxt*NEH = 0.717599376 real_NEH= 19 ratio = 0.03776838821052632 \n",
      "\n",
      "vals 0.7084823640199802\n",
      "\n",
      " _SDEAVKPLGVK_3 Time 7 ==================================>\n",
      "pxt*NEH = 0.7125034499999999 real_NEH= 19 ratio = 0.03750018157894736 \n",
      "\n",
      "vals 0.7528626654321288\n",
      "\n",
      " _SDEAVKPLGVK_3 Time 9 ==================================>\n",
      "pxt*NEH = 0.79200416 real_NEH= 19 ratio = 0.041684429473684205 \n",
      "\n",
      "vals 0.8212609358834739\n",
      "\n",
      " _SDEAVKPLGVK_3 Time 13 ==================================>\n",
      "pxt*NEH = 0.83810442 real_NEH= 19 ratio = 0.04411075894736842 \n",
      "\n",
      "vals 0.9086173315813829\n",
      "\n",
      " _SDEAVKPLGVK_3 Time 16 ==================================>\n",
      "pxt*NEH = 0.8730045000000001 real_NEH= 19 ratio = 0.0459476052631579 \n",
      "\n",
      "vals 0.9149883969758245\n",
      "\n",
      " _SDEAVKPLGVK_3 Time 21 ==================================>\n",
      "pxt*NEH = 0.83810442 real_NEH= 19 ratio = 0.04411075894736842 \n",
      "\n",
      "vals 0.9095538717833827\n",
      "\n",
      " _SDEAVKPLGVK_3 Time 24 ==================================>\n",
      "pxt*NEH = 0.81940408 real_NEH= 19 ratio = 0.043126530526315786 \n",
      "\n",
      "vals 0.9399349344220714\n",
      "\n",
      " _SDEAVKPLGVK_3 Time 31 ==================================>\n",
      "pxt*NEH = 0.8483045899999999 real_NEH= 19 ratio = 0.04464761 \n",
      "\n",
      "vals 0.930593544147723\n",
      "\n",
      " [0.129, 0.34000008500000006, 0.3132, 0.717599376, 0.7125034499999999, 0.79200416, 0.83810442, 0.8730045000000001, 0.83810442, 0.81940408, 0.8483045899999999]\n",
      "NEH= 18\n"
     ]
    },
    {
     "data": {
      "image/png": "[encoded data removed]",
      "text/plain": [
       "<Figure size 432x288 with 1 Axes>"
      ]
     },
     "metadata": {
      "needs_background": "light"
     },
     "output_type": "display_data"
    },
    {
     "name": "stdout",
     "output_type": "stream",
     "text": [
      "************** RMSE= 0.00048263862276228843 R square= 0.9999963273177065\n",
      "[0.12919999999999998, 0.34009999999999996, 0.3135, 0.7182, 0.7125, 0.7923, 0.8379, 0.8721000000000001, 0.8379, 0.8189, 0.8474]\n",
      "\n",
      " estimated NEH 19\n"
     ]
    },
    {
     "data": {
      "image/png": "[encoded data removed]",
      "text/plain": [
       "<Figure size 720x432 with 1 Axes>"
      ]
     },
     "metadata": {
      "needs_background": "light"
     },
     "output_type": "display_data"
    },
    {
     "name": "stdout",
     "output_type": "stream",
     "text": [
      "\n",
      "True NEH = 19 \t estimated NEHs median 19\n",
      "===============================================================\n",
      "\n",
      "===============================================================\n",
      "\n",
      "===============================================================\n",
      "\n",
      "\n",
      " _VQEVQQVSTNK_2 Time 1 ==================================>\n",
      "pxt*NEH = 0.111 real_NEH= 22 ratio = 0.005045454545454546 \n",
      "\n",
      "vals 0.12723304989071438\n",
      "\n",
      " _VQEVQQVSTNK_2 Time 2 ==================================>\n",
      "pxt*NEH = 0.37379999999999997 real_NEH= 22 ratio = 0.016990909090909088 \n",
      "\n",
      "vals 0.35338434882639486\n",
      "\n",
      " _VQEVQQVSTNK_2 Time 3 ==================================>\n",
      "pxt*NEH = 0.36000009000000005 real_NEH= 22 ratio = 0.016363640454545456 \n",
      "\n",
      "vals 0.2936163321078215\n",
      "\n",
      " _VQEVQQVSTNK_2 Time 6 ==================================>\n",
      "pxt*NEH = 0.91499925 real_NEH= 22 ratio = 0.041590875 \n",
      "\n",
      "vals 0.8202860941658714\n",
      "\n",
      " _VQEVQQVSTNK_2 Time 7 ==================================>\n",
      "pxt*NEH = 0.83999925 real_NEH= 22 ratio = 0.03818178409090909 \n",
      "\n",
      "vals 0.8127319285316217\n",
      "\n",
      " _VQEVQQVSTNK_2 Time 9 ==================================>\n",
      "pxt*NEH = 0.90480052 real_NEH= 22 ratio = 0.041127296363636365 \n",
      "\n",
      "vals 0.9315959780895731\n",
      "\n",
      " _VQEVQQVSTNK_2 Time 13 ==================================>\n",
      "pxt*NEH = 1.02120414 real_NEH= 22 ratio = 0.04641837 \n",
      "\n",
      "vals 1.1142651284437461\n",
      "\n",
      " _VQEVQQVSTNK_2 Time 16 ==================================>\n",
      "pxt*NEH = 1.0846057199999999 real_NEH= 22 ratio = 0.04930025999999999 \n",
      "\n",
      "vals 1.2315160270762158\n",
      "\n",
      " _VQEVQQVSTNK_2 Time 21 ==================================>\n",
      "pxt*NEH = 0.96749925 real_NEH= 22 ratio = 0.04397723863636364 \n",
      "\n",
      "vals 0.9669254750801731\n",
      "\n",
      " _VQEVQQVSTNK_2 Time 24 ==================================>\n",
      "pxt*NEH = 1.02520484 real_NEH= 22 ratio = 0.04660022 \n",
      "\n",
      "vals 1.0720296395515654\n",
      "\n",
      " _VQEVQQVSTNK_2 Time 31 ==================================>\n",
      "pxt*NEH = 1.02960484 real_NEH= 22 ratio = 0.04680022 \n",
      "\n",
      "vals 1.1892249406770294\n",
      "\n",
      " [0.111, 0.37379999999999997, 0.36000009000000005, 0.91499925, 0.83999925, 0.90480052, 1.02120414, 1.0846057199999999, 0.96749925, 1.02520484, 1.02960484]\n",
      "NEH= 22\n"
     ]
    },
    {
     "data": {
      "image/png": "[encoded data removed]",
      "text/plain": [
       "<Figure size 432x288 with 1 Axes>"
      ]
     },
     "metadata": {
      "needs_background": "light"
     },
     "output_type": "display_data"
    },
    {
     "name": "stdout",
     "output_type": "stream",
     "text": [
      "************** RMSE= 0.0007755874415974076 R square= 0.9999941683623341\n",
      "[0.11039999999999998, 0.37489999999999996, 0.3611, 0.9154, 0.8394999999999999, 0.9039, 1.0212, 1.0856, 0.9682999999999999, 1.0258, 1.0304]\n",
      "\n",
      " estimated NEH 23\n"
     ]
    },
    {
     "data": {
      "image/png": "[encoded data removed]",
      "text/plain": [
       "<Figure size 720x432 with 1 Axes>"
      ]
     },
     "metadata": {
      "needs_background": "light"
     },
     "output_type": "display_data"
    },
    {
     "name": "stdout",
     "output_type": "stream",
     "text": [
      "\n",
      "True NEH = 22 \t estimated NEHs median 23\n",
      "===============================================================\n",
      "\n",
      "===============================================================\n",
      "\n",
      "===============================================================\n",
      "\n",
      "\n",
      " _VSDLLLSTDER_2 Time 1 ==================================>\n",
      "pxt*NEH = 0.156 real_NEH= 18 ratio = 0.008666666666666666 \n",
      "\n",
      "vals 0.10000031013853093\n",
      "\n",
      " _VSDLLLSTDER_2 Time 2 ==================================>\n",
      "pxt*NEH = 0.414 real_NEH= 18 ratio = 0.023 \n",
      "\n",
      "vals 0.32618842362669387\n",
      "\n",
      " _VSDLLLSTDER_2 Time 3 ==================================>\n",
      "pxt*NEH = 0.427699909 real_NEH= 18 ratio = 0.023761106055555554 \n",
      "\n",
      "vals 0.23085549759658017\n",
      "\n",
      " _VSDLLLSTDER_2 Time 6 ==================================>\n",
      "pxt*NEH = 0.82839924 real_NEH= 18 ratio = 0.046022179999999996 \n",
      "\n",
      "vals 0.6615010270986237\n",
      "\n",
      " _VSDLLLSTDER_2 Time 7 ==================================>\n",
      "pxt*NEH = 0.81319924 real_NEH= 18 ratio = 0.04517773555555556 \n",
      "\n",
      "vals 0.665211362642578\n",
      "\n",
      " _VSDLLLSTDER_2 Time 9 ==================================>\n",
      "pxt*NEH = 0.80559924 real_NEH= 18 ratio = 0.04475551333333334 \n",
      "\n",
      "vals 0.6362390047914224\n",
      "\n",
      " _VSDLLLSTDER_2 Time 13 ==================================>\n",
      "pxt*NEH = 0.87399924 real_NEH= 18 ratio = 0.04855551333333333 \n",
      "\n",
      "vals 0.7656489933937161\n",
      "\n",
      " _VSDLLLSTDER_2 Time 16 ==================================>\n",
      "pxt*NEH = 0.93479924 real_NEH= 18 ratio = 0.05193329111111111 \n",
      "\n",
      "vals 0.8117035978773377\n",
      "\n",
      " _VSDLLLSTDER_2 Time 21 ==================================>\n",
      "pxt*NEH = 0.86760432 real_NEH= 18 ratio = 0.04820024 \n",
      "\n",
      "vals 0.8452055790326372\n",
      "\n",
      " _VSDLLLSTDER_2 Time 24 ==================================>\n",
      "pxt*NEH = 0.8891992400000001 real_NEH= 18 ratio = 0.04939995777777778 \n",
      "\n",
      "vals 0.7399464793767492\n",
      "\n",
      " _VSDLLLSTDER_2 Time 31 ==================================>\n",
      "pxt*NEH = 0.89679924 real_NEH= 18 ratio = 0.04982218 \n",
      "\n",
      "vals 0.7384786223652285\n",
      "\n",
      " [0.156, 0.414, 0.427699909, 0.82839924, 0.81319924, 0.80559924, 0.87399924, 0.93479924, 0.86760432, 0.8891992400000001, 0.89679924]\n",
      "NEH= 19\n"
     ]
    },
    {
     "data": {
      "image/png": "[encoded data removed]",
      "text/plain": [
       "<Figure size 432x288 with 1 Axes>"
      ]
     },
     "metadata": {
      "needs_background": "light"
     },
     "output_type": "display_data"
    },
    {
     "name": "stdout",
     "output_type": "stream",
     "text": [
      "************** RMSE= 0.0005331400390722016 R square= 0.9999953778855655\n",
      "[0.156, 0.414, 0.428, 0.828, 0.8140000000000001, 0.806, 0.8740000000000001, 0.9339999999999999, 0.868, 0.8899999999999999, 0.896]\n",
      "\n",
      " estimated NEH 20\n"
     ]
    },
    {
     "data": {
      "image/png": "[encoded data removed]",
      "text/plain": [
       "<Figure size 720x432 with 1 Axes>"
      ]
     },
     "metadata": {
      "needs_background": "light"
     },
     "output_type": "display_data"
    },
    {
     "name": "stdout",
     "output_type": "stream",
     "text": [
      "\n",
      "True NEH = 18 \t estimated NEHs median 20\n",
      "===============================================================\n",
      "\n",
      "===============================================================\n",
      "\n",
      "===============================================================\n",
      "\n",
      "\n",
      " _VTAIYIDPATHR_3 Time 1 ==================================>\n",
      "pxt*NEH = 0.1178 real_NEH= 22 ratio = 0.005354545454545455 \n",
      "\n",
      "vals 0.13065029333816888\n",
      "\n",
      " _VTAIYIDPATHR_3 Time 2 ==================================>\n",
      "pxt*NEH = 0.3185 real_NEH= 22 ratio = 0.014477272727272728 \n",
      "\n",
      "vals 0.3263487316071131\n",
      "\n",
      " _VTAIYIDPATHR_3 Time 3 ==================================>\n",
      "pxt*NEH = 0.294 real_NEH= 22 ratio = 0.013363636363636362 \n",
      "\n",
      "vals 0.2875851829533048\n",
      "\n",
      " _VTAIYIDPATHR_3 Time 6 ==================================>\n",
      "pxt*NEH = 0.74739926 real_NEH= 22 ratio = 0.033972693636363634 \n",
      "\n",
      "vals 0.886014152938365\n",
      "\n",
      " _VTAIYIDPATHR_3 Time 7 ==================================>\n",
      "pxt*NEH = 0.7801993420000001 real_NEH= 22 ratio = 0.03546360645454546 \n",
      "\n",
      "vals 0.9194487854909997\n",
      "\n",
      " _VTAIYIDPATHR_3 Time 9 ==================================>\n",
      "pxt*NEH = 0.85680414 real_NEH= 22 ratio = 0.03894564272727273 \n",
      "\n",
      "vals 0.9760398112977545\n",
      "\n",
      " _VTAIYIDPATHR_3 Time 13 ==================================>\n",
      "pxt*NEH = 0.89640486 real_NEH= 22 ratio = 0.04074567545454545 \n",
      "\n",
      "vals 1.044629098005284\n",
      "\n",
      " _VTAIYIDPATHR_3 Time 16 ==================================>\n",
      "pxt*NEH = 0.9920054 real_NEH= 22 ratio = 0.045091154545454544 \n",
      "\n",
      "vals 1.022289829605017\n",
      "\n",
      " _VTAIYIDPATHR_3 Time 21 ==================================>\n",
      "pxt*NEH = 0.83949927 real_NEH= 22 ratio = 0.03815905772727273 \n",
      "\n",
      "vals 0.901185248595146\n",
      "\n",
      " _VTAIYIDPATHR_3 Time 24 ==================================>\n",
      "pxt*NEH = 0.88560468 real_NEH= 22 ratio = 0.04025475818181818 \n",
      "\n",
      "vals 1.0449520922052318\n",
      "\n",
      " _VTAIYIDPATHR_3 Time 31 ==================================>\n",
      "pxt*NEH = 0.9244987100000001 real_NEH= 22 ratio = 0.04202266863636364 \n",
      "\n",
      "vals 0.9798088282521725\n",
      "\n",
      " [0.1178, 0.3185, 0.294, 0.74739926, 0.7801993420000001, 0.85680414, 0.89640486, 0.9920054, 0.83949927, 0.88560468, 0.9244987100000001]\n",
      "NEH= 20\n"
     ]
    },
    {
     "data": {
      "image/png": "[encoded data removed]",
      "text/plain": [
       "<Figure size 432x288 with 1 Axes>"
      ]
     },
     "metadata": {
      "needs_background": "light"
     },
     "output_type": "display_data"
    },
    {
     "name": "stdout",
     "output_type": "stream",
     "text": [
      "************** RMSE= 0.0005360847116881812 R square= 0.9999965281873086\n",
      "[0.1176, 0.3192, 0.294, 0.7476, 0.7811999999999999, 0.8568, 0.8967, 0.9912, 0.84, 0.8862, 0.9239999999999999]\n",
      "\n",
      " estimated NEH 21\n"
     ]
    },
    {
     "data": {
      "image/png": "[encoded data removed]",
      "text/plain": [
       "<Figure size 720x432 with 1 Axes>"
      ]
     },
     "metadata": {
      "needs_background": "light"
     },
     "output_type": "display_data"
    },
    {
     "name": "stdout",
     "output_type": "stream",
     "text": [
      "\n",
      "True NEH = 22 \t estimated NEHs median 21\n",
      "===============================================================\n",
      "\n",
      "===============================================================\n",
      "\n",
      "===============================================================\n",
      "\n",
      "\n",
      " _WLSTSIPEAQWQSSLAR_2 Time 1 ==================================>\n",
      "pxt*NEH = 0.23700000000000002 real_NEH= 38 ratio = 0.006236842105263159 \n",
      "\n",
      "vals 0.15527722895184534\n",
      "\n",
      " _WLSTSIPEAQWQSSLAR_2 Time 2 ==================================>\n",
      "pxt*NEH = 0.5236000000000001 real_NEH= 38 ratio = 0.013778947368421054 \n",
      "\n",
      "vals 0.3205288063679858\n",
      "\n",
      " _WLSTSIPEAQWQSSLAR_2 Time 3 ==================================>\n",
      "pxt*NEH = 0.5355 real_NEH= 38 ratio = 0.014092105263157894 \n",
      "\n",
      "vals 0.20363170602646782\n",
      "\n",
      " _WLSTSIPEAQWQSSLAR_2 Time 6 ==================================>\n",
      "pxt*NEH = 1.42079778 real_NEH= 38 ratio = 0.037389415263157894 \n",
      "\n",
      "vals 0.8758019904007248\n",
      "\n",
      " _WLSTSIPEAQWQSSLAR_2 Time 7 ==================================>\n",
      "pxt*NEH = 1.319998 real_NEH= 38 ratio = 0.034736789473684214 \n",
      "\n",
      "vals 0.9620967385597059\n",
      "\n",
      " _WLSTSIPEAQWQSSLAR_2 Time 9 ==================================>\n",
      "pxt*NEH = 1.4610075 real_NEH= 38 ratio = 0.038447565789473684 \n",
      "\n",
      "vals 1.0186511677630234\n",
      "\n",
      " _WLSTSIPEAQWQSSLAR_2 Time 13 ==================================>\n",
      "pxt*NEH = 1.6236085800000002 real_NEH= 38 ratio = 0.042726541578947376 \n",
      "\n",
      "vals 1.36276230552985\n",
      "\n",
      " _WLSTSIPEAQWQSSLAR_2 Time 16 ==================================>\n",
      "pxt*NEH = 1.74300945 real_NEH= 38 ratio = 0.0458686697368421 \n",
      "\n",
      "vals 1.5780247195956916\n",
      "\n",
      " _WLSTSIPEAQWQSSLAR_2 Time 21 ==================================>\n",
      "pxt*NEH = 1.4730078 real_NEH= 38 ratio = 0.038763363157894734 \n",
      "\n",
      "vals 1.583868625675433\n",
      "\n",
      " _WLSTSIPEAQWQSSLAR_2 Time 24 ==================================>\n",
      "pxt*NEH = 1.54690837 real_NEH= 38 ratio = 0.040708114999999996 \n",
      "\n",
      "vals 1.5777070057999454\n",
      "\n",
      " _WLSTSIPEAQWQSSLAR_2 Time 31 ==================================>\n",
      "pxt*NEH = 2.13711161 real_NEH= 38 ratio = 0.05623977921052631 \n",
      "\n",
      "vals 1.3949987207085854\n",
      "\n",
      " [0.23700000000000002, 0.5236000000000001, 0.5355, 1.42079778, 1.319998, 1.4610075, 1.6236085800000002, 1.74300945, 1.4730078, 1.54690837, 2.13711161]\n",
      "NEH= 44\n"
     ]
    },
    {
     "data": {
      "image/png": "[encoded data removed]",
      "text/plain": [
       "<Figure size 432x288 with 1 Axes>"
      ]
     },
     "metadata": {
      "needs_background": "light"
     },
     "output_type": "display_data"
    },
    {
     "name": "stdout",
     "output_type": "stream",
     "text": [
      "************** RMSE= 0.0012582789756539867 R square= 0.9999949427059791\n",
      "[0.2385, 0.522, 0.5355000000000001, 1.4220000000000002, 1.3185, 1.4625000000000001, 1.6245, 1.7414999999999998, 1.4715, 1.548, 2.1375]\n",
      "\n",
      " estimated NEH 45\n"
     ]
    },
    {
     "data": {
      "image/png": "[encoded data removed]",
      "text/plain": [
       "<Figure size 720x432 with 1 Axes>"
      ]
     },
     "metadata": {
      "needs_background": "light"
     },
     "output_type": "display_data"
    },
    {
     "name": "stdout",
     "output_type": "stream",
     "text": [
      "\n",
      "True NEH = 38 \t estimated NEHs median 45\n",
      "===============================================================\n",
      "\n",
      "===============================================================\n",
      "\n",
      "===============================================================\n",
      "\n"
     ]
    }
   ],
   "source": [
    "vals=[]\n",
    "# protein=\"CPSM_MOUSE\"\n",
    "protein=\"FAS_MOUSE\"\n",
    "# protein=\"ACADV_MOUSE\"\n",
    "# protein=\"ACADM_MOUSE\"\n",
    "for pep in pept:\n",
    "    neh_coll=[]\n",
    "    pxt_neh=[]\n",
    "    for time in times:\n",
    "        try:\n",
    "            print(f\"\\n {pep} Time\",time,\"==================================>\")\n",
    "            data=pd.read_csv(f\"C:/Workplace/C++/d2ome_v2/v2/v2/bin/Debug/{pep}_{time}_{protein}.csv\")\n",
    "\n",
    "            data[\"const\"]=data.NEH*data.pxt\n",
    "            data[\"new_pxt\"]=1-ph- (data.const/( (1-ph)*(data[\"exp_t_A1/A0\"]-data[\"exp_A1/A0\"]) ) )\n",
    "            data[\"new_neh\"]=data.const/data.new_pxt\n",
    "            data=data.sort_values(by=[\"RMSE\"],ascending=True)\n",
    "            data=data[data.NEH<=data.NH]\n",
    "\n",
    "            \n",
    "            print(\"pxt*NEH =\",float(data[data.RMSE==min(data.RMSE)].const),\"real_NEH=\",data.T_NEH[0], \"ratio =\",float(data[data.RMSE==min(data.RMSE)].const/data.T_NEH[0]),\"\\n\")\n",
    "            print(\"vals\",(data.loc[0,\"exp_t_A1/A0\"]-data.loc[0,\"exp_A1/A0\"])*(1-ph))\n",
    "            \n",
    "            pxt_neh.append(float(data[data.RMSE==min(data.RMSE)].const))\n",
    "            \n",
    "            tempdata=data[data.RMSE<2.5*min(data.RMSE)]\n",
    "            tempdata=tempdata[(tempdata.new_pxt>0) & (tempdata.new_neh>0) & (tempdata.new_neh<data.NH[0])]\n",
    "            tempdata[\"pxt_dif\"]=((abs((tempdata.pxt) - (tempdata.new_pxt)))**2 + (abs((tempdata.NEH) - (tempdata.new_neh)))**2)**0.5 #(abs((tempdata.pxt) - (tempdata.new_pxt))) \n",
    "            tempdata=tempdata.sort_values(by=[\"pxt_dif\"])\n",
    "            \n",
    "            neh_coll=neh_coll+list(np.array(tempdata.sort_values(by=[\"pxt_dif\"]).new_neh.head(5)))\n",
    "            \n",
    "        except:\n",
    "            print(\"Error\",time)\n",
    "\n",
    "    print(\"\\n\",pxt_neh)\n",
    "    \n",
    "    eneh=estimateneh(pxt_neh)\n",
    "    print(\"\\nTrue NEH =\",data.T_NEH[0],\"\\t estimated NEHs median\",eneh)\n",
    "    \n",
    "    vals.append([pep,data.T_NEH[0],eneh])\n",
    "    print(\"===============================================================\\n\")\n",
    "    print(\"===============================================================\\n\")\n",
    "    print(\"===============================================================\\n\")"
   ]
  },
  {
   "cell_type": "code",
   "execution_count": 75,
   "id": "a7730afd",
   "metadata": {},
   "outputs": [
    {
     "data": {
      "text/html": [
       "<div>\n",
       "<style scoped>\n",
       "    .dataframe tbody tr th:only-of-type {\n",
       "        vertical-align: middle;\n",
       "    }\n",
       "\n",
       "    .dataframe tbody tr th {\n",
       "        vertical-align: top;\n",
       "    }\n",
       "\n",
       "    .dataframe thead th {\n",
       "        text-align: right;\n",
       "    }\n",
       "</style>\n",
       "<table border=\"1\" class=\"dataframe\">\n",
       "  <thead>\n",
       "    <tr style=\"text-align: right;\">\n",
       "      <th></th>\n",
       "      <th>Peptieds</th>\n",
       "      <th>True NEH</th>\n",
       "      <th>Estimated NEH</th>\n",
       "      <th>diff</th>\n",
       "    </tr>\n",
       "  </thead>\n",
       "  <tbody>\n",
       "    <tr>\n",
       "      <th>8</th>\n",
       "      <td>_LLLPEDPLISGLLNSQALK_2</td>\n",
       "      <td>33</td>\n",
       "      <td>33</td>\n",
       "      <td>0</td>\n",
       "    </tr>\n",
       "    <tr>\n",
       "      <th>4</th>\n",
       "      <td>_LDPGSPELQQVLK_2</td>\n",
       "      <td>26</td>\n",
       "      <td>26</td>\n",
       "      <td>0</td>\n",
       "    </tr>\n",
       "    <tr>\n",
       "      <th>6</th>\n",
       "      <td>_LGMLSPDGTcR_2</td>\n",
       "      <td>18</td>\n",
       "      <td>18</td>\n",
       "      <td>0</td>\n",
       "    </tr>\n",
       "    <tr>\n",
       "      <th>12</th>\n",
       "      <td>_SDEAVKPLGVK_3</td>\n",
       "      <td>19</td>\n",
       "      <td>19</td>\n",
       "      <td>0</td>\n",
       "    </tr>\n",
       "    <tr>\n",
       "      <th>1</th>\n",
       "      <td>_DAMLENQTPELFQDVNKPK_3</td>\n",
       "      <td>37</td>\n",
       "      <td>36</td>\n",
       "      <td>1</td>\n",
       "    </tr>\n",
       "    <tr>\n",
       "      <th>2</th>\n",
       "      <td>_FPQLDDTSFANSR_2</td>\n",
       "      <td>26</td>\n",
       "      <td>27</td>\n",
       "      <td>1</td>\n",
       "    </tr>\n",
       "    <tr>\n",
       "      <th>13</th>\n",
       "      <td>_VQEVQQVSTNK_2</td>\n",
       "      <td>22</td>\n",
       "      <td>23</td>\n",
       "      <td>1</td>\n",
       "    </tr>\n",
       "    <tr>\n",
       "      <th>15</th>\n",
       "      <td>_VTAIYIDPATHR_3</td>\n",
       "      <td>22</td>\n",
       "      <td>21</td>\n",
       "      <td>1</td>\n",
       "    </tr>\n",
       "    <tr>\n",
       "      <th>9</th>\n",
       "      <td>_LLLPEDPLISGLLNSQALK_3</td>\n",
       "      <td>33</td>\n",
       "      <td>34</td>\n",
       "      <td>1</td>\n",
       "    </tr>\n",
       "    <tr>\n",
       "      <th>14</th>\n",
       "      <td>_VSDLLLSTDER_2</td>\n",
       "      <td>18</td>\n",
       "      <td>20</td>\n",
       "      <td>2</td>\n",
       "    </tr>\n",
       "    <tr>\n",
       "      <th>0</th>\n",
       "      <td>_AcVDTALENLSTLK_2</td>\n",
       "      <td>23</td>\n",
       "      <td>25</td>\n",
       "      <td>2</td>\n",
       "    </tr>\n",
       "    <tr>\n",
       "      <th>3</th>\n",
       "      <td>_GNAGQTNYGFANSTMER_2</td>\n",
       "      <td>36</td>\n",
       "      <td>34</td>\n",
       "      <td>2</td>\n",
       "    </tr>\n",
       "    <tr>\n",
       "      <th>11</th>\n",
       "      <td>_SDEAVKPLGVK_2</td>\n",
       "      <td>19</td>\n",
       "      <td>22</td>\n",
       "      <td>3</td>\n",
       "    </tr>\n",
       "    <tr>\n",
       "      <th>7</th>\n",
       "      <td>_LKEDTQVADVTTSR_3</td>\n",
       "      <td>24</td>\n",
       "      <td>27</td>\n",
       "      <td>3</td>\n",
       "    </tr>\n",
       "    <tr>\n",
       "      <th>10</th>\n",
       "      <td>_QGIQVLVSTSNVSSLEGAR_2</td>\n",
       "      <td>39</td>\n",
       "      <td>35</td>\n",
       "      <td>4</td>\n",
       "    </tr>\n",
       "    <tr>\n",
       "      <th>5</th>\n",
       "      <td>_LFDHPEVPTPPESASVSR_3</td>\n",
       "      <td>40</td>\n",
       "      <td>34</td>\n",
       "      <td>6</td>\n",
       "    </tr>\n",
       "    <tr>\n",
       "      <th>16</th>\n",
       "      <td>_WLSTSIPEAQWQSSLAR_2</td>\n",
       "      <td>38</td>\n",
       "      <td>45</td>\n",
       "      <td>7</td>\n",
       "    </tr>\n",
       "  </tbody>\n",
       "</table>\n",
       "</div>"
      ],
      "text/plain": [
       "                  Peptieds  True NEH  Estimated NEH  diff\n",
       "8   _LLLPEDPLISGLLNSQALK_2        33             33     0\n",
       "4         _LDPGSPELQQVLK_2        26             26     0\n",
       "6           _LGMLSPDGTcR_2        18             18     0\n",
       "12          _SDEAVKPLGVK_3        19             19     0\n",
       "1   _DAMLENQTPELFQDVNKPK_3        37             36     1\n",
       "2         _FPQLDDTSFANSR_2        26             27     1\n",
       "13          _VQEVQQVSTNK_2        22             23     1\n",
       "15         _VTAIYIDPATHR_3        22             21     1\n",
       "9   _LLLPEDPLISGLLNSQALK_3        33             34     1\n",
       "14          _VSDLLLSTDER_2        18             20     2\n",
       "0        _AcVDTALENLSTLK_2        23             25     2\n",
       "3     _GNAGQTNYGFANSTMER_2        36             34     2\n",
       "11          _SDEAVKPLGVK_2        19             22     3\n",
       "7        _LKEDTQVADVTTSR_3        24             27     3\n",
       "10  _QGIQVLVSTSNVSSLEGAR_2        39             35     4\n",
       "5    _LFDHPEVPTPPESASVSR_3        40             34     6\n",
       "16    _WLSTSIPEAQWQSSLAR_2        38             45     7"
      ]
     },
     "execution_count": 75,
     "metadata": {},
     "output_type": "execute_result"
    }
   ],
   "source": [
    "res=pd.DataFrame(vals,columns=[\"Peptieds\",\"True NEH\",\"Estimated NEH\"])\n",
    "res[\"diff\"]=abs(res[\"True NEH\"]-res[\"Estimated NEH\"])\n",
    "res.sort_values(by=\"diff\").head(50)"
   ]
  },
  {
   "cell_type": "code",
   "execution_count": 76,
   "id": "ae0a25f8",
   "metadata": {},
   "outputs": [
    {
     "name": "stdout",
     "output_type": "stream",
     "text": [
      "2.0 1.0 2.0615528128088303\n"
     ]
    }
   ],
   "source": [
    "print( float(res[[\"diff\"]].mean()),float(res[[\"diff\"]].median()),float(res[[\"diff\"]].std()))"
   ]
  },
  {
   "cell_type": "code",
   "execution_count": null,
   "id": "376ab3e2",
   "metadata": {},
   "outputs": [],
   "source": []
  },
  {
   "cell_type": "code",
   "execution_count": null,
   "id": "0fedcba0",
   "metadata": {},
   "outputs": [],
   "source": []
  },
  {
   "cell_type": "code",
   "execution_count": null,
   "id": "2126dd9d",
   "metadata": {},
   "outputs": [],
   "source": []
  },
  {
   "cell_type": "code",
   "execution_count": null,
   "id": "9924c698",
   "metadata": {},
   "outputs": [],
   "source": []
  },
  {
   "cell_type": "code",
   "execution_count": null,
   "id": "87704ab3",
   "metadata": {},
   "outputs": [],
   "source": []
  },
  {
   "cell_type": "code",
   "execution_count": null,
   "id": "77b30de2",
   "metadata": {},
   "outputs": [],
   "source": []
  },
  {
   "cell_type": "code",
   "execution_count": null,
   "id": "57c04312",
   "metadata": {},
   "outputs": [],
   "source": []
  },
  {
   "cell_type": "code",
   "execution_count": null,
   "id": "2b164a01",
   "metadata": {},
   "outputs": [],
   "source": []
  },
  {
   "cell_type": "code",
   "execution_count": null,
   "id": "15500bae",
   "metadata": {},
   "outputs": [],
   "source": []
  },
  {
   "cell_type": "code",
   "execution_count": null,
   "id": "849a4b15",
   "metadata": {},
   "outputs": [],
   "source": []
  },
  {
   "cell_type": "code",
   "execution_count": null,
   "id": "5136373f",
   "metadata": {},
   "outputs": [],
   "source": []
  },
  {
   "cell_type": "code",
   "execution_count": null,
   "id": "a3c8bc79",
   "metadata": {},
   "outputs": [],
   "source": []
  },
  {
   "cell_type": "code",
   "execution_count": null,
   "id": "9a2c27bb",
   "metadata": {},
   "outputs": [],
   "source": []
  },
  {
   "cell_type": "code",
   "execution_count": null,
   "id": "b8eb3ff9",
   "metadata": {},
   "outputs": [],
   "source": []
  },
  {
   "cell_type": "code",
   "execution_count": null,
   "id": "575d599a",
   "metadata": {},
   "outputs": [],
   "source": []
  },
  {
   "cell_type": "code",
   "execution_count": null,
   "id": "809c8353",
   "metadata": {},
   "outputs": [],
   "source": []
  },
  {
   "cell_type": "code",
   "execution_count": null,
   "id": "29389dad",
   "metadata": {},
   "outputs": [],
   "source": []
  },
  {
   "cell_type": "code",
   "execution_count": null,
   "id": "a6091051",
   "metadata": {},
   "outputs": [],
   "source": []
  },
  {
   "cell_type": "code",
   "execution_count": null,
   "id": "7be2e89f",
   "metadata": {},
   "outputs": [],
   "source": [
    "# data=pd.read_csv(\"C:/Workplace/C++/d2ome_v2/v2/v2/bin/Debug/_AAMLGQEDPPQHGLPR_3_24_FAS_MOUSE.csv\")\n",
    "data=pd.read_csv(\"C:/Workplace/C++/d2ome_v2/v2/v2/bin/Debug/_DPETLLGYSMVGcQR_2_24_FAS_MOUSE.csv\")\n",
    "# data=pd.read_csv(\"data/_DTSFEQHVLLHTGGK_3_21_FAS_MOUSE.csv\")\n",
    "data.head()"
   ]
  },
  {
   "cell_type": "code",
   "execution_count": null,
   "id": "71ba1320",
   "metadata": {},
   "outputs": [],
   "source": [
    "\n",
    "ph"
   ]
  },
  {
   "cell_type": "code",
   "execution_count": null,
   "id": "1a7ecada",
   "metadata": {},
   "outputs": [],
   "source": [
    "# data[\"const\"]=data.NEH*data.pxt\n",
    "# data[\"new_pxt\"]=1-ph- (data.const/( (1-ph)*(data[\"exp_t_A1/A0\"]-data[\"theo_A1/A0\"]) ) )\n",
    "# data[\"new_neh\"]=data.const/data.new_pxt\n",
    "# data=data.sort_values(by=\"RMSE\",ascending=True)\n",
    "# data=data[(data.new_pxt>0) & (data.new_neh>0) & (data.new_neh<118)]\n",
    "\n",
    "# # data[\"temp\"]= (data.new_neh*data.new_pxt)/( (1-ph)*(1-ph-data.new_pxt) )\n",
    "# # data[\"temp2\"]=(data[\"exp_t_A1/A0\"]-data[\"theo_A1/A0\"])\n",
    "\n",
    "# data[\"h1\"]=data.NEH*data.pxt\n",
    "# data[\"h2\"]=data.new_neh*data.new_pxt\n",
    "# data.head(290)"
   ]
  },
  {
   "cell_type": "code",
   "execution_count": null,
   "id": "3ec63e28",
   "metadata": {
    "scrolled": true
   },
   "outputs": [],
   "source": [
    "data[\"const\"]=data.NEH*data.pxt\n",
    "data[\"new_pxt\"]=1-ph- (data.const/( (1-ph)*(data[\"exp_t_A1/A0\"]-data[\"theo_A1/A0\"]) ) )\n",
    "data[\"new_neh\"]=data.const/data.new_pxt\n",
    "data=data.sort_values(by=[\"RMSE\"],ascending=True)\n",
    "\n",
    "data[\"test\"]= 1-ph-data.pxt == (data.NEH*data.pxt)/( (1-ph)*(data[\"exp_t_A1/A0\"]-data[\"exp_A1/A0\"]) )\n",
    "\n",
    "data=data[(data.new_pxt>0) & (data.new_neh>0) & (data.new_neh<118)]\n",
    "\n",
    "\n",
    "\n",
    "# data[\"h1\"]=data.NEH*data.pxt\n",
    "# data[\"h2\"]=data.new_neh*data.new_pxt\n",
    "data.head(20)"
   ]
  },
  {
   "cell_type": "code",
   "execution_count": null,
   "id": "41372295",
   "metadata": {
    "scrolled": true
   },
   "outputs": [],
   "source": [
    "# np.dot(data[[\"NEH\",\"pxt\"]][318],data[[\"new_pxt\",\"new_neh\"]][318])/(norm(data[[\"NEH\",\"pxt\"]][318])*norm(data[[\"new_pxt\",\"new_neh\"]][318]))\n",
    "\n",
    "from sklearn.decomposition import PCA\n",
    "\n",
    "pca = PCA() # Compute PCA\n",
    "pca.fit_transform(  data[[\"const\",\"RMSE\"]])\n",
    "eigenvalues = pca.explained_variance_ # Get eigenvalues\n",
    "eigenvalues = np.round(eigenvalues, 8) # Round off eigenvalues\n",
    "eigenvalues"
   ]
  },
  {
   "cell_type": "code",
   "execution_count": null,
   "id": "9522bdaf",
   "metadata": {},
   "outputs": [],
   "source": [
    "from matplotlib import pyplot as plt\n",
    "# plt.figure(figsize=(15,6))\n",
    "plt.scatter(data.const,data.RMSE,s=1)\n",
    "print(data[data.new_pxt<0].shape)"
   ]
  },
  {
   "cell_type": "code",
   "execution_count": null,
   "id": "9273a79c",
   "metadata": {
    "scrolled": true
   },
   "outputs": [],
   "source": [
    "tempdata=data[data.RMSE<2*min(data.RMSE)]\n",
    "tempdata=tempdata[(tempdata.new_pxt>0) & (tempdata.new_neh>0) & (tempdata.new_neh<data.NH[0])]\n",
    "tempdata[\"pxt_dif\"]=(abs((tempdata.pxt) - (tempdata.new_pxt))) #(abs((tempdata.pxt) - (tempdata.new_pxt)))**2 + (abs((tempdata.NEH) - (tempdata.new_neh)))**2 \n",
    "tempdata.sort_values(by=[\"pxt_dif\"]).head(25)"
   ]
  },
  {
   "cell_type": "code",
   "execution_count": null,
   "id": "b2a8d30c",
   "metadata": {
    "scrolled": false
   },
   "outputs": [],
   "source": [
    "plt.figure(figsize=(15,6))\n",
    "plt.scatter(tempdata.const,tempdata.RMSE,s=1)"
   ]
  },
  {
   "cell_type": "code",
   "execution_count": null,
   "id": "6584650a",
   "metadata": {},
   "outputs": [],
   "source": [
    "np.array(tempdata.sort_values(by=[\"pxt_dif\"]).new_neh.head(5))"
   ]
  },
  {
   "cell_type": "code",
   "execution_count": null,
   "id": "d3718966",
   "metadata": {},
   "outputs": [],
   "source": [
    "np.median(tempdata.sort_values(by=[\"pxt_dif\"]).new_neh.head(5))"
   ]
  },
  {
   "cell_type": "code",
   "execution_count": null,
   "id": "8cfbf7a2",
   "metadata": {},
   "outputs": [],
   "source": [
    "# plt.scatter(range(0,6),[3.94E+06,6.30E+06,8.23E+06,6.51E+06,3.99E+06,3.33E+06])"
   ]
  },
  {
   "cell_type": "code",
   "execution_count": null,
   "id": "d769920d",
   "metadata": {},
   "outputs": [],
   "source": [
    "# plt.scatter(range(0,6),[4.77E+07,9.92E+07,1.11E+08,9.49E+07,5.45E+07,2.81E+07])"
   ]
  },
  {
   "cell_type": "code",
   "execution_count": null,
   "id": "3917fb96",
   "metadata": {},
   "outputs": [],
   "source": []
  },
  {
   "cell_type": "code",
   "execution_count": null,
   "id": "371fd2ce",
   "metadata": {},
   "outputs": [],
   "source": [
    "np.array([0.2475, 0.47250000000000003, 0.345, 1.3425, 0.9825, 1.2075, 1.0725, 1.1925000000000001, 1.1775, 1.1175, 1.335])/75"
   ]
  },
  {
   "cell_type": "code",
   "execution_count": null,
   "id": "b3e72c9f",
   "metadata": {},
   "outputs": [],
   "source": [
    "np.array([[0.16119999999999998, 0.3952, 0.41340000000000005, 0.9229999999999999, 0.9776, 0.9672, 1.0842, 1.183, 1.0608, 1.1258, 1.0972]])/26"
   ]
  },
  {
   "cell_type": "code",
   "execution_count": null,
   "id": "ea05390b",
   "metadata": {},
   "outputs": [],
   "source": []
  }
 ],
 "metadata": {
  "kernelspec": {
   "display_name": "Python 3 (ipykernel)",
   "language": "python",
   "name": "python3"
  },
  "language_info": {
   "codemirror_mode": {
    "name": "ipython",
    "version": 3
   },
   "file_extension": ".py",
   "mimetype": "text/x-python",
   "name": "python",
   "nbconvert_exporter": "python",
   "pygments_lexer": "ipython3",
   "version": "3.9.11"
  }
 },
 "nbformat": 4,
 "nbformat_minor": 5
}
