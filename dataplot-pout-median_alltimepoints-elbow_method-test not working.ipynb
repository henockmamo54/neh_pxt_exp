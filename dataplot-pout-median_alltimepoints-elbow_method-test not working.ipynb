{
 "cells": [
  {
   "cell_type": "code",
   "execution_count": 23,
   "id": "5d590ecd",
   "metadata": {},
   "outputs": [],
   "source": [
    "import os\n",
    "import pandas as pd\n",
    "import numpy as np\n",
    "from matplotlib import pyplot as plt\n",
    "from itertools import combinations\n",
    "from sklearn.decomposition import PCA"
   ]
  },
  {
   "cell_type": "code",
   "execution_count": 24,
   "id": "dee8d599",
   "metadata": {
    "scrolled": true
   },
   "outputs": [],
   "source": [
    "ph=1.5574E-4\n",
    "times=[1,2,3,6,7,9,13,16,21,24,31] "
   ]
  },
  {
   "cell_type": "code",
   "execution_count": 25,
   "id": "3c841df7",
   "metadata": {},
   "outputs": [],
   "source": [
    "def islinear(data):\n",
    "    pca = PCA() # Compute PCA\n",
    "    pca.fit_transform(data)\n",
    "    eigenvalues = pca.explained_variance_ # Get eigenvalues\n",
    "    eigenvalues = np.round(eigenvalues, 7) # Round off eigenvalues\n",
    "    islin=len([x for x in eigenvalues if x >0])!=2\n",
    "    print(\"is linear \",islin)\n",
    "    return islin "
   ]
  },
  {
   "cell_type": "code",
   "execution_count": 26,
   "id": "bcb1aedf",
   "metadata": {},
   "outputs": [],
   "source": [
    "path=\"C:/Workplace/C++/d2ome_v2/v2/v2/bin/Debug/\"\n",
    "pept=[x.split('_1_')[0] for x in os.listdir(path) if ((\".csv\" in x) and (\"_1_\" in x)) ]"
   ]
  },
  {
   "cell_type": "code",
   "execution_count": null,
   "id": "ad8c5185",
   "metadata": {},
   "outputs": [],
   "source": []
  },
  {
   "cell_type": "code",
   "execution_count": 36,
   "id": "2253e55b",
   "metadata": {
    "scrolled": true
   },
   "outputs": [],
   "source": [
    "from sklearn.metrics import r2_score,mean_squared_error \n",
    "def estimateneh(const,valcons):\n",
    "    plt.scatter(times,const,c='k',s=120)\n",
    "    plt.ylabel(\"px(t)*NEH\")\n",
    "    plt.xlabel(\"Time\")\n",
    "    \n",
    "#     ========================\n",
    "\n",
    "    res=[]\n",
    "    for neh in range(100):\n",
    "        sum_er=0 \n",
    "        for i in range(len(times)):\n",
    "            pxt=[(x/10000) for x in list(range(1,500,1))]\n",
    "            pxt2=[x for x in pxt if (1-ph-(neh*x)/valcons[i])>0 ]\n",
    "            diff=[abs(const[i]-neh*x) for x in pxt2]\n",
    "            try:\n",
    "                sum_er+=min(diff)\n",
    "            except:\n",
    "                sum_er+=float('inf')\n",
    "        res.append(sum_er)\n",
    "    \n",
    "    # best neh val    \n",
    "    nehval=res.index(min(res))\n",
    "    \n",
    "    # compute the points for best neh val\n",
    "    temp_const=[]\n",
    "    for i in range(11):\n",
    "        pxt=[(x/10000) for x in list(range(1,500,1))]\n",
    "        pxt2=[x for x in pxt if (1-ph-(nehval*x)/valcons[i])>0 ]\n",
    "        diff=[abs(const[i]-nehval*x) for x in pxt2]\n",
    "        temp_const.append(pxt2[diff.index(min(diff))]*nehval) \n",
    "    \n",
    "    plt.scatter(times,temp_const,c='r',s=40)    \n",
    "    plt.show()\n",
    "    \n",
    "    corr_matrix = np.corrcoef(const, temp_const)\n",
    "    corr = corr_matrix[0,1]\n",
    "    R_sq = corr**2\n",
    "    r2=r2_score(const, temp_const)\n",
    "    rmse=(mean_squared_error(const, temp_const))**0.5\n",
    "\n",
    "    print(\"**************\",\"RMSE=\",rmse,\"R square=\",r2)\n",
    "    print(temp_const)\n",
    "    \n",
    "    print(\"\\n estimated NEH\",nehval)\n",
    "    plt.scatter(range(100),res,s=10,c='k')\n",
    "    plt.xlabel(\"NEH\")\n",
    "    plt.ylabel(\"Error\")\n",
    "    plt.show()\n",
    "#     ========================\n",
    "    \n",
    "    return nehval"
   ]
  },
  {
   "cell_type": "code",
   "execution_count": 41,
   "id": "b6f71133",
   "metadata": {
    "scrolled": false
   },
   "outputs": [
    {
     "name": "stdout",
     "output_type": "stream",
     "text": [
      "\n",
      " _AAMLGQEDPPQHGLPR_3 Time 1 ==================================>\n",
      "pxt*NEH = 0.21 real_NEH= 42 ratio = 0.005 \n",
      "\n",
      "vals 0.033473866506427016\n",
      "\n",
      " _AAMLGQEDPPQHGLPR_3 Time 2 ==================================>\n",
      "pxt*NEH = 0.631799766 real_NEH= 42 ratio = 0.01504285157142857 \n",
      "\n",
      "vals 0.3185867306210551\n",
      "\n",
      " _AAMLGQEDPPQHGLPR_3 Time 3 ==================================>\n",
      "pxt*NEH = 0.613599882 real_NEH= 42 ratio = 0.014609521 \n",
      "\n",
      "vals 0.10612223527427816\n",
      "\n",
      " _AAMLGQEDPPQHGLPR_3 Time 6 ==================================>\n",
      "pxt*NEH = 1.6170085799999998 real_NEH= 42 ratio = 0.03850020428571428 \n",
      "\n",
      "vals 1.3351066451562674\n",
      "\n",
      " _AAMLGQEDPPQHGLPR_3 Time 7 ==================================>\n",
      "pxt*NEH = 1.57499775 real_NEH= 42 ratio = 0.03749994642857143 \n",
      "\n",
      "vals 1.3421095466964803\n",
      "\n",
      " _AAMLGQEDPPQHGLPR_3 Time 9 ==================================>\n",
      "pxt*NEH = 1.66530585 real_NEH= 42 ratio = 0.039650139285714286 \n",
      "\n",
      "vals 1.7986213748006061\n",
      "\n",
      " _AAMLGQEDPPQHGLPR_3 Time 13 ==================================>\n",
      "pxt*NEH = 1.7465094499999998 real_NEH= 42 ratio = 0.041583558333333326 \n",
      "\n",
      "vals 1.3797643162273765\n",
      "\n",
      " _AAMLGQEDPPQHGLPR_3 Time 16 ==================================>\n",
      "pxt*NEH = 1.89621026 real_NEH= 42 ratio = 0.04514786333333333 \n",
      "\n",
      "vals 1.8547213523243724\n",
      "\n",
      " _AAMLGQEDPPQHGLPR_3 Time 21 ==================================>\n",
      "pxt*NEH = 1.6830088399999998 real_NEH= 42 ratio = 0.04007163904761905 \n",
      "\n",
      "vals 1.856640111029545\n",
      "\n",
      " _AAMLGQEDPPQHGLPR_3 Time 24 ==================================>\n",
      "pxt*NEH = 1.81670962 real_NEH= 42 ratio = 0.04325499095238095 \n",
      "\n",
      "vals 1.7678798896789083\n",
      "\n",
      " _AAMLGQEDPPQHGLPR_3 Time 31 ==================================>\n",
      "pxt*NEH = 1.78560972 real_NEH= 42 ratio = 0.042514517142857144 \n",
      "\n",
      "vals 1.6754447540722959\n",
      "\n",
      " pxt_neh  [0.21, 0.631799766, 0.613599882, 1.6170085799999998, 1.57499775, 1.66530585, 1.7465094499999998, 1.89621026, 1.6830088399999998, 1.81670962, 1.78560972] \n",
      " val_cons  [0.033473866506427016, 0.3185867306210551, 0.10612223527427816, 1.3351066451562674, 1.3421095466964803, 1.7986213748006061, 1.3797643162273765, 1.8547213523243724, 1.856640111029545, 1.7678798896789083, 1.6754447540722959]\n"
     ]
    },
    {
     "data": {
      "image/png": "[encoded data removed]",
      "text/plain": [
       "<Figure size 432x288 with 1 Axes>"
      ]
     },
     "metadata": {
      "needs_background": "light"
     },
     "output_type": "display_data"
    },
    {
     "name": "stdout",
     "output_type": "stream",
     "text": [
      "************** RMSE= 0.24839821401288634 R square= 0.8082274787011341\n",
      "[0.0322, 0.3174, 0.1058, 1.334, 1.3386, 1.6652000000000002, 1.3754, 1.8538000000000001, 1.6836, 1.7663999999999997, 1.6744]\n",
      "\n",
      " estimated NEH 46\n"
     ]
    },
    {
     "data": {
      "image/png": "[encoded data removed]",
      "text/plain": [
       "<Figure size 432x288 with 1 Axes>"
      ]
     },
     "metadata": {
      "needs_background": "light"
     },
     "output_type": "display_data"
    },
    {
     "name": "stdout",
     "output_type": "stream",
     "text": [
      "\n",
      "True NEH = 42 \t estimated NEHs median 46\n"
     ]
    }
   ],
   "source": [
    "vals=[]\n",
    "for pep in pept:\n",
    "    neh_coll=[]\n",
    "    pxt_neh=[]\n",
    "    val_col=[]\n",
    "    for time in times:\n",
    "        try:\n",
    "            print(f\"\\n {pep} Time\",time,\"==================================>\")\n",
    "    #         data=pd.read_csv(f\"C:/Workplace/C++/d2ome_v2/v2/v2/bin/Debug/_AAMLGQEDPPQHGLPR_3_{time}_FAS_MOUSE.csv\")\n",
    "    #         data=pd.read_csv(f\"C:/Workplace/C++/d2ome_v2/v2/v2/bin/Debug/_AcVDTALENLSTLK_2_{time}_FAS_MOUSE.csv\")\n",
    "    #         data=pd.read_csv(f\"C:/Workplace/C++/d2ome_v2/v2/v2/bin/Debug/_DAMLENQTPELFQDVNKPK_3_{time}_FAS_MOUSE.csv\")\n",
    "    #         data=pd.read_csv(f\"C:/Workplace/C++/d2ome_v2/v2/v2/bin/Debug/_DcMLGMEFSGR_2_{time}_FAS_MOUSE.csv\")\n",
    "    #         data=pd.read_csv(f\"C:/Workplace/C++/d2ome_v2/v2/v2/bin/Debug/_DPETLLGYSMVGcQR_2_{time}_FAS_MOUSE.csv\")\n",
    "    #         data=pd.read_csv(f\"C:/Workplace/C++/d2ome_v2/v2/v2/bin/Debug/_DTSFEQHVLLHTGGK_3_{time}_FAS_MOUSE.csv\") \n",
    "    #         data=pd.read_csv(f\"C:/Workplace/C++/d2ome_v2/v2/v2/bin/Debug/_EGGFLLVHTVLK_2_{time}_FAS_MOUSE.csv\") \n",
    "            data=pd.read_csv(f\"C:/Workplace/C++/d2ome_v2/v2/v2/bin/Debug/{pep}_{time}_FAS_MOUSE.csv\")\n",
    "\n",
    "            data[\"const\"]=data.NEH*data.pxt\n",
    "            data[\"new_pxt\"]=1-ph- (data.const/( (1-ph)*(data[\"exp_t_A1/A0\"]-data[\"exp_A1/A0\"]) ) )\n",
    "            data[\"new_neh\"]=data.const/data.new_pxt\n",
    "            data=data.sort_values(by=[\"RMSE\"],ascending=True)\n",
    "            data=data[data.NEH<=data.NH]\n",
    "\n",
    "#             plt.scatter(data.const,data.RMSE,s=1,c='k')\n",
    "#             plt.hlines(y=2.5*min(data.RMSE),xmin=min(data.const),xmax=max(data.const),color='r')\n",
    "#             plt.show()\n",
    "            \n",
    "            print(\"pxt*NEH =\",float(data[data.RMSE==min(data.RMSE)].const),\"real_NEH=\",data.T_NEH[0], \"ratio =\",float(data[data.RMSE==min(data.RMSE)].const/data.T_NEH[0]),\"\\n\")\n",
    "            print(\"vals\",(data.loc[0,\"exp_t_A1/A0\"]-data.loc[0,\"exp_A1/A0\"])*(1-ph))\n",
    "            \n",
    "            pxt_neh.append(float(data[data.RMSE==min(data.RMSE)].const))\n",
    "            val_col.append((data.loc[0,\"exp_t_A1/A0\"]-data.loc[0,\"exp_A1/A0\"])*(1-ph))\n",
    "            \n",
    "            \n",
    "#             if(not islinear(data[[\"const\",\"RMSE\"]])):\n",
    "            tempdata=data[data.RMSE<2.5*min(data.RMSE)]\n",
    "            tempdata=tempdata[(tempdata.new_pxt>0) & (tempdata.new_neh>0) & (tempdata.new_neh<data.NH[0])]\n",
    "            tempdata[\"pxt_dif\"]=((abs((tempdata.pxt) - (tempdata.new_pxt)))**2 + (abs((tempdata.NEH) - (tempdata.new_neh)))**2)**0.5 #(abs((tempdata.pxt) - (tempdata.new_pxt))) \n",
    "            tempdata=tempdata.sort_values(by=[\"pxt_dif\"])\n",
    "#             print(data.T_NEH[0],np.array(tempdata.sort_values(by=[\"pxt_dif\"]).new_neh.head(5)))\n",
    "            neh_coll=neh_coll+list(np.array(tempdata.sort_values(by=[\"pxt_dif\"]).new_neh.head(5)))\n",
    "            \n",
    "        except:\n",
    "            print(\"Error\",time)\n",
    "\n",
    "#     print(neh_coll)\n",
    "    print(\"\\n pxt_neh \",pxt_neh,\"\\n val_cons \",val_col)\n",
    "    \n",
    "#     plt.hist(neh_coll,color='k',bins=50)\n",
    "#     print(\"\\nTrue NEH =\",data.T_NEH[0],\"\\t estimated NEHs median\",np.median(neh_coll))\n",
    "    eneh=estimateneh(pxt_neh,val_col)\n",
    "    print(\"\\nTrue NEH =\",data.T_NEH[0],\"\\t estimated NEHs median\",eneh)\n",
    "#     vals.append([pep,data.T_NEH[0],np.median(neh_coll)])\n",
    "    vals.append([pep,data.T_NEH[0],eneh])\n",
    "    \n",
    "    break"
   ]
  },
  {
   "cell_type": "code",
   "execution_count": 39,
   "id": "a7730afd",
   "metadata": {},
   "outputs": [
    {
     "data": {
      "text/html": [
       "<div>\n",
       "<style scoped>\n",
       "    .dataframe tbody tr th:only-of-type {\n",
       "        vertical-align: middle;\n",
       "    }\n",
       "\n",
       "    .dataframe tbody tr th {\n",
       "        vertical-align: top;\n",
       "    }\n",
       "\n",
       "    .dataframe thead th {\n",
       "        text-align: right;\n",
       "    }\n",
       "</style>\n",
       "<table border=\"1\" class=\"dataframe\">\n",
       "  <thead>\n",
       "    <tr style=\"text-align: right;\">\n",
       "      <th></th>\n",
       "      <th>Peptieds</th>\n",
       "      <th>True NEH</th>\n",
       "      <th>Estimated NEH</th>\n",
       "      <th>diff</th>\n",
       "    </tr>\n",
       "  </thead>\n",
       "  <tbody>\n",
       "    <tr>\n",
       "      <th>0</th>\n",
       "      <td>_AAMLGQEDPPQHGLPR_3</td>\n",
       "      <td>42</td>\n",
       "      <td>46</td>\n",
       "      <td>4</td>\n",
       "    </tr>\n",
       "  </tbody>\n",
       "</table>\n",
       "</div>"
      ],
      "text/plain": [
       "              Peptieds  True NEH  Estimated NEH  diff\n",
       "0  _AAMLGQEDPPQHGLPR_3        42             46     4"
      ]
     },
     "execution_count": 39,
     "metadata": {},
     "output_type": "execute_result"
    }
   ],
   "source": [
    "res=pd.DataFrame(vals,columns=[\"Peptieds\",\"True NEH\",\"Estimated NEH\"])\n",
    "res[\"diff\"]=abs(res[\"True NEH\"]-res[\"Estimated NEH\"])\n",
    "res.sort_values(by=\"diff\")"
   ]
  },
  {
   "cell_type": "code",
   "execution_count": 40,
   "id": "ae0a25f8",
   "metadata": {},
   "outputs": [
    {
     "name": "stdout",
     "output_type": "stream",
     "text": [
      "4.0 4.0 nan\n"
     ]
    }
   ],
   "source": [
    "print( float(res[[\"diff\"]].mean()),float(res[[\"diff\"]].median()),float(res[[\"diff\"]].std()))"
   ]
  },
  {
   "cell_type": "code",
   "execution_count": null,
   "id": "16e9afa2",
   "metadata": {},
   "outputs": [],
   "source": []
  },
  {
   "cell_type": "code",
   "execution_count": null,
   "id": "376ab3e2",
   "metadata": {},
   "outputs": [],
   "source": []
  },
  {
   "cell_type": "code",
   "execution_count": null,
   "id": "0fedcba0",
   "metadata": {},
   "outputs": [],
   "source": []
  },
  {
   "cell_type": "code",
   "execution_count": null,
   "id": "2126dd9d",
   "metadata": {},
   "outputs": [],
   "source": []
  },
  {
   "cell_type": "code",
   "execution_count": null,
   "id": "9924c698",
   "metadata": {},
   "outputs": [],
   "source": []
  },
  {
   "cell_type": "code",
   "execution_count": null,
   "id": "87704ab3",
   "metadata": {},
   "outputs": [],
   "source": []
  },
  {
   "cell_type": "code",
   "execution_count": null,
   "id": "77b30de2",
   "metadata": {},
   "outputs": [],
   "source": []
  },
  {
   "cell_type": "code",
   "execution_count": null,
   "id": "57c04312",
   "metadata": {},
   "outputs": [],
   "source": []
  },
  {
   "cell_type": "code",
   "execution_count": null,
   "id": "2b164a01",
   "metadata": {},
   "outputs": [],
   "source": []
  },
  {
   "cell_type": "code",
   "execution_count": null,
   "id": "15500bae",
   "metadata": {},
   "outputs": [],
   "source": []
  },
  {
   "cell_type": "code",
   "execution_count": null,
   "id": "849a4b15",
   "metadata": {},
   "outputs": [],
   "source": []
  },
  {
   "cell_type": "code",
   "execution_count": null,
   "id": "5136373f",
   "metadata": {},
   "outputs": [],
   "source": []
  },
  {
   "cell_type": "code",
   "execution_count": null,
   "id": "a3c8bc79",
   "metadata": {},
   "outputs": [],
   "source": []
  },
  {
   "cell_type": "code",
   "execution_count": null,
   "id": "9a2c27bb",
   "metadata": {},
   "outputs": [],
   "source": []
  },
  {
   "cell_type": "code",
   "execution_count": null,
   "id": "b8eb3ff9",
   "metadata": {},
   "outputs": [],
   "source": []
  },
  {
   "cell_type": "code",
   "execution_count": null,
   "id": "575d599a",
   "metadata": {},
   "outputs": [],
   "source": []
  },
  {
   "cell_type": "code",
   "execution_count": null,
   "id": "809c8353",
   "metadata": {},
   "outputs": [],
   "source": []
  },
  {
   "cell_type": "code",
   "execution_count": null,
   "id": "29389dad",
   "metadata": {},
   "outputs": [],
   "source": []
  },
  {
   "cell_type": "code",
   "execution_count": null,
   "id": "a6091051",
   "metadata": {},
   "outputs": [],
   "source": []
  },
  {
   "cell_type": "code",
   "execution_count": null,
   "id": "7be2e89f",
   "metadata": {},
   "outputs": [],
   "source": [
    "# data=pd.read_csv(\"C:/Workplace/C++/d2ome_v2/v2/v2/bin/Debug/_AAMLGQEDPPQHGLPR_3_24_FAS_MOUSE.csv\")\n",
    "data=pd.read_csv(\"C:/Workplace/C++/d2ome_v2/v2/v2/bin/Debug/_DPETLLGYSMVGcQR_2_24_FAS_MOUSE.csv\")\n",
    "# data=pd.read_csv(\"data/_DTSFEQHVLLHTGGK_3_21_FAS_MOUSE.csv\")\n",
    "data.head()"
   ]
  },
  {
   "cell_type": "code",
   "execution_count": null,
   "id": "71ba1320",
   "metadata": {},
   "outputs": [],
   "source": [
    "\n",
    "ph"
   ]
  },
  {
   "cell_type": "code",
   "execution_count": null,
   "id": "1a7ecada",
   "metadata": {},
   "outputs": [],
   "source": [
    "# data[\"const\"]=data.NEH*data.pxt\n",
    "# data[\"new_pxt\"]=1-ph- (data.const/( (1-ph)*(data[\"exp_t_A1/A0\"]-data[\"theo_A1/A0\"]) ) )\n",
    "# data[\"new_neh\"]=data.const/data.new_pxt\n",
    "# data=data.sort_values(by=\"RMSE\",ascending=True)\n",
    "# data=data[(data.new_pxt>0) & (data.new_neh>0) & (data.new_neh<118)]\n",
    "\n",
    "# # data[\"temp\"]= (data.new_neh*data.new_pxt)/( (1-ph)*(1-ph-data.new_pxt) )\n",
    "# # data[\"temp2\"]=(data[\"exp_t_A1/A0\"]-data[\"theo_A1/A0\"])\n",
    "\n",
    "# data[\"h1\"]=data.NEH*data.pxt\n",
    "# data[\"h2\"]=data.new_neh*data.new_pxt\n",
    "# data.head(290)"
   ]
  },
  {
   "cell_type": "code",
   "execution_count": null,
   "id": "3ec63e28",
   "metadata": {
    "scrolled": true
   },
   "outputs": [],
   "source": [
    "data[\"const\"]=data.NEH*data.pxt\n",
    "data[\"new_pxt\"]=1-ph- (data.const/( (1-ph)*(data[\"exp_t_A1/A0\"]-data[\"theo_A1/A0\"]) ) )\n",
    "data[\"new_neh\"]=data.const/data.new_pxt\n",
    "data=data.sort_values(by=[\"RMSE\"],ascending=True)\n",
    "\n",
    "data[\"test\"]= 1-ph-data.pxt == (data.NEH*data.pxt)/( (1-ph)*(data[\"exp_t_A1/A0\"]-data[\"exp_A1/A0\"]) )\n",
    "\n",
    "data=data[(data.new_pxt>0) & (data.new_neh>0) & (data.new_neh<118)]\n",
    "\n",
    "\n",
    "\n",
    "# data[\"h1\"]=data.NEH*data.pxt\n",
    "# data[\"h2\"]=data.new_neh*data.new_pxt\n",
    "data.head(20)"
   ]
  },
  {
   "cell_type": "code",
   "execution_count": null,
   "id": "41372295",
   "metadata": {
    "scrolled": true
   },
   "outputs": [],
   "source": [
    "# np.dot(data[[\"NEH\",\"pxt\"]][318],data[[\"new_pxt\",\"new_neh\"]][318])/(norm(data[[\"NEH\",\"pxt\"]][318])*norm(data[[\"new_pxt\",\"new_neh\"]][318]))\n",
    "\n",
    "from sklearn.decomposition import PCA\n",
    "\n",
    "pca = PCA() # Compute PCA\n",
    "pca.fit_transform(  data[[\"const\",\"RMSE\"]])\n",
    "eigenvalues = pca.explained_variance_ # Get eigenvalues\n",
    "eigenvalues = np.round(eigenvalues, 8) # Round off eigenvalues\n",
    "eigenvalues"
   ]
  },
  {
   "cell_type": "code",
   "execution_count": null,
   "id": "9522bdaf",
   "metadata": {},
   "outputs": [],
   "source": [
    "from matplotlib import pyplot as plt\n",
    "# plt.figure(figsize=(15,6))\n",
    "plt.scatter(data.const,data.RMSE,s=1)\n",
    "print(data[data.new_pxt<0].shape)"
   ]
  },
  {
   "cell_type": "code",
   "execution_count": null,
   "id": "9273a79c",
   "metadata": {
    "scrolled": true
   },
   "outputs": [],
   "source": [
    "tempdata=data[data.RMSE<2*min(data.RMSE)]\n",
    "tempdata=tempdata[(tempdata.new_pxt>0) & (tempdata.new_neh>0) & (tempdata.new_neh<data.NH[0])]\n",
    "tempdata[\"pxt_dif\"]=(abs((tempdata.pxt) - (tempdata.new_pxt))) #(abs((tempdata.pxt) - (tempdata.new_pxt)))**2 + (abs((tempdata.NEH) - (tempdata.new_neh)))**2 \n",
    "tempdata.sort_values(by=[\"pxt_dif\"]).head(25)"
   ]
  },
  {
   "cell_type": "code",
   "execution_count": null,
   "id": "b2a8d30c",
   "metadata": {
    "scrolled": false
   },
   "outputs": [],
   "source": [
    "plt.figure(figsize=(15,6))\n",
    "plt.scatter(tempdata.const,tempdata.RMSE,s=1)"
   ]
  },
  {
   "cell_type": "code",
   "execution_count": null,
   "id": "6584650a",
   "metadata": {},
   "outputs": [],
   "source": [
    "np.array(tempdata.sort_values(by=[\"pxt_dif\"]).new_neh.head(5))"
   ]
  },
  {
   "cell_type": "code",
   "execution_count": null,
   "id": "d3718966",
   "metadata": {},
   "outputs": [],
   "source": [
    "np.median(tempdata.sort_values(by=[\"pxt_dif\"]).new_neh.head(5))"
   ]
  },
  {
   "cell_type": "code",
   "execution_count": null,
   "id": "8cfbf7a2",
   "metadata": {},
   "outputs": [],
   "source": [
    "# plt.scatter(range(0,6),[3.94E+06,6.30E+06,8.23E+06,6.51E+06,3.99E+06,3.33E+06])"
   ]
  },
  {
   "cell_type": "code",
   "execution_count": null,
   "id": "d769920d",
   "metadata": {},
   "outputs": [],
   "source": [
    "# plt.scatter(range(0,6),[4.77E+07,9.92E+07,1.11E+08,9.49E+07,5.45E+07,2.81E+07])"
   ]
  },
  {
   "cell_type": "code",
   "execution_count": null,
   "id": "3917fb96",
   "metadata": {},
   "outputs": [],
   "source": []
  },
  {
   "cell_type": "code",
   "execution_count": null,
   "id": "371fd2ce",
   "metadata": {},
   "outputs": [],
   "source": [
    "np.array([0.2475, 0.47250000000000003, 0.345, 1.3425, 0.9825, 1.2075, 1.0725, 1.1925000000000001, 1.1775, 1.1175, 1.335])/75"
   ]
  },
  {
   "cell_type": "code",
   "execution_count": null,
   "id": "4fcf08f4",
   "metadata": {},
   "outputs": [],
   "source": [
    "np.array([[0.16119999999999998, 0.3952, 0.41340000000000005, 0.9229999999999999, 0.9776, 0.9672, 1.0842, 1.183, 1.0608, 1.1258, 1.0972]])/26"
   ]
  },
  {
   "cell_type": "code",
   "execution_count": null,
   "id": "a8a8d9ab",
   "metadata": {},
   "outputs": [],
   "source": []
  }
 ],
 "metadata": {
  "kernelspec": {
   "display_name": "Python 3 (ipykernel)",
   "language": "python",
   "name": "python3"
  },
  "language_info": {
   "codemirror_mode": {
    "name": "ipython",
    "version": 3
   },
   "file_extension": ".py",
   "mimetype": "text/x-python",
   "name": "python",
   "nbconvert_exporter": "python",
   "pygments_lexer": "ipython3",
   "version": "3.9.11"
  }
 },
 "nbformat": 4,
 "nbformat_minor": 5
}
