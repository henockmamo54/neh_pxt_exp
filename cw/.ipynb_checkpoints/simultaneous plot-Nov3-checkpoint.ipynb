{
 "cells": [
  {
   "cell_type": "code",
   "execution_count": 27,
   "id": "5d590ecd",
   "metadata": {},
   "outputs": [],
   "source": [
    "import os\n",
    "import pandas as pd\n",
    "import numpy as np\n",
    "from matplotlib import pyplot as plt\n",
    "from itertools import combinations\n",
    "from sklearn.decomposition import PCA"
   ]
  },
  {
   "cell_type": "code",
   "execution_count": 28,
   "id": "dee8d599",
   "metadata": {
    "scrolled": true
   },
   "outputs": [],
   "source": [
    "ph=1.5574E-4\n",
    "times=[1,2,3,6,7,9,13,16,21,24,31] \n",
    "# protien=\"FAS_MOUSE\" \n",
    "protien=\"CPSM_MOUSE\"\n",
    "\n",
    "pxt=[(x) for x in list(range(3,50,1))]\n",
    "neh=range(1,120)"
   ]
  },
  {
   "cell_type": "code",
   "execution_count": 29,
   "id": "bcb1aedf",
   "metadata": {},
   "outputs": [],
   "source": [
    "path=\"C:/Workplace/C++/d2ome_v2/v2/v2/bin/Debug/\"\n",
    "pept=[x.split('_1_')[0] for x in os.listdir(path) if ((\".csv\" in x) and (\"_1_\" in x)) ]\n"
   ]
  },
  {
   "cell_type": "code",
   "execution_count": 30,
   "id": "0a889b76",
   "metadata": {},
   "outputs": [
    {
     "name": "stdout",
     "output_type": "stream",
     "text": [
      "27 97\n",
      "25 93\n",
      "34 106\n"
     ]
    }
   ],
   "source": [
    "time=2\n",
    "data1=pd.read_csv(f\"C:/Workplace/C++/d2ome_v2/v2/v2/bin/Debug/{pept[4]}_{time}_{protien}.csv\")\n",
    "print(data1[\"T_NEH\"][0],data1[\"NH\"][0])\n",
    "data1=data1[[\"NEH\",\"pxt\",\"RMSE\"]]\n",
    "data1.pxt=[round(x*1000) for x in data1.pxt] \n",
    "\n",
    "data2=pd.read_csv(f\"C:/Workplace/C++/d2ome_v2/v2/v2/bin/Debug/{pept[2]}_{time}_{protien}.csv\")\n",
    "print(data2[\"T_NEH\"][0],data2[\"NH\"][0])\n",
    "data2=data2[[\"NEH\",\"pxt\",\"RMSE\"]]\n",
    "data2.pxt= [round(x*1000) for x in data2.pxt]\n",
    "\n",
    "data3=pd.read_csv(f\"C:/Workplace/C++/d2ome_v2/v2/v2/bin/Debug/{pept[3]}_{time}_{protien}.csv\")\n",
    "print(data3[\"T_NEH\"][0],data3[\"NH\"][0])\n",
    "data3=data3[[\"NEH\",\"pxt\",\"RMSE\"]]\n",
    "data3.pxt= [round(x*1000) for x in data3.pxt]\n",
    "\n",
    "# data4=pd.read_csv(f\"C:/Workplace/C++/d2ome_v2/v2/v2/bin/Debug/{pept[4]}_{time}_{protien}.csv\")\n",
    "# print(data4[\"T_NEH\"][0],data4[\"NH\"][0])\n",
    "# data4=data4[[\"NEH\",\"pxt\",\"RMSE\"]]\n",
    "# data4.pxt= [round(x*1000) for x in data4.pxt]"
   ]
  },
  {
   "cell_type": "code",
   "execution_count": 31,
   "id": "3937d6b2",
   "metadata": {},
   "outputs": [
    {
     "data": {
      "text/html": [
       "<div>\n",
       "<style scoped>\n",
       "    .dataframe tbody tr th:only-of-type {\n",
       "        vertical-align: middle;\n",
       "    }\n",
       "\n",
       "    .dataframe tbody tr th {\n",
       "        vertical-align: top;\n",
       "    }\n",
       "\n",
       "    .dataframe thead th {\n",
       "        text-align: right;\n",
       "    }\n",
       "</style>\n",
       "<table border=\"1\" class=\"dataframe\">\n",
       "  <thead>\n",
       "    <tr style=\"text-align: right;\">\n",
       "      <th></th>\n",
       "      <th>pxt</th>\n",
       "      <th>neh1</th>\n",
       "      <th>neh2</th>\n",
       "      <th>neh3</th>\n",
       "      <th>RMSE1</th>\n",
       "      <th>RMSE2</th>\n",
       "      <th>RMSE3</th>\n",
       "    </tr>\n",
       "  </thead>\n",
       "  <tbody>\n",
       "    <tr>\n",
       "      <th>0</th>\n",
       "      <td>3</td>\n",
       "      <td>1</td>\n",
       "      <td>1</td>\n",
       "      <td>1</td>\n",
       "      <td>0</td>\n",
       "      <td>0</td>\n",
       "      <td>0</td>\n",
       "    </tr>\n",
       "    <tr>\n",
       "      <th>1</th>\n",
       "      <td>3</td>\n",
       "      <td>1</td>\n",
       "      <td>1</td>\n",
       "      <td>2</td>\n",
       "      <td>0</td>\n",
       "      <td>0</td>\n",
       "      <td>0</td>\n",
       "    </tr>\n",
       "    <tr>\n",
       "      <th>2</th>\n",
       "      <td>3</td>\n",
       "      <td>1</td>\n",
       "      <td>1</td>\n",
       "      <td>3</td>\n",
       "      <td>0</td>\n",
       "      <td>0</td>\n",
       "      <td>0</td>\n",
       "    </tr>\n",
       "    <tr>\n",
       "      <th>3</th>\n",
       "      <td>3</td>\n",
       "      <td>1</td>\n",
       "      <td>1</td>\n",
       "      <td>4</td>\n",
       "      <td>0</td>\n",
       "      <td>0</td>\n",
       "      <td>0</td>\n",
       "    </tr>\n",
       "    <tr>\n",
       "      <th>4</th>\n",
       "      <td>3</td>\n",
       "      <td>1</td>\n",
       "      <td>1</td>\n",
       "      <td>5</td>\n",
       "      <td>0</td>\n",
       "      <td>0</td>\n",
       "      <td>0</td>\n",
       "    </tr>\n",
       "  </tbody>\n",
       "</table>\n",
       "</div>"
      ],
      "text/plain": [
       "   pxt  neh1  neh2  neh3  RMSE1  RMSE2  RMSE3\n",
       "0    3     1     1     1      0      0      0\n",
       "1    3     1     1     2      0      0      0\n",
       "2    3     1     1     3      0      0      0\n",
       "3    3     1     1     4      0      0      0\n",
       "4    3     1     1     5      0      0      0"
      ]
     },
     "execution_count": 31,
     "metadata": {},
     "output_type": "execute_result"
    }
   ],
   "source": [
    "\n",
    "import pandas as pd\n",
    "import numpy as np\n",
    "\n",
    "pxt=range(3,50)\n",
    "neh=range(1,100)\n",
    "\n",
    "data_px=pd.DataFrame(pxt)\n",
    "data_neh=pd.DataFrame(neh)\n",
    "\n",
    "data=pd.merge(data_px,data_neh,how='cross')\n",
    "data=pd.merge(data,data_neh,how='cross',suffixes=[\"_1\",\"_2\"])\n",
    "data=pd.merge(data,data_neh,how='cross',suffixes=[\"_1x\",\"_2x\"])\n",
    "data.columns=[\"pxt\",\"neh1\",\"neh2\",\"neh3\"]\n",
    "data[\"RMSE1\"]=0\n",
    "data[\"RMSE2\"]=0\n",
    "data[\"RMSE3\"]=0\n",
    "\n",
    "data.head()"
   ]
  },
  {
   "cell_type": "code",
   "execution_count": null,
   "id": "ca7f7342",
   "metadata": {
    "scrolled": true
   },
   "outputs": [],
   "source": [
    "for px in pxt:\n",
    "    temp_px_data=data[(data.pxt==px)]\n",
    "    temp_px_data1=data1[(data1.pxt==px)]\n",
    "    temp_px_data2=data2[(data2.pxt==px)]\n",
    "    temp_px_data3=data3[(data3.pxt==px)]\n",
    "    for n in neh:\n",
    "        temp_index=temp_px_data[(temp_px_data.neh1==n)].index\n",
    "        data.loc[temp_index,\"RMSE1\"]=float(temp_px_data1[(temp_px_data1.NEH==n)].RMSE)\n",
    "        \n",
    "        temp_index=temp_px_data[(temp_px_data.neh2==n)].index\n",
    "        data.loc[temp_index,\"RMSE2\"]=float(temp_px_data2[(temp_px_data2.NEH==n)].RMSE)\n",
    "        \n",
    "        temp_index=temp_px_data[(temp_px_data.neh3==n)].index\n",
    "        data.loc[temp_index,\"RMSE3\"]=float(temp_px_data3[(temp_px_data3.NEH==n)].RMSE)\n",
    "        \n",
    "        \n",
    "#         print(px,n)"
   ]
  },
  {
   "cell_type": "code",
   "execution_count": null,
   "id": "0014c10a",
   "metadata": {},
   "outputs": [],
   "source": [
    "# data[(data.pxt==3)&(data.neh1==1)]\n",
    "data[\"RMSE\"]=data.RMSE1+data.RMSE2+data.RMSE3\n",
    "data.sort_values(by=\"RMSE\")"
   ]
  },
  {
   "cell_type": "code",
   "execution_count": null,
   "id": "cef0b2d6",
   "metadata": {},
   "outputs": [],
   "source": []
  },
  {
   "cell_type": "code",
   "execution_count": null,
   "id": "6e980033",
   "metadata": {},
   "outputs": [],
   "source": [
    "import seaborn as sns\n",
    "sns.kdeplot(data1.RMSE) \n",
    "sns.kdeplot(data2.RMSE)\n",
    "sns.kdeplot(data3.RMSE)\n"
   ]
  },
  {
   "cell_type": "code",
   "execution_count": null,
   "id": "6b038824",
   "metadata": {},
   "outputs": [],
   "source": [
    "\n",
    "# sns.kdeplot(data1.NEH)  #data1.pxt\n",
    "# sns.kdeplot(data2.NEH)  #data2.pxt\n",
    "# sns.kdeplot(data3.NEH)  #data3.pxt\n",
    "\n",
    "sns.kdeplot(data1.NEH*data1.pxt*data1.RMSE**3) \n",
    "sns.kdeplot(data2.NEH*data2.pxt*data2.RMSE**3)\n",
    "sns.kdeplot(data3.NEH*data3.pxt*data3.RMSE**3)"
   ]
  },
  {
   "cell_type": "code",
   "execution_count": null,
   "id": "ca1508b2",
   "metadata": {},
   "outputs": [],
   "source": [
    "\n",
    "fig = plt.figure()\n",
    "ax = fig.gca(projection='3d')\n",
    "ax.plot_trisurf(data1.NEH, data1.pxt, data.RMSE, cmap=plt.cm.viridis, linewidth=0.2,)\n",
    "ax.figsize=(10,10)\n",
    "plt.show()"
   ]
  },
  {
   "cell_type": "code",
   "execution_count": null,
   "id": "8f009fc9",
   "metadata": {},
   "outputs": [],
   "source": [
    "temp=data[data.pxt==3]\n",
    "temp=temp[temp.RMSE <= 3*min(temp.RMSE)]\n",
    "fig = plt.figure()\n",
    "ax = fig.gca(projection='3d')\n",
    "ax.plot_trisurf(temp.neh3, temp.neh2, temp.neh1, cmap=plt.cm.viridis, linewidth=0.2,)\n",
    "ax.figsize=(10,10)\n",
    "plt.show()"
   ]
  },
  {
   "cell_type": "code",
   "execution_count": null,
   "id": "1e2efa36",
   "metadata": {},
   "outputs": [],
   "source": [
    "fig = plt.figure() \n",
    "ax = fig.add_subplot(projection='3d')\n",
    "ax.scatter(temp.neh1, temp.neh2, temp.neh3,c=(temp.RMSE1+temp.RMSE2+temp.RMSE3))\n",
    "# ax.view_init(-120,120) \n",
    "ax.figure.set_size_inches(7,7)"
   ]
  },
  {
   "cell_type": "code",
   "execution_count": null,
   "id": "1de77486",
   "metadata": {},
   "outputs": [],
   "source": [
    "n=84\n",
    "plt.scatter(temp[temp.neh3==n].neh1,temp[temp.neh3==n].neh2,c=temp[temp.neh3==n].RMSE)"
   ]
  },
  {
   "cell_type": "code",
   "execution_count": null,
   "id": "595ddebb",
   "metadata": {},
   "outputs": [],
   "source": [
    "(temp[temp.neh3==3].RMSE3-temp[temp.neh3==4].RMSE3)"
   ]
  },
  {
   "cell_type": "code",
   "execution_count": 26,
   "id": "c3521854",
   "metadata": {
    "scrolled": true
   },
   "outputs": [],
   "source": [
    "# # libraries\n",
    "# from mpl_toolkits.mplot3d import Axes3D\n",
    "# import matplotlib.pyplot as plt\n",
    "# import pandas as pd\n",
    "# import seaborn as sns\n",
    " \n",
    "# # Get the data (csv file is hosted on the web)\n",
    "# url = 'https://raw.githubusercontent.com/holtzy/The-Python-Graph-Gallery/master/static/data/volcano.csv'\n",
    "# data = pd.read_csv(url)\n",
    " \n",
    "# # Transform it to a long format\n",
    "# df=data.unstack().reset_index()\n",
    "# df.columns=[\"X\",\"Y\",\"Z\"]\n",
    " \n",
    "# # And transform the old column name in something numeric\n",
    "# df['X']=pd.Categorical(df['X'])\n",
    "# df['X']=df['X'].cat.codes\n",
    " \n",
    "# # Make the plot\n",
    "# fig = plt.figure()\n",
    "# ax = fig.gca(projection='3d')\n",
    "# ax.plot_trisurf(df['Y'], df['X'], df['Z'], cmap=plt.cm.viridis, linewidth=0.2)\n",
    "# plt.show()\n",
    " \n",
    "# # to Add a color bar which maps values to colors.\n",
    "# fig = plt.figure()\n",
    "# ax = fig.gca(projection='3d')\n",
    "# surf=ax.plot_trisurf(df['Y'], df['X'], df['Z'], cmap=plt.cm.viridis, linewidth=0.2)\n",
    "# fig.colorbar( surf, shrink=0.5, aspect=5)\n",
    "# plt.show()\n",
    " \n",
    "# # Rotate it\n",
    "# fig = plt.figure()\n",
    "# ax = fig.gca(projection='3d')\n",
    "# surf=ax.plot_trisurf(df['Y'], df['X'], df['Z'], cmap=plt.cm.viridis, linewidth=0.2)\n",
    "# ax.view_init(30, 45)\n",
    "# plt.show()\n",
    " \n",
    "# # Other palette\n",
    "# fig = plt.figure()\n",
    "# ax = fig.gca(projection='3d')\n",
    "# ax.plot_trisurf(df['Y'], df['X'], df['Z'], cmap=plt.cm.jet, linewidth=0.01)\n",
    "# plt.show()"
   ]
  },
  {
   "cell_type": "code",
   "execution_count": 73,
   "id": "523cf878",
   "metadata": {},
   "outputs": [
    {
     "data": {
      "text/html": [
       "<div>\n",
       "<style scoped>\n",
       "    .dataframe tbody tr th:only-of-type {\n",
       "        vertical-align: middle;\n",
       "    }\n",
       "\n",
       "    .dataframe tbody tr th {\n",
       "        vertical-align: top;\n",
       "    }\n",
       "\n",
       "    .dataframe thead th {\n",
       "        text-align: right;\n",
       "    }\n",
       "</style>\n",
       "<table border=\"1\" class=\"dataframe\">\n",
       "  <thead>\n",
       "    <tr style=\"text-align: right;\">\n",
       "      <th></th>\n",
       "      <th>X</th>\n",
       "      <th>Y</th>\n",
       "      <th>Z</th>\n",
       "    </tr>\n",
       "  </thead>\n",
       "  <tbody>\n",
       "    <tr>\n",
       "      <th>0</th>\n",
       "      <td>0</td>\n",
       "      <td>0</td>\n",
       "      <td>100</td>\n",
       "    </tr>\n",
       "    <tr>\n",
       "      <th>1</th>\n",
       "      <td>0</td>\n",
       "      <td>1</td>\n",
       "      <td>101</td>\n",
       "    </tr>\n",
       "    <tr>\n",
       "      <th>2</th>\n",
       "      <td>0</td>\n",
       "      <td>2</td>\n",
       "      <td>102</td>\n",
       "    </tr>\n",
       "    <tr>\n",
       "      <th>3</th>\n",
       "      <td>0</td>\n",
       "      <td>3</td>\n",
       "      <td>103</td>\n",
       "    </tr>\n",
       "    <tr>\n",
       "      <th>4</th>\n",
       "      <td>0</td>\n",
       "      <td>4</td>\n",
       "      <td>104</td>\n",
       "    </tr>\n",
       "    <tr>\n",
       "      <th>...</th>\n",
       "      <td>...</td>\n",
       "      <td>...</td>\n",
       "      <td>...</td>\n",
       "    </tr>\n",
       "    <tr>\n",
       "      <th>5302</th>\n",
       "      <td>57</td>\n",
       "      <td>82</td>\n",
       "      <td>94</td>\n",
       "    </tr>\n",
       "    <tr>\n",
       "      <th>5303</th>\n",
       "      <td>57</td>\n",
       "      <td>83</td>\n",
       "      <td>94</td>\n",
       "    </tr>\n",
       "    <tr>\n",
       "      <th>5304</th>\n",
       "      <td>57</td>\n",
       "      <td>84</td>\n",
       "      <td>94</td>\n",
       "    </tr>\n",
       "    <tr>\n",
       "      <th>5305</th>\n",
       "      <td>57</td>\n",
       "      <td>85</td>\n",
       "      <td>94</td>\n",
       "    </tr>\n",
       "    <tr>\n",
       "      <th>5306</th>\n",
       "      <td>57</td>\n",
       "      <td>86</td>\n",
       "      <td>94</td>\n",
       "    </tr>\n",
       "  </tbody>\n",
       "</table>\n",
       "<p>5307 rows × 3 columns</p>\n",
       "</div>"
      ],
      "text/plain": [
       "       X   Y    Z\n",
       "0      0   0  100\n",
       "1      0   1  101\n",
       "2      0   2  102\n",
       "3      0   3  103\n",
       "4      0   4  104\n",
       "...   ..  ..  ...\n",
       "5302  57  82   94\n",
       "5303  57  83   94\n",
       "5304  57  84   94\n",
       "5305  57  85   94\n",
       "5306  57  86   94\n",
       "\n",
       "[5307 rows x 3 columns]"
      ]
     },
     "execution_count": 73,
     "metadata": {},
     "output_type": "execute_result"
    }
   ],
   "source": [
    "df"
   ]
  },
  {
   "cell_type": "code",
   "execution_count": null,
   "id": "da90ad8d",
   "metadata": {},
   "outputs": [],
   "source": []
  },
  {
   "cell_type": "code",
   "execution_count": null,
   "id": "66ef34c4",
   "metadata": {},
   "outputs": [],
   "source": []
  },
  {
   "cell_type": "code",
   "execution_count": null,
   "id": "87b9a0ce",
   "metadata": {},
   "outputs": [],
   "source": [
    "# data[(data.pxt==3)&(data.neh1==1)] t= 3\n",
    "data[\"RMSE\"]=data.RMSE1+data.RMSE2+data.RMSE3\n",
    "data.sort_values(by=\"RMSE\")"
   ]
  },
  {
   "cell_type": "code",
   "execution_count": null,
   "id": "c0c46801",
   "metadata": {},
   "outputs": [],
   "source": [
    "# data[(data.pxt==3)&(data.neh1==1)] t= 6 ******\n",
    "data[\"RMSE\"]=data.RMSE1+data.RMSE2+data.RMSE3\n",
    "data.sort_values(by=\"RMSE\")"
   ]
  },
  {
   "cell_type": "code",
   "execution_count": null,
   "id": "b4a5d7e6",
   "metadata": {},
   "outputs": [],
   "source": [
    "# data[(data.pxt==3)&(data.neh1==1)] ====> t=31\n",
    "data[\"RMSE\"]=data.RMSE1+data.RMSE2+data.RMSE3\n",
    "data.sort_values(by=\"RMSE\")"
   ]
  },
  {
   "cell_type": "code",
   "execution_count": null,
   "id": "24923b06",
   "metadata": {},
   "outputs": [],
   "source": []
  },
  {
   "cell_type": "code",
   "execution_count": null,
   "id": "94ce66a1",
   "metadata": {},
   "outputs": [],
   "source": []
  },
  {
   "cell_type": "code",
   "execution_count": null,
   "id": "55c4e8e3",
   "metadata": {},
   "outputs": [],
   "source": []
  },
  {
   "cell_type": "code",
   "execution_count": null,
   "id": "c6250d9c",
   "metadata": {},
   "outputs": [],
   "source": []
  },
  {
   "cell_type": "code",
   "execution_count": null,
   "id": "a5ff5c6a",
   "metadata": {},
   "outputs": [],
   "source": []
  },
  {
   "cell_type": "code",
   "execution_count": null,
   "id": "9e176023",
   "metadata": {},
   "outputs": [],
   "source": [
    "time=24\n",
    "data1=pd.read_csv(f\"C:/Workplace/C++/d2ome_v2/v2/v2/bin/Debug/{pept[5]}_{time}_{protien}.csv\")\n",
    "print(data1[\"T_NEH\"][0],data1[\"NH\"][0])\n",
    "data1=data1[[\"NEH\",\"pxt\",\"RMSE\"]]\n",
    "data1.pxt=[round(x*1000) for x in data1.pxt] #(10000*data1.pxt).astype(\"int\")\n",
    "\n",
    "data2=pd.read_csv(f\"C:/Workplace/C++/d2ome_v2/v2/v2/bin/Debug/{pept[6]}_{time}_{protien}.csv\")\n",
    "print(data2[\"T_NEH\"][0],data2[\"NH\"][0])\n",
    "data2=data2[[\"NEH\",\"pxt\",\"RMSE\"]]\n",
    "data2.pxt= [round(x*1000) for x in data2.pxt] #(10000*data2.pxt).astype(\"int\")\n",
    "\n",
    "# ========================================================================\n",
    "\n",
    "pxt=range(3,50)\n",
    "neh=range(1,100)\n",
    "\n",
    "data_px=pd.DataFrame(pxt)\n",
    "data_neh=pd.DataFrame(neh)\n",
    "\n",
    "data=pd.merge(data_px,data_neh,how='cross')\n",
    "data=pd.merge(data,data_neh,how='cross',suffixes=[\"_1\",\"_2\"])\n",
    "data.columns=[\"pxt\",\"neh1\",\"neh2\"]\n",
    "data[\"RMSE1\"]=0\n",
    "data[\"RMSE2\"]=0 \n",
    "\n",
    "for px in pxt:\n",
    "    for n in neh:\n",
    "        temp_index=data[(data.pxt==px)&(data.neh1==n)].index\n",
    "        data.loc[temp_index,\"RMSE1\"]=float(data1[(data1.pxt==px)&(data1.NEH==n)].RMSE)\n",
    "        \n",
    "        \n",
    "        temp_index=data[(data.pxt==px)&(data.neh2==n)].index\n",
    "        data.loc[temp_index,\"RMSE2\"]=float(data2[(data2.pxt==px)&(data2.NEH==n)].RMSE)\n",
    "data.pxt=data.pxt/1000                 \n",
    "data[\"RMSE\"]=data.RMSE1+data.RMSE2\n",
    "data.sort_values(by=\"RMSE\").head(10)"
   ]
  },
  {
   "cell_type": "code",
   "execution_count": null,
   "id": "202b91c4",
   "metadata": {},
   "outputs": [],
   "source": []
  },
  {
   "cell_type": "code",
   "execution_count": null,
   "id": "ae7839ea",
   "metadata": {},
   "outputs": [],
   "source": []
  },
  {
   "cell_type": "code",
   "execution_count": null,
   "id": "b7cf03ae",
   "metadata": {},
   "outputs": [],
   "source": []
  },
  {
   "cell_type": "code",
   "execution_count": null,
   "id": "78d67954",
   "metadata": {},
   "outputs": [],
   "source": []
  },
  {
   "cell_type": "code",
   "execution_count": null,
   "id": "35333224",
   "metadata": {},
   "outputs": [],
   "source": []
  },
  {
   "cell_type": "code",
   "execution_count": null,
   "id": "3b8a80b7",
   "metadata": {},
   "outputs": [],
   "source": []
  },
  {
   "cell_type": "code",
   "execution_count": null,
   "id": "2bf2caac",
   "metadata": {},
   "outputs": [],
   "source": []
  },
  {
   "cell_type": "code",
   "execution_count": null,
   "id": "47eac23d",
   "metadata": {},
   "outputs": [],
   "source": []
  },
  {
   "cell_type": "code",
   "execution_count": null,
   "id": "dac0e7a0",
   "metadata": {},
   "outputs": [],
   "source": []
  },
  {
   "cell_type": "code",
   "execution_count": null,
   "id": "e8e7fb72",
   "metadata": {},
   "outputs": [],
   "source": []
  },
  {
   "cell_type": "code",
   "execution_count": null,
   "id": "57576ec4",
   "metadata": {},
   "outputs": [],
   "source": []
  },
  {
   "cell_type": "code",
   "execution_count": null,
   "id": "9ebf0cb8",
   "metadata": {},
   "outputs": [],
   "source": []
  },
  {
   "cell_type": "code",
   "execution_count": null,
   "id": "8be4b7cb",
   "metadata": {},
   "outputs": [],
   "source": []
  },
  {
   "cell_type": "code",
   "execution_count": null,
   "id": "f731ad3d",
   "metadata": {},
   "outputs": [],
   "source": []
  },
  {
   "cell_type": "code",
   "execution_count": null,
   "id": "92313005",
   "metadata": {},
   "outputs": [],
   "source": [
    "time=31\n",
    "data1=pd.read_csv(f\"C:/Workplace/C++/d2ome_v2/v2/v2/bin/Debug/{pept[3]}_{time}_{protien}.csv\")\n",
    "print(data1[\"T_NEH\"][0],data1[\"NH\"][0])\n",
    "data1=data1[[\"NEH\",\"pxt\",\"RMSE\"]]\n",
    "\n",
    "data2=pd.read_csv(f\"C:/Workplace/C++/d2ome_v2/v2/v2/bin/Debug/{pept[6]}_{time}_{protien}.csv\")\n",
    "print(data2[\"T_NEH\"][0],data2[\"NH\"][0])\n",
    "data2=data1[[\"NEH\",\"pxt\",\"RMSE\"]]\n",
    "\n",
    "# data3=pd.read_csv(f\"C:/Workplace/C++/d2ome_v2/v2/v2/bin/Debug/{pept[2]}_{31}_{protien}.csv\")\n",
    "# data3=data1[[\"NEH\",\"pxt\",\"RMSE\"]]\n",
    "# data3.head()\n",
    "\n",
    "\n",
    "temp=pd.merge(data1,data2,how=\"cross\")\n",
    "temp=temp[temp.pxt_x==temp.pxt_y]\n",
    "temp[\"RMSE\"]=temp.RMSE_x+ temp.RMSE_y\n",
    "temp=temp[[\"pxt_x\",\"NEH_x\",\"NEH_y\",\"RMSE\"]]\n",
    "temp=temp.sort_values(by=\"RMSE\")\n",
    "temp.tail(123)"
   ]
  },
  {
   "cell_type": "code",
   "execution_count": null,
   "id": "03077278",
   "metadata": {},
   "outputs": [],
   "source": [
    "# temp=pd.merge(temp,data3,how=\"cross\")\n",
    "# # temp=temp[temp.pxt_x==temp.pxt_y]\n",
    "# # temp[\"RMSE\"]=temp.RMSE_x+ temp.RMSE_y\n",
    "# # temp=temp[[\"pxt_x\",\"NEH_x\",\"NEH_y\",\"RMSE\"]]\n",
    "# temp"
   ]
  },
  {
   "cell_type": "code",
   "execution_count": null,
   "id": "b9f8b9e6",
   "metadata": {},
   "outputs": [],
   "source": []
  },
  {
   "cell_type": "code",
   "execution_count": null,
   "id": "cfc37b46",
   "metadata": {
    "scrolled": true
   },
   "outputs": [],
   "source": [
    "data1=pd.read_csv(f\"C:/Workplace/C++/d2ome_v2/v2/v2/bin/Debug/{pept[3]}_{time}_{protien}.csv\")\n",
    "print(data1[\"T_NEH\"][0],data1[\"NH\"][0])\n",
    "data1=data1[[\"NEH\",\"pxt\"]]\n",
    "\n",
    "data2=pd.read_csv(f\"C:/Workplace/C++/d2ome_v2/v2/v2/bin/Debug/{pept[6]}_{time}_{protien}.csv\")\n",
    "print(data2[\"T_NEH\"][0],data2[\"NH\"][0])\n",
    "data2=data1[[\"NEH\",\"pxt\"]]\n",
    "\n",
    "temp=pd.merge(data1,data2,how=\"cross\")\n",
    "temp=temp[temp.pxt_x==temp.pxt_y]\n",
    "temp=temp[[\"pxt_x\",\"NEH_x\",\"NEH_y\"]]\n",
    "temp\n"
   ]
  },
  {
   "cell_type": "code",
   "execution_count": null,
   "id": "ea2c4009",
   "metadata": {},
   "outputs": [],
   "source": [
    "time=31\n",
    "data1=pd.read_csv(f\"C:/Workplace/C++/d2ome_v2/v2/v2/bin/Debug/{pept[0]}_{time}_{protien}.csv\")\n",
    "print(data1[\"T_NEH\"][0],data1[\"NH\"][0])\n",
    "data1=data1[[\"NEH\",\"pxt\",\"RMSE\"]]\n",
    "\n",
    "data2=pd.read_csv(f\"C:/Workplace/C++/d2ome_v2/v2/v2/bin/Debug/{pept[1]}_{time}_{protien}.csv\")\n",
    "print(data2[\"T_NEH\"][0],data2[\"NH\"][0])\n",
    "data2=data1[[\"NEH\",\"pxt\",\"RMSE\"]]\n",
    "\n",
    "data2=pd.read_csv(f\"C:/Workplace/C++/d2ome_v2/v2/v2/bin/Debug/{pept[2]}_{time}_{protien}.csv\")\n",
    "print(data2[\"T_NEH\"][0],data2[\"NH\"][0])\n",
    "data2=data1[[\"NEH\",\"pxt\",\"RMSE\"]]\n",
    "\n",
    "data2=pd.read_csv(f\"C:/Workplace/C++/d2ome_v2/v2/v2/bin/Debug/{pept[3]}_{time}_{protien}.csv\")\n",
    "print(data2[\"T_NEH\"][0],data2[\"NH\"][0])\n",
    "data2=data1[[\"NEH\",\"pxt\",\"RMSE\"]]"
   ]
  },
  {
   "cell_type": "code",
   "execution_count": null,
   "id": "311dc273",
   "metadata": {},
   "outputs": [],
   "source": [
    "pxt=[(x/1000) for x in list(range(3,50,1))]\n",
    "neh=range(1,120)"
   ]
  },
  {
   "cell_type": "code",
   "execution_count": null,
   "id": "9878cee9",
   "metadata": {},
   "outputs": [],
   "source": [
    "res=[]\n",
    "for px in pxt:\n",
    "    \n",
    "    for n1 in neh:\n",
    "        rmse1= float(data1[(data1.pxt==px)&(data1.NEH==n1)].RMSE)\n",
    "        \n",
    "        for n2 in neh:                \n",
    "            rmse2= float(data2[(data2.pxt==px)&(data2.NEH==n2)].RMSE)\n",
    "            res.append([px,n1,n2,(rmse1+rmse2)])\n",
    "            \n",
    "#             for n3 in neh:                \n",
    "#                 rmse3= float(data1[(data1.pxt==px)&(data1.NEH==n3)].RMSE)\n",
    "#                 res.append([px,n1,n2,n3,(rmse1+rmse2+rmse3)])"
   ]
  },
  {
   "cell_type": "code",
   "execution_count": null,
   "id": "895c2ed1",
   "metadata": {},
   "outputs": [],
   "source": [
    "np.array(res).shape"
   ]
  },
  {
   "cell_type": "code",
   "execution_count": null,
   "id": "bca377fa",
   "metadata": {},
   "outputs": [],
   "source": [
    "float(data1[(data1.pxt==0.01)&(data1.NEH==1)].RMSE)"
   ]
  },
  {
   "cell_type": "code",
   "execution_count": null,
   "id": "d9734861",
   "metadata": {},
   "outputs": [],
   "source": [
    "data1[data1.pxt==0.006].RMSE"
   ]
  },
  {
   "cell_type": "code",
   "execution_count": null,
   "id": "d5f4ba9c",
   "metadata": {},
   "outputs": [],
   "source": [
    "data1=pd.read_csv(f\"C:/Workplace/C++/d2ome_v2/v2/v2/bin/Debug/{pept[0]}_{time}_{protien}.csv\")\n",
    "# data1[data1.pxt==0.006].RMSE\n",
    "data1.query(\"pxt>0.06\")"
   ]
  },
  {
   "cell_type": "code",
   "execution_count": null,
   "id": "5b4f86e5",
   "metadata": {},
   "outputs": [],
   "source": [
    "data1.pxt"
   ]
  },
  {
   "cell_type": "code",
   "execution_count": null,
   "id": "b6f71133",
   "metadata": {
    "scrolled": true
   },
   "outputs": [],
   "source": [
    "vals=[]\n",
    "temp_kk=[]\n",
    "temp_neh=[]\n",
    "# protien=\"FAS_MOUSE\"\n",
    "# protien=\"CPSM_MOUSE\"\n",
    "# protien=\"CPT2_MOUSE\"\n",
    "# protien=\"CSAD_MOUSE\"\n",
    "protien=\"DHE3_MOUSE\"\n",
    "for pep in pept:\n",
    "    neh_coll=[]\n",
    "    pxt_neh=[]\n",
    "    for time in times:\n",
    "        try:\n",
    "            print(f\"\\n {pep} Time\",time,\"==================================>\")\n",
    "    #         data=pd.read_csv(f\"C:/Workplace/C++/d2ome_v2/v2/v2/bin/Debug/_AAMLGQEDPPQHGLPR_3_{time}_FAS_MOUSE.csv\")\n",
    "    #         data=pd.read_csv(f\"C:/Workplace/C++/d2ome_v2/v2/v2/bin/Debug/_AcVDTALENLSTLK_2_{time}_FAS_MOUSE.csv\")\n",
    "    #         data=pd.read_csv(f\"C:/Workplace/C++/d2ome_v2/v2/v2/bin/Debug/_DAMLENQTPELFQDVNKPK_3_{time}_FAS_MOUSE.csv\")\n",
    "    #         data=pd.read_csv(f\"C:/Workplace/C++/d2ome_v2/v2/v2/bin/Debug/_DcMLGMEFSGR_2_{time}_FAS_MOUSE.csv\")\n",
    "    #         data=pd.read_csv(f\"C:/Workplace/C++/d2ome_v2/v2/v2/bin/Debug/_DPETLLGYSMVGcQR_2_{time}_FAS_MOUSE.csv\")\n",
    "    #         data=pd.read_csv(f\"C:/Workplace/C++/d2ome_v2/v2/v2/bin/Debug/_DTSFEQHVLLHTGGK_3_{time}_FAS_MOUSE.csv\") \n",
    "    #         data=pd.read_csv(f\"C:/Workplace/C++/d2ome_v2/v2/v2/bin/Debug/_EGGFLLVHTVLK_2_{time}_FAS_MOUSE.csv\") \n",
    "            data=pd.read_csv(f\"C:/Workplace/C++/d2ome_v2/v2/v2/bin/Debug/{pep}_{time}_{protien}.csv\")\n",
    "\n",
    "            data[\"const\"]=data.NEH*data.pxt\n",
    "            data[\"new_pxt\"]=1-ph- (data.const/( (1-ph)*(data[\"exp_t_A1/A0\"]-data[\"exp_A1/A0\"]) ) )\n",
    "            data[\"new_neh\"]=data.const/data.new_pxt\n",
    "            data=data.sort_values(by=[\"RMSE\"],ascending=True)\n",
    "            data=data[data.NEH<=data.NH]\n",
    "\n",
    "            plt.scatter(data.const,data.RMSE,s=1,c='k')\n",
    "#             plt.hlines(y=2.5*min(data.RMSE),xmin=min(data.const),xmax=max(data.const),color='r')\n",
    "            plt.show()\n",
    "            \n",
    "            print(\"pxt*NEH =\",float(data[data.RMSE==min(data.RMSE)].const),\"real_NEH=\",data.T_NEH[0], \"ratio =\",float(data[data.RMSE==min(data.RMSE)].const/data.T_NEH[0]),\"\\n\")\n",
    "            print(\"vals\",(data.loc[0,\"exp_t_A1/A0\"]-data.loc[0,\"exp_A1/A0\"])*(1-ph))\n",
    "            \n",
    "            pxt_neh.append(float(data[data.RMSE==min(data.RMSE)].const))\n",
    "#             if(not islinear(data[[\"const\",\"RMSE\"]])):\n",
    "            tempdata=data[data.RMSE<2.5*min(data.RMSE)]\n",
    "            tempdata=tempdata[(tempdata.new_pxt>0) & (tempdata.new_neh>0) & (tempdata.new_neh<data.NH[0])]\n",
    "            tempdata[\"pxt_dif\"]=((abs((tempdata.pxt) - (tempdata.new_pxt)))**2 + (abs((tempdata.NEH) - (tempdata.new_neh)))**2)**0.5 #(abs((tempdata.pxt) - (tempdata.new_pxt))) \n",
    "            tempdata=tempdata.sort_values(by=[\"pxt_dif\"])\n",
    "#             print(data.T_NEH[0],np.array(tempdata.sort_values(by=[\"pxt_dif\"]).new_neh.head(5)))\n",
    "            neh_coll=neh_coll+list(np.array(tempdata.sort_values(by=[\"pxt_dif\"]).new_neh.head(5)))\n",
    "            \n",
    "        except:\n",
    "            print(\"Error\",time)\n",
    "\n",
    "#     print(neh_coll)\n",
    "    print(\"\\n\",pxt_neh)\n",
    "    temp_kk.append(pxt_neh)\n",
    "    temp_neh.append(data.T_NEH[0])\n",
    "    \n",
    "#     plt.hist(neh_coll,color='k',bins=50)\n",
    "#     print(\"\\nTrue NEH =\",data.T_NEH[0],\"\\t estimated NEHs median\",np.median(neh_coll))\n",
    "    eneh=estimateneh(pxt_neh)\n",
    "    print(\"\\nTrue NEH =\",data.T_NEH[0],\"\\t estimated NEHs median\",eneh)\n",
    "#     vals.append([pep,data.T_NEH[0],np.median(neh_coll)])\n",
    "    vals.append([pep,data.T_NEH[0],eneh])\n",
    "    print(\"===============================================================\\n\")\n",
    "    print(\"===============================================================\\n\")\n",
    "    print(\"===============================================================\\n\")"
   ]
  },
  {
   "cell_type": "code",
   "execution_count": null,
   "id": "a7730afd",
   "metadata": {},
   "outputs": [],
   "source": [
    "res=pd.DataFrame(vals,columns=[\"Peptieds\",\"True NEH\",\"Estimated NEH\"])\n",
    "res[\"diff\"]=abs(res[\"True NEH\"]-res[\"Estimated NEH\"])\n",
    "res=res.dropna()\n",
    "res.sort_values(by=\"diff\").head(50)"
   ]
  },
  {
   "cell_type": "code",
   "execution_count": null,
   "id": "ae0a25f8",
   "metadata": {},
   "outputs": [],
   "source": [
    "print( float(res[[\"diff\"]].mean()),float(res[[\"diff\"]].median()),float(res[[\"diff\"]].std()))"
   ]
  },
  {
   "cell_type": "code",
   "execution_count": null,
   "id": "16e9afa2",
   "metadata": {
    "scrolled": true
   },
   "outputs": [],
   "source": [
    "temp_kk\n"
   ]
  },
  {
   "cell_type": "code",
   "execution_count": null,
   "id": "f191310d",
   "metadata": {},
   "outputs": [],
   "source": [
    "temp_neh"
   ]
  },
  {
   "cell_type": "code",
   "execution_count": null,
   "id": "376ab3e2",
   "metadata": {},
   "outputs": [],
   "source": []
  },
  {
   "cell_type": "code",
   "execution_count": null,
   "id": "0fedcba0",
   "metadata": {},
   "outputs": [],
   "source": []
  },
  {
   "cell_type": "code",
   "execution_count": null,
   "id": "2126dd9d",
   "metadata": {},
   "outputs": [],
   "source": []
  },
  {
   "cell_type": "code",
   "execution_count": null,
   "id": "9924c698",
   "metadata": {},
   "outputs": [],
   "source": []
  },
  {
   "cell_type": "code",
   "execution_count": null,
   "id": "87704ab3",
   "metadata": {},
   "outputs": [],
   "source": []
  },
  {
   "cell_type": "code",
   "execution_count": null,
   "id": "77b30de2",
   "metadata": {},
   "outputs": [],
   "source": []
  },
  {
   "cell_type": "code",
   "execution_count": null,
   "id": "57c04312",
   "metadata": {},
   "outputs": [],
   "source": []
  },
  {
   "cell_type": "code",
   "execution_count": null,
   "id": "2b164a01",
   "metadata": {},
   "outputs": [],
   "source": []
  },
  {
   "cell_type": "code",
   "execution_count": null,
   "id": "15500bae",
   "metadata": {},
   "outputs": [],
   "source": []
  },
  {
   "cell_type": "code",
   "execution_count": null,
   "id": "849a4b15",
   "metadata": {},
   "outputs": [],
   "source": []
  },
  {
   "cell_type": "code",
   "execution_count": null,
   "id": "5136373f",
   "metadata": {},
   "outputs": [],
   "source": []
  },
  {
   "cell_type": "code",
   "execution_count": null,
   "id": "a3c8bc79",
   "metadata": {},
   "outputs": [],
   "source": []
  },
  {
   "cell_type": "code",
   "execution_count": null,
   "id": "9a2c27bb",
   "metadata": {},
   "outputs": [],
   "source": []
  },
  {
   "cell_type": "code",
   "execution_count": null,
   "id": "b8eb3ff9",
   "metadata": {},
   "outputs": [],
   "source": []
  },
  {
   "cell_type": "code",
   "execution_count": null,
   "id": "575d599a",
   "metadata": {},
   "outputs": [],
   "source": []
  },
  {
   "cell_type": "code",
   "execution_count": null,
   "id": "809c8353",
   "metadata": {},
   "outputs": [],
   "source": []
  },
  {
   "cell_type": "code",
   "execution_count": null,
   "id": "29389dad",
   "metadata": {},
   "outputs": [],
   "source": []
  },
  {
   "cell_type": "code",
   "execution_count": null,
   "id": "a6091051",
   "metadata": {},
   "outputs": [],
   "source": []
  },
  {
   "cell_type": "code",
   "execution_count": null,
   "id": "7be2e89f",
   "metadata": {},
   "outputs": [],
   "source": [
    "# data=pd.read_csv(\"C:/Workplace/C++/d2ome_v2/v2/v2/bin/Debug/_AAMLGQEDPPQHGLPR_3_24_FAS_MOUSE.csv\")\n",
    "data=pd.read_csv(\"C:/Workplace/C++/d2ome_v2/v2/v2/bin/Debug/_DPETLLGYSMVGcQR_2_24_FAS_MOUSE.csv\")\n",
    "# data=pd.read_csv(\"data/_DTSFEQHVLLHTGGK_3_21_FAS_MOUSE.csv\")\n",
    "data.head()"
   ]
  },
  {
   "cell_type": "code",
   "execution_count": null,
   "id": "71ba1320",
   "metadata": {},
   "outputs": [],
   "source": [
    "\n",
    "ph"
   ]
  },
  {
   "cell_type": "code",
   "execution_count": null,
   "id": "1a7ecada",
   "metadata": {},
   "outputs": [],
   "source": [
    "# data[\"const\"]=data.NEH*data.pxt\n",
    "# data[\"new_pxt\"]=1-ph- (data.const/( (1-ph)*(data[\"exp_t_A1/A0\"]-data[\"theo_A1/A0\"]) ) )\n",
    "# data[\"new_neh\"]=data.const/data.new_pxt\n",
    "# data=data.sort_values(by=\"RMSE\",ascending=True)\n",
    "# data=data[(data.new_pxt>0) & (data.new_neh>0) & (data.new_neh<118)]\n",
    "\n",
    "# # data[\"temp\"]= (data.new_neh*data.new_pxt)/( (1-ph)*(1-ph-data.new_pxt) )\n",
    "# # data[\"temp2\"]=(data[\"exp_t_A1/A0\"]-data[\"theo_A1/A0\"])\n",
    "\n",
    "# data[\"h1\"]=data.NEH*data.pxt\n",
    "# data[\"h2\"]=data.new_neh*data.new_pxt\n",
    "# data.head(290)"
   ]
  },
  {
   "cell_type": "code",
   "execution_count": null,
   "id": "3ec63e28",
   "metadata": {
    "scrolled": true
   },
   "outputs": [],
   "source": [
    "data[\"const\"]=data.NEH*data.pxt\n",
    "data[\"new_pxt\"]=1-ph- (data.const/( (1-ph)*(data[\"exp_t_A1/A0\"]-data[\"theo_A1/A0\"]) ) )\n",
    "data[\"new_neh\"]=data.const/data.new_pxt\n",
    "data=data.sort_values(by=[\"RMSE\"],ascending=True)\n",
    "\n",
    "data[\"test\"]= 1-ph-data.pxt == (data.NEH*data.pxt)/( (1-ph)*(data[\"exp_t_A1/A0\"]-data[\"exp_A1/A0\"]) )\n",
    "\n",
    "data=data[(data.new_pxt>0) & (data.new_neh>0) & (data.new_neh<118)]\n",
    "\n",
    "\n",
    "\n",
    "# data[\"h1\"]=data.NEH*data.pxt\n",
    "# data[\"h2\"]=data.new_neh*data.new_pxt\n",
    "data.head(20)"
   ]
  },
  {
   "cell_type": "code",
   "execution_count": null,
   "id": "41372295",
   "metadata": {
    "scrolled": true
   },
   "outputs": [],
   "source": [
    "# np.dot(data[[\"NEH\",\"pxt\"]][318],data[[\"new_pxt\",\"new_neh\"]][318])/(norm(data[[\"NEH\",\"pxt\"]][318])*norm(data[[\"new_pxt\",\"new_neh\"]][318]))\n",
    "\n",
    "from sklearn.decomposition import PCA\n",
    "\n",
    "pca = PCA() # Compute PCA\n",
    "pca.fit_transform(  data[[\"const\",\"RMSE\"]])\n",
    "eigenvalues = pca.explained_variance_ # Get eigenvalues\n",
    "eigenvalues = np.round(eigenvalues, 8) # Round off eigenvalues\n",
    "eigenvalues"
   ]
  },
  {
   "cell_type": "code",
   "execution_count": null,
   "id": "9522bdaf",
   "metadata": {},
   "outputs": [],
   "source": [
    "from matplotlib import pyplot as plt\n",
    "# plt.figure(figsize=(15,6))\n",
    "plt.scatter(data.const,data.RMSE,s=1)\n",
    "print(data[data.new_pxt<0].shape)"
   ]
  },
  {
   "cell_type": "code",
   "execution_count": null,
   "id": "9273a79c",
   "metadata": {
    "scrolled": true
   },
   "outputs": [],
   "source": [
    "tempdata=data[data.RMSE<2*min(data.RMSE)]\n",
    "tempdata=tempdata[(tempdata.new_pxt>0) & (tempdata.new_neh>0) & (tempdata.new_neh<data.NH[0])]\n",
    "tempdata[\"pxt_dif\"]=(abs((tempdata.pxt) - (tempdata.new_pxt))) #(abs((tempdata.pxt) - (tempdata.new_pxt)))**2 + (abs((tempdata.NEH) - (tempdata.new_neh)))**2 \n",
    "tempdata.sort_values(by=[\"pxt_dif\"]).head(25)"
   ]
  },
  {
   "cell_type": "code",
   "execution_count": null,
   "id": "b2a8d30c",
   "metadata": {
    "scrolled": false
   },
   "outputs": [],
   "source": [
    "plt.figure(figsize=(15,6))\n",
    "plt.scatter(tempdata.const,tempdata.RMSE,s=1)"
   ]
  },
  {
   "cell_type": "code",
   "execution_count": null,
   "id": "6584650a",
   "metadata": {},
   "outputs": [],
   "source": [
    "np.array(tempdata.sort_values(by=[\"pxt_dif\"]).new_neh.head(5))"
   ]
  },
  {
   "cell_type": "code",
   "execution_count": null,
   "id": "d3718966",
   "metadata": {},
   "outputs": [],
   "source": [
    "np.median(tempdata.sort_values(by=[\"pxt_dif\"]).new_neh.head(5))"
   ]
  },
  {
   "cell_type": "code",
   "execution_count": null,
   "id": "8cfbf7a2",
   "metadata": {},
   "outputs": [],
   "source": [
    "# plt.scatter(range(0,6),[3.94E+06,6.30E+06,8.23E+06,6.51E+06,3.99E+06,3.33E+06])"
   ]
  },
  {
   "cell_type": "code",
   "execution_count": null,
   "id": "d769920d",
   "metadata": {},
   "outputs": [],
   "source": [
    "# plt.scatter(range(0,6),[4.77E+07,9.92E+07,1.11E+08,9.49E+07,5.45E+07,2.81E+07])"
   ]
  },
  {
   "cell_type": "code",
   "execution_count": null,
   "id": "3917fb96",
   "metadata": {},
   "outputs": [],
   "source": []
  },
  {
   "cell_type": "code",
   "execution_count": null,
   "id": "371fd2ce",
   "metadata": {},
   "outputs": [],
   "source": [
    "np.array([0.2475, 0.47250000000000003, 0.345, 1.3425, 0.9825, 1.2075, 1.0725, 1.1925000000000001, 1.1775, 1.1175, 1.335])/75"
   ]
  },
  {
   "cell_type": "code",
   "execution_count": null,
   "id": "b3e72c9f",
   "metadata": {},
   "outputs": [],
   "source": [
    "np.array([[0.16119999999999998, 0.3952, 0.41340000000000005, 0.9229999999999999, 0.9776, 0.9672, 1.0842, 1.183, 1.0608, 1.1258, 1.0972]])/26"
   ]
  },
  {
   "cell_type": "code",
   "execution_count": null,
   "id": "ea05390b",
   "metadata": {},
   "outputs": [],
   "source": []
  }
 ],
 "metadata": {
  "kernelspec": {
   "display_name": "Python 3 (ipykernel)",
   "language": "python",
   "name": "python3"
  },
  "language_info": {
   "codemirror_mode": {
    "name": "ipython",
    "version": 3
   },
   "file_extension": ".py",
   "mimetype": "text/x-python",
   "name": "python",
   "nbconvert_exporter": "python",
   "pygments_lexer": "ipython3",
   "version": "3.9.11"
  }
 },
 "nbformat": 4,
 "nbformat_minor": 5
}
