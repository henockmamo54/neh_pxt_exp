{
 "cells": [
  {
   "cell_type": "code",
   "execution_count": 45,
   "id": "d1f5570b",
   "metadata": {},
   "outputs": [],
   "source": [
    "import os\n",
    "import pandas as pd\n",
    "import numpy as np\n",
    "from matplotlib import pyplot as plt\n",
    "from itertools import combinations"
   ]
  },
  {
   "cell_type": "code",
   "execution_count": 46,
   "id": "6754488c",
   "metadata": {},
   "outputs": [],
   "source": [
    "from sklearn.linear_model import LinearRegression \n",
    "from sklearn.preprocessing import PolynomialFeatures\n",
    "from sklearn.model_selection import train_test_split\n",
    "from sklearn import metrics\n",
    "from sklearn.preprocessing import StandardScaler,minmax_scale"
   ]
  },
  {
   "cell_type": "code",
   "execution_count": 47,
   "id": "46308ce5",
   "metadata": {},
   "outputs": [
    {
     "name": "stdout",
     "output_type": "stream",
     "text": [
      "40832\n"
     ]
    },
    {
     "data": {
      "text/html": [
       "<div>\n",
       "<style scoped>\n",
       "    .dataframe tbody tr th:only-of-type {\n",
       "        vertical-align: middle;\n",
       "    }\n",
       "\n",
       "    .dataframe tbody tr th {\n",
       "        vertical-align: top;\n",
       "    }\n",
       "\n",
       "    .dataframe thead th {\n",
       "        text-align: right;\n",
       "    }\n",
       "</style>\n",
       "<table border=\"1\" class=\"dataframe\">\n",
       "  <thead>\n",
       "    <tr style=\"text-align: right;\">\n",
       "      <th></th>\n",
       "      <th>NEH</th>\n",
       "      <th>px_t</th>\n",
       "      <th>fNatIsotopes0</th>\n",
       "      <th>fNatIsotopes1</th>\n",
       "      <th>fNatIsotopes2</th>\n",
       "      <th>fNatIsotopes3</th>\n",
       "      <th>fNatIsotopes4</th>\n",
       "      <th>fNatIsotopes5</th>\n",
       "      <th>current_Exp_isotope_distribution_t0[0]</th>\n",
       "      <th>current_Exp_isotope_distribution_t0[1]</th>\n",
       "      <th>...</th>\n",
       "      <th>current_Exp_isotope_distribution[1]</th>\n",
       "      <th>current_Exp_isotope_distribution[2]</th>\n",
       "      <th>current_Exp_isotope_distribution[3]</th>\n",
       "      <th>current_Exp_isotope_distribution[4]</th>\n",
       "      <th>current_Exp_isotope_distribution[5]</th>\n",
       "      <th>NumberOfHydrogens</th>\n",
       "      <th>PeptideSeq</th>\n",
       "      <th>SeqMass</th>\n",
       "      <th>Charge</th>\n",
       "      <th>Exp_time</th>\n",
       "    </tr>\n",
       "  </thead>\n",
       "  <tbody>\n",
       "    <tr>\n",
       "      <th>0</th>\n",
       "      <td>24</td>\n",
       "      <td>0.038559</td>\n",
       "      <td>0.33724</td>\n",
       "      <td>0.35151</td>\n",
       "      <td>0.19828</td>\n",
       "      <td>0.07938</td>\n",
       "      <td>0.02511</td>\n",
       "      <td>0.00664</td>\n",
       "      <td>0.359959</td>\n",
       "      <td>0.349246</td>\n",
       "      <td>...</td>\n",
       "      <td>0.354347</td>\n",
       "      <td>0.194119</td>\n",
       "      <td>0.103191</td>\n",
       "      <td>0.04222</td>\n",
       "      <td>0.010909</td>\n",
       "      <td>141</td>\n",
       "      <td>TLLSPEEILVSIVIPY</td>\n",
       "      <td>893.51605</td>\n",
       "      <td>2</td>\n",
       "      <td>1</td>\n",
       "    </tr>\n",
       "    <tr>\n",
       "      <th>1</th>\n",
       "      <td>24</td>\n",
       "      <td>0.038559</td>\n",
       "      <td>0.43483</td>\n",
       "      <td>0.35</td>\n",
       "      <td>0.153</td>\n",
       "      <td>0.04757</td>\n",
       "      <td>0.0117</td>\n",
       "      <td>0.00241</td>\n",
       "      <td>0.454366</td>\n",
       "      <td>0.348099</td>\n",
       "      <td>...</td>\n",
       "      <td>0.333455</td>\n",
       "      <td>0.159366</td>\n",
       "      <td>0.072358</td>\n",
       "      <td>0.031837</td>\n",
       "      <td>0.016208</td>\n",
       "      <td>100</td>\n",
       "      <td>IPAFGSIPIEFR</td>\n",
       "      <td>673.87695</td>\n",
       "      <td>2</td>\n",
       "      <td>1</td>\n",
       "    </tr>\n",
       "    <tr>\n",
       "      <th>2</th>\n",
       "      <td>25</td>\n",
       "      <td>0.038559</td>\n",
       "      <td>0.43485</td>\n",
       "      <td>0.34649</td>\n",
       "      <td>0.15369</td>\n",
       "      <td>0.04914</td>\n",
       "      <td>0.01254</td>\n",
       "      <td>0.0027</td>\n",
       "      <td>0.460712</td>\n",
       "      <td>0.346868</td>\n",
       "      <td>...</td>\n",
       "      <td>0.332646</td>\n",
       "      <td>0.179477</td>\n",
       "      <td>0.056675</td>\n",
       "      <td>0.011305</td>\n",
       "      <td>0.003701</td>\n",
       "      <td>110</td>\n",
       "      <td>STLISTAVALAAYK</td>\n",
       "      <td>704.90594</td>\n",
       "      <td>2</td>\n",
       "      <td>1</td>\n",
       "    </tr>\n",
       "    <tr>\n",
       "      <th>3</th>\n",
       "      <td>24</td>\n",
       "      <td>0.044796</td>\n",
       "      <td>0.33724</td>\n",
       "      <td>0.35151</td>\n",
       "      <td>0.19828</td>\n",
       "      <td>0.07938</td>\n",
       "      <td>0.02511</td>\n",
       "      <td>0.00664</td>\n",
       "      <td>0.359959</td>\n",
       "      <td>0.349246</td>\n",
       "      <td>...</td>\n",
       "      <td>0.309337</td>\n",
       "      <td>0.246685</td>\n",
       "      <td>0.108161</td>\n",
       "      <td>0.051683</td>\n",
       "      <td>0.004378</td>\n",
       "      <td>141</td>\n",
       "      <td>TLLSPEEILVSIVIPY</td>\n",
       "      <td>893.51605</td>\n",
       "      <td>2</td>\n",
       "      <td>2</td>\n",
       "    </tr>\n",
       "    <tr>\n",
       "      <th>4</th>\n",
       "      <td>24</td>\n",
       "      <td>0.044796</td>\n",
       "      <td>0.43483</td>\n",
       "      <td>0.35</td>\n",
       "      <td>0.153</td>\n",
       "      <td>0.04757</td>\n",
       "      <td>0.0117</td>\n",
       "      <td>0.00241</td>\n",
       "      <td>0.454366</td>\n",
       "      <td>0.348099</td>\n",
       "      <td>...</td>\n",
       "      <td>0.328027</td>\n",
       "      <td>0.191591</td>\n",
       "      <td>0.09404</td>\n",
       "      <td>0.042865</td>\n",
       "      <td>0.009785</td>\n",
       "      <td>100</td>\n",
       "      <td>IPAFGSIPIEFR</td>\n",
       "      <td>673.87695</td>\n",
       "      <td>2</td>\n",
       "      <td>2</td>\n",
       "    </tr>\n",
       "  </tbody>\n",
       "</table>\n",
       "<p>5 rows × 25 columns</p>\n",
       "</div>"
      ],
      "text/plain": [
       "  NEH      px_t fNatIsotopes0 fNatIsotopes1 fNatIsotopes2 fNatIsotopes3  \\\n",
       "0  24  0.038559       0.33724       0.35151       0.19828       0.07938   \n",
       "1  24  0.038559       0.43483          0.35         0.153       0.04757   \n",
       "2  25  0.038559       0.43485       0.34649       0.15369       0.04914   \n",
       "3  24  0.044796       0.33724       0.35151       0.19828       0.07938   \n",
       "4  24  0.044796       0.43483          0.35         0.153       0.04757   \n",
       "\n",
       "  fNatIsotopes4 fNatIsotopes5 current_Exp_isotope_distribution_t0[0]  \\\n",
       "0       0.02511       0.00664                               0.359959   \n",
       "1        0.0117       0.00241                               0.454366   \n",
       "2       0.01254        0.0027                               0.460712   \n",
       "3       0.02511       0.00664                               0.359959   \n",
       "4        0.0117       0.00241                               0.454366   \n",
       "\n",
       "  current_Exp_isotope_distribution_t0[1]  ...  \\\n",
       "0                               0.349246  ...   \n",
       "1                               0.348099  ...   \n",
       "2                               0.346868  ...   \n",
       "3                               0.349246  ...   \n",
       "4                               0.348099  ...   \n",
       "\n",
       "  current_Exp_isotope_distribution[1] current_Exp_isotope_distribution[2]  \\\n",
       "0                            0.354347                            0.194119   \n",
       "1                            0.333455                            0.159366   \n",
       "2                            0.332646                            0.179477   \n",
       "3                            0.309337                            0.246685   \n",
       "4                            0.328027                            0.191591   \n",
       "\n",
       "  current_Exp_isotope_distribution[3] current_Exp_isotope_distribution[4]  \\\n",
       "0                            0.103191                             0.04222   \n",
       "1                            0.072358                            0.031837   \n",
       "2                            0.056675                            0.011305   \n",
       "3                            0.108161                            0.051683   \n",
       "4                             0.09404                            0.042865   \n",
       "\n",
       "  current_Exp_isotope_distribution[5] NumberOfHydrogens        PeptideSeq  \\\n",
       "0                            0.010909               141  TLLSPEEILVSIVIPY   \n",
       "1                            0.016208               100      IPAFGSIPIEFR   \n",
       "2                            0.003701               110    STLISTAVALAAYK   \n",
       "3                            0.004378               141  TLLSPEEILVSIVIPY   \n",
       "4                            0.009785               100      IPAFGSIPIEFR   \n",
       "\n",
       "     SeqMass Charge Exp_time  \n",
       "0  893.51605      2        1  \n",
       "1  673.87695      2        1  \n",
       "2  704.90594      2        1  \n",
       "3  893.51605      2        2  \n",
       "4  673.87695      2        2  \n",
       "\n",
       "[5 rows x 25 columns]"
      ]
     },
     "execution_count": 47,
     "metadata": {},
     "output_type": "execute_result"
    }
   ],
   "source": [
    "path=\"data4/\"\n",
    "files=os.listdir(path) \n",
    "data=pd.DataFrame()\n",
    "for f in files:\n",
    "    temp=pd.read_csv(path+f)\n",
    "    data=pd.concat([temp,data]) \n",
    "print(data.shape[0])\n",
    "data.head()"
   ]
  },
  {
   "cell_type": "code",
   "execution_count": 48,
   "id": "6ab8523a",
   "metadata": {},
   "outputs": [],
   "source": [
    "# data.columns"
   ]
  },
  {
   "cell_type": "code",
   "execution_count": null,
   "id": "7ecb7ba8",
   "metadata": {},
   "outputs": [],
   "source": []
  },
  {
   "cell_type": "code",
   "execution_count": null,
   "id": "36e74867",
   "metadata": {},
   "outputs": [],
   "source": []
  },
  {
   "cell_type": "code",
   "execution_count": 49,
   "id": "ee5d4656",
   "metadata": {},
   "outputs": [],
   "source": [
    "data=data[['fNatIsotopes0', 'fNatIsotopes1','fNatIsotopes2', 'fNatIsotopes3', 'fNatIsotopes4', 'fNatIsotopes5',         \n",
    "       'current_Exp_isotope_distribution_t0[0]',\n",
    "       'current_Exp_isotope_distribution_t0[1]',\n",
    "       'current_Exp_isotope_distribution_t0[2]',\n",
    "       'current_Exp_isotope_distribution_t0[3]',\n",
    "       'current_Exp_isotope_distribution_t0[4]',\n",
    "       'current_Exp_isotope_distribution_t0[5]',       \n",
    "       'current_Exp_isotope_distribution[0]',\n",
    "       'current_Exp_isotope_distribution[1]',\n",
    "       'current_Exp_isotope_distribution[2]',\n",
    "       'current_Exp_isotope_distribution[3]',\n",
    "       'current_Exp_isotope_distribution[4]',\n",
    "       'current_Exp_isotope_distribution[5]',        \n",
    "       'NumberOfHydrogens',\n",
    "       'Exp_time',\"NEH\",'PeptideSeq', 'SeqMass', 'Charge'\n",
    "       ]]"
   ]
  },
  {
   "cell_type": "code",
   "execution_count": 50,
   "id": "68489de0",
   "metadata": {},
   "outputs": [],
   "source": [
    "# data.groupby(by=['PeptideSeq', 'SeqMass', 'Charge'])[\"fNatIsotopes0\"].count().reset_index()\n",
    "temp_unique_pep=data[['PeptideSeq', 'SeqMass', 'Charge','NEH']].drop_duplicates().reset_index(drop=True)\n",
    "# temp_unique_pep"
   ]
  },
  {
   "cell_type": "code",
   "execution_count": 51,
   "id": "d0df8a1b",
   "metadata": {},
   "outputs": [],
   "source": [
    "modified=[]\n",
    "for rowindex in range(temp_unique_pep.shape[0]):\n",
    "# rowindex=11\n",
    "    temp_row=temp_unique_pep.loc[rowindex,:]\n",
    "    temp_row#.PeptideSeq    \n",
    "\n",
    "    temp_datarow=data[(data.PeptideSeq==temp_row.PeptideSeq) & (data.Charge == temp_row.Charge) & (data.SeqMass == temp_row.SeqMass)].sort_values(by=\"Exp_time\").reset_index(drop=True)\n",
    "    temp_datarow\n",
    "    rot_row=[temp_datarow.NEH[0],temp_datarow.fNatIsotopes0[0],temp_datarow.fNatIsotopes1[0],temp_datarow.fNatIsotopes2[0],temp_datarow.fNatIsotopes3[0],temp_datarow.fNatIsotopes4[0],temp_datarow.fNatIsotopes5[0],\n",
    "            temp_datarow.loc[0,'current_Exp_isotope_distribution_t0[0]'],temp_datarow.loc[0,'current_Exp_isotope_distribution_t0[1]'],\n",
    "    temp_datarow.loc[0,'current_Exp_isotope_distribution_t0[2]'],temp_datarow.loc[0,'current_Exp_isotope_distribution_t0[3]'],\n",
    "    temp_datarow.loc[0,'current_Exp_isotope_distribution_t0[4]'],temp_datarow.loc[0,'current_Exp_isotope_distribution_t0[5]']        ]\n",
    "    for k in range(11):\n",
    "        rot_row.append(temp_datarow.loc[k,'current_Exp_isotope_distribution[0]'])\n",
    "        rot_row.append(temp_datarow.loc[k,'current_Exp_isotope_distribution[1]'])\n",
    "        rot_row.append(temp_datarow.loc[k,'current_Exp_isotope_distribution[2]'])\n",
    "        rot_row.append(temp_datarow.loc[k,'current_Exp_isotope_distribution[3]'])\n",
    "        rot_row.append(temp_datarow.loc[k,'current_Exp_isotope_distribution[4]'])\n",
    "        rot_row.append(temp_datarow.loc[k,'current_Exp_isotope_distribution[5]']) \n",
    "    modified.append(rot_row)"
   ]
  },
  {
   "cell_type": "code",
   "execution_count": 52,
   "id": "251d893b",
   "metadata": {},
   "outputs": [],
   "source": [
    "# len(modified)\n",
    "# temp_unique_pep.shape[0]\n",
    "modified=np.array(modified)\n"
   ]
  },
  {
   "cell_type": "code",
   "execution_count": 53,
   "id": "40fabade",
   "metadata": {},
   "outputs": [],
   "source": [
    "y=modified[:,0]\n",
    "x= modified[:,1:]"
   ]
  },
  {
   "cell_type": "code",
   "execution_count": 54,
   "id": "5d7df021",
   "metadata": {},
   "outputs": [],
   "source": [
    "X_train, X_test, y_train, y_test = train_test_split(x, y, test_size=0.33, random_state=42,shuffle=False)"
   ]
  },
  {
   "cell_type": "code",
   "execution_count": 65,
   "id": "1d18476a",
   "metadata": {},
   "outputs": [
    {
     "name": "stdout",
     "output_type": "stream",
     "text": [
      "MAPE= 0.07186310400893921 \n",
      "RMSE= 2.606271870167134\n",
      "corr 0.9500764402623932\n"
     ]
    },
    {
     "data": {
      "text/plain": [
       "Text(0, 0.5, 'Predicted NEH')"
      ]
     },
     "execution_count": 65,
     "metadata": {},
     "output_type": "execute_result"
    },
    {
     "data": {
      "image/png": "[encoded data removed]",
      "text/plain": [
       "<Figure size 432x288 with 1 Axes>"
      ]
     },
     "metadata": {
      "needs_background": "light"
     },
     "output_type": "display_data"
    }
   ],
   "source": [
    "# poly model\n",
    "interaction = PolynomialFeatures(\n",
    "    degree = 1, \n",
    "\tinclude_bias = False, interaction_only = True)\n",
    "interaction_x = interaction.fit_transform(X_train)\n",
    "\n",
    "# linear regression\n",
    "regression = LinearRegression()\n",
    "\n",
    "# Fit the linear regression\n",
    "model = regression.fit(interaction_x, y_train)\n",
    "\n",
    "#predict\n",
    "ypred=model.predict(interaction.transform(X_test))\n",
    "ypred=[round(y) for y in ypred]\n",
    "\n",
    "\n",
    "print(\"MAPE=\",metrics.mean_absolute_percentage_error(y_test, ypred),\"\\nRMSE=\",metrics.mean_squared_error(y_test, ypred)**0.5)\n",
    "print(\"corr\",np.corrcoef(y_test,ypred,)[1][0])\n",
    "plt.plot(y_test,y_test,c='r')\n",
    "plt.scatter(y_test,ypred,c='k')\n",
    "plt.xlabel(\"True NEH\")\n",
    "plt.ylabel(\"Predicted NEH\")"
   ]
  },
  {
   "cell_type": "code",
   "execution_count": 68,
   "id": "de0f4df7",
   "metadata": {},
   "outputs": [
    {
     "name": "stdout",
     "output_type": "stream",
     "text": [
      "78\n"
     ]
    },
    {
     "data": {
      "text/plain": [
       "array([ 3.15214606e+03,  3.15366052e+03,  2.98990567e+03,  3.96232239e+03,\n",
       "       -1.10326054e+02,  9.40249146e+03, -5.39223102e+13, -5.39223102e+13,\n",
       "       -5.39223102e+13, -5.39223102e+13, -5.39223102e+13, -5.39223102e+13,\n",
       "       -8.91192631e+13, -8.91192631e+13, -8.91192631e+13, -8.91192631e+13,\n",
       "       -8.91192631e+13, -8.91192631e+13, -6.68767084e+13, -6.68767084e+13,\n",
       "       -6.68767084e+13, -6.68767084e+13, -6.68767084e+13, -6.68767084e+13,\n",
       "        1.54862650e+14,  1.54862650e+14,  1.54862650e+14,  1.54862650e+14,\n",
       "        1.54862650e+14,  1.54862650e+14, -5.46132432e+13, -5.46132432e+13,\n",
       "       -5.46132432e+13, -5.46132432e+13, -5.46132432e+13, -5.46132432e+13,\n",
       "       -9.23923957e+13, -9.23923957e+13, -9.23923957e+13, -9.23923957e+13,\n",
       "       -9.23923957e+13, -9.23923957e+13, -1.13136123e+14, -1.13136123e+14,\n",
       "       -1.13136123e+14, -1.13136123e+14, -1.13136123e+14, -1.13136123e+14,\n",
       "       -3.02060145e+13, -3.02060145e+13, -3.02060145e+13, -3.02060145e+13,\n",
       "       -3.02060145e+13, -3.02060145e+13, -5.63440783e+13, -5.63440783e+13,\n",
       "       -5.63440783e+13, -5.63440783e+13, -5.63440783e+13, -5.63440783e+13,\n",
       "       -1.54170968e+14, -1.54170968e+14, -1.54170968e+14, -1.54170968e+14,\n",
       "       -1.54170968e+14, -1.54170968e+14, -1.19515382e+14, -1.19515382e+14,\n",
       "       -1.19515382e+14, -1.19515382e+14, -1.19515382e+14, -1.19515382e+14,\n",
       "        1.57065064e+14,  1.57065064e+14,  1.57065064e+14,  1.57065064e+14,\n",
       "        1.57065064e+14,  1.57065064e+14])"
      ]
     },
     "execution_count": 68,
     "metadata": {},
     "output_type": "execute_result"
    }
   ],
   "source": [
    "print(len(model.coef_))\n",
    "model.coef_"
   ]
  },
  {
   "cell_type": "code",
   "execution_count": 56,
   "id": "7d4e5fe6",
   "metadata": {},
   "outputs": [
    {
     "name": "stdout",
     "output_type": "stream",
     "text": [
      "MAPE= 0.06508137447929398 \n",
      "RMSE= 2.396766529288651\n",
      "corr 0.9571984564741195\n"
     ]
    },
    {
     "data": {
      "text/plain": [
       "Text(0, 0.5, 'Predicted NEH')"
      ]
     },
     "execution_count": 56,
     "metadata": {},
     "output_type": "execute_result"
    },
    {
     "data": {
      "image/png": "[encoded data removed]",
      "text/plain": [
       "<Figure size 432x288 with 1 Axes>"
      ]
     },
     "metadata": {
      "needs_background": "light"
     },
     "output_type": "display_data"
    }
   ],
   "source": [
    "from sklearn.svm import SVR\n",
    "\n",
    "svr_rbf = SVR(kernel=\"rbf\", C=100, gamma=0.1, epsilon=0.1)\n",
    "svr_lin = SVR(kernel=\"linear\", C=100, gamma=\"auto\")\n",
    "svr_poly = SVR(kernel=\"poly\", C=100, gamma=\"auto\", degree=3, epsilon=0.1, coef0=1)\n",
    "\n",
    "svr_rbf.fit(X_train, y_train)\n",
    "ypred=svr_rbf.predict(X_test)\n",
    "ypred=[round(y) for y in ypred]\n",
    "metrics.mean_absolute_percentage_error(y_test, ypred)\n",
    "\n",
    "print(\"MAPE=\",metrics.mean_absolute_percentage_error(y_test, ypred),\"\\nRMSE=\",metrics.mean_squared_error(y_test, ypred)**0.5)\n",
    "print(\"corr\",np.corrcoef(y_test,ypred,)[1][0])\n",
    "plt.plot(y_test,y_test,c='r')\n",
    "plt.scatter(y_test,ypred,c='k')\n",
    "plt.xlabel(\"True NEH\")\n",
    "plt.ylabel(\"Predicted NEH\")"
   ]
  },
  {
   "cell_type": "code",
   "execution_count": 57,
   "id": "1c704dd2",
   "metadata": {},
   "outputs": [
    {
     "name": "stdout",
     "output_type": "stream",
     "text": [
      "MAPE= 0.06808538269828701 \n",
      "RMSE= 2.557422171497171\n",
      "corr 0.9511262526062199\n"
     ]
    },
    {
     "data": {
      "text/plain": [
       "Text(0, 0.5, 'Predicted NEH')"
      ]
     },
     "execution_count": 57,
     "metadata": {},
     "output_type": "execute_result"
    },
    {
     "data": {
      "image/png": "[encoded data removed]",
      "text/plain": [
       "<Figure size 432x288 with 1 Axes>"
      ]
     },
     "metadata": {
      "needs_background": "light"
     },
     "output_type": "display_data"
    }
   ],
   "source": [
    "svr_lin.fit(X_train, y_train)\n",
    "ypred=svr_lin.predict(X_test)\n",
    "ypred=[round(y) for y in ypred]\n",
    "metrics.mean_absolute_percentage_error(y_test, ypred) #mean_squared_error\n",
    "\n",
    "print(\"MAPE=\",metrics.mean_absolute_percentage_error(y_test, ypred),\"\\nRMSE=\",metrics.mean_squared_error(y_test, ypred)**0.5)\n",
    "print(\"corr\",np.corrcoef(y_test,ypred,)[1][0])\n",
    "plt.plot(y_test,y_test,c='r')\n",
    "plt.scatter(y_test,ypred,c='k')\n",
    "plt.xlabel(\"True NEH\")\n",
    "plt.ylabel(\"Predicted NEH\")"
   ]
  },
  {
   "cell_type": "code",
   "execution_count": 58,
   "id": "631c5cf0",
   "metadata": {},
   "outputs": [
    {
     "name": "stdout",
     "output_type": "stream",
     "text": [
      "MAPE= 0.069433429565513 \n",
      "RMSE= 2.6200171365696003\n",
      "corr 0.949163891981204\n"
     ]
    },
    {
     "data": {
      "text/plain": [
       "Text(0, 0.5, 'Predicted NEH')"
      ]
     },
     "execution_count": 58,
     "metadata": {},
     "output_type": "execute_result"
    },
    {
     "data": {
      "image/png": "[encoded data removed]",
      "text/plain": [
       "<Figure size 432x288 with 1 Axes>"
      ]
     },
     "metadata": {
      "needs_background": "light"
     },
     "output_type": "display_data"
    }
   ],
   "source": [
    "svr_poly.fit(X_train, y_train)\n",
    "ypred=svr_poly.predict(X_test)\n",
    "ypred=[round(y) for y in ypred]\n",
    "metrics.mean_absolute_percentage_error(y_test, ypred)\n",
    "\n",
    "print(\"MAPE=\",metrics.mean_absolute_percentage_error(y_test, ypred),\"\\nRMSE=\",metrics.mean_squared_error(y_test, ypred)**0.5)\n",
    "print(\"corr\",np.corrcoef(y_test,ypred,)[1][0])\n",
    "plt.plot(y_test,y_test,c='r')\n",
    "plt.scatter(y_test,ypred,c='k')\n",
    "plt.xlabel(\"True NEH\")\n",
    "plt.ylabel(\"Predicted NEH\")"
   ]
  },
  {
   "cell_type": "code",
   "execution_count": 59,
   "id": "54db2df1",
   "metadata": {
    "scrolled": false
   },
   "outputs": [
    {
     "name": "stdout",
     "output_type": "stream",
     "text": [
      "MAPE= 0.06876291358334569 \n",
      "RMSE= 2.5679341335567223\n",
      "corr 0.9508294893313086\n"
     ]
    },
    {
     "data": {
      "text/plain": [
       "Text(0, 0.5, 'Predicted NEH')"
      ]
     },
     "execution_count": 59,
     "metadata": {},
     "output_type": "execute_result"
    },
    {
     "data": {
      "image/png": "[encoded data removed]",
      "text/plain": [
       "<Figure size 432x288 with 1 Axes>"
      ]
     },
     "metadata": {
      "needs_background": "light"
     },
     "output_type": "display_data"
    }
   ],
   "source": [
    "import xgboost \n",
    "model = xgboost.XGBRegressor(n_estimators=400, max_depth=20, eta=0.1, subsample=0.7, colsample_bytree=0.8)\n",
    "model.fit(np.array(X_train), y_train)\n",
    "ypred=model.predict(np.array((X_test)))\n",
    "ypred=[round(y) for y in ypred]\n",
    "# print(metrics.mean_absolute_percentage_error(y_test, ypred),metrics.mean_squared_error(y_test, ypred)**0.5)\n",
    "\n",
    "print(\"MAPE=\",metrics.mean_absolute_percentage_error(y_test, ypred),\"\\nRMSE=\",metrics.mean_squared_error(y_test, ypred)**0.5)\n",
    "print(\"corr\",np.corrcoef(y_test,ypred,)[1][0])\n",
    "plt.plot(y_test,y_test,c='r')\n",
    "plt.scatter(y_test,ypred,c='k')\n",
    "plt.xlabel(\"True NEH\")\n",
    "plt.ylabel(\"Predicted NEH\")"
   ]
  },
  {
   "cell_type": "code",
   "execution_count": 60,
   "id": "8c2aae02",
   "metadata": {
    "scrolled": true
   },
   "outputs": [
    {
     "name": "stdout",
     "output_type": "stream",
     "text": [
      "MAPE= 0.06513749933488472 \n",
      "RMSE= 2.4052663308766826\n"
     ]
    },
    {
     "data": {
      "text/plain": [
       "Text(0, 0.5, 'Predicted NEH')"
      ]
     },
     "execution_count": 60,
     "metadata": {},
     "output_type": "execute_result"
    },
    {
     "data": {
      "image/png": "[encoded data removed]",
      "text/plain": [
       "<Figure size 432x288 with 1 Axes>"
      ]
     },
     "metadata": {
      "needs_background": "light"
     },
     "output_type": "display_data"
    }
   ],
   "source": [
    "# Regression Example With Boston Dataset: Baseline\n",
    "from pandas import read_csv\n",
    "from tensorflow.keras.models import Sequential\n",
    "from tensorflow.keras.layers import Dense,BatchNormalization \n",
    " \n",
    "# define base model\n",
    " \n",
    "model = Sequential()\n",
    "model.add(Dense(128, input_shape=(78,), kernel_initializer='normal', activation='relu'))\n",
    "model.add(Dense(64,  kernel_initializer='normal', activation='relu'))\n",
    "model.add(Dense(32,  kernel_initializer='normal', activation='relu'))\n",
    "# model.add(Dense(32, kernel_initializer='normal', activation='relu'))\n",
    "model.add(Dense(16, kernel_initializer='normal', activation='relu'))\n",
    "model.add(Dense(1, kernel_initializer='normal'))\n",
    "# Compile model\n",
    "model.compile(loss='mean_squared_error', optimizer='adam') \n",
    "\n",
    "# model.fit(np.array(interaction.transform(X_train)).astype(np.float32), y_train.astype(np.float32),epochs=200,batch_size=50,validation_split=0.2)\n",
    "# ypred=model.predict(np.array(interaction.transform(X_test)).astype(np.float32))\n",
    "# ypred=[round(y) for y in ypred.ravel()]\n",
    "\n",
    "history=model.fit(np.array((X_train)).astype(np.float32), y_train.astype(np.float32),epochs=400,batch_size=100,validation_split=0.2,verbose=0)\n",
    "ypred=model.predict(np.array((X_test)).astype(np.float32))\n",
    "ypred=[round(y) for y in ypred.ravel()]\n",
    "\n",
    "\n",
    "print(\"MAPE=\",metrics.mean_absolute_percentage_error(y_test, ypred),\"\\nRMSE=\",metrics.mean_squared_error(y_test, ypred)**0.5)\n",
    "plt.plot(y_test,y_test,c='r')\n",
    "plt.scatter(y_test,ypred,c='k')\n",
    "plt.xlabel(\"True NEH\")\n",
    "plt.ylabel(\"Predicted NEH\")"
   ]
  },
  {
   "cell_type": "code",
   "execution_count": 61,
   "id": "85152cf3",
   "metadata": {},
   "outputs": [
    {
     "name": "stdout",
     "output_type": "stream",
     "text": [
      "Model: \"sequential_5\"\n",
      "_________________________________________________________________\n",
      " Layer (type)                Output Shape              Param #   \n",
      "=================================================================\n",
      " dense_25 (Dense)            (None, 128)               10112     \n",
      "                                                                 \n",
      " dense_26 (Dense)            (None, 64)                8256      \n",
      "                                                                 \n",
      " dense_27 (Dense)            (None, 32)                2080      \n",
      "                                                                 \n",
      " dense_28 (Dense)            (None, 16)                528       \n",
      "                                                                 \n",
      " dense_29 (Dense)            (None, 1)                 17        \n",
      "                                                                 \n",
      "=================================================================\n",
      "Total params: 20,993\n",
      "Trainable params: 20,993\n",
      "Non-trainable params: 0\n",
      "_________________________________________________________________\n"
     ]
    }
   ],
   "source": [
    "model.summary()"
   ]
  },
  {
   "cell_type": "code",
   "execution_count": 62,
   "id": "9bd78fa6",
   "metadata": {},
   "outputs": [
    {
     "name": "stdout",
     "output_type": "stream",
     "text": [
      "MAPE= 0.06513749933488472 \n",
      "RMSE= 2.4052663308766826\n",
      "corr 0.9575156859709916\n"
     ]
    },
    {
     "data": {
      "text/plain": [
       "Text(0, 0.5, 'Predicted NEH')"
      ]
     },
     "execution_count": 62,
     "metadata": {},
     "output_type": "execute_result"
    },
    {
     "data": {
      "image/png": "[encoded data removed]",
      "text/plain": [
       "<Figure size 432x288 with 1 Axes>"
      ]
     },
     "metadata": {
      "needs_background": "light"
     },
     "output_type": "display_data"
    }
   ],
   "source": [
    "print(\"MAPE=\",metrics.mean_absolute_percentage_error(y_test, ypred),\"\\nRMSE=\",metrics.mean_squared_error(y_test, ypred)**0.5)\n",
    "print(\"corr\",np.corrcoef(y_test,ypred,)[1][0])\n",
    "plt.plot(y_test,y_test,c='r')\n",
    "plt.scatter(y_test,ypred,c='k')\n",
    "plt.xlabel(\"True NEH\")\n",
    "plt.ylabel(\"Predicted NEH\")"
   ]
  },
  {
   "cell_type": "code",
   "execution_count": 63,
   "id": "fe77a3fa",
   "metadata": {},
   "outputs": [
    {
     "data": {
      "text/html": [
       "<div>\n",
       "<style scoped>\n",
       "    .dataframe tbody tr th:only-of-type {\n",
       "        vertical-align: middle;\n",
       "    }\n",
       "\n",
       "    .dataframe tbody tr th {\n",
       "        vertical-align: top;\n",
       "    }\n",
       "\n",
       "    .dataframe thead th {\n",
       "        text-align: right;\n",
       "    }\n",
       "</style>\n",
       "<table border=\"1\" class=\"dataframe\">\n",
       "  <thead>\n",
       "    <tr style=\"text-align: right;\">\n",
       "      <th></th>\n",
       "      <th>0</th>\n",
       "      <th>1</th>\n",
       "    </tr>\n",
       "  </thead>\n",
       "  <tbody>\n",
       "    <tr>\n",
       "      <th>0</th>\n",
       "      <td>1.000000</td>\n",
       "      <td>0.957516</td>\n",
       "    </tr>\n",
       "    <tr>\n",
       "      <th>1</th>\n",
       "      <td>0.957516</td>\n",
       "      <td>1.000000</td>\n",
       "    </tr>\n",
       "  </tbody>\n",
       "</table>\n",
       "</div>"
      ],
      "text/plain": [
       "          0         1\n",
       "0  1.000000  0.957516\n",
       "1  0.957516  1.000000"
      ]
     },
     "execution_count": 63,
     "metadata": {},
     "output_type": "execute_result"
    }
   ],
   "source": [
    "pd.DataFrame([y_test,ypred]).transpose().corr()"
   ]
  },
  {
   "cell_type": "code",
   "execution_count": 64,
   "id": "2d11f5fc",
   "metadata": {},
   "outputs": [
    {
     "data": {
      "text/html": [
       "<div>\n",
       "<style scoped>\n",
       "    .dataframe tbody tr th:only-of-type {\n",
       "        vertical-align: middle;\n",
       "    }\n",
       "\n",
       "    .dataframe tbody tr th {\n",
       "        vertical-align: top;\n",
       "    }\n",
       "\n",
       "    .dataframe thead th {\n",
       "        text-align: right;\n",
       "    }\n",
       "</style>\n",
       "<table border=\"1\" class=\"dataframe\">\n",
       "  <thead>\n",
       "    <tr style=\"text-align: right;\">\n",
       "      <th></th>\n",
       "      <th>NEH</th>\n",
       "      <th>pNEH</th>\n",
       "    </tr>\n",
       "  </thead>\n",
       "  <tbody>\n",
       "    <tr>\n",
       "      <th>0</th>\n",
       "      <td>23.0</td>\n",
       "      <td>25.0</td>\n",
       "    </tr>\n",
       "    <tr>\n",
       "      <th>1</th>\n",
       "      <td>30.0</td>\n",
       "      <td>27.0</td>\n",
       "    </tr>\n",
       "    <tr>\n",
       "      <th>2</th>\n",
       "      <td>33.0</td>\n",
       "      <td>32.0</td>\n",
       "    </tr>\n",
       "    <tr>\n",
       "      <th>3</th>\n",
       "      <td>37.0</td>\n",
       "      <td>34.0</td>\n",
       "    </tr>\n",
       "    <tr>\n",
       "      <th>4</th>\n",
       "      <td>17.0</td>\n",
       "      <td>19.0</td>\n",
       "    </tr>\n",
       "    <tr>\n",
       "      <th>5</th>\n",
       "      <td>25.0</td>\n",
       "      <td>22.0</td>\n",
       "    </tr>\n",
       "    <tr>\n",
       "      <th>6</th>\n",
       "      <td>33.0</td>\n",
       "      <td>32.0</td>\n",
       "    </tr>\n",
       "    <tr>\n",
       "      <th>7</th>\n",
       "      <td>27.0</td>\n",
       "      <td>25.0</td>\n",
       "    </tr>\n",
       "    <tr>\n",
       "      <th>8</th>\n",
       "      <td>19.0</td>\n",
       "      <td>18.0</td>\n",
       "    </tr>\n",
       "    <tr>\n",
       "      <th>9</th>\n",
       "      <td>15.0</td>\n",
       "      <td>18.0</td>\n",
       "    </tr>\n",
       "    <tr>\n",
       "      <th>10</th>\n",
       "      <td>24.0</td>\n",
       "      <td>23.0</td>\n",
       "    </tr>\n",
       "    <tr>\n",
       "      <th>11</th>\n",
       "      <td>32.0</td>\n",
       "      <td>30.0</td>\n",
       "    </tr>\n",
       "    <tr>\n",
       "      <th>12</th>\n",
       "      <td>37.0</td>\n",
       "      <td>37.0</td>\n",
       "    </tr>\n",
       "    <tr>\n",
       "      <th>13</th>\n",
       "      <td>19.0</td>\n",
       "      <td>17.0</td>\n",
       "    </tr>\n",
       "    <tr>\n",
       "      <th>14</th>\n",
       "      <td>28.0</td>\n",
       "      <td>27.0</td>\n",
       "    </tr>\n",
       "    <tr>\n",
       "      <th>15</th>\n",
       "      <td>19.0</td>\n",
       "      <td>16.0</td>\n",
       "    </tr>\n",
       "    <tr>\n",
       "      <th>16</th>\n",
       "      <td>19.0</td>\n",
       "      <td>17.0</td>\n",
       "    </tr>\n",
       "    <tr>\n",
       "      <th>17</th>\n",
       "      <td>26.0</td>\n",
       "      <td>24.0</td>\n",
       "    </tr>\n",
       "    <tr>\n",
       "      <th>18</th>\n",
       "      <td>25.0</td>\n",
       "      <td>23.0</td>\n",
       "    </tr>\n",
       "    <tr>\n",
       "      <th>19</th>\n",
       "      <td>26.0</td>\n",
       "      <td>24.0</td>\n",
       "    </tr>\n",
       "    <tr>\n",
       "      <th>20</th>\n",
       "      <td>35.0</td>\n",
       "      <td>32.0</td>\n",
       "    </tr>\n",
       "    <tr>\n",
       "      <th>21</th>\n",
       "      <td>24.0</td>\n",
       "      <td>24.0</td>\n",
       "    </tr>\n",
       "    <tr>\n",
       "      <th>22</th>\n",
       "      <td>26.0</td>\n",
       "      <td>27.0</td>\n",
       "    </tr>\n",
       "    <tr>\n",
       "      <th>23</th>\n",
       "      <td>35.0</td>\n",
       "      <td>31.0</td>\n",
       "    </tr>\n",
       "    <tr>\n",
       "      <th>24</th>\n",
       "      <td>25.0</td>\n",
       "      <td>24.0</td>\n",
       "    </tr>\n",
       "  </tbody>\n",
       "</table>\n",
       "</div>"
      ],
      "text/plain": [
       "     NEH  pNEH\n",
       "0   23.0  25.0\n",
       "1   30.0  27.0\n",
       "2   33.0  32.0\n",
       "3   37.0  34.0\n",
       "4   17.0  19.0\n",
       "5   25.0  22.0\n",
       "6   33.0  32.0\n",
       "7   27.0  25.0\n",
       "8   19.0  18.0\n",
       "9   15.0  18.0\n",
       "10  24.0  23.0\n",
       "11  32.0  30.0\n",
       "12  37.0  37.0\n",
       "13  19.0  17.0\n",
       "14  28.0  27.0\n",
       "15  19.0  16.0\n",
       "16  19.0  17.0\n",
       "17  26.0  24.0\n",
       "18  25.0  23.0\n",
       "19  26.0  24.0\n",
       "20  35.0  32.0\n",
       "21  24.0  24.0\n",
       "22  26.0  27.0\n",
       "23  35.0  31.0\n",
       "24  25.0  24.0"
      ]
     },
     "execution_count": 64,
     "metadata": {},
     "output_type": "execute_result"
    }
   ],
   "source": [
    "TEST=pd.DataFrame([y_test,ypred]).transpose()\n",
    "TEST.columns=[\"NEH\",\"pNEH\"]\n",
    "TEST.head(25)"
   ]
  },
  {
   "cell_type": "code",
   "execution_count": null,
   "id": "05657346",
   "metadata": {},
   "outputs": [],
   "source": []
  }
 ],
 "metadata": {
  "kernelspec": {
   "display_name": "Python 3 (ipykernel)",
   "language": "python",
   "name": "python3"
  },
  "language_info": {
   "codemirror_mode": {
    "name": "ipython",
    "version": 3
   },
   "file_extension": ".py",
   "mimetype": "text/x-python",
   "name": "python",
   "nbconvert_exporter": "python",
   "pygments_lexer": "ipython3",
   "version": "3.9.11"
  }
 },
 "nbformat": 4,
 "nbformat_minor": 5
}
