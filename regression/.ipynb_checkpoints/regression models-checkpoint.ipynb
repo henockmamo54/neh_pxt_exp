{
 "cells": [
  {
   "cell_type": "code",
   "execution_count": 1,
   "id": "d1f5570b",
   "metadata": {},
   "outputs": [],
   "source": [
    "import os\n",
    "import pandas as pd\n",
    "import numpy as np\n",
    "from matplotlib import pyplot as plt\n",
    "from itertools import combinations"
   ]
  },
  {
   "cell_type": "code",
   "execution_count": 2,
   "id": "6754488c",
   "metadata": {},
   "outputs": [],
   "source": [
    "from sklearn.linear_model import LinearRegression \n",
    "from sklearn.preprocessing import PolynomialFeatures\n",
    "from sklearn.model_selection import train_test_split\n",
    "from sklearn import metrics\n",
    "from sklearn.preprocessing import StandardScaler,minmax_scale"
   ]
  },
  {
   "cell_type": "code",
   "execution_count": 3,
   "id": "46308ce5",
   "metadata": {},
   "outputs": [
    {
     "name": "stdout",
     "output_type": "stream",
     "text": [
      "46747\n"
     ]
    },
    {
     "data": {
      "text/html": [
       "<div>\n",
       "<style scoped>\n",
       "    .dataframe tbody tr th:only-of-type {\n",
       "        vertical-align: middle;\n",
       "    }\n",
       "\n",
       "    .dataframe tbody tr th {\n",
       "        vertical-align: top;\n",
       "    }\n",
       "\n",
       "    .dataframe thead th {\n",
       "        text-align: right;\n",
       "    }\n",
       "</style>\n",
       "<table border=\"1\" class=\"dataframe\">\n",
       "  <thead>\n",
       "    <tr style=\"text-align: right;\">\n",
       "      <th></th>\n",
       "      <th>NEH</th>\n",
       "      <th>px_t</th>\n",
       "      <th>RMSE</th>\n",
       "      <th>fNatIsotopes0</th>\n",
       "      <th>fNatIsotopes1</th>\n",
       "      <th>fNatIsotopes2</th>\n",
       "      <th>fNatIsotopes3</th>\n",
       "      <th>fNatIsotopes4</th>\n",
       "      <th>fNatIsotopes5</th>\n",
       "      <th>current_Exp_isotope_distribution_t0[0]</th>\n",
       "      <th>...</th>\n",
       "      <th>current_Exp_isotope_distribution[1]</th>\n",
       "      <th>current_Exp_isotope_distribution[2]</th>\n",
       "      <th>current_Exp_isotope_distribution[3]</th>\n",
       "      <th>current_Exp_isotope_distribution[4]</th>\n",
       "      <th>current_Exp_isotope_distribution[5]</th>\n",
       "      <th>NumberOfHydrogens</th>\n",
       "      <th>PeptideSeq</th>\n",
       "      <th>SeqMass</th>\n",
       "      <th>Charge</th>\n",
       "      <th>Exp_time</th>\n",
       "    </tr>\n",
       "  </thead>\n",
       "  <tbody>\n",
       "    <tr>\n",
       "      <th>0</th>\n",
       "      <td>41</td>\n",
       "      <td>0.038559</td>\n",
       "      <td>0.113513</td>\n",
       "      <td>0.38286</td>\n",
       "      <td>0.35096</td>\n",
       "      <td>0.1775</td>\n",
       "      <td>0.06441</td>\n",
       "      <td>0.0186</td>\n",
       "      <td>0.00452</td>\n",
       "      <td>0.392492</td>\n",
       "      <td>...</td>\n",
       "      <td>0.321954</td>\n",
       "      <td>0.217297</td>\n",
       "      <td>0.129999</td>\n",
       "      <td>0.032904</td>\n",
       "      <td>0.023937</td>\n",
       "      <td>106</td>\n",
       "      <td>HEEQPAPAYEVHNR</td>\n",
       "      <td>559.59735</td>\n",
       "      <td>3</td>\n",
       "      <td>1</td>\n",
       "    </tr>\n",
       "    <tr>\n",
       "      <th>1</th>\n",
       "      <td>20</td>\n",
       "      <td>0.038559</td>\n",
       "      <td>0.088737</td>\n",
       "      <td>0.42956</td>\n",
       "      <td>0.34844</td>\n",
       "      <td>0.15587</td>\n",
       "      <td>0.05002</td>\n",
       "      <td>0.01277</td>\n",
       "      <td>0.00274</td>\n",
       "      <td>0.449484</td>\n",
       "      <td>...</td>\n",
       "      <td>0.366433</td>\n",
       "      <td>0.18427</td>\n",
       "      <td>0.074455</td>\n",
       "      <td>0.003301</td>\n",
       "      <td>0.0</td>\n",
       "      <td>108</td>\n",
       "      <td>EEAVLFLLDLPK</td>\n",
       "      <td>693.89758</td>\n",
       "      <td>2</td>\n",
       "      <td>1</td>\n",
       "    </tr>\n",
       "    <tr>\n",
       "      <th>2</th>\n",
       "      <td>41</td>\n",
       "      <td>0.044796</td>\n",
       "      <td>0.105019</td>\n",
       "      <td>0.38286</td>\n",
       "      <td>0.35096</td>\n",
       "      <td>0.1775</td>\n",
       "      <td>0.06441</td>\n",
       "      <td>0.0186</td>\n",
       "      <td>0.00452</td>\n",
       "      <td>0.392492</td>\n",
       "      <td>...</td>\n",
       "      <td>0.318667</td>\n",
       "      <td>0.224858</td>\n",
       "      <td>0.141909</td>\n",
       "      <td>0.07285</td>\n",
       "      <td>0.02581</td>\n",
       "      <td>106</td>\n",
       "      <td>HEEQPAPAYEVHNR</td>\n",
       "      <td>559.59735</td>\n",
       "      <td>3</td>\n",
       "      <td>2</td>\n",
       "    </tr>\n",
       "    <tr>\n",
       "      <th>3</th>\n",
       "      <td>20</td>\n",
       "      <td>0.044796</td>\n",
       "      <td>0.070483</td>\n",
       "      <td>0.42956</td>\n",
       "      <td>0.34844</td>\n",
       "      <td>0.15587</td>\n",
       "      <td>0.05002</td>\n",
       "      <td>0.01277</td>\n",
       "      <td>0.00274</td>\n",
       "      <td>0.449484</td>\n",
       "      <td>...</td>\n",
       "      <td>0.382896</td>\n",
       "      <td>0.220939</td>\n",
       "      <td>0.090148</td>\n",
       "      <td>0.018817</td>\n",
       "      <td>0.0</td>\n",
       "      <td>108</td>\n",
       "      <td>EEAVLFLLDLPK</td>\n",
       "      <td>693.89758</td>\n",
       "      <td>2</td>\n",
       "      <td>2</td>\n",
       "    </tr>\n",
       "    <tr>\n",
       "      <th>4</th>\n",
       "      <td>41</td>\n",
       "      <td>0.045805</td>\n",
       "      <td>0.089191</td>\n",
       "      <td>0.38286</td>\n",
       "      <td>0.35096</td>\n",
       "      <td>0.1775</td>\n",
       "      <td>0.06441</td>\n",
       "      <td>0.0186</td>\n",
       "      <td>0.00452</td>\n",
       "      <td>0.392492</td>\n",
       "      <td>...</td>\n",
       "      <td>0.241553</td>\n",
       "      <td>0.266878</td>\n",
       "      <td>0.164518</td>\n",
       "      <td>0.070825</td>\n",
       "      <td>0.039785</td>\n",
       "      <td>106</td>\n",
       "      <td>HEEQPAPAYEVHNR</td>\n",
       "      <td>559.59735</td>\n",
       "      <td>3</td>\n",
       "      <td>3</td>\n",
       "    </tr>\n",
       "  </tbody>\n",
       "</table>\n",
       "<p>5 rows × 32 columns</p>\n",
       "</div>"
      ],
      "text/plain": [
       "  NEH      px_t      RMSE fNatIsotopes0 fNatIsotopes1 fNatIsotopes2  \\\n",
       "0  41  0.038559  0.113513       0.38286       0.35096        0.1775   \n",
       "1  20  0.038559  0.088737       0.42956       0.34844       0.15587   \n",
       "2  41  0.044796  0.105019       0.38286       0.35096        0.1775   \n",
       "3  20  0.044796  0.070483       0.42956       0.34844       0.15587   \n",
       "4  41  0.045805  0.089191       0.38286       0.35096        0.1775   \n",
       "\n",
       "  fNatIsotopes3 fNatIsotopes4 fNatIsotopes5  \\\n",
       "0       0.06441        0.0186       0.00452   \n",
       "1       0.05002       0.01277       0.00274   \n",
       "2       0.06441        0.0186       0.00452   \n",
       "3       0.05002       0.01277       0.00274   \n",
       "4       0.06441        0.0186       0.00452   \n",
       "\n",
       "  current_Exp_isotope_distribution_t0[0]  ...  \\\n",
       "0                               0.392492  ...   \n",
       "1                               0.449484  ...   \n",
       "2                               0.392492  ...   \n",
       "3                               0.449484  ...   \n",
       "4                               0.392492  ...   \n",
       "\n",
       "  current_Exp_isotope_distribution[1] current_Exp_isotope_distribution[2]  \\\n",
       "0                            0.321954                            0.217297   \n",
       "1                            0.366433                             0.18427   \n",
       "2                            0.318667                            0.224858   \n",
       "3                            0.382896                            0.220939   \n",
       "4                            0.241553                            0.266878   \n",
       "\n",
       "  current_Exp_isotope_distribution[3] current_Exp_isotope_distribution[4]  \\\n",
       "0                            0.129999                            0.032904   \n",
       "1                            0.074455                            0.003301   \n",
       "2                            0.141909                             0.07285   \n",
       "3                            0.090148                            0.018817   \n",
       "4                            0.164518                            0.070825   \n",
       "\n",
       "  current_Exp_isotope_distribution[5] NumberOfHydrogens      PeptideSeq  \\\n",
       "0                            0.023937               106  HEEQPAPAYEVHNR   \n",
       "1                                 0.0               108    EEAVLFLLDLPK   \n",
       "2                             0.02581               106  HEEQPAPAYEVHNR   \n",
       "3                                 0.0               108    EEAVLFLLDLPK   \n",
       "4                            0.039785               106  HEEQPAPAYEVHNR   \n",
       "\n",
       "     SeqMass Charge Exp_time  \n",
       "0  559.59735      3        1  \n",
       "1  693.89758      2        1  \n",
       "2  559.59735      3        2  \n",
       "3  693.89758      2        2  \n",
       "4  559.59735      3        3  \n",
       "\n",
       "[5 rows x 32 columns]"
      ]
     },
     "execution_count": 3,
     "metadata": {},
     "output_type": "execute_result"
    }
   ],
   "source": [
    "path=\"data3/\"\n",
    "files=os.listdir(path) \n",
    "data=pd.DataFrame()\n",
    "for f in files:\n",
    "    temp=pd.read_csv(path+f)\n",
    "    data=pd.concat([temp,data]) \n",
    "print(data.shape[0])\n",
    "data.head()"
   ]
  },
  {
   "cell_type": "code",
   "execution_count": null,
   "id": "1b9c89ff",
   "metadata": {},
   "outputs": [],
   "source": []
  },
  {
   "cell_type": "code",
   "execution_count": 4,
   "id": "6ab8523a",
   "metadata": {},
   "outputs": [
    {
     "data": {
      "text/plain": [
       "Index(['NEH', 'px_t', 'RMSE', 'fNatIsotopes0', 'fNatIsotopes1',\n",
       "       'fNatIsotopes2', 'fNatIsotopes3', 'fNatIsotopes4', 'fNatIsotopes5',\n",
       "       'current_Exp_isotope_distribution_t0[0]',\n",
       "       'current_Exp_isotope_distribution_t0[1]',\n",
       "       'current_Exp_isotope_distribution_t0[2]',\n",
       "       'current_Exp_isotope_distribution_t0[3]',\n",
       "       'current_Exp_isotope_distribution_t0[4]',\n",
       "       'current_Exp_isotope_distribution_t0[5]', 'fLabIsotopes[0]',\n",
       "       'fLabIsotopes[1]', 'fLabIsotopes[2]', 'fLabIsotopes[3]',\n",
       "       'fLabIsotopes[4]', 'fLabIsotopes[5]',\n",
       "       'current_Exp_isotope_distribution[0]',\n",
       "       'current_Exp_isotope_distribution[1]',\n",
       "       'current_Exp_isotope_distribution[2]',\n",
       "       'current_Exp_isotope_distribution[3]',\n",
       "       'current_Exp_isotope_distribution[4]',\n",
       "       'current_Exp_isotope_distribution[5]', 'NumberOfHydrogens',\n",
       "       'PeptideSeq', 'SeqMass', 'Charge', 'Exp_time'],\n",
       "      dtype='object')"
      ]
     },
     "execution_count": 4,
     "metadata": {},
     "output_type": "execute_result"
    }
   ],
   "source": [
    "data.columns"
   ]
  },
  {
   "cell_type": "code",
   "execution_count": 5,
   "id": "b3b94b9c",
   "metadata": {},
   "outputs": [],
   "source": [
    "y=data.NEH"
   ]
  },
  {
   "cell_type": "code",
   "execution_count": null,
   "id": "38839ced",
   "metadata": {},
   "outputs": [],
   "source": []
  },
  {
   "cell_type": "code",
   "execution_count": 6,
   "id": "40fabade",
   "metadata": {},
   "outputs": [],
   "source": [
    "\n",
    "x= data[['fNatIsotopes0', 'fNatIsotopes1','fNatIsotopes2', 'fNatIsotopes3', 'fNatIsotopes4', 'fNatIsotopes5',\n",
    "         \n",
    "       'current_Exp_isotope_distribution_t0[0]',\n",
    "       'current_Exp_isotope_distribution_t0[1]',\n",
    "       'current_Exp_isotope_distribution_t0[2]',\n",
    "       'current_Exp_isotope_distribution_t0[3]',\n",
    "       'current_Exp_isotope_distribution_t0[4]',\n",
    "       'current_Exp_isotope_distribution_t0[5]', \n",
    "       \n",
    "       'current_Exp_isotope_distribution[0]',\n",
    "       'current_Exp_isotope_distribution[1]',\n",
    "       'current_Exp_isotope_distribution[2]',\n",
    "       'current_Exp_isotope_distribution[3]',\n",
    "       'current_Exp_isotope_distribution[4]',\n",
    "       'current_Exp_isotope_distribution[5]', \n",
    "       \n",
    "       'NumberOfHydrogens',\n",
    "       'Exp_time'\n",
    "       ]]# 'fLabIsotopes[0]','fLabIsotopes[1]', 'fLabIsotopes[2]', 'fLabIsotopes[3]','fLabIsotopes[4]', 'fLabIsotopes[5]','PeptideSeq', 'SeqMass', 'Charge', \n",
    "# scaler = StandardScaler()\n",
    "# x=scaler.fit_transform(x)"
   ]
  },
  {
   "cell_type": "code",
   "execution_count": 7,
   "id": "5d7df021",
   "metadata": {},
   "outputs": [],
   "source": [
    "X_train, X_test, y_train, y_test = train_test_split(x, y, test_size=0.33, random_state=42,shuffle=False)"
   ]
  },
  {
   "cell_type": "code",
   "execution_count": 8,
   "id": "1d18476a",
   "metadata": {},
   "outputs": [
    {
     "name": "stdout",
     "output_type": "stream",
     "text": [
      "0.37562576275083354 108.44636935188038\n"
     ]
    },
    {
     "data": {
      "text/plain": [
       "Text(0, 0.5, 'Predicted NEH')"
      ]
     },
     "execution_count": 8,
     "metadata": {},
     "output_type": "execute_result"
    },
    {
     "data": {
      "image/png": "[encoded data removed]",
      "text/plain": [
       "<Figure size 432x288 with 1 Axes>"
      ]
     },
     "metadata": {
      "needs_background": "light"
     },
     "output_type": "display_data"
    }
   ],
   "source": [
    "# poly model\n",
    "interaction = PolynomialFeatures(\n",
    "    degree = 4, \n",
    "\tinclude_bias = False, interaction_only = True)\n",
    "interaction_x = interaction.fit_transform(X_train)\n",
    "\n",
    "# linear regression\n",
    "regression = LinearRegression()\n",
    "\n",
    "# Fit the linear regression\n",
    "model = regression.fit(interaction_x, y_train)\n",
    "\n",
    "#predict\n",
    "ypred=model.predict(interaction.transform(X_test))\n",
    "ypred=[round(y) for y in ypred]\n",
    "print(metrics.mean_absolute_percentage_error(y_test, ypred),metrics.mean_squared_error(y_test, ypred)**0.5)\n",
    "plt.scatter(y_test,ypred)\n",
    "plt.xlabel(\"True NEH\")\n",
    "plt.ylabel(\"Predicted NEH\")"
   ]
  },
  {
   "cell_type": "code",
   "execution_count": null,
   "id": "de0f4df7",
   "metadata": {},
   "outputs": [],
   "source": []
  },
  {
   "cell_type": "code",
   "execution_count": 110,
   "id": "7d4e5fe6",
   "metadata": {},
   "outputs": [
    {
     "data": {
      "text/plain": [
       "25.04340124003543"
      ]
     },
     "execution_count": 110,
     "metadata": {},
     "output_type": "execute_result"
    }
   ],
   "source": [
    "from sklearn.svm import SVR\n",
    "\n",
    "svr_rbf = SVR(kernel=\"rbf\", C=100, gamma=0.1, epsilon=0.1)\n",
    "svr_lin = SVR(kernel=\"linear\", C=100, gamma=\"auto\")\n",
    "svr_poly = SVR(kernel=\"poly\", C=100, gamma=\"auto\", degree=3, epsilon=0.1, coef0=1)\n",
    "\n",
    "svr_rbf.fit(X_train, y_train)\n",
    "ypred=svr_rbf.predict(X_test)\n",
    "ypred=[round(y) for y in ypred]\n",
    "metrics.mean_absolute_percentage_error(y_test, ypred)"
   ]
  },
  {
   "cell_type": "code",
   "execution_count": 111,
   "id": "1c704dd2",
   "metadata": {},
   "outputs": [
    {
     "data": {
      "text/plain": [
       "15.87156775907883"
      ]
     },
     "execution_count": 111,
     "metadata": {},
     "output_type": "execute_result"
    }
   ],
   "source": [
    "svr_lin.fit(X_train, y_train)\n",
    "ypred=svr_lin.predict(X_test)\n",
    "ypred=[round(y) for y in ypred]\n",
    "metrics.mean_absolute_percentage_error(y_test, ypred) #mean_squared_error"
   ]
  },
  {
   "cell_type": "code",
   "execution_count": null,
   "id": "631c5cf0",
   "metadata": {},
   "outputs": [],
   "source": [
    "svr_poly.fit(X_train, y_train)\n",
    "ypred=svr_poly.predict(X_test)\n",
    "ypred=[round(y) for y in ypred]\n",
    "metrics.mean_absolute_percentage_error(y_test, ypred)"
   ]
  },
  {
   "cell_type": "code",
   "execution_count": 37,
   "id": "54db2df1",
   "metadata": {
    "scrolled": false
   },
   "outputs": [
    {
     "name": "stdout",
     "output_type": "stream",
     "text": [
      "0.12972140809380964 4.479804104916127\n"
     ]
    }
   ],
   "source": [
    "import xgboost \n",
    "model = xgboost.XGBRegressor(n_estimators=100, max_depth=7, eta=0.1, subsample=0.7, colsample_bytree=0.8)\n",
    "model.fit(np.array(interaction_x), y_train)\n",
    "ypred=model.predict(np.array(interaction.transform(X_test)))\n",
    "ypred=[round(y) for y in ypred]\n",
    "print(metrics.mean_absolute_percentage_error(y_test, ypred),metrics.mean_squared_error(y_test, ypred)**0.5)"
   ]
  },
  {
   "cell_type": "code",
   "execution_count": null,
   "id": "8c2aae02",
   "metadata": {
    "scrolled": true
   },
   "outputs": [
    {
     "name": "stdout",
     "output_type": "stream",
     "text": [
      "Epoch 1/100\n",
      "251/251 [==============================] - 2s 4ms/step - loss: 277.0341 - val_loss: 78.1977\n",
      "Epoch 2/100\n",
      "251/251 [==============================] - 1s 4ms/step - loss: 30.5294 - val_loss: 57.2179\n",
      "Epoch 3/100\n",
      "251/251 [==============================] - 1s 4ms/step - loss: 27.1481 - val_loss: 91.9540\n",
      "Epoch 4/100\n",
      "251/251 [==============================] - 1s 4ms/step - loss: 26.3836 - val_loss: 81.8510\n",
      "Epoch 5/100\n",
      "251/251 [==============================] - 1s 3ms/step - loss: 26.5620 - val_loss: 337.0621\n",
      "Epoch 6/100\n",
      "251/251 [==============================] - 1s 4ms/step - loss: 26.3377 - val_loss: 70.8428\n",
      "Epoch 7/100\n",
      "251/251 [==============================] - 1s 4ms/step - loss: 25.4846 - val_loss: 47.7840\n",
      "Epoch 8/100\n",
      "251/251 [==============================] - 1s 4ms/step - loss: 25.2589 - val_loss: 24.8849\n",
      "Epoch 9/100\n",
      "251/251 [==============================] - 1s 3ms/step - loss: 25.5387 - val_loss: 168.6028\n",
      "Epoch 10/100\n",
      "251/251 [==============================] - 1s 4ms/step - loss: 24.7768 - val_loss: 155.2280\n",
      "Epoch 11/100\n",
      "251/251 [==============================] - 1s 4ms/step - loss: 24.8601 - val_loss: 42.5131\n",
      "Epoch 12/100\n",
      "251/251 [==============================] - 1s 3ms/step - loss: 23.8423 - val_loss: 30.5247\n",
      "Epoch 13/100\n",
      "251/251 [==============================] - 1s 4ms/step - loss: 23.7778 - val_loss: 33.2822\n",
      "Epoch 14/100\n",
      "251/251 [==============================] - 1s 3ms/step - loss: 24.6311 - val_loss: 77.4538\n",
      "Epoch 15/100\n",
      "251/251 [==============================] - 1s 3ms/step - loss: 23.6824 - val_loss: 59.6504\n",
      "Epoch 16/100\n",
      "251/251 [==============================] - 1s 3ms/step - loss: 23.7891 - val_loss: 123.4229\n",
      "Epoch 17/100\n",
      "251/251 [==============================] - 1s 4ms/step - loss: 23.6508 - val_loss: 75.2588\n",
      "Epoch 18/100\n",
      "251/251 [==============================] - 1s 4ms/step - loss: 23.4796 - val_loss: 41.7674\n",
      "Epoch 19/100\n",
      "251/251 [==============================] - 1s 3ms/step - loss: 22.8788 - val_loss: 68.2000\n",
      "Epoch 20/100\n",
      "251/251 [==============================] - 1s 3ms/step - loss: 22.6143 - val_loss: 102.7430\n",
      "Epoch 21/100\n",
      "251/251 [==============================] - 1s 3ms/step - loss: 22.5899 - val_loss: 71.3241\n",
      "Epoch 22/100\n",
      "251/251 [==============================] - 1s 3ms/step - loss: 22.8113 - val_loss: 80.3939\n",
      "Epoch 23/100\n",
      "251/251 [==============================] - 1s 3ms/step - loss: 22.5932 - val_loss: 58.2865\n",
      "Epoch 24/100\n",
      "251/251 [==============================] - 1s 3ms/step - loss: 22.6284 - val_loss: 57.8804\n",
      "Epoch 25/100\n",
      "251/251 [==============================] - 1s 3ms/step - loss: 21.8620 - val_loss: 43.5476\n",
      "Epoch 26/100\n",
      "251/251 [==============================] - 1s 4ms/step - loss: 21.8275 - val_loss: 36.3164\n",
      "Epoch 27/100\n",
      "251/251 [==============================] - 1s 3ms/step - loss: 21.4764 - val_loss: 31.2272\n",
      "Epoch 28/100\n",
      "251/251 [==============================] - 1s 3ms/step - loss: 21.6902 - val_loss: 51.0788\n",
      "Epoch 29/100\n",
      "251/251 [==============================] - 1s 4ms/step - loss: 21.7702 - val_loss: 75.9483\n",
      "Epoch 30/100\n",
      "251/251 [==============================] - 1s 3ms/step - loss: 21.4258 - val_loss: 48.0715\n",
      "Epoch 31/100\n",
      "251/251 [==============================] - 1s 4ms/step - loss: 21.5879 - val_loss: 46.9309\n",
      "Epoch 32/100\n",
      "251/251 [==============================] - 1s 3ms/step - loss: 21.1642 - val_loss: 71.6343\n",
      "Epoch 33/100\n",
      "251/251 [==============================] - 1s 3ms/step - loss: 21.2132 - val_loss: 75.6839\n",
      "Epoch 34/100\n",
      "251/251 [==============================] - 1s 4ms/step - loss: 21.1487 - val_loss: 42.8022\n",
      "Epoch 35/100\n",
      "251/251 [==============================] - 1s 3ms/step - loss: 21.1994 - val_loss: 51.6482\n",
      "Epoch 36/100\n",
      "251/251 [==============================] - 1s 3ms/step - loss: 21.1246 - val_loss: 34.4222\n",
      "Epoch 37/100\n",
      "251/251 [==============================] - 1s 3ms/step - loss: 20.9520 - val_loss: 45.5574\n",
      "Epoch 38/100\n",
      "251/251 [==============================] - 1s 3ms/step - loss: 21.2362 - val_loss: 87.2244\n",
      "Epoch 39/100\n",
      "251/251 [==============================] - 1s 3ms/step - loss: 21.0151 - val_loss: 21.1183\n",
      "Epoch 40/100\n",
      "251/251 [==============================] - 1s 3ms/step - loss: 21.0286 - val_loss: 27.5922\n",
      "Epoch 41/100\n",
      "251/251 [==============================] - 1s 3ms/step - loss: 20.6190 - val_loss: 84.6812\n",
      "Epoch 42/100\n",
      "251/251 [==============================] - 1s 3ms/step - loss: 20.7202 - val_loss: 48.8884\n",
      "Epoch 43/100\n",
      "251/251 [==============================] - 1s 3ms/step - loss: 20.8783 - val_loss: 30.0216\n",
      "Epoch 44/100\n",
      "251/251 [==============================] - 1s 3ms/step - loss: 20.8085 - val_loss: 59.6218\n",
      "Epoch 45/100\n",
      " 15/251 [>.............................] - ETA: 0s - loss: 18.8025"
     ]
    }
   ],
   "source": [
    "# Regression Example With Boston Dataset: Baseline\n",
    "from pandas import read_csv\n",
    "from tensorflow.keras.models import Sequential\n",
    "from tensorflow.keras.layers import Dense,BatchNormalization \n",
    " \n",
    "# define base model\n",
    " \n",
    "model = Sequential()\n",
    "model.add(Dense(128, input_shape=(20,), kernel_initializer='normal', activation='relu'))\n",
    "model.add(Dense(64,  kernel_initializer='normal', activation='relu'))\n",
    "model.add(Dense(32,  kernel_initializer='normal', activation='relu'))\n",
    "model.add(Dense(32, kernel_initializer='normal', activation='relu'))\n",
    "model.add(Dense(8, kernel_initializer='normal', activation='relu'))\n",
    "model.add(Dense(1, kernel_initializer='normal'))\n",
    "# Compile model\n",
    "model.compile(loss='mean_squared_error', optimizer='adam') \n",
    "\n",
    "# model.fit(np.array(interaction.transform(X_train)).astype(np.float32), y_train.astype(np.float32),epochs=200,batch_size=50,validation_split=0.2)\n",
    "# ypred=model.predict(np.array(interaction.transform(X_test)).astype(np.float32))\n",
    "# ypred=[round(y) for y in ypred.ravel()]\n",
    "\n",
    "history=model.fit(np.array((X_train)).astype(np.float32), y_train.astype(np.float32),epochs=100,batch_size=100,validation_split=0.2)\n",
    "ypred=model.predict(np.array((X_test)).astype(np.float32))\n",
    "ypred=[round(y) for y in ypred.ravel()]\n",
    "\n",
    "\n",
    "print(\"MAP=\",metrics.mean_absolute_percentage_error(y_test, ypred),\"\\nRMSE=\",metrics.mean_squared_error(y_test, ypred)**0.5)\n",
    "plt.plot(y_test,y_test,c='r')\n",
    "plt.scatter(y_test,ypred,c='k')\n",
    "plt.xlabel(\"True NEH\")\n",
    "plt.ylabel(\"Predicted NEH\")"
   ]
  },
  {
   "cell_type": "code",
   "execution_count": 10,
   "id": "1b520dbc",
   "metadata": {},
   "outputs": [
    {
     "data": {
      "text/plain": [
       "(31320, 6195)"
      ]
     },
     "execution_count": 10,
     "metadata": {},
     "output_type": "execute_result"
    }
   ],
   "source": [
    "np.array(interaction.transform(X_train)).shape"
   ]
  },
  {
   "cell_type": "code",
   "execution_count": 11,
   "id": "a214cc91",
   "metadata": {},
   "outputs": [
    {
     "data": {
      "text/plain": [
       "(31320, 20)"
      ]
     },
     "execution_count": 11,
     "metadata": {},
     "output_type": "execute_result"
    }
   ],
   "source": [
    "((X_train)).shape"
   ]
  },
  {
   "cell_type": "code",
   "execution_count": 25,
   "id": "b2770f06",
   "metadata": {},
   "outputs": [
    {
     "name": "stdout",
     "output_type": "stream",
     "text": [
      "MAP= 0.13018964692529486 \n",
      "RMSE= 4.606580866764197\n"
     ]
    },
    {
     "data": {
      "text/plain": [
       "Text(0, 0.5, 'Predicted NEH')"
      ]
     },
     "execution_count": 25,
     "metadata": {},
     "output_type": "execute_result"
    },
    {
     "data": {
      "image/png": "[encoded data removed]",
      "text/plain": [
       "<Figure size 432x288 with 1 Axes>"
      ]
     },
     "metadata": {
      "needs_background": "light"
     },
     "output_type": "display_data"
    }
   ],
   "source": [
    "\n"
   ]
  },
  {
   "cell_type": "code",
   "execution_count": null,
   "id": "16f49c87",
   "metadata": {},
   "outputs": [],
   "source": []
  }
 ],
 "metadata": {
  "kernelspec": {
   "display_name": "Python 3 (ipykernel)",
   "language": "python",
   "name": "python3"
  },
  "language_info": {
   "codemirror_mode": {
    "name": "ipython",
    "version": 3
   },
   "file_extension": ".py",
   "mimetype": "text/x-python",
   "name": "python",
   "nbconvert_exporter": "python",
   "pygments_lexer": "ipython3",
   "version": "3.9.11"
  }
 },
 "nbformat": 4,
 "nbformat_minor": 5
}
