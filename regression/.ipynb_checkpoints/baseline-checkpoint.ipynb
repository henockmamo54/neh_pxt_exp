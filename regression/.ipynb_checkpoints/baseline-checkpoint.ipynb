{
 "cells": [
  {
   "cell_type": "code",
   "execution_count": 1,
   "id": "0d4281da",
   "metadata": {},
   "outputs": [],
   "source": [
    "import os\n",
    "import pandas as pd\n",
    "import numpy as np\n",
    "from matplotlib import pyplot as plt\n",
    "from itertools import combinations"
   ]
  },
  {
   "cell_type": "code",
   "execution_count": 22,
   "id": "f652d857",
   "metadata": {},
   "outputs": [],
   "source": [
    "from sklearn.linear_model import LinearRegression \n",
    "from sklearn.preprocessing import PolynomialFeatures\n",
    "from sklearn.model_selection import train_test_split\n",
    "from sklearn import metrics\n",
    "from sklearn.preprocessing import StandardScaler,minmax_scale"
   ]
  },
  {
   "cell_type": "code",
   "execution_count": 90,
   "id": "ec799abe",
   "metadata": {},
   "outputs": [
    {
     "name": "stdout",
     "output_type": "stream",
     "text": [
      "46747\n"
     ]
    },
    {
     "data": {
      "text/html": [
       "<div>\n",
       "<style scoped>\n",
       "    .dataframe tbody tr th:only-of-type {\n",
       "        vertical-align: middle;\n",
       "    }\n",
       "\n",
       "    .dataframe tbody tr th {\n",
       "        vertical-align: top;\n",
       "    }\n",
       "\n",
       "    .dataframe thead th {\n",
       "        text-align: right;\n",
       "    }\n",
       "</style>\n",
       "<table border=\"1\" class=\"dataframe\">\n",
       "  <thead>\n",
       "    <tr style=\"text-align: right;\">\n",
       "      <th></th>\n",
       "      <th>NEH</th>\n",
       "      <th>px_t</th>\n",
       "      <th>RMSE</th>\n",
       "      <th>fNatIsotopes</th>\n",
       "      <th>fNatIsotopes[0]</th>\n",
       "      <th>current_Exp_isotope_distribution_t0[1]</th>\n",
       "      <th>current_Exp_isotope_distribution_t0[0]</th>\n",
       "      <th>fLabIsotopes[1]</th>\n",
       "      <th>fLabIsotopes[0]</th>\n",
       "      <th>current_Exp_isotope_distribution[1]</th>\n",
       "      <th>current_Exp_isotope_distribution[0]</th>\n",
       "      <th>NumberOfHydrogens</th>\n",
       "      <th>PeptideSeq</th>\n",
       "      <th>SeqMass</th>\n",
       "      <th>Charge</th>\n",
       "      <th>Exp_time</th>\n",
       "    </tr>\n",
       "  </thead>\n",
       "  <tbody>\n",
       "    <tr>\n",
       "      <th>0</th>\n",
       "      <td>41</td>\n",
       "      <td>0.038559</td>\n",
       "      <td>0.113513</td>\n",
       "      <td>0.35096</td>\n",
       "      <td>0.38286</td>\n",
       "      <td>0.357849</td>\n",
       "      <td>0.392492</td>\n",
       "      <td>0.195546</td>\n",
       "      <td>0.076339</td>\n",
       "      <td>0.321954</td>\n",
       "      <td>0.273909</td>\n",
       "      <td>106</td>\n",
       "      <td>HEEQPAPAYEVHNR</td>\n",
       "      <td>559.59735</td>\n",
       "      <td>3</td>\n",
       "      <td>1</td>\n",
       "    </tr>\n",
       "    <tr>\n",
       "      <th>1</th>\n",
       "      <td>20</td>\n",
       "      <td>0.038559</td>\n",
       "      <td>0.088737</td>\n",
       "      <td>0.34844</td>\n",
       "      <td>0.42956</td>\n",
       "      <td>0.357914</td>\n",
       "      <td>0.449484</td>\n",
       "      <td>0.315642</td>\n",
       "      <td>0.195622</td>\n",
       "      <td>0.366433</td>\n",
       "      <td>0.371541</td>\n",
       "      <td>108</td>\n",
       "      <td>EEAVLFLLDLPK</td>\n",
       "      <td>693.89758</td>\n",
       "      <td>2</td>\n",
       "      <td>1</td>\n",
       "    </tr>\n",
       "    <tr>\n",
       "      <th>2</th>\n",
       "      <td>41</td>\n",
       "      <td>0.044796</td>\n",
       "      <td>0.105019</td>\n",
       "      <td>0.35096</td>\n",
       "      <td>0.38286</td>\n",
       "      <td>0.357849</td>\n",
       "      <td>0.392492</td>\n",
       "      <td>0.166025</td>\n",
       "      <td>0.058458</td>\n",
       "      <td>0.318667</td>\n",
       "      <td>0.215905</td>\n",
       "      <td>106</td>\n",
       "      <td>HEEQPAPAYEVHNR</td>\n",
       "      <td>559.59735</td>\n",
       "      <td>3</td>\n",
       "      <td>2</td>\n",
       "    </tr>\n",
       "    <tr>\n",
       "      <th>3</th>\n",
       "      <td>20</td>\n",
       "      <td>0.044796</td>\n",
       "      <td>0.070483</td>\n",
       "      <td>0.34844</td>\n",
       "      <td>0.42956</td>\n",
       "      <td>0.357914</td>\n",
       "      <td>0.449484</td>\n",
       "      <td>0.300447</td>\n",
       "      <td>0.171743</td>\n",
       "      <td>0.382896</td>\n",
       "      <td>0.2872</td>\n",
       "      <td>108</td>\n",
       "      <td>EEAVLFLLDLPK</td>\n",
       "      <td>693.89758</td>\n",
       "      <td>2</td>\n",
       "      <td>2</td>\n",
       "    </tr>\n",
       "    <tr>\n",
       "      <th>4</th>\n",
       "      <td>41</td>\n",
       "      <td>0.045805</td>\n",
       "      <td>0.089191</td>\n",
       "      <td>0.35096</td>\n",
       "      <td>0.38286</td>\n",
       "      <td>0.357849</td>\n",
       "      <td>0.392492</td>\n",
       "      <td>0.161525</td>\n",
       "      <td>0.055979</td>\n",
       "      <td>0.241553</td>\n",
       "      <td>0.216441</td>\n",
       "      <td>106</td>\n",
       "      <td>HEEQPAPAYEVHNR</td>\n",
       "      <td>559.59735</td>\n",
       "      <td>3</td>\n",
       "      <td>3</td>\n",
       "    </tr>\n",
       "  </tbody>\n",
       "</table>\n",
       "</div>"
      ],
      "text/plain": [
       "  NEH      px_t      RMSE fNatIsotopes fNatIsotopes[0]  \\\n",
       "0  41  0.038559  0.113513      0.35096         0.38286   \n",
       "1  20  0.038559  0.088737      0.34844         0.42956   \n",
       "2  41  0.044796  0.105019      0.35096         0.38286   \n",
       "3  20  0.044796  0.070483      0.34844         0.42956   \n",
       "4  41  0.045805  0.089191      0.35096         0.38286   \n",
       "\n",
       "  current_Exp_isotope_distribution_t0[1]  \\\n",
       "0                               0.357849   \n",
       "1                               0.357914   \n",
       "2                               0.357849   \n",
       "3                               0.357914   \n",
       "4                               0.357849   \n",
       "\n",
       "  current_Exp_isotope_distribution_t0[0] fLabIsotopes[1] fLabIsotopes[0]  \\\n",
       "0                               0.392492        0.195546        0.076339   \n",
       "1                               0.449484        0.315642        0.195622   \n",
       "2                               0.392492        0.166025        0.058458   \n",
       "3                               0.449484        0.300447        0.171743   \n",
       "4                               0.392492        0.161525        0.055979   \n",
       "\n",
       "  current_Exp_isotope_distribution[1] current_Exp_isotope_distribution[0]  \\\n",
       "0                            0.321954                            0.273909   \n",
       "1                            0.366433                            0.371541   \n",
       "2                            0.318667                            0.215905   \n",
       "3                            0.382896                              0.2872   \n",
       "4                            0.241553                            0.216441   \n",
       "\n",
       "  NumberOfHydrogens      PeptideSeq    SeqMass Charge Exp_time  \n",
       "0               106  HEEQPAPAYEVHNR  559.59735      3        1  \n",
       "1               108    EEAVLFLLDLPK  693.89758      2        1  \n",
       "2               106  HEEQPAPAYEVHNR  559.59735      3        2  \n",
       "3               108    EEAVLFLLDLPK  693.89758      2        2  \n",
       "4               106  HEEQPAPAYEVHNR  559.59735      3        3  "
      ]
     },
     "execution_count": 90,
     "metadata": {},
     "output_type": "execute_result"
    }
   ],
   "source": [
    "path=\"data2/\"\n",
    "files=os.listdir(path) \n",
    "data=pd.DataFrame()\n",
    "for f in files:\n",
    "    temp=pd.read_csv(path+f)\n",
    "    data=pd.concat([temp,data]) \n",
    "print(data.shape[0])\n",
    "data.head()"
   ]
  },
  {
   "cell_type": "code",
   "execution_count": 91,
   "id": "c99f8d17",
   "metadata": {},
   "outputs": [
    {
     "data": {
      "text/plain": [
       "Index(['NEH', 'px_t', 'RMSE', 'fNatIsotopes', 'fNatIsotopes[0]',\n",
       "       'current_Exp_isotope_distribution_t0[1]',\n",
       "       'current_Exp_isotope_distribution_t0[0]', 'fLabIsotopes[1]',\n",
       "       'fLabIsotopes[0]', 'current_Exp_isotope_distribution[1]',\n",
       "       'current_Exp_isotope_distribution[0]', 'NumberOfHydrogens',\n",
       "       'PeptideSeq', 'SeqMass', 'Charge', 'Exp_time'],\n",
       "      dtype='object')"
      ]
     },
     "execution_count": 91,
     "metadata": {},
     "output_type": "execute_result"
    }
   ],
   "source": [
    "data.columns"
   ]
  },
  {
   "cell_type": "code",
   "execution_count": 92,
   "id": "68e93e4a",
   "metadata": {},
   "outputs": [],
   "source": [
    "y=data.NEH\n",
    "x= data[['fNatIsotopes', 'fNatIsotopes[0]',\n",
    "       'current_Exp_isotope_distribution_t0[1]',\n",
    "       'current_Exp_isotope_distribution_t0[0]', \n",
    "       'current_Exp_isotope_distribution[1]',\n",
    "       'current_Exp_isotope_distribution[0]', 'NumberOfHydrogens', 'Exp_time'\n",
    "       ]]#'Charge','RMSE', 'fLabIsotopes[1]','fLabIsotopes[0]', \n",
    "# scaler = StandardScaler()\n",
    "# x=scaler.fit_transform(x)"
   ]
  },
  {
   "cell_type": "code",
   "execution_count": 93,
   "id": "bc27a8be",
   "metadata": {},
   "outputs": [],
   "source": [
    "X_train, X_test, y_train, y_test = train_test_split(x, y, test_size=0.33, random_state=42,shuffle=False)"
   ]
  },
  {
   "cell_type": "code",
   "execution_count": 96,
   "id": "f1870003",
   "metadata": {},
   "outputs": [
    {
     "name": "stdout",
     "output_type": "stream",
     "text": [
      "0.1202498914302635 4.510806798531999\n"
     ]
    },
    {
     "data": {
      "text/plain": [
       "Text(0, 0.5, 'Predicted NEH')"
      ]
     },
     "execution_count": 96,
     "metadata": {},
     "output_type": "execute_result"
    },
    {
     "data": {
      "image/png": "[encoded data removed]",
      "text/plain": [
       "<Figure size 432x288 with 1 Axes>"
      ]
     },
     "metadata": {
      "needs_background": "light"
     },
     "output_type": "display_data"
    }
   ],
   "source": [
    "# poly model\n",
    "interaction = PolynomialFeatures(\n",
    "    degree = 4, \n",
    "\tinclude_bias = False, interaction_only = True)\n",
    "interaction_x = interaction.fit_transform(X_train)\n",
    "\n",
    "# linear regression\n",
    "regression = LinearRegression()\n",
    "\n",
    "# Fit the linear regression\n",
    "model = regression.fit(interaction_x, y_train)\n",
    "\n",
    "#predict\n",
    "ypred=model.predict(interaction.transform(X_test))\n",
    "ypred=[round(y) for y in ypred]\n",
    "print(metrics.mean_absolute_percentage_error(y_test, ypred),metrics.mean_squared_error(y_test, ypred)**0.5)\n",
    "plt.scatter(y_test,ypred)\n",
    "plt.xlabel(\"True NEH\")\n",
    "plt.ylabel(\"Predicted NEH\")"
   ]
  },
  {
   "cell_type": "code",
   "execution_count": null,
   "id": "5c7b636a",
   "metadata": {},
   "outputs": [],
   "source": []
  },
  {
   "cell_type": "code",
   "execution_count": 110,
   "id": "d92e1860",
   "metadata": {},
   "outputs": [
    {
     "data": {
      "text/plain": [
       "25.04340124003543"
      ]
     },
     "execution_count": 110,
     "metadata": {},
     "output_type": "execute_result"
    }
   ],
   "source": [
    "from sklearn.svm import SVR\n",
    "\n",
    "svr_rbf = SVR(kernel=\"rbf\", C=100, gamma=0.1, epsilon=0.1)\n",
    "svr_lin = SVR(kernel=\"linear\", C=100, gamma=\"auto\")\n",
    "svr_poly = SVR(kernel=\"poly\", C=100, gamma=\"auto\", degree=3, epsilon=0.1, coef0=1)\n",
    "\n",
    "svr_rbf.fit(X_train, y_train)\n",
    "ypred=svr_rbf.predict(X_test)\n",
    "ypred=[round(y) for y in ypred]\n",
    "metrics.mean_absolute_percentage_error(y_test, ypred)"
   ]
  },
  {
   "cell_type": "code",
   "execution_count": 111,
   "id": "d2f457a9",
   "metadata": {},
   "outputs": [
    {
     "data": {
      "text/plain": [
       "15.87156775907883"
      ]
     },
     "execution_count": 111,
     "metadata": {},
     "output_type": "execute_result"
    }
   ],
   "source": [
    "svr_lin.fit(X_train, y_train)\n",
    "ypred=svr_lin.predict(X_test)\n",
    "ypred=[round(y) for y in ypred]\n",
    "metrics.mean_absolute_percentage_error(y_test, ypred) #mean_squared_error"
   ]
  },
  {
   "cell_type": "code",
   "execution_count": null,
   "id": "a782e71b",
   "metadata": {},
   "outputs": [],
   "source": [
    "svr_poly.fit(X_train, y_train)\n",
    "ypred=svr_poly.predict(X_test)\n",
    "ypred=[round(y) for y in ypred]\n",
    "metrics.mean_absolute_percentage_error(y_test, ypred)"
   ]
  },
  {
   "cell_type": "code",
   "execution_count": 37,
   "id": "bc1c3d90",
   "metadata": {
    "scrolled": false
   },
   "outputs": [
    {
     "name": "stdout",
     "output_type": "stream",
     "text": [
      "0.12972140809380964 4.479804104916127\n"
     ]
    }
   ],
   "source": [
    "import xgboost \n",
    "model = xgboost.XGBRegressor(n_estimators=100, max_depth=7, eta=0.1, subsample=0.7, colsample_bytree=0.8)\n",
    "model.fit(np.array(interaction_x), y_train)\n",
    "ypred=model.predict(np.array(interaction.transform(X_test)))\n",
    "ypred=[round(y) for y in ypred]\n",
    "print(metrics.mean_absolute_percentage_error(y_test, ypred),metrics.mean_squared_error(y_test, ypred)**0.5)"
   ]
  },
  {
   "cell_type": "code",
   "execution_count": null,
   "id": "8cfbe027",
   "metadata": {
    "scrolled": true
   },
   "outputs": [
    {
     "name": "stdout",
     "output_type": "stream",
     "text": [
      "Epoch 1/200\n",
      "502/502 [==============================] - 1s 2ms/step - loss: 71.9823 - val_loss: 28.4861\n",
      "Epoch 2/200\n",
      "502/502 [==============================] - 1s 2ms/step - loss: 30.6184 - val_loss: 28.3836\n",
      "Epoch 3/200\n",
      "502/502 [==============================] - 1s 2ms/step - loss: 29.2097 - val_loss: 28.6659\n",
      "Epoch 4/200\n",
      "502/502 [==============================] - 1s 2ms/step - loss: 27.8969 - val_loss: 41.6386\n",
      "Epoch 5/200\n",
      "502/502 [==============================] - 1s 2ms/step - loss: 27.7417 - val_loss: 25.9086\n",
      "Epoch 6/200\n",
      "502/502 [==============================] - 1s 2ms/step - loss: 27.2193 - val_loss: 34.4510\n",
      "Epoch 7/200\n",
      "502/502 [==============================] - 1s 2ms/step - loss: 26.4323 - val_loss: 25.9173\n",
      "Epoch 8/200\n",
      "502/502 [==============================] - 1s 2ms/step - loss: 25.5499 - val_loss: 24.3667\n",
      "Epoch 9/200\n",
      "502/502 [==============================] - 1s 2ms/step - loss: 25.3765 - val_loss: 23.4384\n",
      "Epoch 10/200\n",
      "502/502 [==============================] - 1s 2ms/step - loss: 25.0085 - val_loss: 26.1234\n",
      "Epoch 11/200\n",
      "502/502 [==============================] - 1s 2ms/step - loss: 24.8064 - val_loss: 23.8648\n",
      "Epoch 12/200\n",
      "502/502 [==============================] - 1s 2ms/step - loss: 24.7237 - val_loss: 28.6516\n",
      "Epoch 13/200\n",
      "502/502 [==============================] - 1s 2ms/step - loss: 24.3135 - val_loss: 23.9095\n",
      "Epoch 14/200\n",
      "502/502 [==============================] - 1s 2ms/step - loss: 23.9102 - val_loss: 23.5238\n",
      "Epoch 15/200\n",
      "502/502 [==============================] - 1s 2ms/step - loss: 23.9459 - val_loss: 22.5582\n",
      "Epoch 16/200\n",
      "502/502 [==============================] - 1s 2ms/step - loss: 23.5526 - val_loss: 22.9246\n",
      "Epoch 17/200\n",
      "502/502 [==============================] - 1s 2ms/step - loss: 23.5749 - val_loss: 23.8054\n",
      "Epoch 18/200\n",
      "502/502 [==============================] - 1s 2ms/step - loss: 23.7600 - val_loss: 22.7609\n",
      "Epoch 19/200\n",
      "502/502 [==============================] - 1s 2ms/step - loss: 23.7988 - val_loss: 24.7267\n",
      "Epoch 20/200\n",
      "502/502 [==============================] - 1s 2ms/step - loss: 23.3014 - val_loss: 23.3614\n",
      "Epoch 21/200\n",
      "502/502 [==============================] - 1s 2ms/step - loss: 23.2652 - val_loss: 23.0261\n",
      "Epoch 22/200\n",
      "502/502 [==============================] - 1s 2ms/step - loss: 23.2688 - val_loss: 23.3486\n",
      "Epoch 23/200\n",
      "502/502 [==============================] - 1s 2ms/step - loss: 23.0814 - val_loss: 22.6274\n",
      "Epoch 24/200\n",
      "502/502 [==============================] - 1s 2ms/step - loss: 22.8618 - val_loss: 24.3825\n",
      "Epoch 25/200\n",
      "502/502 [==============================] - 1s 2ms/step - loss: 23.0822 - val_loss: 22.1962\n",
      "Epoch 26/200\n",
      "502/502 [==============================] - 1s 2ms/step - loss: 23.1143 - val_loss: 24.2414\n",
      "Epoch 27/200\n",
      "502/502 [==============================] - 1s 2ms/step - loss: 23.2915 - val_loss: 23.0660\n",
      "Epoch 28/200\n",
      "502/502 [==============================] - 1s 2ms/step - loss: 22.9349 - val_loss: 23.7658\n",
      "Epoch 29/200\n",
      "502/502 [==============================] - 1s 2ms/step - loss: 22.8646 - val_loss: 23.2632\n",
      "Epoch 30/200\n",
      "502/502 [==============================] - 1s 2ms/step - loss: 22.8830 - val_loss: 23.5926\n",
      "Epoch 31/200\n",
      "502/502 [==============================] - 1s 1ms/step - loss: 22.7107 - val_loss: 23.9578\n",
      "Epoch 32/200\n",
      "502/502 [==============================] - 1s 2ms/step - loss: 22.6021 - val_loss: 23.1553\n",
      "Epoch 33/200\n",
      "502/502 [==============================] - 1s 2ms/step - loss: 22.8215 - val_loss: 23.7321\n",
      "Epoch 34/200\n",
      "502/502 [==============================] - 1s 2ms/step - loss: 22.8040 - val_loss: 24.8752\n",
      "Epoch 35/200\n",
      "502/502 [==============================] - 1s 2ms/step - loss: 23.1189 - val_loss: 21.8438\n",
      "Epoch 36/200\n",
      "502/502 [==============================] - 1s 1ms/step - loss: 22.6243 - val_loss: 22.3977\n",
      "Epoch 37/200\n",
      "502/502 [==============================] - 1s 2ms/step - loss: 22.8352 - val_loss: 23.6757\n",
      "Epoch 38/200\n",
      "502/502 [==============================] - 1s 2ms/step - loss: 22.6304 - val_loss: 22.0097\n",
      "Epoch 39/200\n",
      "502/502 [==============================] - 1s 2ms/step - loss: 22.6256 - val_loss: 22.8877\n",
      "Epoch 40/200\n",
      "502/502 [==============================] - 1s 2ms/step - loss: 22.6115 - val_loss: 26.7250\n",
      "Epoch 41/200\n",
      "502/502 [==============================] - 1s 2ms/step - loss: 22.4448 - val_loss: 22.6963\n",
      "Epoch 42/200\n",
      "502/502 [==============================] - 1s 2ms/step - loss: 22.3744 - val_loss: 21.7304\n",
      "Epoch 43/200\n",
      "502/502 [==============================] - 1s 2ms/step - loss: 22.5467 - val_loss: 25.7499\n",
      "Epoch 44/200\n",
      "502/502 [==============================] - 1s 2ms/step - loss: 22.4496 - val_loss: 21.6181\n",
      "Epoch 45/200\n",
      "502/502 [==============================] - 1s 2ms/step - loss: 22.1583 - val_loss: 21.7064\n",
      "Epoch 46/200\n",
      "502/502 [==============================] - 1s 1ms/step - loss: 22.6794 - val_loss: 23.9522\n",
      "Epoch 47/200\n",
      "502/502 [==============================] - 1s 2ms/step - loss: 22.3583 - val_loss: 23.4175\n",
      "Epoch 48/200\n",
      "502/502 [==============================] - 1s 1ms/step - loss: 22.3416 - val_loss: 22.4024\n",
      "Epoch 49/200\n",
      "502/502 [==============================] - 1s 2ms/step - loss: 22.2424 - val_loss: 21.7545\n",
      "Epoch 50/200\n",
      "502/502 [==============================] - 1s 1ms/step - loss: 22.3556 - val_loss: 22.1141\n",
      "Epoch 51/200\n",
      "502/502 [==============================] - 1s 2ms/step - loss: 22.3163 - val_loss: 22.2328\n",
      "Epoch 52/200\n",
      "502/502 [==============================] - 1s 2ms/step - loss: 22.0781 - val_loss: 23.6388\n",
      "Epoch 53/200\n",
      "502/502 [==============================] - 1s 2ms/step - loss: 22.1378 - val_loss: 22.8828\n",
      "Epoch 54/200\n",
      "502/502 [==============================] - 1s 2ms/step - loss: 21.9709 - val_loss: 21.5246\n",
      "Epoch 55/200\n",
      "502/502 [==============================] - 1s 2ms/step - loss: 22.3285 - val_loss: 22.1342\n",
      "Epoch 56/200\n",
      "502/502 [==============================] - 1s 2ms/step - loss: 21.9179 - val_loss: 27.7896\n",
      "Epoch 57/200\n",
      "502/502 [==============================] - 1s 2ms/step - loss: 22.0470 - val_loss: 22.9360\n",
      "Epoch 58/200\n",
      "502/502 [==============================] - 1s 2ms/step - loss: 21.8485 - val_loss: 23.5664\n",
      "Epoch 59/200\n",
      "502/502 [==============================] - 1s 2ms/step - loss: 21.8933 - val_loss: 22.4414\n",
      "Epoch 60/200\n",
      "502/502 [==============================] - 1s 2ms/step - loss: 22.1193 - val_loss: 22.0983\n",
      "Epoch 61/200\n",
      "502/502 [==============================] - 1s 2ms/step - loss: 21.9166 - val_loss: 22.1419\n",
      "Epoch 62/200\n",
      "502/502 [==============================] - 1s 2ms/step - loss: 21.9174 - val_loss: 22.2358\n",
      "Epoch 63/200\n",
      "502/502 [==============================] - 1s 2ms/step - loss: 22.1949 - val_loss: 23.2024\n",
      "Epoch 64/200\n",
      "502/502 [==============================] - 1s 2ms/step - loss: 21.8296 - val_loss: 22.8468\n",
      "Epoch 65/200\n",
      "502/502 [==============================] - 1s 2ms/step - loss: 21.8259 - val_loss: 23.0819\n",
      "Epoch 66/200\n",
      "502/502 [==============================] - 1s 2ms/step - loss: 21.9865 - val_loss: 21.5972\n",
      "Epoch 67/200\n",
      "502/502 [==============================] - 1s 2ms/step - loss: 21.6558 - val_loss: 23.8562\n",
      "Epoch 68/200\n",
      "502/502 [==============================] - 1s 2ms/step - loss: 21.8526 - val_loss: 22.2548\n",
      "Epoch 69/200\n",
      "502/502 [==============================] - 1s 2ms/step - loss: 21.8537 - val_loss: 22.9358\n",
      "Epoch 70/200\n",
      "502/502 [==============================] - 1s 2ms/step - loss: 21.8477 - val_loss: 22.0257\n",
      "Epoch 71/200\n",
      "502/502 [==============================] - 1s 2ms/step - loss: 21.7681 - val_loss: 22.9892\n",
      "Epoch 72/200\n",
      "502/502 [==============================] - 1s 2ms/step - loss: 21.8688 - val_loss: 21.7510\n",
      "Epoch 73/200\n",
      "502/502 [==============================] - 1s 2ms/step - loss: 21.7254 - val_loss: 23.4368\n",
      "Epoch 74/200\n",
      "502/502 [==============================] - 1s 2ms/step - loss: 21.7343 - val_loss: 22.1316\n",
      "Epoch 75/200\n",
      "502/502 [==============================] - 1s 2ms/step - loss: 21.7338 - val_loss: 27.9683\n",
      "Epoch 76/200\n",
      "502/502 [==============================] - 1s 2ms/step - loss: 21.8187 - val_loss: 22.5076\n",
      "Epoch 77/200\n",
      "502/502 [==============================] - 1s 2ms/step - loss: 21.7581 - val_loss: 22.4158\n",
      "Epoch 78/200\n",
      "502/502 [==============================] - 1s 2ms/step - loss: 21.7580 - val_loss: 21.3177\n",
      "Epoch 79/200\n",
      "502/502 [==============================] - 1s 2ms/step - loss: 21.8451 - val_loss: 21.8256\n"
     ]
    },
    {
     "name": "stdout",
     "output_type": "stream",
     "text": [
      "Epoch 80/200\n",
      "502/502 [==============================] - 1s 2ms/step - loss: 21.6753 - val_loss: 22.8059\n",
      "Epoch 81/200\n",
      "502/502 [==============================] - 1s 2ms/step - loss: 21.8095 - val_loss: 24.3547\n",
      "Epoch 82/200\n",
      "502/502 [==============================] - 1s 2ms/step - loss: 21.7019 - val_loss: 22.1376\n",
      "Epoch 83/200\n",
      "502/502 [==============================] - 1s 2ms/step - loss: 21.6613 - val_loss: 22.6040\n",
      "Epoch 84/200\n",
      "502/502 [==============================] - 1s 2ms/step - loss: 21.6716 - val_loss: 22.4636\n",
      "Epoch 85/200\n",
      "502/502 [==============================] - 1s 2ms/step - loss: 21.7220 - val_loss: 21.3741\n",
      "Epoch 86/200\n",
      "425/502 [========================>.....] - ETA: 0s - loss: 21.6868"
     ]
    }
   ],
   "source": [
    "# Regression Example With Boston Dataset: Baseline\n",
    "from pandas import read_csv\n",
    "from tensorflow.keras.models import Sequential\n",
    "from tensorflow.keras.layers import Dense \n",
    " \n",
    "# define base model\n",
    " \n",
    "model = Sequential()\n",
    "model.add(Dense(128, input_shape=(162,), kernel_initializer='normal', activation='relu'))\n",
    "model.add(Dense(64,  kernel_initializer='normal', activation='relu'))\n",
    "model.add(Dense(32,  kernel_initializer='normal', activation='relu'))\n",
    "model.add(Dense(16, kernel_initializer='normal', activation='relu'))\n",
    "model.add(Dense(1, kernel_initializer='normal'))\n",
    "# Compile model\n",
    "model.compile(loss='mean_squared_error', optimizer='adam') \n",
    "\n",
    "model.fit(np.array(interaction.transform(X_train)).astype(np.float32), y_train.astype(np.float32),epochs=200,batch_size=50,validation_split=0.2)\n",
    "ypred=model.predict(np.array(interaction.transform(X_test)).astype(np.float32))\n",
    "# ypred=[round(y) for y in ypred.ravel()]\n",
    "\n",
    "\n",
    "print(metrics.mean_absolute_percentage_error(y_test, ypred),metrics.mean_squared_error(y_test, ypred)**0.5)\n",
    "\n",
    "plt.scatter(y_test,ypred)\n",
    "plt.xlabel(\"True NEH\")\n",
    "plt.ylabel(\"Predicted NEH\")"
   ]
  },
  {
   "cell_type": "code",
   "execution_count": null,
   "id": "72c74085",
   "metadata": {},
   "outputs": [],
   "source": []
  },
  {
   "cell_type": "code",
   "execution_count": null,
   "id": "dfbfb2c5",
   "metadata": {},
   "outputs": [],
   "source": []
  }
 ],
 "metadata": {
  "kernelspec": {
   "display_name": "Python 3 (ipykernel)",
   "language": "python",
   "name": "python3"
  },
  "language_info": {
   "codemirror_mode": {
    "name": "ipython",
    "version": 3
   },
   "file_extension": ".py",
   "mimetype": "text/x-python",
   "name": "python",
   "nbconvert_exporter": "python",
   "pygments_lexer": "ipython3",
   "version": "3.9.11"
  }
 },
 "nbformat": 4,
 "nbformat_minor": 5
}
