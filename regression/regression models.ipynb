{
 "cells": [
  {
   "cell_type": "code",
   "execution_count": 1,
   "id": "d1f5570b",
   "metadata": {},
   "outputs": [],
   "source": [
    "import os\n",
    "import pandas as pd\n",
    "import numpy as np\n",
    "from matplotlib import pyplot as plt\n",
    "from itertools import combinations"
   ]
  },
  {
   "cell_type": "code",
   "execution_count": 2,
   "id": "6754488c",
   "metadata": {},
   "outputs": [],
   "source": [
    "from sklearn.linear_model import LinearRegression \n",
    "from sklearn.preprocessing import PolynomialFeatures\n",
    "from sklearn.model_selection import train_test_split\n",
    "from sklearn import metrics\n",
    "from sklearn.preprocessing import StandardScaler,minmax_scale"
   ]
  },
  {
   "cell_type": "code",
   "execution_count": 3,
   "id": "46308ce5",
   "metadata": {},
   "outputs": [
    {
     "name": "stdout",
     "output_type": "stream",
     "text": [
      "46747\n"
     ]
    },
    {
     "data": {
      "text/html": [
       "<div>\n",
       "<style scoped>\n",
       "    .dataframe tbody tr th:only-of-type {\n",
       "        vertical-align: middle;\n",
       "    }\n",
       "\n",
       "    .dataframe tbody tr th {\n",
       "        vertical-align: top;\n",
       "    }\n",
       "\n",
       "    .dataframe thead th {\n",
       "        text-align: right;\n",
       "    }\n",
       "</style>\n",
       "<table border=\"1\" class=\"dataframe\">\n",
       "  <thead>\n",
       "    <tr style=\"text-align: right;\">\n",
       "      <th></th>\n",
       "      <th>NEH</th>\n",
       "      <th>px_t</th>\n",
       "      <th>RMSE</th>\n",
       "      <th>fNatIsotopes0</th>\n",
       "      <th>fNatIsotopes1</th>\n",
       "      <th>fNatIsotopes2</th>\n",
       "      <th>fNatIsotopes3</th>\n",
       "      <th>fNatIsotopes4</th>\n",
       "      <th>fNatIsotopes5</th>\n",
       "      <th>current_Exp_isotope_distribution_t0[0]</th>\n",
       "      <th>...</th>\n",
       "      <th>current_Exp_isotope_distribution[1]</th>\n",
       "      <th>current_Exp_isotope_distribution[2]</th>\n",
       "      <th>current_Exp_isotope_distribution[3]</th>\n",
       "      <th>current_Exp_isotope_distribution[4]</th>\n",
       "      <th>current_Exp_isotope_distribution[5]</th>\n",
       "      <th>NumberOfHydrogens</th>\n",
       "      <th>PeptideSeq</th>\n",
       "      <th>SeqMass</th>\n",
       "      <th>Charge</th>\n",
       "      <th>Exp_time</th>\n",
       "    </tr>\n",
       "  </thead>\n",
       "  <tbody>\n",
       "    <tr>\n",
       "      <th>0</th>\n",
       "      <td>41</td>\n",
       "      <td>0.038559</td>\n",
       "      <td>0.113513</td>\n",
       "      <td>0.38286</td>\n",
       "      <td>0.35096</td>\n",
       "      <td>0.1775</td>\n",
       "      <td>0.06441</td>\n",
       "      <td>0.0186</td>\n",
       "      <td>0.00452</td>\n",
       "      <td>0.392492</td>\n",
       "      <td>...</td>\n",
       "      <td>0.321954</td>\n",
       "      <td>0.217297</td>\n",
       "      <td>0.129999</td>\n",
       "      <td>0.032904</td>\n",
       "      <td>0.023937</td>\n",
       "      <td>106</td>\n",
       "      <td>HEEQPAPAYEVHNR</td>\n",
       "      <td>559.59735</td>\n",
       "      <td>3</td>\n",
       "      <td>1</td>\n",
       "    </tr>\n",
       "    <tr>\n",
       "      <th>1</th>\n",
       "      <td>20</td>\n",
       "      <td>0.038559</td>\n",
       "      <td>0.088737</td>\n",
       "      <td>0.42956</td>\n",
       "      <td>0.34844</td>\n",
       "      <td>0.15587</td>\n",
       "      <td>0.05002</td>\n",
       "      <td>0.01277</td>\n",
       "      <td>0.00274</td>\n",
       "      <td>0.449484</td>\n",
       "      <td>...</td>\n",
       "      <td>0.366433</td>\n",
       "      <td>0.18427</td>\n",
       "      <td>0.074455</td>\n",
       "      <td>0.003301</td>\n",
       "      <td>0.0</td>\n",
       "      <td>108</td>\n",
       "      <td>EEAVLFLLDLPK</td>\n",
       "      <td>693.89758</td>\n",
       "      <td>2</td>\n",
       "      <td>1</td>\n",
       "    </tr>\n",
       "    <tr>\n",
       "      <th>2</th>\n",
       "      <td>41</td>\n",
       "      <td>0.044796</td>\n",
       "      <td>0.105019</td>\n",
       "      <td>0.38286</td>\n",
       "      <td>0.35096</td>\n",
       "      <td>0.1775</td>\n",
       "      <td>0.06441</td>\n",
       "      <td>0.0186</td>\n",
       "      <td>0.00452</td>\n",
       "      <td>0.392492</td>\n",
       "      <td>...</td>\n",
       "      <td>0.318667</td>\n",
       "      <td>0.224858</td>\n",
       "      <td>0.141909</td>\n",
       "      <td>0.07285</td>\n",
       "      <td>0.02581</td>\n",
       "      <td>106</td>\n",
       "      <td>HEEQPAPAYEVHNR</td>\n",
       "      <td>559.59735</td>\n",
       "      <td>3</td>\n",
       "      <td>2</td>\n",
       "    </tr>\n",
       "    <tr>\n",
       "      <th>3</th>\n",
       "      <td>20</td>\n",
       "      <td>0.044796</td>\n",
       "      <td>0.070483</td>\n",
       "      <td>0.42956</td>\n",
       "      <td>0.34844</td>\n",
       "      <td>0.15587</td>\n",
       "      <td>0.05002</td>\n",
       "      <td>0.01277</td>\n",
       "      <td>0.00274</td>\n",
       "      <td>0.449484</td>\n",
       "      <td>...</td>\n",
       "      <td>0.382896</td>\n",
       "      <td>0.220939</td>\n",
       "      <td>0.090148</td>\n",
       "      <td>0.018817</td>\n",
       "      <td>0.0</td>\n",
       "      <td>108</td>\n",
       "      <td>EEAVLFLLDLPK</td>\n",
       "      <td>693.89758</td>\n",
       "      <td>2</td>\n",
       "      <td>2</td>\n",
       "    </tr>\n",
       "    <tr>\n",
       "      <th>4</th>\n",
       "      <td>41</td>\n",
       "      <td>0.045805</td>\n",
       "      <td>0.089191</td>\n",
       "      <td>0.38286</td>\n",
       "      <td>0.35096</td>\n",
       "      <td>0.1775</td>\n",
       "      <td>0.06441</td>\n",
       "      <td>0.0186</td>\n",
       "      <td>0.00452</td>\n",
       "      <td>0.392492</td>\n",
       "      <td>...</td>\n",
       "      <td>0.241553</td>\n",
       "      <td>0.266878</td>\n",
       "      <td>0.164518</td>\n",
       "      <td>0.070825</td>\n",
       "      <td>0.039785</td>\n",
       "      <td>106</td>\n",
       "      <td>HEEQPAPAYEVHNR</td>\n",
       "      <td>559.59735</td>\n",
       "      <td>3</td>\n",
       "      <td>3</td>\n",
       "    </tr>\n",
       "  </tbody>\n",
       "</table>\n",
       "<p>5 rows × 32 columns</p>\n",
       "</div>"
      ],
      "text/plain": [
       "  NEH      px_t      RMSE fNatIsotopes0 fNatIsotopes1 fNatIsotopes2  \\\n",
       "0  41  0.038559  0.113513       0.38286       0.35096        0.1775   \n",
       "1  20  0.038559  0.088737       0.42956       0.34844       0.15587   \n",
       "2  41  0.044796  0.105019       0.38286       0.35096        0.1775   \n",
       "3  20  0.044796  0.070483       0.42956       0.34844       0.15587   \n",
       "4  41  0.045805  0.089191       0.38286       0.35096        0.1775   \n",
       "\n",
       "  fNatIsotopes3 fNatIsotopes4 fNatIsotopes5  \\\n",
       "0       0.06441        0.0186       0.00452   \n",
       "1       0.05002       0.01277       0.00274   \n",
       "2       0.06441        0.0186       0.00452   \n",
       "3       0.05002       0.01277       0.00274   \n",
       "4       0.06441        0.0186       0.00452   \n",
       "\n",
       "  current_Exp_isotope_distribution_t0[0]  ...  \\\n",
       "0                               0.392492  ...   \n",
       "1                               0.449484  ...   \n",
       "2                               0.392492  ...   \n",
       "3                               0.449484  ...   \n",
       "4                               0.392492  ...   \n",
       "\n",
       "  current_Exp_isotope_distribution[1] current_Exp_isotope_distribution[2]  \\\n",
       "0                            0.321954                            0.217297   \n",
       "1                            0.366433                             0.18427   \n",
       "2                            0.318667                            0.224858   \n",
       "3                            0.382896                            0.220939   \n",
       "4                            0.241553                            0.266878   \n",
       "\n",
       "  current_Exp_isotope_distribution[3] current_Exp_isotope_distribution[4]  \\\n",
       "0                            0.129999                            0.032904   \n",
       "1                            0.074455                            0.003301   \n",
       "2                            0.141909                             0.07285   \n",
       "3                            0.090148                            0.018817   \n",
       "4                            0.164518                            0.070825   \n",
       "\n",
       "  current_Exp_isotope_distribution[5] NumberOfHydrogens      PeptideSeq  \\\n",
       "0                            0.023937               106  HEEQPAPAYEVHNR   \n",
       "1                                 0.0               108    EEAVLFLLDLPK   \n",
       "2                             0.02581               106  HEEQPAPAYEVHNR   \n",
       "3                                 0.0               108    EEAVLFLLDLPK   \n",
       "4                            0.039785               106  HEEQPAPAYEVHNR   \n",
       "\n",
       "     SeqMass Charge Exp_time  \n",
       "0  559.59735      3        1  \n",
       "1  693.89758      2        1  \n",
       "2  559.59735      3        2  \n",
       "3  693.89758      2        2  \n",
       "4  559.59735      3        3  \n",
       "\n",
       "[5 rows x 32 columns]"
      ]
     },
     "execution_count": 3,
     "metadata": {},
     "output_type": "execute_result"
    }
   ],
   "source": [
    "path=\"data3/\"\n",
    "files=os.listdir(path) \n",
    "data=pd.DataFrame()\n",
    "for f in files:\n",
    "    temp=pd.read_csv(path+f)\n",
    "    data=pd.concat([temp,data]) \n",
    "print(data.shape[0])\n",
    "data.head()"
   ]
  },
  {
   "cell_type": "code",
   "execution_count": null,
   "id": "9c1be749",
   "metadata": {},
   "outputs": [],
   "source": []
  },
  {
   "cell_type": "code",
   "execution_count": 4,
   "id": "6ab8523a",
   "metadata": {},
   "outputs": [
    {
     "data": {
      "text/plain": [
       "Index(['NEH', 'px_t', 'RMSE', 'fNatIsotopes0', 'fNatIsotopes1',\n",
       "       'fNatIsotopes2', 'fNatIsotopes3', 'fNatIsotopes4', 'fNatIsotopes5',\n",
       "       'current_Exp_isotope_distribution_t0[0]',\n",
       "       'current_Exp_isotope_distribution_t0[1]',\n",
       "       'current_Exp_isotope_distribution_t0[2]',\n",
       "       'current_Exp_isotope_distribution_t0[3]',\n",
       "       'current_Exp_isotope_distribution_t0[4]',\n",
       "       'current_Exp_isotope_distribution_t0[5]', 'fLabIsotopes[0]',\n",
       "       'fLabIsotopes[1]', 'fLabIsotopes[2]', 'fLabIsotopes[3]',\n",
       "       'fLabIsotopes[4]', 'fLabIsotopes[5]',\n",
       "       'current_Exp_isotope_distribution[0]',\n",
       "       'current_Exp_isotope_distribution[1]',\n",
       "       'current_Exp_isotope_distribution[2]',\n",
       "       'current_Exp_isotope_distribution[3]',\n",
       "       'current_Exp_isotope_distribution[4]',\n",
       "       'current_Exp_isotope_distribution[5]', 'NumberOfHydrogens',\n",
       "       'PeptideSeq', 'SeqMass', 'Charge', 'Exp_time'],\n",
       "      dtype='object')"
      ]
     },
     "execution_count": 4,
     "metadata": {},
     "output_type": "execute_result"
    }
   ],
   "source": [
    "data.columns"
   ]
  },
  {
   "cell_type": "code",
   "execution_count": 5,
   "id": "7ecb7ba8",
   "metadata": {},
   "outputs": [],
   "source": [
    "y=data.NEH"
   ]
  },
  {
   "cell_type": "code",
   "execution_count": null,
   "id": "aa7ad552",
   "metadata": {},
   "outputs": [],
   "source": []
  },
  {
   "cell_type": "code",
   "execution_count": 6,
   "id": "40fabade",
   "metadata": {},
   "outputs": [],
   "source": [
    "\n",
    "x= data[['fNatIsotopes0', 'fNatIsotopes1','fNatIsotopes2', 'fNatIsotopes3', 'fNatIsotopes4', 'fNatIsotopes5',\n",
    "         \n",
    "       'current_Exp_isotope_distribution_t0[0]',\n",
    "       'current_Exp_isotope_distribution_t0[1]',\n",
    "       'current_Exp_isotope_distribution_t0[2]',\n",
    "       'current_Exp_isotope_distribution_t0[3]',\n",
    "       'current_Exp_isotope_distribution_t0[4]',\n",
    "       'current_Exp_isotope_distribution_t0[5]', \n",
    "       \n",
    "       'current_Exp_isotope_distribution[0]',\n",
    "       'current_Exp_isotope_distribution[1]',\n",
    "       'current_Exp_isotope_distribution[2]',\n",
    "       'current_Exp_isotope_distribution[3]',\n",
    "       'current_Exp_isotope_distribution[4]',\n",
    "       'current_Exp_isotope_distribution[5]', \n",
    "       \n",
    "       'NumberOfHydrogens',\n",
    "       'Exp_time'\n",
    "       ]]# 'fLabIsotopes[0]','fLabIsotopes[1]', 'fLabIsotopes[2]', 'fLabIsotopes[3]','fLabIsotopes[4]', 'fLabIsotopes[5]','PeptideSeq', 'SeqMass', 'Charge', \n",
    "# scaler = StandardScaler()\n",
    "# x=scaler.fit_transform(x)"
   ]
  },
  {
   "cell_type": "code",
   "execution_count": 7,
   "id": "5d7df021",
   "metadata": {},
   "outputs": [],
   "source": [
    "X_train, X_test, y_train, y_test = train_test_split(x, y, test_size=0.33, random_state=42,shuffle=False)"
   ]
  },
  {
   "cell_type": "code",
   "execution_count": 8,
   "id": "1d18476a",
   "metadata": {},
   "outputs": [
    {
     "name": "stdout",
     "output_type": "stream",
     "text": [
      "0.37562576275083354 108.44636935188038\n"
     ]
    },
    {
     "data": {
      "text/plain": [
       "Text(0, 0.5, 'Predicted NEH')"
      ]
     },
     "execution_count": 8,
     "metadata": {},
     "output_type": "execute_result"
    },
    {
     "data": {
      "image/png": "[encoded data removed]",
      "text/plain": [
       "<Figure size 432x288 with 1 Axes>"
      ]
     },
     "metadata": {
      "needs_background": "light"
     },
     "output_type": "display_data"
    }
   ],
   "source": [
    "# poly model\n",
    "interaction = PolynomialFeatures(\n",
    "    degree = 4, \n",
    "\tinclude_bias = False, interaction_only = True)\n",
    "interaction_x = interaction.fit_transform(X_train)\n",
    "\n",
    "# linear regression\n",
    "regression = LinearRegression()\n",
    "\n",
    "# Fit the linear regression\n",
    "model = regression.fit(interaction_x, y_train)\n",
    "\n",
    "#predict\n",
    "ypred=model.predict(interaction.transform(X_test))\n",
    "ypred=[round(y) for y in ypred]\n",
    "print(metrics.mean_absolute_percentage_error(y_test, ypred),metrics.mean_squared_error(y_test, ypred)**0.5)\n",
    "plt.scatter(y_test,ypred)\n",
    "plt.xlabel(\"True NEH\")\n",
    "plt.ylabel(\"Predicted NEH\")"
   ]
  },
  {
   "cell_type": "code",
   "execution_count": null,
   "id": "de0f4df7",
   "metadata": {},
   "outputs": [],
   "source": []
  },
  {
   "cell_type": "code",
   "execution_count": 110,
   "id": "7d4e5fe6",
   "metadata": {},
   "outputs": [
    {
     "data": {
      "text/plain": [
       "25.04340124003543"
      ]
     },
     "execution_count": 110,
     "metadata": {},
     "output_type": "execute_result"
    }
   ],
   "source": [
    "from sklearn.svm import SVR\n",
    "\n",
    "svr_rbf = SVR(kernel=\"rbf\", C=100, gamma=0.1, epsilon=0.1)\n",
    "svr_lin = SVR(kernel=\"linear\", C=100, gamma=\"auto\")\n",
    "svr_poly = SVR(kernel=\"poly\", C=100, gamma=\"auto\", degree=3, epsilon=0.1, coef0=1)\n",
    "\n",
    "svr_rbf.fit(X_train, y_train)\n",
    "ypred=svr_rbf.predict(X_test)\n",
    "ypred=[round(y) for y in ypred]\n",
    "metrics.mean_absolute_percentage_error(y_test, ypred)"
   ]
  },
  {
   "cell_type": "code",
   "execution_count": 111,
   "id": "1c704dd2",
   "metadata": {},
   "outputs": [
    {
     "data": {
      "text/plain": [
       "15.87156775907883"
      ]
     },
     "execution_count": 111,
     "metadata": {},
     "output_type": "execute_result"
    }
   ],
   "source": [
    "svr_lin.fit(X_train, y_train)\n",
    "ypred=svr_lin.predict(X_test)\n",
    "ypred=[round(y) for y in ypred]\n",
    "metrics.mean_absolute_percentage_error(y_test, ypred) #mean_squared_error"
   ]
  },
  {
   "cell_type": "code",
   "execution_count": null,
   "id": "631c5cf0",
   "metadata": {},
   "outputs": [],
   "source": [
    "svr_poly.fit(X_train, y_train)\n",
    "ypred=svr_poly.predict(X_test)\n",
    "ypred=[round(y) for y in ypred]\n",
    "metrics.mean_absolute_percentage_error(y_test, ypred)"
   ]
  },
  {
   "cell_type": "code",
   "execution_count": 37,
   "id": "54db2df1",
   "metadata": {
    "scrolled": false
   },
   "outputs": [
    {
     "name": "stdout",
     "output_type": "stream",
     "text": [
      "0.12972140809380964 4.479804104916127\n"
     ]
    }
   ],
   "source": [
    "import xgboost \n",
    "model = xgboost.XGBRegressor(n_estimators=100, max_depth=7, eta=0.1, subsample=0.7, colsample_bytree=0.8)\n",
    "model.fit(np.array(interaction_x), y_train)\n",
    "ypred=model.predict(np.array(interaction.transform(X_test)))\n",
    "ypred=[round(y) for y in ypred]\n",
    "print(metrics.mean_absolute_percentage_error(y_test, ypred),metrics.mean_squared_error(y_test, ypred)**0.5)"
   ]
  },
  {
   "cell_type": "code",
   "execution_count": 31,
   "id": "8c2aae02",
   "metadata": {
    "scrolled": true
   },
   "outputs": [
    {
     "name": "stdout",
     "output_type": "stream",
     "text": [
      "Epoch 1/100\n",
      "251/251 [==============================] - 1s 3ms/step - loss: 182.5257 - val_loss: 40.3481\n",
      "Epoch 2/100\n",
      "251/251 [==============================] - 1s 3ms/step - loss: 40.5225 - val_loss: 39.9989\n",
      "Epoch 3/100\n",
      "251/251 [==============================] - 1s 3ms/step - loss: 40.4493 - val_loss: 39.8106\n",
      "Epoch 4/100\n",
      "251/251 [==============================] - 1s 3ms/step - loss: 40.2954 - val_loss: 40.0093\n",
      "Epoch 5/100\n",
      "251/251 [==============================] - 1s 3ms/step - loss: 40.2973 - val_loss: 39.3283\n",
      "Epoch 6/100\n",
      "251/251 [==============================] - 1s 2ms/step - loss: 39.6333 - val_loss: 39.9335\n",
      "Epoch 7/100\n",
      "251/251 [==============================] - 1s 3ms/step - loss: 39.4912 - val_loss: 38.8269\n",
      "Epoch 8/100\n",
      "251/251 [==============================] - 1s 3ms/step - loss: 39.0578 - val_loss: 38.1470\n",
      "Epoch 9/100\n",
      "251/251 [==============================] - 1s 3ms/step - loss: 38.4952 - val_loss: 38.2501\n",
      "Epoch 10/100\n",
      "251/251 [==============================] - 1s 2ms/step - loss: 37.6960 - val_loss: 36.1207\n",
      "Epoch 11/100\n",
      "251/251 [==============================] - 1s 3ms/step - loss: 35.9936 - val_loss: 33.8309\n",
      "Epoch 12/100\n",
      "251/251 [==============================] - 1s 3ms/step - loss: 32.9884 - val_loss: 30.0302\n",
      "Epoch 13/100\n",
      "251/251 [==============================] - 1s 3ms/step - loss: 29.4848 - val_loss: 26.4273\n",
      "Epoch 14/100\n",
      "251/251 [==============================] - 1s 2ms/step - loss: 27.5674 - val_loss: 28.9400\n",
      "Epoch 15/100\n",
      "251/251 [==============================] - 1s 3ms/step - loss: 27.2201 - val_loss: 24.9110\n",
      "Epoch 16/100\n",
      "251/251 [==============================] - 1s 3ms/step - loss: 26.8710 - val_loss: 24.4835\n",
      "Epoch 17/100\n",
      "251/251 [==============================] - 1s 3ms/step - loss: 26.7700 - val_loss: 24.2608\n",
      "Epoch 18/100\n",
      "251/251 [==============================] - 1s 3ms/step - loss: 26.6629 - val_loss: 25.9041\n",
      "Epoch 19/100\n",
      "251/251 [==============================] - 1s 3ms/step - loss: 26.4099 - val_loss: 27.9062\n",
      "Epoch 20/100\n",
      "251/251 [==============================] - 1s 2ms/step - loss: 26.2599 - val_loss: 24.6200\n",
      "Epoch 21/100\n",
      "251/251 [==============================] - 1s 3ms/step - loss: 26.2153 - val_loss: 24.4081\n",
      "Epoch 22/100\n",
      "251/251 [==============================] - 1s 3ms/step - loss: 26.1154 - val_loss: 24.6668\n",
      "Epoch 23/100\n",
      "251/251 [==============================] - 1s 3ms/step - loss: 25.7992 - val_loss: 24.4002\n",
      "Epoch 24/100\n",
      "251/251 [==============================] - 1s 3ms/step - loss: 25.7868 - val_loss: 25.9795\n",
      "Epoch 25/100\n",
      "251/251 [==============================] - 1s 3ms/step - loss: 25.9624 - val_loss: 23.9535\n",
      "Epoch 26/100\n",
      "251/251 [==============================] - 1s 3ms/step - loss: 25.5946 - val_loss: 24.3084\n",
      "Epoch 27/100\n",
      "251/251 [==============================] - 1s 2ms/step - loss: 26.0078 - val_loss: 24.7589\n",
      "Epoch 28/100\n",
      "251/251 [==============================] - 1s 3ms/step - loss: 25.6124 - val_loss: 25.8485\n",
      "Epoch 29/100\n",
      "251/251 [==============================] - 1s 3ms/step - loss: 25.8524 - val_loss: 23.9655\n",
      "Epoch 30/100\n",
      "251/251 [==============================] - 1s 2ms/step - loss: 25.5663 - val_loss: 23.7915\n",
      "Epoch 31/100\n",
      "251/251 [==============================] - 1s 3ms/step - loss: 25.4604 - val_loss: 25.6767\n",
      "Epoch 32/100\n",
      "251/251 [==============================] - 1s 3ms/step - loss: 25.7612 - val_loss: 24.4748\n",
      "Epoch 33/100\n",
      "251/251 [==============================] - 1s 2ms/step - loss: 25.4936 - val_loss: 23.7222\n",
      "Epoch 34/100\n",
      "251/251 [==============================] - 1s 3ms/step - loss: 25.7074 - val_loss: 24.1584\n",
      "Epoch 35/100\n",
      "251/251 [==============================] - 1s 3ms/step - loss: 25.2087 - val_loss: 24.6589\n",
      "Epoch 36/100\n",
      "251/251 [==============================] - 1s 2ms/step - loss: 25.2493 - val_loss: 23.8213\n",
      "Epoch 37/100\n",
      "251/251 [==============================] - 1s 3ms/step - loss: 25.1273 - val_loss: 23.3867\n",
      "Epoch 38/100\n",
      "251/251 [==============================] - 1s 3ms/step - loss: 25.0213 - val_loss: 23.6883\n",
      "Epoch 39/100\n",
      "251/251 [==============================] - 1s 2ms/step - loss: 25.5586 - val_loss: 24.0384\n",
      "Epoch 40/100\n",
      "251/251 [==============================] - 1s 3ms/step - loss: 25.2467 - val_loss: 22.9791\n",
      "Epoch 41/100\n",
      "251/251 [==============================] - 1s 3ms/step - loss: 25.0268 - val_loss: 24.3557\n",
      "Epoch 42/100\n",
      "251/251 [==============================] - 1s 3ms/step - loss: 25.0227 - val_loss: 24.1781\n",
      "Epoch 43/100\n",
      "251/251 [==============================] - 1s 3ms/step - loss: 24.8739 - val_loss: 23.1837\n",
      "Epoch 44/100\n",
      "251/251 [==============================] - 1s 3ms/step - loss: 25.0165 - val_loss: 24.1818\n",
      "Epoch 45/100\n",
      "251/251 [==============================] - 1s 3ms/step - loss: 24.8884 - val_loss: 23.2678\n",
      "Epoch 46/100\n",
      "251/251 [==============================] - 1s 3ms/step - loss: 24.9723 - val_loss: 23.2621\n",
      "Epoch 47/100\n",
      "251/251 [==============================] - 1s 3ms/step - loss: 24.9970 - val_loss: 22.9818\n",
      "Epoch 48/100\n",
      "251/251 [==============================] - 1s 3ms/step - loss: 25.0021 - val_loss: 23.4978\n",
      "Epoch 49/100\n",
      "251/251 [==============================] - 1s 3ms/step - loss: 24.8563 - val_loss: 23.5249\n",
      "Epoch 50/100\n",
      "251/251 [==============================] - 1s 3ms/step - loss: 25.2038 - val_loss: 23.2418\n",
      "Epoch 51/100\n",
      "251/251 [==============================] - 1s 3ms/step - loss: 24.7962 - val_loss: 24.1283\n",
      "Epoch 52/100\n",
      "251/251 [==============================] - 1s 3ms/step - loss: 24.9426 - val_loss: 24.5998\n",
      "Epoch 53/100\n",
      "251/251 [==============================] - 1s 3ms/step - loss: 24.7800 - val_loss: 23.0826\n",
      "Epoch 54/100\n",
      "251/251 [==============================] - 1s 3ms/step - loss: 24.9044 - val_loss: 23.2872\n",
      "Epoch 55/100\n",
      "251/251 [==============================] - 1s 2ms/step - loss: 24.5852 - val_loss: 22.7361\n",
      "Epoch 56/100\n",
      "251/251 [==============================] - 1s 3ms/step - loss: 24.6183 - val_loss: 22.5311\n",
      "Epoch 57/100\n",
      "251/251 [==============================] - 1s 3ms/step - loss: 24.7788 - val_loss: 22.7801\n",
      "Epoch 58/100\n",
      "251/251 [==============================] - 1s 3ms/step - loss: 24.8469 - val_loss: 22.9667\n",
      "Epoch 59/100\n",
      "251/251 [==============================] - 1s 3ms/step - loss: 24.6366 - val_loss: 22.9217\n",
      "Epoch 60/100\n",
      "251/251 [==============================] - 1s 2ms/step - loss: 24.6279 - val_loss: 22.6483\n",
      "Epoch 61/100\n",
      "251/251 [==============================] - 1s 2ms/step - loss: 24.8174 - val_loss: 23.2079\n",
      "Epoch 62/100\n",
      "251/251 [==============================] - 1s 2ms/step - loss: 24.4417 - val_loss: 22.7877\n",
      "Epoch 63/100\n",
      "251/251 [==============================] - 1s 3ms/step - loss: 24.8582 - val_loss: 22.7264\n",
      "Epoch 64/100\n",
      "251/251 [==============================] - 1s 2ms/step - loss: 24.2813 - val_loss: 22.9290\n",
      "Epoch 65/100\n",
      "251/251 [==============================] - 1s 3ms/step - loss: 24.4334 - val_loss: 22.9133\n",
      "Epoch 66/100\n",
      "251/251 [==============================] - 1s 2ms/step - loss: 24.3773 - val_loss: 22.7893\n",
      "Epoch 67/100\n",
      "251/251 [==============================] - 1s 3ms/step - loss: 24.3405 - val_loss: 23.2228\n",
      "Epoch 68/100\n",
      "251/251 [==============================] - 1s 3ms/step - loss: 24.6315 - val_loss: 23.4408\n",
      "Epoch 69/100\n",
      "251/251 [==============================] - 1s 3ms/step - loss: 24.3899 - val_loss: 22.5015\n",
      "Epoch 70/100\n",
      "251/251 [==============================] - 1s 3ms/step - loss: 24.9989 - val_loss: 23.4630\n",
      "Epoch 71/100\n",
      "251/251 [==============================] - 1s 3ms/step - loss: 24.2844 - val_loss: 25.4707\n",
      "Epoch 72/100\n",
      "251/251 [==============================] - 1s 3ms/step - loss: 24.3946 - val_loss: 22.7031\n",
      "Epoch 73/100\n",
      "251/251 [==============================] - 1s 3ms/step - loss: 24.3300 - val_loss: 22.4261\n",
      "Epoch 74/100\n",
      "251/251 [==============================] - 1s 3ms/step - loss: 24.3632 - val_loss: 22.8803\n",
      "Epoch 75/100\n",
      "251/251 [==============================] - 1s 2ms/step - loss: 24.2023 - val_loss: 22.7320\n",
      "Epoch 76/100\n",
      "251/251 [==============================] - 1s 3ms/step - loss: 24.4766 - val_loss: 22.9341\n",
      "Epoch 77/100\n",
      "251/251 [==============================] - 1s 3ms/step - loss: 24.2812 - val_loss: 24.0392\n",
      "Epoch 78/100\n",
      "251/251 [==============================] - 1s 2ms/step - loss: 24.2794 - val_loss: 22.7870\n",
      "Epoch 79/100\n",
      "251/251 [==============================] - 1s 2ms/step - loss: 24.0698 - val_loss: 22.1138\n"
     ]
    },
    {
     "name": "stdout",
     "output_type": "stream",
     "text": [
      "Epoch 80/100\n",
      "251/251 [==============================] - 1s 2ms/step - loss: 23.9898 - val_loss: 22.9030\n",
      "Epoch 81/100\n",
      "251/251 [==============================] - 1s 2ms/step - loss: 24.0433 - val_loss: 23.1173\n",
      "Epoch 82/100\n",
      "251/251 [==============================] - 0s 2ms/step - loss: 24.2726 - val_loss: 23.3045\n",
      "Epoch 83/100\n",
      "251/251 [==============================] - 1s 2ms/step - loss: 24.1000 - val_loss: 22.2495\n",
      "Epoch 84/100\n",
      "251/251 [==============================] - 1s 3ms/step - loss: 24.4067 - val_loss: 23.3307\n",
      "Epoch 85/100\n",
      "251/251 [==============================] - 1s 3ms/step - loss: 24.1511 - val_loss: 23.1767\n",
      "Epoch 86/100\n",
      "251/251 [==============================] - 1s 3ms/step - loss: 24.0041 - val_loss: 22.2441\n",
      "Epoch 87/100\n",
      "251/251 [==============================] - 1s 3ms/step - loss: 24.1404 - val_loss: 22.3710\n",
      "Epoch 88/100\n",
      "251/251 [==============================] - 1s 3ms/step - loss: 24.4066 - val_loss: 22.9538\n",
      "Epoch 89/100\n",
      "251/251 [==============================] - 1s 3ms/step - loss: 24.2146 - val_loss: 22.4945\n",
      "Epoch 90/100\n",
      "251/251 [==============================] - 1s 3ms/step - loss: 24.2282 - val_loss: 22.2927\n",
      "Epoch 91/100\n",
      "251/251 [==============================] - 1s 3ms/step - loss: 24.1132 - val_loss: 22.1844\n",
      "Epoch 92/100\n",
      "251/251 [==============================] - 1s 3ms/step - loss: 23.9493 - val_loss: 24.1515\n",
      "Epoch 93/100\n",
      "251/251 [==============================] - 1s 3ms/step - loss: 24.0411 - val_loss: 22.6240\n",
      "Epoch 94/100\n",
      "251/251 [==============================] - 1s 3ms/step - loss: 24.1551 - val_loss: 22.6257\n",
      "Epoch 95/100\n",
      "251/251 [==============================] - 1s 3ms/step - loss: 23.7860 - val_loss: 22.2855\n",
      "Epoch 96/100\n",
      "251/251 [==============================] - 1s 3ms/step - loss: 24.2115 - val_loss: 22.0927\n",
      "Epoch 97/100\n",
      "251/251 [==============================] - 1s 3ms/step - loss: 23.8265 - val_loss: 21.9826\n",
      "Epoch 98/100\n",
      "251/251 [==============================] - 1s 3ms/step - loss: 24.0587 - val_loss: 22.2994\n",
      "Epoch 99/100\n",
      "251/251 [==============================] - 1s 3ms/step - loss: 24.0152 - val_loss: 23.1291\n",
      "Epoch 100/100\n",
      "251/251 [==============================] - 1s 3ms/step - loss: 23.7964 - val_loss: 21.9810\n",
      "MAP= 0.1155038048995455 \n",
      "RMSE= 4.413130904395985\n"
     ]
    },
    {
     "data": {
      "text/plain": [
       "Text(0, 0.5, 'Predicted NEH')"
      ]
     },
     "execution_count": 31,
     "metadata": {},
     "output_type": "execute_result"
    },
    {
     "data": {
      "image/png": "[encoded data removed]",
      "text/plain": [
       "<Figure size 432x288 with 1 Axes>"
      ]
     },
     "metadata": {
      "needs_background": "light"
     },
     "output_type": "display_data"
    }
   ],
   "source": [
    "# Regression Example With Boston Dataset: Baseline\n",
    "from pandas import read_csv\n",
    "from tensorflow.keras.models import Sequential\n",
    "from tensorflow.keras.layers import Dense,BatchNormalization \n",
    " \n",
    "# define base model\n",
    " \n",
    "model = Sequential()\n",
    "model.add(Dense(128, input_shape=(20,), kernel_initializer='normal', activation='relu'))\n",
    "model.add(Dense(64,  kernel_initializer='normal', activation='relu'))\n",
    "model.add(Dense(32,  kernel_initializer='normal', activation='relu'))\n",
    "model.add(Dense(32, kernel_initializer='normal', activation='relu'))\n",
    "model.add(Dense(8, kernel_initializer='normal', activation='relu'))\n",
    "model.add(Dense(1, kernel_initializer='normal'))\n",
    "# Compile model\n",
    "model.compile(loss='mean_squared_error', optimizer='adam') \n",
    "\n",
    "# model.fit(np.array(interaction.transform(X_train)).astype(np.float32), y_train.astype(np.float32),epochs=200,batch_size=50,validation_split=0.2)\n",
    "# ypred=model.predict(np.array(interaction.transform(X_test)).astype(np.float32))\n",
    "# ypred=[round(y) for y in ypred.ravel()]\n",
    "\n",
    "history=model.fit(np.array((X_train)).astype(np.float32), y_train.astype(np.float32),epochs=100,batch_size=100,validation_split=0.2)\n",
    "ypred=model.predict(np.array((X_test)).astype(np.float32))\n",
    "ypred=[round(y) for y in ypred.ravel()]\n",
    "\n",
    "\n",
    "print(\"MAP=\",metrics.mean_absolute_percentage_error(y_test, ypred),\"\\nRMSE=\",metrics.mean_squared_error(y_test, ypred)**0.5)\n",
    "plt.plot(y_test,y_test,c='r')\n",
    "plt.scatter(y_test,ypred,c='k')\n",
    "plt.xlabel(\"True NEH\")\n",
    "plt.ylabel(\"Predicted NEH\")"
   ]
  },
  {
   "cell_type": "code",
   "execution_count": 32,
   "id": "9bd78fa6",
   "metadata": {},
   "outputs": [
    {
     "name": "stdout",
     "output_type": "stream",
     "text": [
      "MAP= 0.1155038048995455 \n",
      "RMSE= 4.413130904395985\n"
     ]
    },
    {
     "data": {
      "text/plain": [
       "Text(0, 0.5, 'Predicted NEH')"
      ]
     },
     "execution_count": 32,
     "metadata": {},
     "output_type": "execute_result"
    },
    {
     "data": {
      "image/png": "[encoded data removed]",
      "text/plain": [
       "<Figure size 432x288 with 1 Axes>"
      ]
     },
     "metadata": {
      "needs_background": "light"
     },
     "output_type": "display_data"
    }
   ],
   "source": [
    "print(\"MAP=\",metrics.mean_absolute_percentage_error(y_test, ypred),\"\\nRMSE=\",metrics.mean_squared_error(y_test, ypred)**0.5)\n",
    "plt.plot(y_test,y_test,c='r')\n",
    "plt.scatter(y_test,ypred,c='k')\n",
    "plt.xlabel(\"True NEH\")\n",
    "plt.ylabel(\"Predicted NEH\")"
   ]
  },
  {
   "cell_type": "code",
   "execution_count": null,
   "id": "775d4345",
   "metadata": {},
   "outputs": [],
   "source": []
  }
 ],
 "metadata": {
  "kernelspec": {
   "display_name": "Python 3 (ipykernel)",
   "language": "python",
   "name": "python3"
  },
  "language_info": {
   "codemirror_mode": {
    "name": "ipython",
    "version": 3
   },
   "file_extension": ".py",
   "mimetype": "text/x-python",
   "name": "python",
   "nbconvert_exporter": "python",
   "pygments_lexer": "ipython3",
   "version": "3.9.11"
  }
 },
 "nbformat": 4,
 "nbformat_minor": 5
}
