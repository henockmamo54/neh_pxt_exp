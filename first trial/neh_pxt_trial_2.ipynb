{
 "cells": [
  {
   "cell_type": "code",
   "execution_count": 7,
   "id": "97a55a0d",
   "metadata": {},
   "outputs": [],
   "source": [
    "import os\n",
    "import pandas as pd\n",
    "import numpy as np\n",
    "from matplotlib import pyplot as plt"
   ]
  },
  {
   "cell_type": "code",
   "execution_count": 8,
   "id": "66c4b6be",
   "metadata": {},
   "outputs": [
    {
     "data": {
      "text/plain": [
       "'_AAMLGQEDPPQHGLPR_3_13_FAS_MOUSE.csv'"
      ]
     },
     "execution_count": 8,
     "metadata": {},
     "output_type": "execute_result"
    }
   ],
   "source": [
    "x=os.listdir()\n",
    "x=[y for y in x if ((\".csv\" in y) and (y[0]=='_'))]\n",
    "x[0]"
   ]
  },
  {
   "cell_type": "code",
   "execution_count": 16,
   "id": "fc56cd8f",
   "metadata": {},
   "outputs": [],
   "source": [
    "time=9\n",
    "files=[y for y in x if (f\"_{time}_FAS_MOUSE.csv\" in y) ]\n",
    "pxts=np.unique(pd.read_csv(f\"_AAMLGQEDPPQHGLPR_3_{time}_FAS_MOUSE.csv\").pxt)\n",
    "pxts_RMSE=dict()"
   ]
  },
  {
   "cell_type": "code",
   "execution_count": 17,
   "id": "dd9207ac",
   "metadata": {},
   "outputs": [],
   "source": [
    "data1=pd.read_csv(files[0])\n",
    "data2=pd.read_csv(files[2])\n",
    "# data3=pd.read_csv(files[2])"
   ]
  },
  {
   "cell_type": "code",
   "execution_count": 18,
   "id": "004bbd35",
   "metadata": {},
   "outputs": [
    {
     "data": {
      "text/plain": [
       "'_AcVDTALENLSTLK_2_9_FAS_MOUSE.csv'"
      ]
     },
     "execution_count": 18,
     "metadata": {},
     "output_type": "execute_result"
    }
   ],
   "source": [
    "files[1]"
   ]
  },
  {
   "cell_type": "code",
   "execution_count": 19,
   "id": "24a3cc48",
   "metadata": {
    "scrolled": true
   },
   "outputs": [],
   "source": [
    "for t_pxt in pxts:\n",
    "    for n in range(1,50):\n",
    "        for n2 in range(1,50):\n",
    "            pxts_RMSE[str(t_pxt)+\"_\"+str(n)+\"_\"+str(n2)]=(float(data1[(data1.pxt==t_pxt)&(data1.NEH==n)].RMSE)+ float(data2[(data2.pxt==t_pxt)&(data2.NEH==n2)].RMSE.astype(\"float\")))\n",
    "            \n",
    "            "
   ]
  },
  {
   "cell_type": "code",
   "execution_count": 20,
   "id": "1a959d5f",
   "metadata": {
    "scrolled": false
   },
   "outputs": [
    {
     "data": {
      "text/plain": [
       "[('0.034_49_19', 0.0424163846805624)]"
      ]
     },
     "execution_count": 20,
     "metadata": {},
     "output_type": "execute_result"
    }
   ],
   "source": [
    "minvalue= min(pxts_RMSE.values())\n",
    "[x for x in pxts_RMSE.items() if x[1]==minvalue]"
   ]
  },
  {
   "cell_type": "code",
   "execution_count": 21,
   "id": "3a626e39",
   "metadata": {},
   "outputs": [
    {
     "data": {
      "text/plain": [
       "0.0424163846805624"
      ]
     },
     "execution_count": 21,
     "metadata": {},
     "output_type": "execute_result"
    }
   ],
   "source": [
    "minvalue"
   ]
  },
  {
   "cell_type": "code",
   "execution_count": null,
   "id": "009242e4",
   "metadata": {},
   "outputs": [],
   "source": []
  },
  {
   "cell_type": "code",
   "execution_count": null,
   "id": "45e4a32c",
   "metadata": {},
   "outputs": [],
   "source": []
  },
  {
   "cell_type": "code",
   "execution_count": null,
   "id": "d134cb18",
   "metadata": {},
   "outputs": [],
   "source": []
  },
  {
   "cell_type": "code",
   "execution_count": null,
   "id": "1f1592d4",
   "metadata": {
    "scrolled": true
   },
   "outputs": [],
   "source": [
    "for file in files[:2]:\n",
    "    data=pd.read_csv(file)\n",
    "    \n",
    "#     fig = plt.figure() \n",
    "#     ax = fig.add_subplot(projection='3d')\n",
    "#     ax.scatter(data.NEH, data.pxt, data.RMSE,c=data.RMSE)\n",
    "#     ax.view_init(10,120)\n",
    "#     ax.set_xlabel('NEH')\n",
    "#     ax.set_ylabel('px(t)')\n",
    "#     ax.set_zlabel('RMSE')\n",
    "#     ax.figure.set_size_inches(6,6)\n",
    "\n",
    "    fig = plt.figure() \n",
    "    ax = fig.add_subplot(projection='3d')\n",
    "    ax.scatter(data.NEH, data.pxt, data.RMSE,c=data.RMSE)\n",
    "#     ax.view_init(-120,120)\n",
    "    ax.view_init(0,0)\n",
    "    ax.set_xlabel('NEH')\n",
    "    ax.set_ylabel('px(t)')\n",
    "    ax.set_zlabel('RMSE')\n",
    "    ax.figure.set_size_inches(7,7)\n",
    "    print(\"==================================================\")\n",
    "    print(f\"=================: {file}========================\")\n",
    "    print(\"==================================================\")\n",
    "    \n",
    "    plt.show()\n",
    "    \n",
    "    for t_pxt in pxts:\n",
    "        try:\n",
    "            pxts_RMSE[t_pxt]=pxts_RMSE.get(t_pxt,0)+min(data[data.pxt==t_pxt].RMSE.astype(\"float\"))     \n",
    "        except:\n",
    "            print(file)\n",
    "        "
   ]
  },
  {
   "cell_type": "code",
   "execution_count": null,
   "id": "7179e7d7",
   "metadata": {},
   "outputs": [],
   "source": [
    "min(pxts_RMSE.values())\n",
    "[x for x in pxts_RMSE.items() if x[1]==min(pxts_RMSE.values())]"
   ]
  },
  {
   "cell_type": "code",
   "execution_count": null,
   "id": "cdcab8b7",
   "metadata": {},
   "outputs": [],
   "source": [
    "plt.scatter(pxts_RMSE.keys(),pxts_RMSE.values())"
   ]
  },
  {
   "cell_type": "code",
   "execution_count": null,
   "id": "e5bac3c3",
   "metadata": {},
   "outputs": [],
   "source": []
  },
  {
   "cell_type": "code",
   "execution_count": null,
   "id": "19c015d1",
   "metadata": {},
   "outputs": [],
   "source": []
  },
  {
   "cell_type": "code",
   "execution_count": null,
   "id": "6f2b403a",
   "metadata": {},
   "outputs": [],
   "source": []
  },
  {
   "cell_type": "code",
   "execution_count": null,
   "id": "f86d6a73",
   "metadata": {
    "scrolled": false
   },
   "outputs": [],
   "source": [
    "# time=[1,2,3,6,7,9,13,16,21,24,31]\n",
    "# for t in time:\n",
    "#     data=pd.read_csv(f\"_MEAEcLSESTALQK_2_{t}.csv\")\n",
    "#     data.head()\n",
    "    \n",
    "\n",
    "#     fig = plt.figure() \n",
    "#     ax = fig.add_subplot(projection='3d')\n",
    "#     ax.scatter(data.NEH, data.pxt, data.RMSE,c=data.RMSE)\n",
    "#     ax.view_init(10,120)\n",
    "#     ax.set_xlabel('NEH')\n",
    "#     ax.set_ylabel('px(t)')\n",
    "#     ax.set_zlabel('RMSE')\n",
    "#     ax.figure.set_size_inches(6,6)\n",
    "\n",
    "#     fig = plt.figure() \n",
    "#     ax = fig.add_subplot(projection='3d')\n",
    "#     ax.scatter(data.NEH, data.pxt, data.RMSE,c=data.RMSE)\n",
    "#     ax.view_init(-120,120)\n",
    "#     ax.set_xlabel('NEH')\n",
    "#     ax.set_ylabel('px(t)')\n",
    "#     ax.set_zlabel('RMSE')\n",
    "#     ax.figure.set_size_inches(7,7)\n",
    "    \n",
    "#     plt.show()\n",
    "    \n",
    "#     print(\"==================================================\")\n",
    "#     print(f\"=================Time: {t}========================\")\n",
    "#     print(\"==================================================\")"
   ]
  },
  {
   "cell_type": "code",
   "execution_count": null,
   "id": "c728220f",
   "metadata": {},
   "outputs": [],
   "source": []
  },
  {
   "cell_type": "code",
   "execution_count": null,
   "id": "a84a3d82",
   "metadata": {},
   "outputs": [],
   "source": []
  },
  {
   "cell_type": "code",
   "execution_count": null,
   "id": "3b24daa5",
   "metadata": {},
   "outputs": [],
   "source": []
  }
 ],
 "metadata": {
  "kernelspec": {
   "display_name": "Python 3 (ipykernel)",
   "language": "python",
   "name": "python3"
  },
  "language_info": {
   "codemirror_mode": {
    "name": "ipython",
    "version": 3
   },
   "file_extension": ".py",
   "mimetype": "text/x-python",
   "name": "python",
   "nbconvert_exporter": "python",
   "pygments_lexer": "ipython3",
   "version": "3.9.11"
  }
 },
 "nbformat": 4,
 "nbformat_minor": 5
}
