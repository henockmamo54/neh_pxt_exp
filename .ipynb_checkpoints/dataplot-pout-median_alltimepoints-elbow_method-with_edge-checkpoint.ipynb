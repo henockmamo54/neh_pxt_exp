{
 "cells": [
  {
   "cell_type": "code",
   "execution_count": 69,
   "id": "5d590ecd",
   "metadata": {},
   "outputs": [],
   "source": [
    "import os\n",
    "import pandas as pd\n",
    "import numpy as np\n",
    "from matplotlib import pyplot as plt\n",
    "from itertools import combinations\n",
    "from sklearn.decomposition import PCA"
   ]
  },
  {
   "cell_type": "code",
   "execution_count": 70,
   "id": "dee8d599",
   "metadata": {
    "scrolled": true
   },
   "outputs": [],
   "source": [
    "ph=1.5574E-4\n",
    "times=[1,2,3,6,7,9,13,16,21,24,31] "
   ]
  },
  {
   "cell_type": "code",
   "execution_count": 71,
   "id": "3c841df7",
   "metadata": {},
   "outputs": [],
   "source": [
    "def islinear(data):\n",
    "    pca = PCA() # Compute PCA\n",
    "    pca.fit_transform(data)\n",
    "    eigenvalues = pca.explained_variance_ # Get eigenvalues\n",
    "    eigenvalues = np.round(eigenvalues, 7) # Round off eigenvalues\n",
    "    islin=len([x for x in eigenvalues if x >0])!=2\n",
    "    print(\"is linear \",islin)\n",
    "    return islin "
   ]
  },
  {
   "cell_type": "code",
   "execution_count": 72,
   "id": "bcb1aedf",
   "metadata": {},
   "outputs": [],
   "source": [
    "path=\"C:/Workplace/C++/d2ome_v2/v2/v2/bin/Debug/\"\n",
    "pept=[x.split('_1_')[0] for x in os.listdir(path) if ((\".csv\" in x) and (\"_1_\" in x)) ]"
   ]
  },
  {
   "cell_type": "code",
   "execution_count": null,
   "id": "0a889b76",
   "metadata": {},
   "outputs": [],
   "source": []
  },
  {
   "cell_type": "code",
   "execution_count": 73,
   "id": "2253e55b",
   "metadata": {
    "scrolled": true
   },
   "outputs": [],
   "source": [
    "from sklearn.metrics import r2_score,mean_squared_error \n",
    "def estimateneh(const):\n",
    "    if not const or len(const)==0:\n",
    "        return None\n",
    "    \n",
    "    plt.scatter(times,const,c='k',s=120)\n",
    "    plt.ylabel(\"px(t)*NEH\")\n",
    "    plt.xlabel(\"Time\")\n",
    "    \n",
    "#     ========================\n",
    "\n",
    "    res=[]\n",
    "    for neh in range(100):\n",
    "        sum_er=0 \n",
    "        for i in range(len(times)):\n",
    "            pxt=[(x/10000) for x in list(range(1,500,1))]\n",
    "            diff=[abs(const[i]-neh*x) for x in pxt]\n",
    "            sum_er+=min(diff)\n",
    "        res.append(sum_er)\n",
    "    \n",
    "    # bet neh val    \n",
    "#     nehval=res.index(min(res))\n",
    "    nehval=0\n",
    "    for i,val in enumerate(res):\n",
    "        diff=float('inf')\n",
    "        if i!=0:\n",
    "            diff=res[i-1]-val\n",
    "\n",
    "        if(diff <0.001):\n",
    "            nehval=i\n",
    "            print(\"NEH=\",i-1)\n",
    "            break\n",
    "#         print(i,val/11,abs(diff))\n",
    "    \n",
    "    # compute the points for best neh val\n",
    "    temp_const=[]\n",
    "    for i in range(11):\n",
    "        pxt=[(x/10000) for x in list(range(1,500,1))]\n",
    "        diff=[abs(const[i]-nehval*x) for x in pxt]\n",
    "        temp_const.append(pxt[diff.index(min(diff))]*nehval) \n",
    "    \n",
    "    plt.scatter(times,temp_const,c='r',s=40)    \n",
    "    plt.show()\n",
    "    \n",
    "    corr_matrix = np.corrcoef(const, temp_const)\n",
    "    corr = corr_matrix[0,1]\n",
    "    R_sq = corr**2\n",
    "    r2=r2_score(const, temp_const)\n",
    "    rmse=(mean_squared_error(const, temp_const))**0.5\n",
    "\n",
    "    print(\"**************\",\"RMSE=\",rmse,\"R square=\",r2)\n",
    "    print(temp_const)\n",
    "    \n",
    "    print(\"\\n estimated NEH\",nehval)\n",
    "    plt.figure(figsize=(10,6))\n",
    "    plt.scatter(range(100),res,s=10,c='k')\n",
    "    plt.xlabel(\"NEH\")\n",
    "    plt.ylabel(\"Error\")\n",
    "    plt.show()\n",
    "#     ========================\n",
    "    \n",
    "    return nehval"
   ]
  },
  {
   "cell_type": "code",
   "execution_count": null,
   "id": "b6f71133",
   "metadata": {
    "scrolled": true
   },
   "outputs": [
    {
     "name": "stdout",
     "output_type": "stream",
     "text": [
      "\n",
      " _AcVDTALENLSTLK_2 Time 1 ==================================>\n",
      "pxt*NEH = 0.1632 real_NEH= 23 ratio = 0.007095652173913044 \n",
      "\n",
      "vals 0.1276168851161491\n",
      "\n",
      " _AcVDTALENLSTLK_2 Time 2 ==================================>\n",
      "pxt*NEH = 0.399000105 real_NEH= 23 ratio = 0.017347830652173914 \n",
      "\n",
      "vals 0.36044742560802073\n",
      "\n",
      " _AcVDTALENLSTLK_2 Time 3 ==================================>\n",
      "pxt*NEH = 0.41730010700000003 real_NEH= 23 ratio = 0.01814348291304348 \n",
      "\n",
      "vals 0.33000407535697557\n",
      "\n",
      " _AcVDTALENLSTLK_2 Time 6 ==================================>\n",
      "pxt*NEH = 0.92720475 real_NEH= 23 ratio = 0.04031325 \n",
      "\n",
      "vals 1.110945761810987\n",
      "\n",
      " _AcVDTALENLSTLK_2 Time 7 ==================================>\n",
      "pxt*NEH = 0.9820052 real_NEH= 23 ratio = 0.04269587826086957 \n",
      "\n",
      "vals 0.9223413771954793\n",
      "\n",
      " _AcVDTALENLSTLK_2 Time 9 ==================================>\n",
      "pxt*NEH = 0.972005 real_NEH= 23 ratio = 0.04226108695652174 \n",
      "\n",
      "vals 1.0953439878799884\n",
      "\n",
      " _AcVDTALENLSTLK_2 Time 13 ==================================>\n",
      "pxt*NEH = 1.0890057199999998 real_NEH= 23 ratio = 0.04734807478260869 \n",
      "\n",
      "vals 1.2958389200573892\n",
      "\n",
      " _AcVDTALENLSTLK_2 Time 16 ==================================>\n",
      "pxt*NEH = 1.18560624 real_NEH= 23 ratio = 0.05154809739130435 \n",
      "\n",
      "vals 1.3445878295817735\n",
      "\n",
      " _AcVDTALENLSTLK_2 Time 21 ==================================>\n",
      "pxt*NEH = 1.0648055 real_NEH= 23 ratio = 0.04629589130434783 \n",
      "\n",
      "vals 1.206045938649577\n",
      "\n",
      " _AcVDTALENLSTLK_2 Time 24 ==================================>\n",
      "pxt*NEH = 1.13160598 real_NEH= 23 ratio = 0.04920026 \n",
      "\n",
      "vals 1.2797752428266156\n",
      "\n",
      " _AcVDTALENLSTLK_2 Time 31 ==================================>\n",
      "pxt*NEH = 1.09780594 real_NEH= 23 ratio = 0.04773069304347826 \n",
      "\n",
      "vals 1.3547383154885704\n",
      "\n",
      " [0.1632, 0.399000105, 0.41730010700000003, 0.92720475, 0.9820052, 0.972005, 1.0890057199999998, 1.18560624, 1.0648055, 1.13160598, 1.09780594]\n",
      "NEH= 24\n"
     ]
    },
    {
     "data": {
      "image/png": "[encoded data removed]",
      "text/plain": [
       "<Figure size 432x288 with 1 Axes>"
      ]
     },
     "metadata": {
      "needs_background": "light"
     },
     "output_type": "display_data"
    },
    {
     "name": "stdout",
     "output_type": "stream",
     "text": [
      "************** RMSE= 0.000631994877350812 R square= 0.9999965036611144\n",
      "[0.1625, 0.4, 0.4175, 0.9275, 0.9825, 0.9724999999999999, 1.09, 1.185, 1.065, 1.1325, 1.0975000000000001]\n",
      "\n",
      " estimated NEH 25\n"
     ]
    },
    {
     "data": {
      "image/png": "[encoded data removed]",
      "text/plain": [
       "<Figure size 720x432 with 1 Axes>"
      ]
     },
     "metadata": {
      "needs_background": "light"
     },
     "output_type": "display_data"
    },
    {
     "name": "stdout",
     "output_type": "stream",
     "text": [
      "\n",
      "True NEH = 23 \t estimated NEHs median 25\n",
      "===============================================================\n",
      "\n",
      "===============================================================\n",
      "\n",
      "===============================================================\n",
      "\n",
      "\n",
      " _DAMLENQTPELFQDVNKPK_3 Time 1 ==================================>\n",
      "pxt*NEH = 0.252 real_NEH= 37 ratio = 0.0068108108108108105 \n",
      "\n",
      "vals 0.10096559343419198\n",
      "\n",
      " _DAMLENQTPELFQDVNKPK_3 Time 2 ==================================>\n",
      "pxt*NEH = 0.727499325 real_NEH= 37 ratio = 0.01966214391891892 \n",
      "\n",
      "vals 0.29757862290242104\n",
      "\n",
      " _DAMLENQTPELFQDVNKPK_3 Time 3 ==================================>\n",
      "pxt*NEH = 0.7655995360000001 real_NEH= 37 ratio = 0.020691879351351354 \n",
      "\n",
      "vals 0.3317947964145975\n",
      "\n",
      " _DAMLENQTPELFQDVNKPK_3 Time 6 ==================================>\n",
      "pxt*NEH = 1.4820078 real_NEH= 37 ratio = 0.040054264864864866 \n",
      "\n",
      "vals 0.9953763447225414\n",
      "\n",
      " _DAMLENQTPELFQDVNKPK_3 Time 7 ==================================>\n",
      "pxt*NEH = 1.44710783 real_NEH= 37 ratio = 0.03911102243243243 \n",
      "\n",
      "vals 1.0905010924950482\n",
      "\n",
      " _DAMLENQTPELFQDVNKPK_3 Time 9 ==================================>\n",
      "pxt*NEH = 1.53140806 real_NEH= 37 ratio = 0.04138940702702702 \n",
      "\n",
      "vals 1.4245772309715403\n",
      "\n",
      " _DAMLENQTPELFQDVNKPK_3 Time 13 ==================================>\n",
      "pxt*NEH = 1.57760832 real_NEH= 37 ratio = 0.0426380627027027 \n",
      "\n",
      "vals 1.4647278114779803\n",
      "\n",
      " _DAMLENQTPELFQDVNKPK_3 Time 16 ==================================>\n"
     ]
    }
   ],
   "source": [
    "vals=[]\n",
    "# protein=\"CPSM_MOUSE\"\n",
    "protein=\"FAS_MOUSE\"\n",
    "# protein=\"ACADV_MOUSE\"\n",
    "# protein=\"ACADM_MOUSE\"\n",
    "for pep in pept:\n",
    "    neh_coll=[]\n",
    "    pxt_neh=[]\n",
    "    for time in times:\n",
    "        try:\n",
    "            print(f\"\\n {pep} Time\",time,\"==================================>\")\n",
    "            data=pd.read_csv(f\"C:/Workplace/C++/d2ome_v2/v2/v2/bin/Debug/{pep}_{time}_{protein}.csv\")\n",
    "\n",
    "            data[\"const\"]=data.NEH*data.pxt\n",
    "            data[\"new_pxt\"]=1-ph- (data.const/( (1-ph)*(data[\"exp_t_A1/A0\"]-data[\"exp_A1/A0\"]) ) )\n",
    "            data[\"new_neh\"]=data.const/data.new_pxt\n",
    "            data=data.sort_values(by=[\"RMSE\"],ascending=True)\n",
    "            data=data[data.NEH<=data.NH]\n",
    "\n",
    "            \n",
    "            print(\"pxt*NEH =\",float(data[data.RMSE==min(data.RMSE)].const),\"real_NEH=\",data.T_NEH[0], \"ratio =\",float(data[data.RMSE==min(data.RMSE)].const/data.T_NEH[0]),\"\\n\")\n",
    "            print(\"vals\",(data.loc[0,\"exp_t_A1/A0\"]-data.loc[0,\"exp_A1/A0\"])*(1-ph))\n",
    "            \n",
    "            pxt_neh.append(float(data[data.RMSE==min(data.RMSE)].const))\n",
    "            \n",
    "            tempdata=data[data.RMSE<2.5*min(data.RMSE)]\n",
    "            tempdata=tempdata[(tempdata.new_pxt>0) & (tempdata.new_neh>0) & (tempdata.new_neh<data.NH[0])]\n",
    "            tempdata[\"pxt_dif\"]=((abs((tempdata.pxt) - (tempdata.new_pxt)))**2 + (abs((tempdata.NEH) - (tempdata.new_neh)))**2)**0.5 #(abs((tempdata.pxt) - (tempdata.new_pxt))) \n",
    "            tempdata=tempdata.sort_values(by=[\"pxt_dif\"])\n",
    "            \n",
    "            neh_coll=neh_coll+list(np.array(tempdata.sort_values(by=[\"pxt_dif\"]).new_neh.head(5)))\n",
    "            \n",
    "        except:\n",
    "            print(\"Error\",time)\n",
    "\n",
    "    print(\"\\n\",pxt_neh)\n",
    "    \n",
    "    eneh=estimateneh(pxt_neh)\n",
    "    print(\"\\nTrue NEH =\",data.T_NEH[0],\"\\t estimated NEHs median\",eneh)\n",
    "    \n",
    "    vals.append([pep,data.T_NEH[0],eneh])\n",
    "    print(\"===============================================================\\n\")\n",
    "    print(\"===============================================================\\n\")\n",
    "    print(\"===============================================================\\n\")"
   ]
  },
  {
   "cell_type": "code",
   "execution_count": null,
   "id": "a7730afd",
   "metadata": {},
   "outputs": [],
   "source": [
    "res=pd.DataFrame(vals,columns=[\"Peptieds\",\"True NEH\",\"Estimated NEH\"])\n",
    "res[\"diff\"]=abs(res[\"True NEH\"]-res[\"Estimated NEH\"])\n",
    "res.sort_values(by=\"diff\").head(50)"
   ]
  },
  {
   "cell_type": "code",
   "execution_count": null,
   "id": "ae0a25f8",
   "metadata": {},
   "outputs": [],
   "source": [
    "print( float(res[[\"diff\"]].mean()),float(res[[\"diff\"]].median()),float(res[[\"diff\"]].std()))"
   ]
  },
  {
   "cell_type": "code",
   "execution_count": null,
   "id": "376ab3e2",
   "metadata": {},
   "outputs": [],
   "source": []
  },
  {
   "cell_type": "code",
   "execution_count": null,
   "id": "0fedcba0",
   "metadata": {},
   "outputs": [],
   "source": []
  },
  {
   "cell_type": "code",
   "execution_count": null,
   "id": "2126dd9d",
   "metadata": {},
   "outputs": [],
   "source": []
  },
  {
   "cell_type": "code",
   "execution_count": null,
   "id": "9924c698",
   "metadata": {},
   "outputs": [],
   "source": []
  },
  {
   "cell_type": "code",
   "execution_count": null,
   "id": "87704ab3",
   "metadata": {},
   "outputs": [],
   "source": []
  },
  {
   "cell_type": "code",
   "execution_count": null,
   "id": "77b30de2",
   "metadata": {},
   "outputs": [],
   "source": []
  },
  {
   "cell_type": "code",
   "execution_count": null,
   "id": "57c04312",
   "metadata": {},
   "outputs": [],
   "source": []
  },
  {
   "cell_type": "code",
   "execution_count": null,
   "id": "2b164a01",
   "metadata": {},
   "outputs": [],
   "source": []
  },
  {
   "cell_type": "code",
   "execution_count": null,
   "id": "15500bae",
   "metadata": {},
   "outputs": [],
   "source": []
  },
  {
   "cell_type": "code",
   "execution_count": null,
   "id": "849a4b15",
   "metadata": {},
   "outputs": [],
   "source": []
  },
  {
   "cell_type": "code",
   "execution_count": null,
   "id": "5136373f",
   "metadata": {},
   "outputs": [],
   "source": []
  },
  {
   "cell_type": "code",
   "execution_count": null,
   "id": "a3c8bc79",
   "metadata": {},
   "outputs": [],
   "source": []
  },
  {
   "cell_type": "code",
   "execution_count": null,
   "id": "9a2c27bb",
   "metadata": {},
   "outputs": [],
   "source": []
  },
  {
   "cell_type": "code",
   "execution_count": null,
   "id": "b8eb3ff9",
   "metadata": {},
   "outputs": [],
   "source": []
  },
  {
   "cell_type": "code",
   "execution_count": null,
   "id": "575d599a",
   "metadata": {},
   "outputs": [],
   "source": []
  },
  {
   "cell_type": "code",
   "execution_count": null,
   "id": "809c8353",
   "metadata": {},
   "outputs": [],
   "source": []
  },
  {
   "cell_type": "code",
   "execution_count": null,
   "id": "29389dad",
   "metadata": {},
   "outputs": [],
   "source": []
  },
  {
   "cell_type": "code",
   "execution_count": null,
   "id": "a6091051",
   "metadata": {},
   "outputs": [],
   "source": []
  },
  {
   "cell_type": "code",
   "execution_count": null,
   "id": "7be2e89f",
   "metadata": {},
   "outputs": [],
   "source": [
    "# data=pd.read_csv(\"C:/Workplace/C++/d2ome_v2/v2/v2/bin/Debug/_AAMLGQEDPPQHGLPR_3_24_FAS_MOUSE.csv\")\n",
    "data=pd.read_csv(\"C:/Workplace/C++/d2ome_v2/v2/v2/bin/Debug/_DPETLLGYSMVGcQR_2_24_FAS_MOUSE.csv\")\n",
    "# data=pd.read_csv(\"data/_DTSFEQHVLLHTGGK_3_21_FAS_MOUSE.csv\")\n",
    "data.head()"
   ]
  },
  {
   "cell_type": "code",
   "execution_count": null,
   "id": "71ba1320",
   "metadata": {},
   "outputs": [],
   "source": [
    "\n",
    "ph"
   ]
  },
  {
   "cell_type": "code",
   "execution_count": null,
   "id": "1a7ecada",
   "metadata": {},
   "outputs": [],
   "source": [
    "# data[\"const\"]=data.NEH*data.pxt\n",
    "# data[\"new_pxt\"]=1-ph- (data.const/( (1-ph)*(data[\"exp_t_A1/A0\"]-data[\"theo_A1/A0\"]) ) )\n",
    "# data[\"new_neh\"]=data.const/data.new_pxt\n",
    "# data=data.sort_values(by=\"RMSE\",ascending=True)\n",
    "# data=data[(data.new_pxt>0) & (data.new_neh>0) & (data.new_neh<118)]\n",
    "\n",
    "# # data[\"temp\"]= (data.new_neh*data.new_pxt)/( (1-ph)*(1-ph-data.new_pxt) )\n",
    "# # data[\"temp2\"]=(data[\"exp_t_A1/A0\"]-data[\"theo_A1/A0\"])\n",
    "\n",
    "# data[\"h1\"]=data.NEH*data.pxt\n",
    "# data[\"h2\"]=data.new_neh*data.new_pxt\n",
    "# data.head(290)"
   ]
  },
  {
   "cell_type": "code",
   "execution_count": null,
   "id": "3ec63e28",
   "metadata": {
    "scrolled": true
   },
   "outputs": [],
   "source": [
    "data[\"const\"]=data.NEH*data.pxt\n",
    "data[\"new_pxt\"]=1-ph- (data.const/( (1-ph)*(data[\"exp_t_A1/A0\"]-data[\"theo_A1/A0\"]) ) )\n",
    "data[\"new_neh\"]=data.const/data.new_pxt\n",
    "data=data.sort_values(by=[\"RMSE\"],ascending=True)\n",
    "\n",
    "data[\"test\"]= 1-ph-data.pxt == (data.NEH*data.pxt)/( (1-ph)*(data[\"exp_t_A1/A0\"]-data[\"exp_A1/A0\"]) )\n",
    "\n",
    "data=data[(data.new_pxt>0) & (data.new_neh>0) & (data.new_neh<118)]\n",
    "\n",
    "\n",
    "\n",
    "# data[\"h1\"]=data.NEH*data.pxt\n",
    "# data[\"h2\"]=data.new_neh*data.new_pxt\n",
    "data.head(20)"
   ]
  },
  {
   "cell_type": "code",
   "execution_count": null,
   "id": "41372295",
   "metadata": {
    "scrolled": true
   },
   "outputs": [],
   "source": [
    "# np.dot(data[[\"NEH\",\"pxt\"]][318],data[[\"new_pxt\",\"new_neh\"]][318])/(norm(data[[\"NEH\",\"pxt\"]][318])*norm(data[[\"new_pxt\",\"new_neh\"]][318]))\n",
    "\n",
    "from sklearn.decomposition import PCA\n",
    "\n",
    "pca = PCA() # Compute PCA\n",
    "pca.fit_transform(  data[[\"const\",\"RMSE\"]])\n",
    "eigenvalues = pca.explained_variance_ # Get eigenvalues\n",
    "eigenvalues = np.round(eigenvalues, 8) # Round off eigenvalues\n",
    "eigenvalues"
   ]
  },
  {
   "cell_type": "code",
   "execution_count": null,
   "id": "9522bdaf",
   "metadata": {},
   "outputs": [],
   "source": [
    "from matplotlib import pyplot as plt\n",
    "# plt.figure(figsize=(15,6))\n",
    "plt.scatter(data.const,data.RMSE,s=1)\n",
    "print(data[data.new_pxt<0].shape)"
   ]
  },
  {
   "cell_type": "code",
   "execution_count": null,
   "id": "9273a79c",
   "metadata": {
    "scrolled": true
   },
   "outputs": [],
   "source": [
    "tempdata=data[data.RMSE<2*min(data.RMSE)]\n",
    "tempdata=tempdata[(tempdata.new_pxt>0) & (tempdata.new_neh>0) & (tempdata.new_neh<data.NH[0])]\n",
    "tempdata[\"pxt_dif\"]=(abs((tempdata.pxt) - (tempdata.new_pxt))) #(abs((tempdata.pxt) - (tempdata.new_pxt)))**2 + (abs((tempdata.NEH) - (tempdata.new_neh)))**2 \n",
    "tempdata.sort_values(by=[\"pxt_dif\"]).head(25)"
   ]
  },
  {
   "cell_type": "code",
   "execution_count": null,
   "id": "b2a8d30c",
   "metadata": {
    "scrolled": false
   },
   "outputs": [],
   "source": [
    "plt.figure(figsize=(15,6))\n",
    "plt.scatter(tempdata.const,tempdata.RMSE,s=1)"
   ]
  },
  {
   "cell_type": "code",
   "execution_count": null,
   "id": "6584650a",
   "metadata": {},
   "outputs": [],
   "source": [
    "np.array(tempdata.sort_values(by=[\"pxt_dif\"]).new_neh.head(5))"
   ]
  },
  {
   "cell_type": "code",
   "execution_count": null,
   "id": "d3718966",
   "metadata": {},
   "outputs": [],
   "source": [
    "np.median(tempdata.sort_values(by=[\"pxt_dif\"]).new_neh.head(5))"
   ]
  },
  {
   "cell_type": "code",
   "execution_count": null,
   "id": "8cfbf7a2",
   "metadata": {},
   "outputs": [],
   "source": [
    "# plt.scatter(range(0,6),[3.94E+06,6.30E+06,8.23E+06,6.51E+06,3.99E+06,3.33E+06])"
   ]
  },
  {
   "cell_type": "code",
   "execution_count": null,
   "id": "d769920d",
   "metadata": {},
   "outputs": [],
   "source": [
    "# plt.scatter(range(0,6),[4.77E+07,9.92E+07,1.11E+08,9.49E+07,5.45E+07,2.81E+07])"
   ]
  },
  {
   "cell_type": "code",
   "execution_count": null,
   "id": "3917fb96",
   "metadata": {},
   "outputs": [],
   "source": []
  },
  {
   "cell_type": "code",
   "execution_count": null,
   "id": "371fd2ce",
   "metadata": {},
   "outputs": [],
   "source": [
    "np.array([0.2475, 0.47250000000000003, 0.345, 1.3425, 0.9825, 1.2075, 1.0725, 1.1925000000000001, 1.1775, 1.1175, 1.335])/75"
   ]
  },
  {
   "cell_type": "code",
   "execution_count": null,
   "id": "b3e72c9f",
   "metadata": {},
   "outputs": [],
   "source": [
    "np.array([[0.16119999999999998, 0.3952, 0.41340000000000005, 0.9229999999999999, 0.9776, 0.9672, 1.0842, 1.183, 1.0608, 1.1258, 1.0972]])/26"
   ]
  },
  {
   "cell_type": "code",
   "execution_count": null,
   "id": "ea05390b",
   "metadata": {},
   "outputs": [],
   "source": []
  }
 ],
 "metadata": {
  "kernelspec": {
   "display_name": "Python 3 (ipykernel)",
   "language": "python",
   "name": "python3"
  },
  "language_info": {
   "codemirror_mode": {
    "name": "ipython",
    "version": 3
   },
   "file_extension": ".py",
   "mimetype": "text/x-python",
   "name": "python",
   "nbconvert_exporter": "python",
   "pygments_lexer": "ipython3",
   "version": "3.9.11"
  }
 },
 "nbformat": 4,
 "nbformat_minor": 5
}
