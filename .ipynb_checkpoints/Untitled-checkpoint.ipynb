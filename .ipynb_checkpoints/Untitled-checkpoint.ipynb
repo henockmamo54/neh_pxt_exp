{
 "cells": [
  {
   "cell_type": "code",
   "execution_count": 43,
   "id": "9063a5d8",
   "metadata": {},
   "outputs": [],
   "source": [
    "import numpy as np\n",
    "from matplotlib import pyplot as plt\n",
    "import math"
   ]
  },
  {
   "cell_type": "code",
   "execution_count": 101,
   "id": "28664182",
   "metadata": {},
   "outputs": [],
   "source": [
    "const=[0.21, 0.631799766, 0.613599882, 1.6170085799999998, 1.57499775, 1.66530585, 1.7465094499999998, 1.89621026, 1.6830088399999998, 1.81670962, 1.78560972]"
   ]
  },
  {
   "cell_type": "code",
   "execution_count": 102,
   "id": "0064415d",
   "metadata": {},
   "outputs": [
    {
     "data": {
      "text/plain": [
       "[<matplotlib.lines.Line2D at 0x1ac5509de20>]"
      ]
     },
     "execution_count": 102,
     "metadata": {},
     "output_type": "execute_result"
    },
    {
     "data": {
      "image/png": "[encoded data removed]",
      "text/plain": [
       "<Figure size 432x288 with 1 Axes>"
      ]
     },
     "metadata": {
      "needs_background": "light"
     },
     "output_type": "display_data"
    }
   ],
   "source": [
    "plt.scatter(range(11),const)\n",
    "plt.plot(range(11),[math.exp(x)-1 for x in const])"
   ]
  },
  {
   "cell_type": "code",
   "execution_count": 210,
   "id": "2c84c881",
   "metadata": {
    "scrolled": true
   },
   "outputs": [],
   "source": [
    "# [(x/100000) for x in list(range(1,5000,1))]"
   ]
  },
  {
   "cell_type": "code",
   "execution_count": 119,
   "id": "074c4875",
   "metadata": {
    "scrolled": true
   },
   "outputs": [],
   "source": [
    "# pxt=[abs(const[-1]-(42*x/100)) for x in list(range(1,50,1))]\n",
    "# min(pxt)"
   ]
  },
  {
   "cell_type": "code",
   "execution_count": 196,
   "id": "8d4d75ac",
   "metadata": {},
   "outputs": [
    {
     "name": "stdout",
     "output_type": "stream",
     "text": [
      "0.0499 1.4834088399999998\n"
     ]
    }
   ],
   "source": [
    "neh=4\n",
    "pxt=[(x/10000) for x in list(range(1,500,1))]\n",
    "diff=[abs(const[8]-neh*x) for x in pxt]\n",
    "print(pxt[diff.index(min(diff))], min(diff))"
   ]
  },
  {
   "cell_type": "code",
   "execution_count": 197,
   "id": "4a1da5ba",
   "metadata": {},
   "outputs": [
    {
     "name": "stdout",
     "output_type": "stream",
     "text": [
      "0.0401 0.00119116000000008\n"
     ]
    }
   ],
   "source": [
    "neh=42\n",
    "pxt=[(x/10000) for x in list(range(1,500,1))]\n",
    "diff=[abs(const[8]-neh*x) for x in pxt]\n",
    "print(pxt[diff.index(min(diff))], min(diff))"
   ]
  },
  {
   "cell_type": "code",
   "execution_count": 214,
   "id": "23406ea6",
   "metadata": {},
   "outputs": [],
   "source": [
    "res=[]\n",
    "for neh in range(100):\n",
    "    sum_er=0\n",
    "#     neh=50\n",
    "    for i in range(11):\n",
    "        pxt=[(x/10000) for x in list(range(1,500,1))]\n",
    "        diff=[abs(const[i]-neh*x) for x in pxt]\n",
    "        sum_er+=min(diff)\n",
    "    res.append(sum_er)"
   ]
  },
  {
   "cell_type": "code",
   "execution_count": 217,
   "id": "53241b3a",
   "metadata": {
    "scrolled": true
   },
   "outputs": [
    {
     "name": "stdout",
     "output_type": "stream",
     "text": [
      "40\n"
     ]
    },
    {
     "data": {
      "text/plain": [
       "<matplotlib.collections.PathCollection at 0x1ac55270a30>"
      ]
     },
     "execution_count": 217,
     "metadata": {},
     "output_type": "execute_result"
    },
    {
     "data": {
      "image/png": "[encoded data removed]",
      "text/plain": [
       "<Figure size 432x288 with 1 Axes>"
      ]
     },
     "metadata": {
      "needs_background": "light"
     },
     "output_type": "display_data"
    }
   ],
   "source": [
    "print(res.index(min(res))+1)\n",
    "plt.scatter(range(100),res,s=1)"
   ]
  },
  {
   "cell_type": "code",
   "execution_count": 213,
   "id": "72586a9d",
   "metadata": {},
   "outputs": [
    {
     "data": {
      "text/plain": [
       "66"
      ]
     },
     "execution_count": 213,
     "metadata": {},
     "output_type": "execute_result"
    }
   ],
   "source": []
  },
  {
   "cell_type": "code",
   "execution_count": null,
   "id": "93afaa86",
   "metadata": {},
   "outputs": [],
   "source": []
  },
  {
   "cell_type": "code",
   "execution_count": null,
   "id": "c8400705",
   "metadata": {},
   "outputs": [],
   "source": []
  },
  {
   "cell_type": "code",
   "execution_count": null,
   "id": "5c3d485e",
   "metadata": {},
   "outputs": [],
   "source": []
  },
  {
   "cell_type": "code",
   "execution_count": null,
   "id": "a9d9b282",
   "metadata": {},
   "outputs": [],
   "source": []
  },
  {
   "cell_type": "code",
   "execution_count": null,
   "id": "f540b55b",
   "metadata": {},
   "outputs": [],
   "source": []
  },
  {
   "cell_type": "code",
   "execution_count": null,
   "id": "f63c2d43",
   "metadata": {},
   "outputs": [],
   "source": []
  },
  {
   "cell_type": "code",
   "execution_count": 109,
   "id": "d26f8882",
   "metadata": {},
   "outputs": [
    {
     "name": "stdout",
     "output_type": "stream",
     "text": [
      "wefound next 0.03 0.03 \n",
      " 0.03 0.03\n",
      "1.08231934\n",
      "wefound next 0.04 0.04 \n",
      " 0.04 0.04\n",
      "0.2423193400000001\n"
     ]
    }
   ],
   "source": [
    "neh=42\n",
    "for pxt in [0.03,0.04]:\n",
    "    \n",
    "    sum_val=abs(const[-1]-neh*pxt)\n",
    "    pxt_p=pxt\n",
    "    prev_const=neh*pxt\n",
    "    for i in [9,8]:#range(len(const)-1,-1,-1):\n",
    "        new_p=0\n",
    "        for spxt in [x/100 for x in list(range(1,50,1))]:\n",
    "            if(pxt_p/spxt== prev_const/(neh*spxt)):\n",
    "                new_p=spxt\n",
    "                print(\"wefound next\",pxt_p,spxt,\"\\n\",pxt_p,spxt)\n",
    "                break\n",
    "        pxt_p=pxt_p*const[i]/prev_const\n",
    "        sum_val+=abs(const[i]-pxt*neh)\n",
    "        break\n",
    "    print(sum_val)"
   ]
  },
  {
   "cell_type": "code",
   "execution_count": 107,
   "id": "f8dd0c31",
   "metadata": {},
   "outputs": [
    {
     "data": {
      "text/plain": [
       "0.03"
      ]
     },
     "execution_count": 107,
     "metadata": {},
     "output_type": "execute_result"
    }
   ],
   "source": [
    "i"
   ]
  },
  {
   "cell_type": "code",
   "execution_count": null,
   "id": "f4b0f78c",
   "metadata": {},
   "outputs": [],
   "source": []
  },
  {
   "cell_type": "code",
   "execution_count": 86,
   "id": "3a1576ce",
   "metadata": {},
   "outputs": [
    {
     "name": "stdout",
     "output_type": "stream",
     "text": [
      "6.661338147750939e-16\n"
     ]
    }
   ],
   "source": [
    "neh=42\n",
    "for pxt in range(0.03,0.045,0.001):\n",
    "    \n",
    "    sum_val=abs(const[i-1]-neh*pxt)\n",
    "    pxt_p=pxt\n",
    "    prev_const=neh*pxt\n",
    "    for i in range(len(const)-1,-1,-1):\n",
    "        pxt_p=pxt_p*const[i]/prev_const\n",
    "        sum_val+=abs(const[i]-pxt*neh)\n",
    "    print(sum_val)"
   ]
  },
  {
   "cell_type": "code",
   "execution_count": 96,
   "id": "d6579942",
   "metadata": {
    "scrolled": true
   },
   "outputs": [
    {
     "data": {
      "text/plain": [
       "[0.03,\n",
       " 0.04,\n",
       " 0.05,\n",
       " 0.06,\n",
       " 0.07,\n",
       " 0.08,\n",
       " 0.09,\n",
       " 0.1,\n",
       " 0.11,\n",
       " 0.12,\n",
       " 0.13,\n",
       " 0.14,\n",
       " 0.15,\n",
       " 0.16,\n",
       " 0.17,\n",
       " 0.18,\n",
       " 0.19,\n",
       " 0.2,\n",
       " 0.21,\n",
       " 0.22,\n",
       " 0.23,\n",
       " 0.24,\n",
       " 0.25,\n",
       " 0.26,\n",
       " 0.27,\n",
       " 0.28,\n",
       " 0.29,\n",
       " 0.3,\n",
       " 0.31,\n",
       " 0.32,\n",
       " 0.33,\n",
       " 0.34,\n",
       " 0.35,\n",
       " 0.36,\n",
       " 0.37,\n",
       " 0.38,\n",
       " 0.39,\n",
       " 0.4,\n",
       " 0.41,\n",
       " 0.42,\n",
       " 0.43,\n",
       " 0.44]"
      ]
     },
     "execution_count": 96,
     "metadata": {},
     "output_type": "execute_result"
    }
   ],
   "source": [
    "[x/100 for x in list(range(3,45,1))]"
   ]
  },
  {
   "cell_type": "code",
   "execution_count": null,
   "id": "c416d0a5",
   "metadata": {},
   "outputs": [],
   "source": []
  },
  {
   "cell_type": "code",
   "execution_count": null,
   "id": "96067919",
   "metadata": {},
   "outputs": [],
   "source": []
  },
  {
   "cell_type": "code",
   "execution_count": null,
   "id": "9507a771",
   "metadata": {},
   "outputs": [],
   "source": []
  },
  {
   "cell_type": "code",
   "execution_count": null,
   "id": "89aff2c0",
   "metadata": {},
   "outputs": [],
   "source": []
  },
  {
   "cell_type": "code",
   "execution_count": 71,
   "id": "24db856c",
   "metadata": {},
   "outputs": [
    {
     "data": {
      "text/plain": [
       "0.0"
      ]
     },
     "execution_count": 71,
     "metadata": {},
     "output_type": "execute_result"
    }
   ],
   "source": [
    "neh=42\n",
    "#31\n",
    "pxt31=const[10]/neh\n",
    "pxt24=pxt31*const[9]/const[10]\n",
    "const[9]-neh*pxt24"
   ]
  },
  {
   "cell_type": "code",
   "execution_count": 30,
   "id": "3ed7601a",
   "metadata": {},
   "outputs": [
    {
     "data": {
      "text/plain": [
       "-2.220446049250313e-16"
      ]
     },
     "execution_count": 30,
     "metadata": {},
     "output_type": "execute_result"
    }
   ],
   "source": [
    "pxt21=pxt24*const[8]/const[9]\n",
    "const[8]-neh*pxt21"
   ]
  },
  {
   "cell_type": "code",
   "execution_count": null,
   "id": "34b4f066",
   "metadata": {},
   "outputs": [],
   "source": []
  },
  {
   "cell_type": "code",
   "execution_count": 73,
   "id": "df1b0d8e",
   "metadata": {},
   "outputs": [
    {
     "name": "stdout",
     "output_type": "stream",
     "text": [
      "9\n",
      "0.0\n",
      "8\n",
      "0.0\n",
      "7\n",
      "0.0\n",
      "6\n",
      "0.0\n",
      "5\n",
      "0.0\n",
      "4\n",
      "0.0\n",
      "3\n",
      "0.0\n",
      "2\n",
      "0.0\n",
      "1\n",
      "0.0\n",
      "0\n",
      "-2.7755575615628914e-17\n"
     ]
    }
   ],
   "source": [
    "neh=1\n",
    "pxt_p=const[len(const)-1]/neh\n",
    "for i in range(len(const)-2,-1,-1):\n",
    "    print(i)\n",
    "    pxt_p=pxt_p*const[i]/const[i+1]\n",
    "    print(const[i]-pxt_p*neh)\n",
    "    "
   ]
  },
  {
   "cell_type": "code",
   "execution_count": 35,
   "id": "6a070bf6",
   "metadata": {},
   "outputs": [],
   "source": [
    "# res=[]\n",
    "# for neh in range (1,50):\n",
    "#     print(neh)\n",
    "#     pxt_p=const[len(const)-1]/neh\n",
    "#     sumval=0\n",
    "#     for i in range(len(const)-2,-1,-1):\n",
    "#         pxt_p=pxt_p*const[i]/const[i+1]\n",
    "#         sumval+=abs(const[i]-pxt_p*neh)\n",
    "#     res.append(sumval)\n",
    "    "
   ]
  },
  {
   "cell_type": "code",
   "execution_count": 23,
   "id": "aacd6f92",
   "metadata": {},
   "outputs": [
    {
     "data": {
      "text/plain": [
       "2.7755575615628914e-17"
      ]
     },
     "execution_count": 23,
     "metadata": {},
     "output_type": "execute_result"
    }
   ],
   "source": [
    "min(res)"
   ]
  },
  {
   "cell_type": "code",
   "execution_count": 24,
   "id": "104fd39d",
   "metadata": {},
   "outputs": [
    {
     "data": {
      "text/plain": [
       "[2.7755575615628914e-17,\n",
       " 2.7755575615628914e-17,\n",
       " 2.7478019859472624e-15,\n",
       " 2.7755575615628914e-17,\n",
       " 3.191891195797325e-15,\n",
       " 2.7478019859472624e-15,\n",
       " 9.159339953157541e-16,\n",
       " 2.7755575615628914e-17,\n",
       " 1.2490009027033011e-15,\n",
       " 3.191891195797325e-15,\n",
       " 4.718447854656915e-16,\n",
       " 2.7478019859472624e-15,\n",
       " 1.8041124150158794e-15,\n",
       " 9.159339953157541e-16,\n",
       " 1.1379786002407855e-15,\n",
       " 2.7755575615628914e-17,\n",
       " 1.3322676295501878e-15,\n",
       " 1.2490009027033011e-15,\n",
       " 4.718447854656915e-16,\n",
       " 3.191891195797325e-15,\n",
       " 1.9984014443252818e-15,\n",
       " 4.718447854656915e-16,\n",
       " 2.8033131371785203e-15,\n",
       " 2.7478019859472624e-15,\n",
       " 1.609823385706477e-15,\n",
       " 1.8041124150158794e-15,\n",
       " 2.3037127760972e-15,\n",
       " 9.159339953157541e-16,\n",
       " 6.938893903907228e-16,\n",
       " 1.1379786002407855e-15,\n",
       " 8.326672684688674e-16,\n",
       " 2.7755575615628914e-17,\n",
       " 1.304512053934559e-15,\n",
       " 1.3322676295501878e-15,\n",
       " 4.996003610813204e-16,\n",
       " 1.2490009027033011e-15,\n",
       " 1.4988010832439613e-15,\n",
       " 4.718447854656915e-16,\n",
       " 1.1379786002407855e-15,\n",
       " 3.191891195797325e-15,\n",
       " 2.0539125955565396e-15,\n",
       " 1.9984014443252818e-15,\n",
       " 8.881784197001252e-16,\n",
       " 4.718447854656915e-16,\n",
       " 2.4702462297909733e-15,\n",
       " 2.8033131371785203e-15,\n",
       " 3.0531133177191805e-15,\n",
       " 2.7478019859472624e-15,\n",
       " 6.938893903907228e-16]"
      ]
     },
     "execution_count": 24,
     "metadata": {},
     "output_type": "execute_result"
    }
   ],
   "source": [
    "res"
   ]
  },
  {
   "cell_type": "code",
   "execution_count": null,
   "id": "0e01cfdb",
   "metadata": {},
   "outputs": [],
   "source": []
  }
 ],
 "metadata": {
  "kernelspec": {
   "display_name": "Python 3 (ipykernel)",
   "language": "python",
   "name": "python3"
  },
  "language_info": {
   "codemirror_mode": {
    "name": "ipython",
    "version": 3
   },
   "file_extension": ".py",
   "mimetype": "text/x-python",
   "name": "python",
   "nbconvert_exporter": "python",
   "pygments_lexer": "ipython3",
   "version": "3.9.11"
  }
 },
 "nbformat": 4,
 "nbformat_minor": 5
}
