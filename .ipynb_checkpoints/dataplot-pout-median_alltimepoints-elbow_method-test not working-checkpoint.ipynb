{
 "cells": [
  {
   "cell_type": "code",
   "execution_count": 3,
   "id": "5d590ecd",
   "metadata": {},
   "outputs": [],
   "source": [
    "import os\n",
    "import pandas as pd\n",
    "import numpy as np\n",
    "from matplotlib import pyplot as plt\n",
    "from itertools import combinations\n",
    "from sklearn.decomposition import PCA"
   ]
  },
  {
   "cell_type": "code",
   "execution_count": 4,
   "id": "dee8d599",
   "metadata": {
    "scrolled": true
   },
   "outputs": [],
   "source": [
    "ph=1.5574E-4\n",
    "times=[1,2,3,6,7,9,13,16,21,24,31] "
   ]
  },
  {
   "cell_type": "code",
   "execution_count": 5,
   "id": "3c841df7",
   "metadata": {},
   "outputs": [],
   "source": [
    "def islinear(data):\n",
    "    pca = PCA() # Compute PCA\n",
    "    pca.fit_transform(data)\n",
    "    eigenvalues = pca.explained_variance_ # Get eigenvalues\n",
    "    eigenvalues = np.round(eigenvalues, 7) # Round off eigenvalues\n",
    "    islin=len([x for x in eigenvalues if x >0])!=2\n",
    "    print(\"is linear \",islin)\n",
    "    return islin "
   ]
  },
  {
   "cell_type": "code",
   "execution_count": 6,
   "id": "bcb1aedf",
   "metadata": {},
   "outputs": [],
   "source": [
    "path=\"C:/Workplace/C++/d2ome_v2/v2/v2/bin/Debug/\"\n",
    "pept=[x.split('_1_')[0] for x in os.listdir(path) if ((\".csv\" in x) and (\"_1_\" in x)) ]"
   ]
  },
  {
   "cell_type": "code",
   "execution_count": null,
   "id": "ad8c5185",
   "metadata": {},
   "outputs": [],
   "source": []
  },
  {
   "cell_type": "code",
   "execution_count": 7,
   "id": "2253e55b",
   "metadata": {
    "scrolled": true
   },
   "outputs": [],
   "source": [
    "from sklearn.metrics import r2_score,mean_squared_error \n",
    "def estimateneh(const,valcons):\n",
    "    plt.scatter(times,const,c='k',s=120)\n",
    "    plt.ylabel(\"px(t)*NEH\")\n",
    "    plt.xlabel(\"Time\")\n",
    "    \n",
    "#     ========================\n",
    "\n",
    "    res=[]\n",
    "    for neh in range(100):\n",
    "        sum_er=0 \n",
    "        for i in range(len(times)):\n",
    "            pxt=[(x/10000) for x in list(range(1,500,1))]\n",
    "            pxt2=[x for x in pxt if (1-ph-(nehval*x))/valcons[i]>0 ]\n",
    "            diff=[abs(const[i]-neh*x) for x in pxt2]\n",
    "            sum_er+=min(diff)\n",
    "        res.append(sum_er)\n",
    "    \n",
    "    # bet neh val    \n",
    "    nehval=res.index(min(res))\n",
    "    \n",
    "    # compute the points for best neh val\n",
    "    temp_const=[]\n",
    "    for i in range(11):\n",
    "        pxt=[(x/10000) for x in list(range(1,500,1))]\n",
    "        pxt2=[x for x in pxt if (1-ph-(neh*x))/valcons[i]>0 ]\n",
    "        diff=[abs(const[i]-neh*x) for x in pxt2]\n",
    "        temp_const.append(pxt2[diff.index(min(diff))]*nehval) \n",
    "    \n",
    "    plt.scatter(times,temp_const,c='r',s=40)    \n",
    "    plt.show()\n",
    "    \n",
    "    corr_matrix = np.corrcoef(const, temp_const)\n",
    "    corr = corr_matrix[0,1]\n",
    "    R_sq = corr**2\n",
    "    r2=r2_score(const, temp_const)\n",
    "    rmse=(mean_squared_error(const, temp_const))**0.5\n",
    "\n",
    "    print(\"**************\",\"RMSE=\",rmse,\"R square=\",r2)\n",
    "    print(temp_const)\n",
    "    \n",
    "    print(\"\\n estimated NEH\",nehval)\n",
    "    plt.scatter(range(100),res,s=10,c='k')\n",
    "    plt.xlabel(\"NEH\")\n",
    "    plt.ylabel(\"Error\")\n",
    "    plt.show()\n",
    "#     ========================\n",
    "    \n",
    "    return nehval"
   ]
  },
  {
   "cell_type": "code",
   "execution_count": 8,
   "id": "b6f71133",
   "metadata": {
    "scrolled": false
   },
   "outputs": [
    {
     "name": "stdout",
     "output_type": "stream",
     "text": [
      "\n",
      " _AAMLGQEDPPQHGLPR_3 Time 1 ==================================>\n",
      "pxt*NEH = 0.21 real_NEH= 42 ratio = 0.005 \n",
      "\n",
      "vals 0.033473866506427016\n",
      "\n",
      " _AAMLGQEDPPQHGLPR_3 Time 2 ==================================>\n",
      "pxt*NEH = 0.631799766 real_NEH= 42 ratio = 0.01504285157142857 \n",
      "\n",
      "vals 0.3185867306210551\n",
      "\n",
      " _AAMLGQEDPPQHGLPR_3 Time 3 ==================================>\n",
      "pxt*NEH = 0.613599882 real_NEH= 42 ratio = 0.014609521 \n",
      "\n",
      "vals 0.10612223527427816\n",
      "\n",
      " _AAMLGQEDPPQHGLPR_3 Time 6 ==================================>\n",
      "pxt*NEH = 1.6170085799999998 real_NEH= 42 ratio = 0.03850020428571428 \n",
      "\n",
      "vals 1.3351066451562674\n",
      "\n",
      " _AAMLGQEDPPQHGLPR_3 Time 7 ==================================>\n",
      "pxt*NEH = 1.57499775 real_NEH= 42 ratio = 0.03749994642857143 \n",
      "\n",
      "vals 1.3421095466964803\n",
      "\n",
      " _AAMLGQEDPPQHGLPR_3 Time 9 ==================================>\n",
      "pxt*NEH = 1.66530585 real_NEH= 42 ratio = 0.039650139285714286 \n",
      "\n",
      "vals 1.7986213748006061\n",
      "\n",
      " _AAMLGQEDPPQHGLPR_3 Time 13 ==================================>\n",
      "pxt*NEH = 1.7465094499999998 real_NEH= 42 ratio = 0.041583558333333326 \n",
      "\n",
      "vals 1.3797643162273765\n",
      "\n",
      " _AAMLGQEDPPQHGLPR_3 Time 16 ==================================>\n",
      "pxt*NEH = 1.89621026 real_NEH= 42 ratio = 0.04514786333333333 \n",
      "\n",
      "vals 1.8547213523243724\n",
      "\n",
      " _AAMLGQEDPPQHGLPR_3 Time 21 ==================================>\n",
      "pxt*NEH = 1.6830088399999998 real_NEH= 42 ratio = 0.04007163904761905 \n",
      "\n",
      "vals 1.856640111029545\n",
      "\n",
      " _AAMLGQEDPPQHGLPR_3 Time 24 ==================================>\n",
      "pxt*NEH = 1.81670962 real_NEH= 42 ratio = 0.04325499095238095 \n",
      "\n",
      "vals 1.7678798896789083\n",
      "\n",
      " _AAMLGQEDPPQHGLPR_3 Time 31 ==================================>\n",
      "pxt*NEH = 1.78560972 real_NEH= 42 ratio = 0.042514517142857144 \n",
      "\n",
      "vals 1.6754447540722959\n",
      "\n",
      " [0.21, 0.631799766, 0.613599882, 1.6170085799999998, 1.57499775, 1.66530585, 1.7465094499999998, 1.89621026, 1.6830088399999998, 1.81670962, 1.78560972] \n",
      " [0.033473866506427016, 0.3185867306210551, 0.10612223527427816, 1.3351066451562674, 1.3421095466964803, 1.7986213748006061, 1.3797643162273765, 1.8547213523243724, 1.856640111029545, 1.7678798896789083, 1.6754447540722959]\n"
     ]
    },
    {
     "data": {
      "image/png": "[encoded data removed]",
      "text/plain": [
       "<Figure size 432x288 with 1 Axes>"
      ]
     },
     "metadata": {
      "needs_background": "light"
     },
     "output_type": "display_data"
    },
    {
     "name": "stdout",
     "output_type": "stream",
     "text": [
      "************** RMSE= 1.1521040863360434 R square= -3.125464689269381\n",
      "[0.0819, 0.24960000000000002, 0.2418, 0.39, 0.39, 0.39, 0.39, 0.39, 0.39, 0.39, 0.39]\n",
      "\n",
      " estimated NEH 39\n"
     ]
    },
    {
     "data": {
      "image/png": "[encoded data removed]",
      "text/plain": [
       "<Figure size 432x288 with 1 Axes>"
      ]
     },
     "metadata": {
      "needs_background": "light"
     },
     "output_type": "display_data"
    },
    {
     "name": "stdout",
     "output_type": "stream",
     "text": [
      "\n",
      "True NEH = 42 \t estimated NEHs median 39\n",
      "\n",
      " _AcVDTALENLSTLK_2 Time 1 ==================================>\n",
      "pxt*NEH = 0.16119999999999998 real_NEH= 23 ratio = 0.007008695652173913 \n",
      "\n",
      "vals 0.1276168851161491\n",
      "\n",
      " _AcVDTALENLSTLK_2 Time 2 ==================================>\n",
      "pxt*NEH = 0.39590000000000003 real_NEH= 23 ratio = 0.01721304347826087 \n",
      "\n",
      "vals 0.36044742560802073\n",
      "\n",
      " _AcVDTALENLSTLK_2 Time 3 ==================================>\n",
      "pxt*NEH = 0.413400106 real_NEH= 23 ratio = 0.01797391765217391 \n",
      "\n",
      "vals 0.33000407535697557\n",
      "\n",
      " _AcVDTALENLSTLK_2 Time 6 ==================================>\n",
      "pxt*NEH = 0.92340475 real_NEH= 23 ratio = 0.04014803260869565 \n",
      "\n",
      "vals 1.110945761810987\n",
      "\n",
      " _AcVDTALENLSTLK_2 Time 7 ==================================>\n",
      "pxt*NEH = 0.978005 real_NEH= 23 ratio = 0.04252195652173913 \n",
      "\n",
      "vals 0.9223413771954793\n",
      "\n",
      " _AcVDTALENLSTLK_2 Time 9 ==================================>\n",
      "pxt*NEH = 0.968005 real_NEH= 23 ratio = 0.04208717391304348 \n",
      "\n",
      "vals 1.0953439878799884\n",
      "\n",
      " _AcVDTALENLSTLK_2 Time 13 ==================================>\n",
      "pxt*NEH = 1.0846057199999999 real_NEH= 23 ratio = 0.047156770434782606 \n",
      "\n",
      "vals 1.2958389200573892\n",
      "\n",
      " _AcVDTALENLSTLK_2 Time 16 ==================================>\n",
      "pxt*NEH = 1.18320624 real_NEH= 23 ratio = 0.0514437495652174 \n",
      "\n",
      "vals 1.3445878295817735\n",
      "\n",
      " _AcVDTALENLSTLK_2 Time 21 ==================================>\n",
      "pxt*NEH = 1.06040528 real_NEH= 23 ratio = 0.046104577391304344 \n",
      "\n",
      "vals 1.206045938649577\n",
      "\n",
      " _AcVDTALENLSTLK_2 Time 24 ==================================>\n",
      "pxt*NEH = 1.1270059799999999 real_NEH= 23 ratio = 0.04900026 \n",
      "\n",
      "vals 1.2797752428266156\n",
      "\n",
      " _AcVDTALENLSTLK_2 Time 31 ==================================>\n",
      "pxt*NEH = 1.09780594 real_NEH= 23 ratio = 0.04773069304347826 \n",
      "\n",
      "vals 1.3547383154885704\n",
      "\n",
      " [0.16119999999999998, 0.39590000000000003, 0.413400106, 0.92340475, 0.978005, 0.968005, 1.0846057199999999, 1.18320624, 1.06040528, 1.1270059799999999, 1.09780594] \n",
      " [0.1276168851161491, 0.36044742560802073, 0.33000407535697557, 1.110945761810987, 0.9223413771954793, 1.0953439878799884, 1.2958389200573892, 1.3445878295817735, 1.206045938649577, 1.2797752428266156, 1.3547383154885704]\n"
     ]
    },
    {
     "data": {
      "image/png": "[encoded data removed]",
      "text/plain": [
       "<Figure size 432x288 with 1 Axes>"
      ]
     },
     "metadata": {
      "needs_background": "light"
     },
     "output_type": "display_data"
    },
    {
     "name": "stdout",
     "output_type": "stream",
     "text": [
      "************** RMSE= 0.694858820029557 R square= -3.231023105194832\n",
      "[0.041600000000000005, 0.10400000000000001, 0.10919999999999999, 0.2418, 0.2574, 0.25479999999999997, 0.26, 0.26, 0.26, 0.26, 0.26]\n",
      "\n",
      " estimated NEH 26\n"
     ]
    },
    {
     "data": {
      "image/png": "[encoded data removed]",
      "text/plain": [
       "<Figure size 432x288 with 1 Axes>"
      ]
     },
     "metadata": {
      "needs_background": "light"
     },
     "output_type": "display_data"
    },
    {
     "name": "stdout",
     "output_type": "stream",
     "text": [
      "\n",
      "True NEH = 23 \t estimated NEHs median 26\n",
      "\n",
      " _DAMLENQTPELFQDVNKPK_3 Time 1 ==================================>\n",
      "pxt*NEH = 0.225 real_NEH= 37 ratio = 0.006081081081081081 \n",
      "\n",
      "vals 0.10096559343419198\n",
      "\n",
      " _DAMLENQTPELFQDVNKPK_3 Time 2 ==================================>\n",
      "pxt*NEH = 0.695999652 real_NEH= 37 ratio = 0.018810801405405406 \n",
      "\n",
      "vals 0.29757862290242104\n",
      "\n",
      " _DAMLENQTPELFQDVNKPK_3 Time 3 ==================================>\n",
      "pxt*NEH = 0.725899643 real_NEH= 37 ratio = 0.01961890927027027 \n",
      "\n",
      "vals 0.3317947964145975\n",
      "\n",
      " _DAMLENQTPELFQDVNKPK_3 Time 6 ==================================>\n",
      "pxt*NEH = 1.44710783 real_NEH= 37 ratio = 0.03911102243243243 \n",
      "\n",
      "vals 0.9953763447225414\n",
      "\n",
      " _DAMLENQTPELFQDVNKPK_3 Time 7 ==================================>\n",
      "pxt*NEH = 1.42680754 real_NEH= 37 ratio = 0.03856236594594595 \n",
      "\n",
      "vals 1.0905010924950482\n",
      "\n",
      " _DAMLENQTPELFQDVNKPK_3 Time 9 ==================================>\n",
      "pxt*NEH = 1.4970081 real_NEH= 37 ratio = 0.040459678378378376 \n",
      "\n",
      "vals 1.4245772309715403\n",
      "\n",
      " _DAMLENQTPELFQDVNKPK_3 Time 13 ==================================>\n",
      "pxt*NEH = 1.54690837 real_NEH= 37 ratio = 0.04180833432432432 \n",
      "\n",
      "vals 1.4647278114779803\n",
      "\n",
      " _DAMLENQTPELFQDVNKPK_3 Time 16 ==================================>\n",
      "pxt*NEH = 1.6830088399999998 real_NEH= 37 ratio = 0.0454867254054054 \n",
      "\n",
      "vals 1.6005534381283695\n",
      "\n",
      " _DAMLENQTPELFQDVNKPK_3 Time 21 ==================================>\n",
      "pxt*NEH = 1.64010891 real_NEH= 37 ratio = 0.04432726783783784 \n",
      "\n",
      "vals 1.6536070292453862\n",
      "\n",
      " _DAMLENQTPELFQDVNKPK_3 Time 24 ==================================>\n",
      "pxt*NEH = 1.54380837 real_NEH= 37 ratio = 0.04172455054054054 \n",
      "\n",
      "vals 1.526972649496557\n",
      "\n",
      " _DAMLENQTPELFQDVNKPK_3 Time 31 ==================================>\n",
      "pxt*NEH = 1.6830088399999998 real_NEH= 37 ratio = 0.0454867254054054 \n",
      "\n",
      "vals 1.8547224184258921\n",
      "\n",
      " [0.225, 0.695999652, 0.725899643, 1.44710783, 1.42680754, 1.4970081, 1.54690837, 1.6830088399999998, 1.64010891, 1.54380837, 1.6830088399999998] \n",
      " [0.10096559343419198, 0.29757862290242104, 0.3317947964145975, 0.9953763447225414, 1.0905010924950482, 1.4245772309715403, 1.4647278114779803, 1.6005534381283695, 1.6536070292453862, 1.526972649496557, 1.8547224184258921]\n"
     ]
    },
    {
     "data": {
      "image/png": "[encoded data removed]",
      "text/plain": [
       "<Figure size 432x288 with 1 Axes>"
      ]
     },
     "metadata": {
      "needs_background": "light"
     },
     "output_type": "display_data"
    },
    {
     "name": "stdout",
     "output_type": "stream",
     "text": [
      "************** RMSE= 1.0263297909612774 R square= -3.7237190757336327\n",
      "[0.0874, 0.266, 0.2774, 0.38, 0.38, 0.38, 0.38, 0.38, 0.38, 0.38, 0.38]\n",
      "\n",
      " estimated NEH 38\n"
     ]
    },
    {
     "data": {
      "image/png": "[encoded data removed]",
      "text/plain": [
       "<Figure size 432x288 with 1 Axes>"
      ]
     },
     "metadata": {
      "needs_background": "light"
     },
     "output_type": "display_data"
    },
    {
     "name": "stdout",
     "output_type": "stream",
     "text": [
      "\n",
      "True NEH = 37 \t estimated NEHs median 38\n",
      "\n",
      " _DcMLGMEFSGR_2 Time 1 ==================================>\n",
      "pxt*NEH = 0.09 real_NEH= 20 ratio = 0.0045 \n",
      "\n",
      "vals 0.035340076895616086\n",
      "\n",
      " _DcMLGMEFSGR_2 Time 2 ==================================>\n",
      "pxt*NEH = 0.2886 real_NEH= 20 ratio = 0.014430000000000002 \n",
      "\n",
      "vals 0.26797211682765415\n",
      "\n",
      " _DcMLGMEFSGR_2 Time 3 ==================================>\n",
      "pxt*NEH = 0.31980000000000003 real_NEH= 20 ratio = 0.01599 \n",
      "\n",
      "vals 0.2912214766029089\n",
      "\n",
      " _DcMLGMEFSGR_2 Time 6 ==================================>\n",
      "pxt*NEH = 0.84239928 real_NEH= 20 ratio = 0.042119963999999996 \n",
      "\n",
      "vals 0.7832454886141299\n",
      "\n",
      " _DcMLGMEFSGR_2 Time 7 ==================================>\n",
      "pxt*NEH = 0.7410039 real_NEH= 20 ratio = 0.037050195 \n",
      "\n",
      "vals 0.7704748035977848\n",
      "\n",
      " _DcMLGMEFSGR_2 Time 9 ==================================>\n",
      "pxt*NEH = 0.75999924 real_NEH= 20 ratio = 0.037999962 \n",
      "\n",
      "vals 0.7140244861413083\n",
      "\n",
      " _DcMLGMEFSGR_2 Time 13 ==================================>\n",
      "pxt*NEH = 0.84490459 real_NEH= 20 ratio = 0.042245229499999995 \n",
      "\n",
      "vals 0.9402306334290369\n",
      "\n",
      " _DcMLGMEFSGR_2 Time 16 ==================================>\n",
      "pxt*NEH = 0.9323992600000001 real_NEH= 20 ratio = 0.046619963 \n",
      "\n",
      "vals 0.8515507815813337\n",
      "\n",
      " _DcMLGMEFSGR_2 Time 21 ==================================>\n",
      "pxt*NEH = 0.82790425 real_NEH= 20 ratio = 0.0413952125 \n",
      "\n",
      "vals 0.8716717540190773\n",
      "\n",
      " _DcMLGMEFSGR_2 Time 24 ==================================>\n",
      "pxt*NEH = 0.88920468 real_NEH= 20 ratio = 0.044460234 \n",
      "\n",
      "vals 1.1446216619176541\n",
      "\n",
      " _DcMLGMEFSGR_2 Time 31 ==================================>\n",
      "pxt*NEH = 0.9139045600000001 real_NEH= 20 ratio = 0.045695228000000004 \n",
      "\n",
      "vals 0.9876975370689973\n",
      "\n",
      " [0.09, 0.2886, 0.31980000000000003, 0.84239928, 0.7410039, 0.75999924, 0.84490459, 0.9323992600000001, 0.82790425, 0.88920468, 0.9139045600000001] \n",
      " [0.035340076895616086, 0.26797211682765415, 0.2912214766029089, 0.7832454886141299, 0.7704748035977848, 0.7140244861413083, 0.9402306334290369, 0.8515507815813337, 0.8716717540190773, 1.1446216619176541, 0.9876975370689973]\n"
     ]
    },
    {
     "data": {
      "image/png": "[encoded data removed]",
      "text/plain": [
       "<Figure size 432x288 with 1 Axes>"
      ]
     },
     "metadata": {
      "needs_background": "light"
     },
     "output_type": "display_data"
    },
    {
     "name": "stdout",
     "output_type": "stream",
     "text": [
      "************** RMSE= 0.5930931558410671 R square= -3.4034776001885723\n",
      "[0.0171, 0.055099999999999996, 0.0608, 0.1615, 0.1425, 0.1463, 0.1615, 0.1786, 0.1596, 0.17099999999999999, 0.1748]\n",
      "\n",
      " estimated NEH 19\n"
     ]
    },
    {
     "data": {
      "image/png": "[encoded data removed]",
      "text/plain": [
       "<Figure size 432x288 with 1 Axes>"
      ]
     },
     "metadata": {
      "needs_background": "light"
     },
     "output_type": "display_data"
    },
    {
     "name": "stdout",
     "output_type": "stream",
     "text": [
      "\n",
      "True NEH = 20 \t estimated NEHs median 19\n",
      "\n",
      " _DPETLLGYSMVGcQR_2 Time 1 ==================================>\n",
      "pxt*NEH = 0.171 real_NEH= 27 ratio = 0.006333333333333334 \n",
      "\n",
      "vals 0.11219187999878713\n",
      "\n",
      " _DPETLLGYSMVGcQR_2 Time 2 ==================================>\n",
      "pxt*NEH = 0.436800112 real_NEH= 27 ratio = 0.016177781925925925 \n",
      "\n",
      "vals 0.29706427006420977\n",
      "\n",
      " _DPETLLGYSMVGcQR_2 Time 3 ==================================>\n",
      "pxt*NEH = 0.4032 real_NEH= 27 ratio = 0.014933333333333333 \n",
      "\n",
      "vals 0.3910205486670904\n",
      "\n",
      " _DPETLLGYSMVGcQR_2 Time 6 ==================================>\n",
      "pxt*NEH = 1.00800504 real_NEH= 27 ratio = 0.03733352 \n",
      "\n",
      "vals 1.3213529907154162\n",
      "\n",
      " _DPETLLGYSMVGcQR_2 Time 7 ==================================>\n",
      "pxt*NEH = 1.1172028 real_NEH= 27 ratio = 0.041377881481481485 \n",
      "\n",
      "vals 1.0594620631616236\n",
      "\n",
      " _DPETLLGYSMVGcQR_2 Time 9 ==================================>\n",
      "pxt*NEH = 1.12010575 real_NEH= 27 ratio = 0.041485398148148146 \n",
      "\n",
      "vals 1.2771852561328931\n",
      "\n",
      " _DPETLLGYSMVGcQR_2 Time 13 ==================================>\n",
      "pxt*NEH = 1.2374985 real_NEH= 27 ratio = 0.04583327777777778 \n",
      "\n",
      "vals 1.078428579325133\n",
      "\n",
      " _DPETLLGYSMVGcQR_2 Time 16 ==================================>\n",
      "pxt*NEH = 1.28700676 real_NEH= 27 ratio = 0.047666917037037036 \n",
      "\n",
      "vals 1.5256581242546368\n",
      "\n",
      " _DPETLLGYSMVGcQR_2 Time 21 ==================================>\n",
      "pxt*NEH = 1.24000675 real_NEH= 27 ratio = 0.045926175925925926 \n",
      "\n",
      "vals 1.259688878061124\n",
      "\n",
      " _DPETLLGYSMVGcQR_2 Time 24 ==================================>\n",
      "pxt*NEH = 1.4850078 real_NEH= 27 ratio = 0.05500028888888889 \n",
      "\n",
      "vals 1.1737423160080924\n",
      "\n",
      " _DPETLLGYSMVGcQR_2 Time 31 ==================================>\n",
      "pxt*NEH = 1.3574985000000002 real_NEH= 27 ratio = 0.05027772222222223 \n",
      "\n",
      "vals 0.5964227530438851\n",
      "\n",
      " [0.171, 0.436800112, 0.4032, 1.00800504, 1.1172028, 1.12010575, 1.2374985, 1.28700676, 1.24000675, 1.4850078, 1.3574985000000002] \n",
      " [0.11219187999878713, 0.29706427006420977, 0.3910205486670904, 1.3213529907154162, 1.0594620631616236, 1.2771852561328931, 1.078428579325133, 1.5256581242546368, 1.259688878061124, 1.1737423160080924, 0.5964227530438851]\n"
     ]
    },
    {
     "data": {
      "image/png": "[encoded data removed]",
      "text/plain": [
       "<Figure size 432x288 with 1 Axes>"
      ]
     },
     "metadata": {
      "needs_background": "light"
     },
     "output_type": "display_data"
    },
    {
     "name": "stdout",
     "output_type": "stream",
     "text": [
      "************** RMSE= 0.8052740763730138 R square= -2.6644934808811063\n",
      "[0.0527, 0.13640000000000002, 0.12710000000000002, 0.31, 0.31, 0.31, 0.31, 0.31, 0.31, 0.31, 0.31]\n",
      "\n",
      " estimated NEH 31\n"
     ]
    },
    {
     "data": {
      "image/png": "[encoded data removed]",
      "text/plain": [
       "<Figure size 432x288 with 1 Axes>"
      ]
     },
     "metadata": {
      "needs_background": "light"
     },
     "output_type": "display_data"
    },
    {
     "name": "stdout",
     "output_type": "stream",
     "text": [
      "\n",
      "True NEH = 27 \t estimated NEHs median 31\n",
      "\n",
      " _EGGFLLVHTVLK_3 Time 1 ==================================>\n",
      "pxt*NEH = 0.1209 real_NEH= 14 ratio = 0.008635714285714285 \n",
      "\n",
      "vals 0.11395755183373643\n",
      "\n",
      " _EGGFLLVHTVLK_3 Time 2 ==================================>\n",
      "pxt*NEH = 0.264 real_NEH= 14 ratio = 0.018857142857142857 \n",
      "\n",
      "vals 0.2388963177674007\n",
      "\n",
      " _EGGFLLVHTVLK_3 Time 3 ==================================>\n",
      "pxt*NEH = 0.279 real_NEH= 14 ratio = 0.01992857142857143 \n",
      "\n",
      "vals 0.2277246810523264\n",
      "\n",
      " _EGGFLLVHTVLK_3 Time 6 ==================================>\n",
      "pxt*NEH = 0.601799694 real_NEH= 14 ratio = 0.04298569242857143 \n",
      "\n",
      "vals 0.5439561363483014\n",
      "\n",
      " _EGGFLLVHTVLK_3 Time 7 ==================================>\n",
      "pxt*NEH = 0.550799796 real_NEH= 14 ratio = 0.03934284257142857 \n",
      "\n",
      "vals 0.4615297278087471\n",
      "\n",
      " _EGGFLLVHTVLK_3 Time 9 ==================================>\n",
      "pxt*NEH = 0.6459994680000001 real_NEH= 14 ratio = 0.04614281914285715 \n",
      "\n",
      "vals 0.653446783753921\n",
      "\n",
      " _EGGFLLVHTVLK_3 Time 13 ==================================>\n",
      "pxt*NEH = 0.7365039 real_NEH= 14 ratio = 0.05260742142857143 \n",
      "\n",
      "vals 0.7927371574782303\n",
      "\n",
      " _EGGFLLVHTVLK_3 Time 16 ==================================>\n",
      "pxt*NEH = 0.776004 real_NEH= 14 ratio = 0.05542885714285715 \n",
      "\n",
      "vals 0.7885477164839012\n",
      "\n",
      " _EGGFLLVHTVLK_3 Time 21 ==================================>\n",
      "pxt*NEH = 0.71400345 real_NEH= 14 ratio = 0.05100024642857143 \n",
      "\n",
      "vals 0.8093980492319064\n",
      "\n",
      " _EGGFLLVHTVLK_3 Time 24 ==================================>\n",
      "pxt*NEH = 0.63700338 real_NEH= 14 ratio = 0.04550024142857143 \n",
      "\n",
      "vals 0.7055314733456257\n",
      "\n",
      " _EGGFLLVHTVLK_3 Time 31 ==================================>\n",
      "pxt*NEH = 0.74550405 real_NEH= 14 ratio = 0.053250289285714285 \n",
      "\n",
      "vals 0.8782227959875861\n",
      "\n",
      " [0.1209, 0.264, 0.279, 0.601799694, 0.550799796, 0.6459994680000001, 0.7365039, 0.776004, 0.71400345, 0.63700338, 0.74550405] \n",
      " [0.11395755183373643, 0.2388963177674007, 0.2277246810523264, 0.5439561363483014, 0.4615297278087471, 0.653446783753921, 0.7927371574782303, 0.7885477164839012, 0.8093980492319064, 0.7055314733456257, 0.8782227959875861]\n"
     ]
    },
    {
     "data": {
      "image/png": "[encoded data removed]",
      "text/plain": [
       "<Figure size 432x288 with 1 Axes>"
      ]
     },
     "metadata": {
      "needs_background": "light"
     },
     "output_type": "display_data"
    },
    {
     "name": "stdout",
     "output_type": "stream",
     "text": [
      "************** RMSE= 0.4849938104412315 R square= -4.075624680288268\n",
      "[0.021599999999999998, 0.048600000000000004, 0.0504, 0.10980000000000001, 0.1008, 0.11699999999999999, 0.1332, 0.1404, 0.1296, 0.11520000000000001, 0.135]\n",
      "\n",
      " estimated NEH 18\n"
     ]
    },
    {
     "data": {
      "image/png": "[encoded data removed]",
      "text/plain": [
       "<Figure size 432x288 with 1 Axes>"
      ]
     },
     "metadata": {
      "needs_background": "light"
     },
     "output_type": "display_data"
    },
    {
     "name": "stdout",
     "output_type": "stream",
     "text": [
      "\n",
      "True NEH = 14 \t estimated NEHs median 18\n",
      "\n",
      " _ELSFAAVSFYHK_2 Time 1 ==================================>\n",
      "pxt*NEH = 0.249 real_NEH= 22 ratio = 0.011318181818181818 \n",
      "\n",
      "vals 0.0021861044470623064\n",
      "\n",
      " _ELSFAAVSFYHK_2 Time 2 ==================================>\n",
      "pxt*NEH = 0.474999905 real_NEH= 22 ratio = 0.021590904772727272 \n",
      "\n",
      "vals 0.12803567734505597\n",
      "\n",
      " _ELSFAAVSFYHK_2 Time 3 ==================================>\n",
      "pxt*NEH = 0.3456 real_NEH= 22 ratio = 0.01570909090909091 \n",
      "\n",
      "vals 0.219363005528245\n",
      "\n",
      " _ELSFAAVSFYHK_2 Time 6 ==================================>\n",
      "pxt*NEH = 1.3424985 real_NEH= 22 ratio = 0.06102265909090909 \n",
      "\n",
      "vals 0.724059960730617\n",
      "\n",
      " _ELSFAAVSFYHK_2 Time 7 ==================================>\n",
      "pxt*NEH = 0.98249925 real_NEH= 22 ratio = 0.04465905681818182 \n",
      "\n",
      "vals 0.9394919310349167\n",
      "\n",
      " _ELSFAAVSFYHK_2 Time 9 ==================================>\n",
      "pxt*NEH = 1.2074985 real_NEH= 22 ratio = 0.05488629545454546 \n",
      "\n",
      "vals 0.57701810260093\n",
      "\n",
      " _ELSFAAVSFYHK_2 Time 13 ==================================>\n",
      "pxt*NEH = 1.0724985 real_NEH= 22 ratio = 0.04874993181818182 \n",
      "\n",
      "vals 1.1511997812420727\n",
      "\n",
      " _ELSFAAVSFYHK_2 Time 16 ==================================>\n",
      "pxt*NEH = 1.1924985000000001 real_NEH= 22 ratio = 0.05420447727272728 \n",
      "\n",
      "vals 0.5893425517928276\n",
      "\n",
      " _ELSFAAVSFYHK_2 Time 21 ==================================>\n",
      "pxt*NEH = 1.1774985 real_NEH= 22 ratio = 0.05352265909090909 \n",
      "\n",
      "vals 0.848083298131472\n",
      "\n",
      " _ELSFAAVSFYHK_2 Time 24 ==================================>\n",
      "pxt*NEH = 1.1174985 real_NEH= 22 ratio = 0.05079538636363636 \n",
      "\n",
      "vals 0.8008348171202325\n",
      "\n",
      " _ELSFAAVSFYHK_2 Time 31 ==================================>\n",
      "pxt*NEH = 1.3349985 real_NEH= 22 ratio = 0.06068175 \n",
      "\n",
      "vals 0.9191097954226415\n",
      "\n",
      " [0.249, 0.474999905, 0.3456, 1.3424985, 0.98249925, 1.2074985, 1.0724985, 1.1924985000000001, 1.1774985, 1.1174985, 1.3349985] \n",
      " [0.0021861044470623064, 0.12803567734505597, 0.219363005528245, 0.724059960730617, 0.9394919310349167, 0.57701810260093, 1.1511997812420727, 0.5893425517928276, 0.848083298131472, 0.8008348171202325, 0.9191097954226415]\n"
     ]
    },
    {
     "data": {
      "image/png": "[encoded data removed]",
      "text/plain": [
       "<Figure size 432x288 with 1 Axes>"
      ]
     },
     "metadata": {
      "needs_background": "light"
     },
     "output_type": "display_data"
    },
    {
     "name": "stdout",
     "output_type": "stream",
     "text": [
      "************** RMSE= 0.3815894263312958 R square= 0.0022871721409076784\n",
      "[0.1875, 0.36, 0.2625, 0.75, 0.7425, 0.75, 0.75, 0.75, 0.75, 0.75, 0.75]\n",
      "\n",
      " estimated NEH 75\n"
     ]
    },
    {
     "data": {
      "image/png": "[encoded data removed]",
      "text/plain": [
       "<Figure size 432x288 with 1 Axes>"
      ]
     },
     "metadata": {
      "needs_background": "light"
     },
     "output_type": "display_data"
    },
    {
     "name": "stdout",
     "output_type": "stream",
     "text": [
      "\n",
      "True NEH = 22 \t estimated NEHs median 75\n",
      "\n",
      " _EQTAHAFVNVLTR_3 Time 1 ==================================>\n",
      "pxt*NEH = 0.156 real_NEH= 26 ratio = 0.006 \n",
      "\n",
      "vals 0.14411117432118586\n",
      "\n",
      " _EQTAHAFVNVLTR_3 Time 2 ==================================>\n",
      "pxt*NEH = 0.3465 real_NEH= 26 ratio = 0.013326923076923076 \n",
      "\n",
      "vals 0.3098504977475596\n",
      "\n",
      " _EQTAHAFVNVLTR_3 Time 3 ==================================>\n",
      "pxt*NEH = 0.3465 real_NEH= 26 ratio = 0.013326923076923076 \n",
      "\n",
      "vals 0.31993235089317784\n",
      "\n",
      " _EQTAHAFVNVLTR_3 Time 6 ==================================>\n",
      "pxt*NEH = 0.9960054 real_NEH= 26 ratio = 0.0383079 \n",
      "\n",
      "vals 1.3022890652528916\n",
      "\n",
      " _EQTAHAFVNVLTR_3 Time 7 ==================================>\n",
      "pxt*NEH = 0.887399286 real_NEH= 26 ratio = 0.03413074176923077 \n",
      "\n",
      "vals 1.1379131981019006\n",
      "\n",
      " _EQTAHAFVNVLTR_3 Time 9 ==================================>\n",
      "pxt*NEH = 1.01850525 real_NEH= 26 ratio = 0.03917327884615385 \n",
      "\n",
      "vals 1.255513454441276\n",
      "\n",
      " _EQTAHAFVNVLTR_3 Time 13 ==================================>\n",
      "pxt*NEH = 1.0582052800000001 real_NEH= 26 ratio = 0.04070020307692308 \n",
      "\n",
      "vals 1.2513163190139645\n",
      "\n",
      " _EQTAHAFVNVLTR_3 Time 16 ==================================>\n",
      "pxt*NEH = 1.1270059799999999 real_NEH= 26 ratio = 0.043346383846153844 \n",
      "\n",
      "vals 1.3600510951274956\n",
      "\n",
      " _EQTAHAFVNVLTR_3 Time 21 ==================================>\n",
      "pxt*NEH = 1.0063985199999999 real_NEH= 26 ratio = 0.03870763538461538 \n",
      "\n",
      "vals 1.1614518313346438\n",
      "\n",
      " _EQTAHAFVNVLTR_3 Time 24 ==================================>\n",
      "pxt*NEH = 1.09560594 real_NEH= 26 ratio = 0.04213869 \n",
      "\n",
      "vals 1.5595877389686088\n",
      "\n",
      " _EQTAHAFVNVLTR_3 Time 31 ==================================>\n",
      "pxt*NEH = 1.1474985 real_NEH= 26 ratio = 0.04413455769230769 \n",
      "\n",
      "vals 1.4239645490645807\n",
      "\n",
      " [0.156, 0.3465, 0.3465, 0.9960054, 0.887399286, 1.01850525, 1.0582052800000001, 1.1270059799999999, 1.0063985199999999, 1.09560594, 1.1474985] \n",
      " [0.14411117432118586, 0.3098504977475596, 0.31993235089317784, 1.3022890652528916, 1.1379131981019006, 1.255513454441276, 1.2513163190139645, 1.3600510951274956, 1.1614518313346438, 1.5595877389686088, 1.4239645490645807]\n"
     ]
    },
    {
     "data": {
      "image/png": "[encoded data removed]",
      "text/plain": [
       "<Figure size 432x288 with 1 Axes>"
      ]
     },
     "metadata": {
      "needs_background": "light"
     },
     "output_type": "display_data"
    },
    {
     "name": "stdout",
     "output_type": "stream",
     "text": [
      "************** RMSE= 0.707851046683192 R square= -3.1419169317422053\n",
      "[0.0368, 0.0805, 0.0805, 0.23, 0.207, 0.23, 0.23, 0.23, 0.23, 0.23, 0.23]\n",
      "\n",
      " estimated NEH 23\n"
     ]
    },
    {
     "data": {
      "image/png": "[encoded data removed]",
      "text/plain": [
       "<Figure size 432x288 with 1 Axes>"
      ]
     },
     "metadata": {
      "needs_background": "light"
     },
     "output_type": "display_data"
    },
    {
     "name": "stdout",
     "output_type": "stream",
     "text": [
      "\n",
      "True NEH = 26 \t estimated NEHs median 23\n",
      "\n",
      " _FPQLDDTSFANSR_2 Time 1 ==================================>\n",
      "pxt*NEH = 0.171 real_NEH= 26 ratio = 0.006576923076923077 \n",
      "\n",
      "vals 0.09470633412865287\n",
      "\n",
      " _FPQLDDTSFANSR_2 Time 2 ==================================>\n",
      "pxt*NEH = 0.47039990400000004 real_NEH= 26 ratio = 0.018092304 \n",
      "\n",
      "vals 0.3130234550456242\n",
      "\n",
      " _FPQLDDTSFANSR_2 Time 3 ==================================>\n",
      "pxt*NEH = 0.43199999999999994 real_NEH= 26 ratio = 0.01661538461538461 \n",
      "\n",
      "vals 0.29669866489079133\n",
      "\n",
      " _FPQLDDTSFANSR_2 Time 6 ==================================>\n",
      "pxt*NEH = 1.0669990299999998 real_NEH= 26 ratio = 0.04103842423076923 \n",
      "\n",
      "vals 0.6328115944445515\n",
      "\n",
      " _FPQLDDTSFANSR_2 Time 7 ==================================>\n",
      "pxt*NEH = 0.9893990300000001 real_NEH= 26 ratio = 0.03805380884615385 \n",
      "\n",
      "vals 0.8208668044417566\n",
      "\n",
      " _FPQLDDTSFANSR_2 Time 9 ==================================>\n",
      "pxt*NEH = 1.12319904 real_NEH= 26 ratio = 0.04319996307692308 \n",
      "\n",
      "vals 0.8152827548392036\n",
      "\n",
      " _FPQLDDTSFANSR_2 Time 13 ==================================>\n",
      "pxt*NEH = 1.2007984800000002 real_NEH= 26 ratio = 0.04618455692307693 \n",
      "\n",
      "vals 1.3636419415960532\n",
      "\n",
      " _FPQLDDTSFANSR_2 Time 16 ==================================>\n",
      "pxt*NEH = 1.26719904 real_NEH= 26 ratio = 0.048738424615384614 \n",
      "\n",
      "vals 0.8531014305390473\n",
      "\n",
      " _FPQLDDTSFANSR_2 Time 21 ==================================>\n",
      "pxt*NEH = 1.1174985 real_NEH= 26 ratio = 0.04298071153846154 \n",
      "\n",
      "vals 1.0189667694997657\n",
      "\n",
      " _FPQLDDTSFANSR_2 Time 24 ==================================>\n",
      "pxt*NEH = 1.21599848 real_NEH= 26 ratio = 0.046769172307692314 \n",
      "\n",
      "vals 1.1495886380893316\n",
      "\n",
      " _FPQLDDTSFANSR_2 Time 31 ==================================>\n",
      "pxt*NEH = 1.1924985000000001 real_NEH= 26 ratio = 0.045865326923076925 \n",
      "\n",
      "vals 1.119787741020973\n",
      "\n",
      " [0.171, 0.47039990400000004, 0.43199999999999994, 1.0669990299999998, 0.9893990300000001, 1.12319904, 1.2007984800000002, 1.26719904, 1.1174985, 1.21599848, 1.1924985000000001] \n",
      " [0.09470633412865287, 0.3130234550456242, 0.29669866489079133, 0.6328115944445515, 0.8208668044417566, 0.8152827548392036, 1.3636419415960532, 0.8531014305390473, 1.0189667694997657, 1.1495886380893316, 1.119787741020973]\n"
     ]
    },
    {
     "data": {
      "image/png": "[encoded data removed]",
      "text/plain": [
       "<Figure size 432x288 with 1 Axes>"
      ]
     },
     "metadata": {
      "needs_background": "light"
     },
     "output_type": "display_data"
    },
    {
     "name": "stdout",
     "output_type": "stream",
     "text": [
      "************** RMSE= 0.7474485748419848 R square= -3.186845315250787\n",
      "[0.0493, 0.1392, 0.12760000000000002, 0.29, 0.29, 0.29, 0.29, 0.29, 0.29, 0.29, 0.29]\n",
      "\n",
      " estimated NEH 29\n"
     ]
    },
    {
     "data": {
      "image/png": "[encoded data removed]",
      "text/plain": [
       "<Figure size 432x288 with 1 Axes>"
      ]
     },
     "metadata": {
      "needs_background": "light"
     },
     "output_type": "display_data"
    },
    {
     "name": "stdout",
     "output_type": "stream",
     "text": [
      "\n",
      "True NEH = 26 \t estimated NEHs median 29\n",
      "\n",
      " _FVFTPHMEAEcLSESTALQK_3 Time 1 ==================================>\n",
      "pxt*NEH = 0.37120000000000003 real_NEH= 40 ratio = 0.00928 \n",
      "\n",
      "vals 0.21373901135624535\n",
      "\n",
      " _FVFTPHMEAEcLSESTALQK_3 Time 2 ==================================>\n",
      "pxt*NEH = 0.8699992499999999 real_NEH= 40 ratio = 0.021749981249999998 \n",
      "\n",
      "vals 0.6197366214141702\n",
      "\n",
      " _FVFTPHMEAEcLSESTALQK_3 Time 3 ==================================>\n",
      "pxt*NEH = 0.89999925 real_NEH= 40 ratio = 0.022499981250000002 \n",
      "\n",
      "vals 0.3219867462250447\n",
      "\n",
      " _FVFTPHMEAEcLSESTALQK_3 Time 6 ==================================>\n",
      "pxt*NEH = 2.227497 real_NEH= 40 ratio = 0.055687425 \n",
      "\n",
      "vals 1.363394227055772\n",
      "\n",
      " _FVFTPHMEAEcLSESTALQK_3 Time 7 ==================================>\n",
      "pxt*NEH = 2.33249625 real_NEH= 40 ratio = 0.058312406250000004 \n",
      "\n",
      "vals 1.6397207274541912\n",
      "\n",
      " _FVFTPHMEAEcLSESTALQK_3 Time 9 ==================================>\n",
      "pxt*NEH = 2.0324969999999998 real_NEH= 40 ratio = 0.050812424999999994 \n",
      "\n",
      "vals 1.8176168338322207\n",
      "\n",
      " _FVFTPHMEAEcLSESTALQK_3 Time 13 ==================================>\n",
      "pxt*NEH = 2.2455121499999997 real_NEH= 40 ratio = 0.05613780374999999 \n",
      "\n",
      "vals 1.5754574400601953\n",
      "\n",
      " _FVFTPHMEAEcLSESTALQK_3 Time 16 ==================================>\n",
      "pxt*NEH = 2.3453126899999996 real_NEH= 40 ratio = 0.05863281724999999 \n",
      "\n",
      "vals 1.5884298889090565\n",
      "\n",
      " _FVFTPHMEAEcLSESTALQK_3 Time 21 ==================================>\n",
      "pxt*NEH = 2.02131066 real_NEH= 40 ratio = 0.050532766500000006 \n",
      "\n",
      "vals 1.8293216036596154\n",
      "\n",
      " _FVFTPHMEAEcLSESTALQK_3 Time 24 ==================================>\n",
      "pxt*NEH = 2.08321134 real_NEH= 40 ratio = 0.052080283500000005 \n",
      "\n",
      "vals 1.8154271271854034\n",
      "\n",
      " _FVFTPHMEAEcLSESTALQK_3 Time 31 ==================================>\n",
      "pxt*NEH = 2.1692114399999998 real_NEH= 40 ratio = 0.054230285999999996 \n",
      "\n",
      "vals 2.4322807671234763\n",
      "\n",
      " [0.37120000000000003, 0.8699992499999999, 0.89999925, 2.227497, 2.33249625, 2.0324969999999998, 2.2455121499999997, 2.3453126899999996, 2.02131066, 2.08321134, 2.1692114399999998] \n",
      " [0.21373901135624535, 0.6197366214141702, 0.3219867462250447, 1.363394227055772, 1.6397207274541912, 1.8176168338322207, 1.5754574400601953, 1.5884298889090565, 1.8293216036596154, 1.8154271271854034, 2.4322807671234763]\n"
     ]
    },
    {
     "data": {
      "image/png": "[encoded data removed]",
      "text/plain": [
       "<Figure size 432x288 with 1 Axes>"
      ]
     },
     "metadata": {
      "needs_background": "light"
     },
     "output_type": "display_data"
    },
    {
     "name": "stdout",
     "output_type": "stream",
     "text": [
      "************** RMSE= 1.478173172210364 R square= -3.8123965558764707\n",
      "[0.1739, 0.4136, 0.4277, 0.47000000000000003, 0.47000000000000003, 0.47000000000000003, 0.47000000000000003, 0.47000000000000003, 0.47000000000000003, 0.47000000000000003, 0.47000000000000003]\n",
      "\n",
      " estimated NEH 47\n"
     ]
    },
    {
     "data": {
      "image/png": "[encoded data removed]",
      "text/plain": [
       "<Figure size 432x288 with 1 Axes>"
      ]
     },
     "metadata": {
      "needs_background": "light"
     },
     "output_type": "display_data"
    },
    {
     "name": "stdout",
     "output_type": "stream",
     "text": [
      "\n",
      "True NEH = 40 \t estimated NEHs median 47\n",
      "\n",
      " _GGNVGINSFGFGGSNVHVILQPNTR_3 Time 1 ==================================>\n",
      "pxt*NEH = 0.249 real_NEH= 43 ratio = 0.005790697674418604 \n",
      "\n",
      "vals 0.16567099220722653\n",
      "\n",
      " _GGNVGINSFGFGGSNVHVILQPNTR_3 Time 2 ==================================>\n",
      "pxt*NEH = 0.649599768 real_NEH= 43 ratio = 0.015106971348837208 \n",
      "\n",
      "vals 0.3254468203890074\n",
      "\n",
      " _GGNVGINSFGFGGSNVHVILQPNTR_3 Time 3 ==================================>\n",
      "pxt*NEH = 0.626399768 real_NEH= 43 ratio = 0.014567436465116278 \n",
      "\n",
      "vals 0.39355084656805334\n",
      "\n",
      " _GGNVGINSFGFGGSNVHVILQPNTR_3 Time 6 ==================================>\n",
      "pxt*NEH = 1.4730078 real_NEH= 43 ratio = 0.03425599534883721 \n",
      "\n",
      "vals 0.890146682725628\n",
      "\n",
      " _GGNVGINSFGFGGSNVHVILQPNTR_3 Time 7 ==================================>\n",
      "pxt*NEH = 1.3473072899999998 real_NEH= 43 ratio = 0.0313327276744186 \n",
      "\n",
      "vals 1.7065293387447267\n",
      "\n",
      " _GGNVGINSFGFGGSNVHVILQPNTR_3 Time 9 ==================================>\n",
      "pxt*NEH = 1.4670075 real_NEH= 43 ratio = 0.03411645348837209 \n",
      "\n",
      "vals 1.5518028882013208\n",
      "\n",
      " _GGNVGINSFGFGGSNVHVILQPNTR_3 Time 13 ==================================>\n",
      "pxt*NEH = 1.59040864 real_NEH= 43 ratio = 0.036986247441860465 \n",
      "\n",
      "vals 2.0911979380146564\n",
      "\n",
      " _GGNVGINSFGFGGSNVHVILQPNTR_3 Time 16 ==================================>\n",
      "pxt*NEH = 1.77120936 real_NEH= 43 ratio = 0.04119091534883721 \n",
      "\n",
      "vals 1.442258692180532\n",
      "\n",
      " _GGNVGINSFGFGGSNVHVILQPNTR_3 Time 21 ==================================>\n",
      "pxt*NEH = 1.59680864 real_NEH= 43 ratio = 0.03713508465116279 \n",
      "\n",
      "vals 2.0672756170574074\n",
      "\n",
      " _GGNVGINSFGFGGSNVHVILQPNTR_3 Time 24 ==================================>\n",
      "pxt*NEH = 1.63350858 real_NEH= 43 ratio = 0.037988571627906975 \n",
      "\n",
      "vals 1.499703403194893\n",
      "\n",
      " _GGNVGINSFGFGGSNVHVILQPNTR_3 Time 31 ==================================>\n",
      "pxt*NEH = 1.6966091799999998 real_NEH= 43 ratio = 0.03945602744186046 \n",
      "\n",
      "vals 1.625374294388803\n",
      "\n",
      " [0.249, 0.649599768, 0.626399768, 1.4730078, 1.3473072899999998, 1.4670075, 1.59040864, 1.77120936, 1.59680864, 1.63350858, 1.6966091799999998] \n",
      " [0.16567099220722653, 0.3254468203890074, 0.39355084656805334, 0.890146682725628, 1.7065293387447267, 1.5518028882013208, 2.0911979380146564, 1.442258692180532, 2.0672756170574074, 1.499703403194893, 1.625374294388803]\n"
     ]
    },
    {
     "data": {
      "image/png": "[encoded data removed]",
      "text/plain": [
       "<Figure size 432x288 with 1 Axes>"
      ]
     },
     "metadata": {
      "needs_background": "light"
     },
     "output_type": "display_data"
    },
    {
     "name": "stdout",
     "output_type": "stream",
     "text": [
      "************** RMSE= 0.9664502335204351 R square= -2.804146397224246\n",
      "[0.115, 0.3036, 0.2898, 0.46, 0.46, 0.46, 0.46, 0.46, 0.46, 0.46, 0.46]\n",
      "\n",
      " estimated NEH 46\n"
     ]
    },
    {
     "data": {
      "image/png": "[encoded data removed]",
      "text/plain": [
       "<Figure size 432x288 with 1 Axes>"
      ]
     },
     "metadata": {
      "needs_background": "light"
     },
     "output_type": "display_data"
    },
    {
     "name": "stdout",
     "output_type": "stream",
     "text": [
      "\n",
      "True NEH = 43 \t estimated NEHs median 46\n",
      "\n",
      " _GILLDALFEEANDSWR_2 Time 1 ==================================>\n",
      "pxt*NEH = 0.249 real_NEH= 32 ratio = 0.00778125 \n",
      "\n",
      "vals 0.17491529471114964\n",
      "\n",
      " _GILLDALFEEANDSWR_2 Time 2 ==================================>\n",
      "pxt*NEH = 0.637199764 real_NEH= 32 ratio = 0.019912492625 \n",
      "\n",
      "vals 0.5524717634124153\n",
      "\n",
      " _GILLDALFEEANDSWR_2 Time 3 ==================================>\n",
      "pxt*NEH = 0.626399768 real_NEH= 32 ratio = 0.01957499275 \n",
      "\n",
      "vals 0.38361052005521423\n",
      "\n",
      " _GILLDALFEEANDSWR_2 Time 6 ==================================>\n",
      "pxt*NEH = 1.3679984799999998 real_NEH= 32 ratio = 0.042749952499999994 \n",
      "\n",
      "vals 1.6320052203437667\n",
      "\n",
      " _GILLDALFEEANDSWR_2 Time 7 ==================================>\n",
      "pxt*NEH = 1.28439848 real_NEH= 32 ratio = 0.0401374525 \n",
      "\n",
      "vals 1.1704858871504595\n",
      "\n",
      " _GILLDALFEEANDSWR_2 Time 9 ==================================>\n",
      "pxt*NEH = 1.4439984799999999 real_NEH= 32 ratio = 0.045124952499999996 \n",
      "\n",
      "vals 1.555274850718193\n",
      "\n",
      " _GILLDALFEEANDSWR_2 Time 13 ==================================>\n",
      "pxt*NEH = 1.3574985000000002 real_NEH= 32 ratio = 0.042421828125000005 \n",
      "\n",
      "vals 0.8107469609931769\n",
      "\n",
      " _GILLDALFEEANDSWR_2 Time 16 ==================================>\n",
      "pxt*NEH = 1.54070837 real_NEH= 32 ratio = 0.0481471365625 \n",
      "\n",
      "vals 1.676183587889944\n",
      "\n",
      " _GILLDALFEEANDSWR_2 Time 21 ==================================>\n",
      "pxt*NEH = 1.45159848 real_NEH= 32 ratio = 0.0453624525 \n",
      "\n",
      "vals 1.858502502638487\n",
      "\n",
      " _GILLDALFEEANDSWR_2 Time 24 ==================================>\n",
      "pxt*NEH = 1.3831984800000001 real_NEH= 32 ratio = 0.043224952500000004 \n",
      "\n",
      "vals 1.6744900162263292\n",
      "\n",
      " _GILLDALFEEANDSWR_2 Time 31 ==================================>\n",
      "pxt*NEH = 1.47439772 real_NEH= 32 ratio = 0.04607492875 \n",
      "\n",
      "vals 1.7927406655106093\n",
      "\n",
      " [0.249, 0.637199764, 0.626399768, 1.3679984799999998, 1.28439848, 1.4439984799999999, 1.3574985000000002, 1.54070837, 1.45159848, 1.3831984800000001, 1.47439772] \n",
      " [0.17491529471114964, 0.5524717634124153, 0.38361052005521423, 1.6320052203437667, 1.1704858871504595, 1.555274850718193, 0.8107469609931769, 1.676183587889944, 1.858502502638487, 1.6744900162263292, 1.7927406655106093]\n"
     ]
    },
    {
     "data": {
      "image/png": "[encoded data removed]",
      "text/plain": [
       "<Figure size 432x288 with 1 Axes>"
      ]
     },
     "metadata": {
      "needs_background": "light"
     },
     "output_type": "display_data"
    },
    {
     "name": "stdout",
     "output_type": "stream",
     "text": [
      "************** RMSE= 0.9177815829770851 R square= -3.7644853586278684\n",
      "[0.09, 0.23040000000000002, 0.2268, 0.36, 0.36, 0.36, 0.36, 0.36, 0.36, 0.36, 0.36]\n",
      "\n",
      " estimated NEH 36\n"
     ]
    },
    {
     "data": {
      "image/png": "[encoded data removed]",
      "text/plain": [
       "<Figure size 432x288 with 1 Axes>"
      ]
     },
     "metadata": {
      "needs_background": "light"
     },
     "output_type": "display_data"
    },
    {
     "name": "stdout",
     "output_type": "stream",
     "text": [
      "\n",
      "True NEH = 32 \t estimated NEHs median 36\n",
      "\n",
      " _GNAGQTNYGFANSTMER_2 Time 1 ==================================>\n",
      "pxt*NEH = 0.222 real_NEH= 36 ratio = 0.006166666666666667 \n",
      "\n",
      "vals 0.16225419564814075\n",
      "\n",
      " _GNAGQTNYGFANSTMER_2 Time 2 ==================================>\n",
      "pxt*NEH = 0.6047997759999999 real_NEH= 36 ratio = 0.016799993777777775 \n",
      "\n",
      "vals 0.33382072056733453\n",
      "\n",
      " _GNAGQTNYGFANSTMER_2 Time 3 ==================================>\n",
      "pxt*NEH = 0.6892996610000001 real_NEH= 36 ratio = 0.019147212805555557 \n",
      "\n",
      "vals 0.4543201261545663\n",
      "\n",
      " _GNAGQTNYGFANSTMER_2 Time 6 ==================================>\n",
      "pxt*NEH = 1.39720756 real_NEH= 36 ratio = 0.03881132111111111 \n",
      "\n",
      "vals 1.4971800215134812\n",
      "\n",
      " _GNAGQTNYGFANSTMER_2 Time 7 ==================================>\n",
      "pxt*NEH = 1.35519824 real_NEH= 36 ratio = 0.03764439555555556 \n",
      "\n",
      "vals 1.080520011836339\n",
      "\n",
      " _GNAGQTNYGFANSTMER_2 Time 9 ==================================>\n",
      "pxt*NEH = 1.4640075000000001 real_NEH= 36 ratio = 0.040666875000000005 \n",
      "\n",
      "vals 1.499021718181375\n",
      "\n",
      " _GNAGQTNYGFANSTMER_2 Time 13 ==================================>\n",
      "pxt*NEH = 1.52520806 real_NEH= 36 ratio = 0.04236689055555556 \n",
      "\n",
      "vals 1.4812305565535577\n",
      "\n",
      " _GNAGQTNYGFANSTMER_2 Time 16 ==================================>\n",
      "pxt*NEH = 1.6467089099999999 real_NEH= 36 ratio = 0.04574191416666666 \n",
      "\n",
      "vals 1.7278788571051362\n",
      "\n",
      " _GNAGQTNYGFANSTMER_2 Time 21 ==================================>\n",
      "pxt*NEH = 1.4820078 real_NEH= 36 ratio = 0.041166883333333334 \n",
      "\n",
      "vals 1.5461558546185619\n",
      "\n",
      " _GNAGQTNYGFANSTMER_2 Time 24 ==================================>\n",
      "pxt*NEH = 1.5128077500000001 real_NEH= 36 ratio = 0.0420224375 \n",
      "\n",
      "vals 1.506021909718989\n",
      "\n",
      " _GNAGQTNYGFANSTMER_2 Time 31 ==================================>\n",
      "pxt*NEH = 1.4970081 real_NEH= 36 ratio = 0.04158355833333333 \n",
      "\n",
      "vals 1.6349617945346504\n",
      "\n",
      " [0.222, 0.6047997759999999, 0.6892996610000001, 1.39720756, 1.35519824, 1.4640075000000001, 1.52520806, 1.6467089099999999, 1.4820078, 1.5128077500000001, 1.4970081] \n",
      " [0.16225419564814075, 0.33382072056733453, 0.4543201261545663, 1.4971800215134812, 1.080520011836339, 1.499021718181375, 1.4812305565535577, 1.7278788571051362, 1.5461558546185619, 1.506021909718989, 1.6349617945346504]\n"
     ]
    },
    {
     "data": {
      "image/png": "[encoded data removed]",
      "text/plain": [
       "<Figure size 432x288 with 1 Axes>"
      ]
     },
     "metadata": {
      "needs_background": "light"
     },
     "output_type": "display_data"
    },
    {
     "name": "stdout",
     "output_type": "stream",
     "text": [
      "************** RMSE= 0.7573649336972436 R square= -1.7775631181031941\n",
      "[0.1342, 0.37210000000000004, 0.427, 0.61, 0.61, 0.61, 0.61, 0.61, 0.61, 0.61, 0.61]\n",
      "\n",
      " estimated NEH 61\n"
     ]
    },
    {
     "data": {
      "image/png": "[encoded data removed]",
      "text/plain": [
       "<Figure size 432x288 with 1 Axes>"
      ]
     },
     "metadata": {
      "needs_background": "light"
     },
     "output_type": "display_data"
    },
    {
     "name": "stdout",
     "output_type": "stream",
     "text": [
      "\n",
      "True NEH = 36 \t estimated NEHs median 61\n",
      "\n",
      " _GVDLVLNSLAEEK_2 Time 1 ==================================>\n",
      "pxt*NEH = 0.1581 real_NEH= 23 ratio = 0.006873913043478261 \n",
      "\n",
      "vals 0.11940490780636938\n",
      "\n",
      " _GVDLVLNSLAEEK_2 Time 2 ==================================>\n",
      "pxt*NEH = 0.39780010200000004 real_NEH= 23 ratio = 0.017295656608695652 \n",
      "\n",
      "vals 0.280598931382952\n",
      "\n",
      " _GVDLVLNSLAEEK_2 Time 3 ==================================>\n",
      "pxt*NEH = 0.395200104 real_NEH= 23 ratio = 0.017182613217391306 \n",
      "\n",
      "vals 0.30322299535071867\n",
      "\n",
      " _GVDLVLNSLAEEK_2 Time 6 ==================================>\n",
      "pxt*NEH = 1.00560336 real_NEH= 23 ratio = 0.04372188521739131 \n",
      "\n",
      "vals 1.0587419370791271\n",
      "\n",
      " _GVDLVLNSLAEEK_2 Time 7 ==================================>\n",
      "pxt*NEH = 0.94169927 real_NEH= 23 ratio = 0.04094344652173913 \n",
      "\n",
      "vals 0.9495731799068341\n",
      "\n",
      " _GVDLVLNSLAEEK_2 Time 9 ==================================>\n",
      "pxt*NEH = 1.03740546 real_NEH= 23 ratio = 0.0451045852173913 \n",
      "\n",
      "vals 1.1896486858420439\n",
      "\n",
      " _GVDLVLNSLAEEK_2 Time 13 ==================================>\n",
      "pxt*NEH = 1.12930598 real_NEH= 23 ratio = 0.04910026 \n",
      "\n",
      "vals 1.4230968469063747\n",
      "\n",
      " _GVDLVLNSLAEEK_2 Time 16 ==================================>\n",
      "pxt*NEH = 1.19760648 real_NEH= 23 ratio = 0.05206984695652173 \n",
      "\n",
      "vals 1.465505477975073\n",
      "\n",
      " _GVDLVLNSLAEEK_2 Time 21 ==================================>\n",
      "pxt*NEH = 1.12930598 real_NEH= 23 ratio = 0.04910026 \n",
      "\n",
      "vals 1.154852834614227\n",
      "\n",
      " _GVDLVLNSLAEEK_2 Time 24 ==================================>\n",
      "pxt*NEH = 1.12470575 real_NEH= 23 ratio = 0.04890025 \n",
      "\n",
      "vals 1.378022834515343\n",
      "\n",
      " _GVDLVLNSLAEEK_2 Time 31 ==================================>\n",
      "pxt*NEH = 1.17600624 real_NEH= 23 ratio = 0.05113070608695652 \n",
      "\n",
      "vals 1.2643341097280747\n",
      "\n",
      " [0.1581, 0.39780010200000004, 0.395200104, 1.00560336, 0.94169927, 1.03740546, 1.12930598, 1.19760648, 1.12930598, 1.12470575, 1.17600624] \n",
      " [0.11940490780636938, 0.280598931382952, 0.30322299535071867, 1.0587419370791271, 0.9495731799068341, 1.1896486858420439, 1.4230968469063747, 1.465505477975073, 1.154852834614227, 1.378022834515343, 1.2643341097280747]\n"
     ]
    },
    {
     "data": {
      "image/png": "[encoded data removed]",
      "text/plain": [
       "<Figure size 432x288 with 1 Axes>"
      ]
     },
     "metadata": {
      "needs_background": "light"
     },
     "output_type": "display_data"
    },
    {
     "name": "stdout",
     "output_type": "stream",
     "text": [
      "************** RMSE= 0.735065227753167 R square= -3.228123324982862\n",
      "[0.04, 0.1, 0.1, 0.25, 0.2375, 0.25, 0.25, 0.25, 0.25, 0.25, 0.25]\n",
      "\n",
      " estimated NEH 25\n"
     ]
    },
    {
     "data": {
      "image/png": "[encoded data removed]",
      "text/plain": [
       "<Figure size 432x288 with 1 Axes>"
      ]
     },
     "metadata": {
      "needs_background": "light"
     },
     "output_type": "display_data"
    },
    {
     "name": "stdout",
     "output_type": "stream",
     "text": [
      "\n",
      "True NEH = 23 \t estimated NEHs median 25\n",
      "\n",
      " _LDPGSPELQQVLK_2 Time 1 ==================================>\n",
      "pxt*NEH = 0.192 real_NEH= 26 ratio = 0.0073846153846153844 \n",
      "\n",
      "vals 0.16930867994373772\n",
      "\n",
      " _LDPGSPELQQVLK_2 Time 2 ==================================>\n",
      "pxt*NEH = 0.4326 real_NEH= 26 ratio = 0.01663846153846154 \n",
      "\n",
      "vals 0.3224289050174441\n",
      "\n",
      " _LDPGSPELQQVLK_2 Time 3 ==================================>\n",
      "pxt*NEH = 0.4223 real_NEH= 26 ratio = 0.01624230769230769 \n",
      "\n",
      "vals 0.2507635264975957\n",
      "\n",
      " _LDPGSPELQQVLK_2 Time 6 ==================================>\n",
      "pxt*NEH = 1.0499985 real_NEH= 26 ratio = 0.04038455769230769 \n",
      "\n",
      "vals 0.9573392862792397\n",
      "\n",
      " _LDPGSPELQQVLK_2 Time 7 ==================================>\n",
      "pxt*NEH = 0.99899852 real_NEH= 26 ratio = 0.03842302 \n",
      "\n",
      "vals 1.025131562199584\n",
      "\n",
      " _LDPGSPELQQVLK_2 Time 9 ==================================>\n",
      "pxt*NEH = 1.1099985 real_NEH= 26 ratio = 0.04269225 \n",
      "\n",
      "vals 1.1113789231996705\n",
      "\n",
      " _LDPGSPELQQVLK_2 Time 13 ==================================>\n",
      "pxt*NEH = 1.1747982399999999 real_NEH= 26 ratio = 0.04518454769230769 \n",
      "\n",
      "vals 1.2492981549779683\n",
      "\n",
      " _LDPGSPELQQVLK_2 Time 16 ==================================>\n",
      "pxt*NEH = 1.2714064999999999 real_NEH= 26 ratio = 0.04890024999999999 \n",
      "\n",
      "vals 1.3840808249846859\n",
      "\n",
      " _LDPGSPELQQVLK_2 Time 21 ==================================>\n",
      "pxt*NEH = 1.2074985 real_NEH= 26 ratio = 0.046442250000000004 \n",
      "\n",
      "vals 1.122422976459811\n",
      "\n",
      " _LDPGSPELQQVLK_2 Time 24 ==================================>\n",
      "pxt*NEH = 1.2172010199999999 real_NEH= 26 ratio = 0.04681542384615384 \n",
      "\n",
      "vals 1.3586063967673934\n",
      "\n",
      " _LDPGSPELQQVLK_2 Time 31 ==================================>\n",
      "pxt*NEH = 1.2449985000000001 real_NEH= 26 ratio = 0.0478845576923077 \n",
      "\n",
      "vals 1.1922768337020286\n",
      "\n",
      " [0.192, 0.4326, 0.4223, 1.0499985, 0.99899852, 1.1099985, 1.1747982399999999, 1.2714064999999999, 1.2074985, 1.2172010199999999, 1.2449985000000001] \n",
      " [0.16930867994373772, 0.3224289050174441, 0.2507635264975957, 0.9573392862792397, 1.025131562199584, 1.1113789231996705, 1.2492981549779683, 1.3840808249846859, 1.122422976459811, 1.3586063967673934, 1.1922768337020286]\n"
     ]
    },
    {
     "data": {
      "image/png": "[encoded data removed]",
      "text/plain": [
       "<Figure size 432x288 with 1 Axes>"
      ]
     },
     "metadata": {
      "needs_background": "light"
     },
     "output_type": "display_data"
    },
    {
     "name": "stdout",
     "output_type": "stream",
     "text": [
      "************** RMSE= 0.7749281180922277 R square= -3.30110653728039\n",
      "[0.0513, 0.1188, 0.1161, 0.27, 0.27, 0.27, 0.27, 0.27, 0.27, 0.27, 0.27]\n",
      "\n",
      " estimated NEH 27\n"
     ]
    },
    {
     "data": {
      "image/png": "[encoded data removed]",
      "text/plain": [
       "<Figure size 432x288 with 1 Axes>"
      ]
     },
     "metadata": {
      "needs_background": "light"
     },
     "output_type": "display_data"
    },
    {
     "name": "stdout",
     "output_type": "stream",
     "text": [
      "\n",
      "True NEH = 26 \t estimated NEHs median 27\n",
      "\n",
      " _LFDHPEVPTPPESASVSR_3 Time 1 ==================================>\n",
      "pxt*NEH = 0.225 real_NEH= 40 ratio = 0.005625 \n",
      "\n",
      "vals 0.19363305277411993\n",
      "\n",
      " _LFDHPEVPTPPESASVSR_3 Time 2 ==================================>\n",
      "pxt*NEH = 0.5683998840000001 real_NEH= 40 ratio = 0.014209997100000002 \n",
      "\n",
      "vals 0.37984289153000866\n",
      "\n",
      " _LFDHPEVPTPPESASVSR_3 Time 3 ==================================>\n",
      "pxt*NEH = 0.571199881 real_NEH= 40 ratio = 0.014279997025 \n",
      "\n",
      "vals 0.3889326102604487\n",
      "\n",
      " _LFDHPEVPTPPESASVSR_3 Time 6 ==================================>\n",
      "pxt*NEH = 1.3176067500000002 real_NEH= 40 ratio = 0.032940168750000005 \n",
      "\n",
      "vals 1.1734545958569684\n",
      "\n",
      " _LFDHPEVPTPPESASVSR_3 Time 7 ==================================>\n",
      "pxt*NEH = 1.34679852 real_NEH= 40 ratio = 0.033669963000000004 \n",
      "\n",
      "vals 1.0614642600306827\n",
      "\n",
      " _LFDHPEVPTPPESASVSR_3 Time 9 ==================================>\n",
      "pxt*NEH = 1.4730078 real_NEH= 40 ratio = 0.036825195 \n",
      "\n",
      "vals 1.4848937265344802\n",
      "\n",
      " _LFDHPEVPTPPESASVSR_3 Time 13 ==================================>\n",
      "pxt*NEH = 1.5128077500000001 real_NEH= 40 ratio = 0.03782019375 \n",
      "\n",
      "vals 2.217907388386506\n",
      "\n",
      " _LFDHPEVPTPPESASVSR_3 Time 16 ==================================>\n",
      "pxt*NEH = 1.6467089099999999 real_NEH= 40 ratio = 0.041167722749999996 \n",
      "\n",
      "vals 2.029653809128102\n",
      "\n",
      " _LFDHPEVPTPPESASVSR_3 Time 21 ==================================>\n",
      "pxt*NEH = 1.59360864 real_NEH= 40 ratio = 0.039840216 \n",
      "\n",
      "vals 1.3645483058846788\n",
      "\n",
      " _LFDHPEVPTPPESASVSR_3 Time 24 ==================================>\n",
      "pxt*NEH = 1.54690837 real_NEH= 40 ratio = 0.03867270925 \n",
      "\n",
      "vals 1.4277560954872754\n",
      "\n",
      " _LFDHPEVPTPPESASVSR_3 Time 31 ==================================>\n",
      "pxt*NEH = 1.67960884 real_NEH= 40 ratio = 0.041990221 \n",
      "\n",
      "vals 1.8496430709328593\n",
      "\n",
      " [0.225, 0.5683998840000001, 0.571199881, 1.3176067500000002, 1.34679852, 1.4730078, 1.5128077500000001, 1.6467089099999999, 1.59360864, 1.54690837, 1.67960884] \n",
      " [0.19363305277411993, 0.37984289153000866, 0.3889326102604487, 1.1734545958569684, 1.0614642600306827, 1.4848937265344802, 2.217907388386506, 2.029653809128102, 1.3645483058846788, 1.4277560954872754, 1.8496430709328593]\n"
     ]
    },
    {
     "data": {
      "image/png": "[encoded data removed]",
      "text/plain": [
       "<Figure size 432x288 with 1 Axes>"
      ]
     },
     "metadata": {
      "needs_background": "light"
     },
     "output_type": "display_data"
    },
    {
     "name": "stdout",
     "output_type": "stream",
     "text": [
      "************** RMSE= 1.0207170648154311 R square= -3.324175138317764\n",
      "[0.07819999999999999, 0.1938, 0.1972, 0.34, 0.34, 0.34, 0.34, 0.34, 0.34, 0.34, 0.34]\n",
      "\n",
      " estimated NEH 34\n"
     ]
    },
    {
     "data": {
      "image/png": "[encoded data removed]",
      "text/plain": [
       "<Figure size 432x288 with 1 Axes>"
      ]
     },
     "metadata": {
      "needs_background": "light"
     },
     "output_type": "display_data"
    },
    {
     "name": "stdout",
     "output_type": "stream",
     "text": [
      "\n",
      "True NEH = 40 \t estimated NEHs median 34\n",
      "\n",
      " _LGMLSPDGTcR_2 Time 1 ==================================>\n",
      "pxt*NEH = 0.096 real_NEH= 18 ratio = 0.005333333333333333 \n",
      "\n",
      "vals 0.06786086046187167\n",
      "\n",
      " _LGMLSPDGTcR_2 Time 2 ==================================>\n",
      "pxt*NEH = 0.3225 real_NEH= 18 ratio = 0.017916666666666668 \n",
      "\n",
      "vals 0.27482894395884694\n",
      "\n",
      " _LGMLSPDGTcR_2 Time 3 ==================================>\n",
      "pxt*NEH = 0.3276 real_NEH= 18 ratio = 0.0182 \n",
      "\n",
      "vals 0.22742051007108582\n",
      "\n",
      " _LGMLSPDGTcR_2 Time 6 ==================================>\n",
      "pxt*NEH = 0.6899994 real_NEH= 18 ratio = 0.0383333 \n",
      "\n",
      "vals 0.5844956538443645\n",
      "\n",
      " _LGMLSPDGTcR_2 Time 7 ==================================>\n",
      "pxt*NEH = 0.6674994000000001 real_NEH= 18 ratio = 0.03708330000000001 \n",
      "\n",
      "vals 0.6247892054918708\n",
      "\n",
      " _LGMLSPDGTcR_2 Time 9 ==================================>\n",
      "pxt*NEH = 0.734999325 real_NEH= 18 ratio = 0.04083329583333333 \n",
      "\n",
      "vals 0.6756472202916952\n",
      "\n",
      " _LGMLSPDGTcR_2 Time 13 ==================================>\n",
      "pxt*NEH = 0.76219926 real_NEH= 18 ratio = 0.042344403333333336 \n",
      "\n",
      "vals 0.7468735343717608\n",
      "\n",
      " _LGMLSPDGTcR_2 Time 16 ==================================>\n",
      "pxt*NEH = 0.80659926 real_NEH= 18 ratio = 0.04481107 \n",
      "\n",
      "vals 0.7772653720311665\n",
      "\n",
      " _LGMLSPDGTcR_2 Time 21 ==================================>\n",
      "pxt*NEH = 0.74999925 real_NEH= 18 ratio = 0.041666625 \n",
      "\n",
      "vals 0.7737897587591214\n",
      "\n",
      " _LGMLSPDGTcR_2 Time 24 ==================================>\n",
      "pxt*NEH = 0.734999325 real_NEH= 18 ratio = 0.04083329583333333 \n",
      "\n",
      "vals 0.7257522861685805\n",
      "\n",
      " _LGMLSPDGTcR_2 Time 31 ==================================>\n",
      "pxt*NEH = 0.7856989200000001 real_NEH= 18 ratio = 0.043649940000000005 \n",
      "\n",
      "vals 0.8460946272340112\n",
      "\n",
      " [0.096, 0.3225, 0.3276, 0.6899994, 0.6674994000000001, 0.734999325, 0.76219926, 0.80659926, 0.74999925, 0.734999325, 0.7856989200000001] \n",
      " [0.06786086046187167, 0.27482894395884694, 0.22742051007108582, 0.5844956538443645, 0.6247892054918708, 0.6756472202916952, 0.7468735343717608, 0.7772653720311665, 0.7737897587591214, 0.7257522861685805, 0.8460946272340112]\n"
     ]
    },
    {
     "data": {
      "image/png": "[encoded data removed]",
      "text/plain": [
       "<Figure size 432x288 with 1 Axes>"
      ]
     },
     "metadata": {
      "needs_background": "light"
     },
     "output_type": "display_data"
    },
    {
     "name": "stdout",
     "output_type": "stream",
     "text": [
      "************** RMSE= 0.48542461255992214 R square= -3.4708980393406312\n",
      "[0.025, 0.0825, 0.0825, 0.17500000000000002, 0.1675, 0.185, 0.1925, 0.20249999999999999, 0.19, 0.185, 0.1975]\n",
      "\n",
      " estimated NEH 25\n"
     ]
    },
    {
     "data": {
      "image/png": "[encoded data removed]",
      "text/plain": [
       "<Figure size 432x288 with 1 Axes>"
      ]
     },
     "metadata": {
      "needs_background": "light"
     },
     "output_type": "display_data"
    },
    {
     "name": "stdout",
     "output_type": "stream",
     "text": [
      "\n",
      "True NEH = 18 \t estimated NEHs median 25\n",
      "\n",
      " _LKEDTQVADVTTSR_3 Time 1 ==================================>\n",
      "pxt*NEH = 0.183 real_NEH= 24 ratio = 0.007625 \n",
      "\n",
      "vals 0.15273962942437677\n",
      "\n",
      " _LKEDTQVADVTTSR_3 Time 2 ==================================>\n",
      "pxt*NEH = 0.45920000000000005 real_NEH= 24 ratio = 0.019133333333333336 \n",
      "\n",
      "vals 0.3628830835676231\n",
      "\n",
      " _LKEDTQVADVTTSR_3 Time 3 ==================================>\n",
      "pxt*NEH = 0.421800111 real_NEH= 24 ratio = 0.017575004624999998 \n",
      "\n",
      "vals 0.34477360676702284\n",
      "\n",
      " _LKEDTQVADVTTSR_3 Time 6 ==================================>\n",
      "pxt*NEH = 1.0874985000000001 real_NEH= 24 ratio = 0.045312437500000004 \n",
      "\n",
      "vals 1.0482316630055584\n",
      "\n",
      " _LKEDTQVADVTTSR_3 Time 7 ==================================>\n",
      "pxt*NEH = 0.9175012499999999 real_NEH= 24 ratio = 0.038229218749999995 \n",
      "\n",
      "vals 0.9664492361674214\n",
      "\n",
      " _LKEDTQVADVTTSR_3 Time 9 ==================================>\n",
      "pxt*NEH = 1.0874985000000001 real_NEH= 24 ratio = 0.045312437500000004 \n",
      "\n",
      "vals 1.043950889520227\n",
      "\n",
      " _LKEDTQVADVTTSR_3 Time 13 ==================================>\n",
      "pxt*NEH = 1.19760648 real_NEH= 24 ratio = 0.04990027 \n",
      "\n",
      "vals 1.0932030356367164\n",
      "\n",
      " _LKEDTQVADVTTSR_3 Time 16 ==================================>\n",
      "pxt*NEH = 1.2714064999999999 real_NEH= 24 ratio = 0.05297527083333333 \n",
      "\n",
      "vals 1.2723256595516714\n",
      "\n",
      " _LKEDTQVADVTTSR_3 Time 21 ==================================>\n",
      "pxt*NEH = 1.1017055199999999 real_NEH= 24 ratio = 0.04590439666666666 \n",
      "\n",
      "vals 1.2585575332901426\n",
      "\n",
      " _LKEDTQVADVTTSR_3 Time 24 ==================================>\n",
      "pxt*NEH = 1.161606 real_NEH= 24 ratio = 0.04840025 \n",
      "\n",
      "vals 1.2645760727300381\n",
      "\n",
      " _LKEDTQVADVTTSR_3 Time 31 ==================================>\n",
      "pxt*NEH = 1.15680576 real_NEH= 24 ratio = 0.04820024 \n",
      "\n",
      "vals 1.1759104615392797\n",
      "\n",
      " [0.183, 0.45920000000000005, 0.421800111, 1.0874985000000001, 0.9175012499999999, 1.0874985000000001, 1.19760648, 1.2714064999999999, 1.1017055199999999, 1.161606, 1.15680576] \n",
      " [0.15273962942437677, 0.3628830835676231, 0.34477360676702284, 1.0482316630055584, 0.9664492361674214, 1.043950889520227, 1.0932030356367164, 1.2723256595516714, 1.2585575332901426, 1.2645760727300381, 1.1759104615392797]\n"
     ]
    },
    {
     "data": {
      "image/png": "[encoded data removed]",
      "text/plain": [
       "<Figure size 432x288 with 1 Axes>"
      ]
     },
     "metadata": {
      "needs_background": "light"
     },
     "output_type": "display_data"
    },
    {
     "name": "stdout",
     "output_type": "stream",
     "text": [
      "************** RMSE= 0.6866890271587915 R square= -2.685640548233244\n",
      "[0.0612, 0.15639999999999998, 0.1462, 0.34, 0.3162, 0.34, 0.34, 0.34, 0.34, 0.34, 0.34]\n",
      "\n",
      " estimated NEH 34\n"
     ]
    },
    {
     "data": {
      "image/png": "[encoded data removed]",
      "text/plain": [
       "<Figure size 432x288 with 1 Axes>"
      ]
     },
     "metadata": {
      "needs_background": "light"
     },
     "output_type": "display_data"
    },
    {
     "name": "stdout",
     "output_type": "stream",
     "text": [
      "\n",
      "True NEH = 24 \t estimated NEHs median 34\n",
      "\n",
      " _LLLPEDPLISGLLNSQALK_2 Time 1 ==================================>\n",
      "pxt*NEH = 0.189 real_NEH= 33 ratio = 0.0057272727272727275 \n",
      "\n",
      "vals 0.07983203954742728\n",
      "\n",
      " _LLLPEDPLISGLLNSQALK_2 Time 2 ==================================>\n",
      "pxt*NEH = 0.5592998809999999 real_NEH= 33 ratio = 0.016948481242424242 \n",
      "\n",
      "vals 0.2518512268084969\n",
      "\n",
      " _LLLPEDPLISGLLNSQALK_2 Time 3 ==================================>\n",
      "pxt*NEH = 0.5428 real_NEH= 33 ratio = 0.016448484848484848 \n",
      "\n",
      "vals 0.20828615887446\n",
      "\n",
      " _LLLPEDPLISGLLNSQALK_2 Time 6 ==================================>\n",
      "pxt*NEH = 1.37480728 real_NEH= 33 ratio = 0.041660826666666664 \n",
      "\n",
      "vals 1.2219136113930147\n",
      "\n",
      " _LLLPEDPLISGLLNSQALK_2 Time 7 ==================================>\n",
      "pxt*NEH = 1.28180676 real_NEH= 33 ratio = 0.03884262909090909 \n",
      "\n",
      "vals 1.2773787326578456\n",
      "\n",
      " _LLLPEDPLISGLLNSQALK_2 Time 9 ==================================>\n",
      "pxt*NEH = 1.4152072500000001 real_NEH= 33 ratio = 0.042885068181818184 \n",
      "\n",
      "vals 1.2664974611022934\n",
      "\n",
      " _LLLPEDPLISGLLNSQALK_2 Time 13 ==================================>\n",
      "pxt*NEH = 1.4730078 real_NEH= 33 ratio = 0.0446366 \n",
      "\n",
      "vals 1.5379850020046117\n",
      "\n",
      " _LLLPEDPLISGLLNSQALK_2 Time 16 ==================================>\n",
      "pxt*NEH = 1.6170085799999998 real_NEH= 33 ratio = 0.04900026 \n",
      "\n",
      "vals 1.7781137064357373\n",
      "\n",
      " _LLLPEDPLISGLLNSQALK_2 Time 21 ==================================>\n",
      "pxt*NEH = 1.44420783 real_NEH= 33 ratio = 0.04376387363636364 \n",
      "\n",
      "vals 1.4950599983123227\n",
      "\n",
      " _LLLPEDPLISGLLNSQALK_2 Time 24 ==================================>\n",
      "pxt*NEH = 1.50970775 real_NEH= 33 ratio = 0.0457487196969697 \n",
      "\n",
      "vals 1.8769278237938354\n",
      "\n",
      " _LLLPEDPLISGLLNSQALK_2 Time 31 ==================================>\n",
      "pxt*NEH = 1.57440832 real_NEH= 33 ratio = 0.04770934303030303 \n",
      "\n",
      "vals 1.6836515664613678\n",
      "\n",
      " [0.189, 0.5592998809999999, 0.5428, 1.37480728, 1.28180676, 1.4152072500000001, 1.4730078, 1.6170085799999998, 1.44420783, 1.50970775, 1.57440832] \n",
      " [0.07983203954742728, 0.2518512268084969, 0.20828615887446, 1.2219136113930147, 1.2773787326578456, 1.2664974611022934, 1.5379850020046117, 1.7781137064357373, 1.4950599983123227, 1.8769278237938354, 1.6836515664613678]\n"
     ]
    },
    {
     "data": {
      "image/png": "[encoded data removed]",
      "text/plain": [
       "<Figure size 432x288 with 1 Axes>"
      ]
     },
     "metadata": {
      "needs_background": "light"
     },
     "output_type": "display_data"
    },
    {
     "name": "stdout",
     "output_type": "stream",
     "text": [
      "************** RMSE= 0.964398506064457 R square= -3.1121680994645047\n",
      "[0.0665, 0.196, 0.19249999999999998, 0.35000000000000003, 0.35000000000000003, 0.35000000000000003, 0.35000000000000003, 0.35000000000000003, 0.35000000000000003, 0.35000000000000003, 0.35000000000000003]\n",
      "\n",
      " estimated NEH 35\n"
     ]
    },
    {
     "data": {
      "image/png": "[encoded data removed]",
      "text/plain": [
       "<Figure size 432x288 with 1 Axes>"
      ]
     },
     "metadata": {
      "needs_background": "light"
     },
     "output_type": "display_data"
    },
    {
     "name": "stdout",
     "output_type": "stream",
     "text": [
      "\n",
      "True NEH = 33 \t estimated NEHs median 35\n",
      "\n",
      " _LLLPEDPLISGLLNSQALK_3 Time 1 ==================================>\n",
      "pxt*NEH = 0.186 real_NEH= 33 ratio = 0.005636363636363636 \n",
      "\n",
      "vals 0.11391863834547308\n",
      "\n",
      " _LLLPEDPLISGLLNSQALK_3 Time 2 ==================================>\n",
      "pxt*NEH = 0.5830998810000001 real_NEH= 33 ratio = 0.017669693363636368 \n",
      "\n",
      "vals 0.4025189379602456\n",
      "\n",
      " _LLLPEDPLISGLLNSQALK_3 Time 3 ==================================>\n",
      "pxt*NEH = 0.5428 real_NEH= 33 ratio = 0.016448484848484848 \n",
      "\n",
      "vals 0.32550773458776233\n",
      "\n",
      " _LLLPEDPLISGLLNSQALK_3 Time 6 ==================================>\n",
      "pxt*NEH = 1.36709811 real_NEH= 33 ratio = 0.04142721545454545 \n",
      "\n",
      "vals 1.1785581291773437\n",
      "\n",
      " _LLLPEDPLISGLLNSQALK_3 Time 7 ==================================>\n",
      "pxt*NEH = 1.30979852 real_NEH= 33 ratio = 0.03969086424242424 \n",
      "\n",
      "vals 1.326503327664289\n",
      "\n",
      " _LLLPEDPLISGLLNSQALK_3 Time 9 ==================================>\n",
      "pxt*NEH = 1.39440756 real_NEH= 33 ratio = 0.04225477454545455 \n",
      "\n",
      "vals 1.3969562334747005\n",
      "\n",
      " _LLLPEDPLISGLLNSQALK_3 Time 13 ==================================>\n",
      "pxt*NEH = 1.5128077500000001 real_NEH= 33 ratio = 0.045842659090909094 \n",
      "\n",
      "vals 1.6413177537580124\n",
      "\n",
      " _LLLPEDPLISGLLNSQALK_3 Time 16 ==================================>\n",
      "pxt*NEH = 1.63680891 real_NEH= 33 ratio = 0.04960027 \n",
      "\n",
      "vals 1.5957743670267168\n",
      "\n",
      " _LLLPEDPLISGLLNSQALK_3 Time 21 ==================================>\n",
      "pxt*NEH = 1.44710783 real_NEH= 33 ratio = 0.04385175242424243 \n",
      "\n",
      "vals 1.4262970740028655\n",
      "\n",
      " _LLLPEDPLISGLLNSQALK_3 Time 24 ==================================>\n",
      "pxt*NEH = 1.4940081 real_NEH= 33 ratio = 0.04527297272727273 \n",
      "\n",
      "vals 1.4308087313299565\n",
      "\n",
      " _LLLPEDPLISGLLNSQALK_3 Time 31 ==================================>\n",
      "pxt*NEH = 1.54690837 real_NEH= 33 ratio = 0.04687601121212121 \n",
      "\n",
      "vals 1.7060538656132465\n",
      "\n",
      " [0.186, 0.5830998810000001, 0.5428, 1.36709811, 1.30979852, 1.39440756, 1.5128077500000001, 1.63680891, 1.44710783, 1.4940081, 1.54690837] \n",
      " [0.11391863834547308, 0.4025189379602456, 0.32550773458776233, 1.1785581291773437, 1.326503327664289, 1.3969562334747005, 1.6413177537580124, 1.5957743670267168, 1.4262970740028655, 1.4308087313299565, 1.7060538656132465]\n"
     ]
    },
    {
     "data": {
      "image/png": "[encoded data removed]",
      "text/plain": [
       "<Figure size 432x288 with 1 Axes>"
      ]
     },
     "metadata": {
      "needs_background": "light"
     },
     "output_type": "display_data"
    },
    {
     "name": "stdout",
     "output_type": "stream",
     "text": [
      "************** RMSE= 0.9402767008285456 R square= -2.934149669377689\n",
      "[0.0722, 0.22419999999999998, 0.209, 0.38, 0.38, 0.38, 0.38, 0.38, 0.38, 0.38, 0.38]\n",
      "\n",
      " estimated NEH 38\n"
     ]
    },
    {
     "data": {
      "image/png": "[encoded data removed]",
      "text/plain": [
       "<Figure size 432x288 with 1 Axes>"
      ]
     },
     "metadata": {
      "needs_background": "light"
     },
     "output_type": "display_data"
    },
    {
     "name": "stdout",
     "output_type": "stream",
     "text": [
      "\n",
      "True NEH = 33 \t estimated NEHs median 38\n",
      "\n",
      " _QGIQVLVSTSNVSSLEGAR_2 Time 1 ==================================>\n",
      "pxt*NEH = 0.20700000000000002 real_NEH= 39 ratio = 0.005307692307692308 \n",
      "\n",
      "vals 0.1004777208595419\n",
      "\n",
      " _QGIQVLVSTSNVSSLEGAR_2 Time 2 ==================================>\n",
      "pxt*NEH = 0.566399882 real_NEH= 39 ratio = 0.014523073897435897 \n",
      "\n",
      "vals 0.3759111793123378\n",
      "\n",
      " _QGIQVLVSTSNVSSLEGAR_2 Time 3 ==================================>\n",
      "pxt*NEH = 0.630699762 real_NEH= 39 ratio = 0.01617178876923077 \n",
      "\n",
      "vals 0.7101891394118844\n",
      "\n",
      " _QGIQVLVSTSNVSSLEGAR_2 Time 6 ==================================>\n",
      "pxt*NEH = 1.49249775 real_NEH= 39 ratio = 0.038269173076923076 \n",
      "\n",
      "vals 1.37040122603497\n",
      "\n",
      " _QGIQVLVSTSNVSSLEGAR_2 Time 7 ==================================>\n",
      "pxt*NEH = 1.4249985 real_NEH= 39 ratio = 0.03653842307692308 \n",
      "\n",
      "vals 1.2644393424953326\n",
      "\n",
      " _QGIQVLVSTSNVSSLEGAR_2 Time 9 ==================================>\n",
      "pxt*NEH = 1.51590775 real_NEH= 39 ratio = 0.03886942948717949 \n",
      "\n",
      "vals 1.2775920326953636\n",
      "\n",
      " _QGIQVLVSTSNVSSLEGAR_2 Time 13 ==================================>\n",
      "pxt*NEH = 1.73600945 real_NEH= 39 ratio = 0.04451306282051282 \n",
      "\n",
      "vals 2.1946120344159787\n",
      "\n",
      " _QGIQVLVSTSNVSSLEGAR_2 Time 16 ==================================>\n",
      "pxt*NEH = 1.73950945 real_NEH= 39 ratio = 0.04460280641025641 \n",
      "\n",
      "vals 1.5355209208989087\n",
      "\n",
      " _QGIQVLVSTSNVSSLEGAR_2 Time 21 ==================================>\n",
      "pxt*NEH = 1.56800832 real_NEH= 39 ratio = 0.04020534153846154 \n",
      "\n",
      "vals 1.825570814404923\n",
      "\n",
      " _QGIQVLVSTSNVSSLEGAR_2 Time 24 ==================================>\n",
      "pxt*NEH = 1.54690837 real_NEH= 39 ratio = 0.03966431717948718 \n",
      "\n",
      "vals 1.4322786826676956\n",
      "\n",
      " _QGIQVLVSTSNVSSLEGAR_2 Time 31 ==================================>\n",
      "pxt*NEH = 1.70800875 real_NEH= 39 ratio = 0.04379509615384616 \n",
      "\n",
      "vals 1.9960531997068809\n",
      "\n",
      " [0.20700000000000002, 0.566399882, 0.630699762, 1.49249775, 1.4249985, 1.51590775, 1.73600945, 1.73950945, 1.56800832, 1.54690837, 1.70800875] \n",
      " [0.1004777208595419, 0.3759111793123378, 0.7101891394118844, 1.37040122603497, 1.2644393424953326, 1.2775920326953636, 2.1946120344159787, 1.5355209208989087, 1.825570814404923, 1.4322786826676956, 1.9960531997068809]\n"
     ]
    },
    {
     "data": {
      "image/png": "[encoded data removed]",
      "text/plain": [
       "<Figure size 432x288 with 1 Axes>"
      ]
     },
     "metadata": {
      "needs_background": "light"
     },
     "output_type": "display_data"
    },
    {
     "name": "stdout",
     "output_type": "stream",
     "text": [
      "************** RMSE= 1.07661872296642 R square= -3.3072530446380606\n",
      "[0.0735, 0.1995, 0.224, 0.35000000000000003, 0.35000000000000003, 0.35000000000000003, 0.35000000000000003, 0.35000000000000003, 0.35000000000000003, 0.35000000000000003, 0.35000000000000003]\n",
      "\n",
      " estimated NEH 35\n"
     ]
    },
    {
     "data": {
      "image/png": "[encoded data removed]",
      "text/plain": [
       "<Figure size 432x288 with 1 Axes>"
      ]
     },
     "metadata": {
      "needs_background": "light"
     },
     "output_type": "display_data"
    },
    {
     "name": "stdout",
     "output_type": "stream",
     "text": [
      "\n",
      "True NEH = 39 \t estimated NEHs median 35\n",
      "\n",
      " _SDEAVKPLGVK_2 Time 1 ==================================>\n",
      "pxt*NEH = 0.1518 real_NEH= 19 ratio = 0.007989473684210525 \n",
      "\n",
      "vals 0.15323673781506678\n",
      "\n",
      " _SDEAVKPLGVK_2 Time 2 ==================================>\n",
      "pxt*NEH = 0.31640133000000004 real_NEH= 19 ratio = 0.01665270157894737 \n",
      "\n",
      "vals 0.34473471794879984\n",
      "\n",
      " _SDEAVKPLGVK_2 Time 3 ==================================>\n",
      "pxt*NEH = 0.4048 real_NEH= 19 ratio = 0.021305263157894737 \n",
      "\n",
      "vals 0.32571877701270663\n",
      "\n",
      " _SDEAVKPLGVK_2 Time 6 ==================================>\n",
      "pxt*NEH = 0.74459927 real_NEH= 19 ratio = 0.0391894352631579 \n",
      "\n",
      "vals 0.698207687968917\n",
      "\n",
      " _SDEAVKPLGVK_2 Time 7 ==================================>\n",
      "pxt*NEH = 0.7655993839999999 real_NEH= 19 ratio = 0.04029470442105263 \n",
      "\n",
      "vals 0.7024762526189785\n",
      "\n",
      " _SDEAVKPLGVK_2 Time 9 ==================================>\n",
      "pxt*NEH = 0.86429933 real_NEH= 19 ratio = 0.04548943842105263 \n",
      "\n",
      "vals 0.8640021925159656\n",
      "\n",
      " _SDEAVKPLGVK_2 Time 13 ==================================>\n",
      "pxt*NEH = 0.86760432 real_NEH= 19 ratio = 0.04566338526315789 \n",
      "\n",
      "vals 0.9495602366595916\n",
      "\n",
      " _SDEAVKPLGVK_2 Time 16 ==================================>\n",
      "pxt*NEH = 0.96379921 real_NEH= 19 ratio = 0.05072627421052631 \n",
      "\n",
      "vals 0.9747645581266214\n",
      "\n",
      " _SDEAVKPLGVK_2 Time 21 ==================================>\n",
      "pxt*NEH = 0.8982048599999999 real_NEH= 19 ratio = 0.04727393999999999 \n",
      "\n",
      "vals 1.0046241865887882\n",
      "\n",
      " _SDEAVKPLGVK_2 Time 24 ==================================>\n",
      "pxt*NEH = 0.9944041800000001 real_NEH= 19 ratio = 0.05233706210526316 \n",
      "\n",
      "vals 0.9819159199764039\n",
      "\n",
      " _SDEAVKPLGVK_2 Time 31 ==================================>\n",
      "pxt*NEH = 0.90440437 real_NEH= 19 ratio = 0.04760023 \n",
      "\n",
      "vals 0.9344621035567323\n",
      "\n",
      " [0.1518, 0.31640133000000004, 0.4048, 0.74459927, 0.7655993839999999, 0.86429933, 0.86760432, 0.96379921, 0.8982048599999999, 0.9944041800000001, 0.90440437] \n",
      " [0.15323673781506678, 0.34473471794879984, 0.32571877701270663, 0.698207687968917, 0.7024762526189785, 0.8640021925159656, 0.9495602366595916, 0.9747645581266214, 1.0046241865887882, 0.9819159199764039, 0.9344621035567323]\n"
     ]
    },
    {
     "data": {
      "image/png": "[encoded data removed]",
      "text/plain": [
       "<Figure size 432x288 with 1 Axes>"
      ]
     },
     "metadata": {
      "needs_background": "light"
     },
     "output_type": "display_data"
    },
    {
     "name": "stdout",
     "output_type": "stream",
     "text": [
      "************** RMSE= 0.5968084048428856 R square= -3.716433102019124\n",
      "[0.033, 0.0704, 0.0902, 0.16499999999999998, 0.1694, 0.1914, 0.19360000000000002, 0.2134, 0.20020000000000002, 0.22, 0.20020000000000002]\n",
      "\n",
      " estimated NEH 22\n"
     ]
    },
    {
     "data": {
      "image/png": "[encoded data removed]",
      "text/plain": [
       "<Figure size 432x288 with 1 Axes>"
      ]
     },
     "metadata": {
      "needs_background": "light"
     },
     "output_type": "display_data"
    },
    {
     "name": "stdout",
     "output_type": "stream",
     "text": [
      "\n",
      "True NEH = 19 \t estimated NEHs median 22\n",
      "\n",
      " _SDEAVKPLGVK_3 Time 1 ==================================>\n",
      "pxt*NEH = 0.147 real_NEH= 19 ratio = 0.007736842105263157 \n",
      "\n",
      "vals 0.1106615271044391\n",
      "\n",
      " _SDEAVKPLGVK_3 Time 2 ==================================>\n",
      "pxt*NEH = 0.3608 real_NEH= 19 ratio = 0.01898947368421053 \n",
      "\n",
      "vals 0.2976272625747385\n",
      "\n",
      " _SDEAVKPLGVK_3 Time 3 ==================================>\n",
      "pxt*NEH = 0.334400088 real_NEH= 19 ratio = 0.017600004631578948 \n",
      "\n",
      "vals 0.24715159215311439\n",
      "\n",
      " _SDEAVKPLGVK_3 Time 6 ==================================>\n",
      "pxt*NEH = 0.739199384 real_NEH= 19 ratio = 0.0389052307368421 \n",
      "\n",
      "vals 0.7084823640199802\n",
      "\n",
      " _SDEAVKPLGVK_3 Time 7 ==================================>\n",
      "pxt*NEH = 0.73639888 real_NEH= 19 ratio = 0.038757835789473685 \n",
      "\n",
      "vals 0.7528626654321288\n",
      "\n",
      " _SDEAVKPLGVK_3 Time 9 ==================================>\n",
      "pxt*NEH = 0.81480168 real_NEH= 19 ratio = 0.04288429894736842 \n",
      "\n",
      "vals 0.8212609358834739\n",
      "\n",
      " _SDEAVKPLGVK_3 Time 13 ==================================>\n",
      "pxt*NEH = 0.8586041400000001 real_NEH= 19 ratio = 0.04518969157894737 \n",
      "\n",
      "vals 0.9086173315813829\n",
      "\n",
      " _SDEAVKPLGVK_3 Time 16 ==================================>\n",
      "pxt*NEH = 0.89919872 real_NEH= 19 ratio = 0.04732624842105263 \n",
      "\n",
      "vals 0.9149883969758245\n",
      "\n",
      " _SDEAVKPLGVK_3 Time 21 ==================================>\n",
      "pxt*NEH = 0.8586041400000001 real_NEH= 19 ratio = 0.04518969157894737 \n",
      "\n",
      "vals 0.9095538717833827\n",
      "\n",
      " _SDEAVKPLGVK_3 Time 24 ==================================>\n",
      "pxt*NEH = 0.83980442 real_NEH= 19 ratio = 0.04420023263157895 \n",
      "\n",
      "vals 0.9399349344220714\n",
      "\n",
      " _SDEAVKPLGVK_3 Time 31 ==================================>\n",
      "pxt*NEH = 0.86940432 real_NEH= 19 ratio = 0.04575812210526316 \n",
      "\n",
      "vals 0.930593544147723\n",
      "\n",
      " [0.147, 0.3608, 0.334400088, 0.739199384, 0.73639888, 0.81480168, 0.8586041400000001, 0.89919872, 0.8586041400000001, 0.83980442, 0.86940432] \n",
      " [0.1106615271044391, 0.2976272625747385, 0.24715159215311439, 0.7084823640199802, 0.7528626654321288, 0.8212609358834739, 0.9086173315813829, 0.9149883969758245, 0.9095538717833827, 0.9399349344220714, 0.930593544147723]\n"
     ]
    },
    {
     "data": {
      "image/png": "[encoded data removed]",
      "text/plain": [
       "<Figure size 432x288 with 1 Axes>"
      ]
     },
     "metadata": {
      "needs_background": "light"
     },
     "output_type": "display_data"
    },
    {
     "name": "stdout",
     "output_type": "stream",
     "text": [
      "************** RMSE= 0.5699938076547355 R square= -4.080138927866738\n",
      "[0.0315, 0.0756, 0.07139999999999999, 0.1575, 0.1554, 0.17220000000000002, 0.18269999999999997, 0.19110000000000002, 0.18269999999999997, 0.17850000000000002, 0.18480000000000002]\n",
      "\n",
      " estimated NEH 21\n"
     ]
    },
    {
     "data": {
      "image/png": "[encoded data removed]",
      "text/plain": [
       "<Figure size 432x288 with 1 Axes>"
      ]
     },
     "metadata": {
      "needs_background": "light"
     },
     "output_type": "display_data"
    },
    {
     "name": "stdout",
     "output_type": "stream",
     "text": [
      "\n",
      "True NEH = 19 \t estimated NEHs median 21\n",
      "\n",
      " _SEAVVAVLLTK_2 Time 1 ==================================>\n",
      "pxt*NEH = 0.105 real_NEH= 18 ratio = 0.005833333333333333 \n",
      "\n",
      "vals 0.06995430975817381\n",
      "\n",
      " _SEAVVAVLLTK_2 Time 2 ==================================>\n",
      "pxt*NEH = 0.315 real_NEH= 18 ratio = 0.0175 \n",
      "\n",
      "vals 0.2673761519935119\n",
      "\n",
      " _SEAVVAVLLTK_2 Time 3 ==================================>\n",
      "pxt*NEH = 0.258 real_NEH= 18 ratio = 0.014333333333333333 \n",
      "\n",
      "vals 0.2202405033666697\n",
      "\n",
      " _SEAVVAVLLTK_2 Time 6 ==================================>\n",
      "pxt*NEH = 0.72750375 real_NEH= 18 ratio = 0.040416875 \n",
      "\n",
      "vals 0.8350267353717756\n",
      "\n",
      " _SEAVVAVLLTK_2 Time 7 ==================================>\n",
      "pxt*NEH = 0.678599454 real_NEH= 18 ratio = 0.037699969666666666 \n",
      "\n",
      "vals 0.6561220132690365\n",
      "\n",
      " _SEAVVAVLLTK_2 Time 9 ==================================>\n",
      "pxt*NEH = 0.737199316 real_NEH= 18 ratio = 0.04095551755555556 \n",
      "\n",
      "vals 0.6928384427572843\n",
      "\n",
      " _SEAVVAVLLTK_2 Time 13 ==================================>\n",
      "pxt*NEH = 0.82079924 real_NEH= 18 ratio = 0.04559995777777778 \n",
      "\n",
      "vals 0.8285839013361633\n",
      "\n",
      " _SEAVVAVLLTK_2 Time 16 ==================================>\n",
      "pxt*NEH = 0.8415044199999999 real_NEH= 18 ratio = 0.04675024555555555 \n",
      "\n",
      "vals 0.9021238682049775\n",
      "\n",
      " _SEAVVAVLLTK_2 Time 21 ==================================>\n",
      "pxt*NEH = 0.774404 real_NEH= 18 ratio = 0.043022444444444446 \n",
      "\n",
      "vals 0.8550265768756592\n",
      "\n",
      " _SEAVVAVLLTK_2 Time 24 ==================================>\n",
      "pxt*NEH = 0.77280384 real_NEH= 18 ratio = 0.04293354666666667 \n",
      "\n",
      "vals 0.8235832086630507\n",
      "\n",
      " _SEAVVAVLLTK_2 Time 31 ==================================>\n",
      "pxt*NEH = 0.79360432 real_NEH= 18 ratio = 0.04408912888888889 \n",
      "\n",
      "vals 0.8711527455259435\n",
      "\n",
      " [0.105, 0.315, 0.258, 0.72750375, 0.678599454, 0.737199316, 0.82079924, 0.8415044199999999, 0.774404, 0.77280384, 0.79360432] \n",
      " [0.06995430975817381, 0.2673761519935119, 0.2202405033666697, 0.8350267353717756, 0.6561220132690365, 0.6928384427572843, 0.8285839013361633, 0.9021238682049775, 0.8550265768756592, 0.8235832086630507, 0.8711527455259435]\n"
     ]
    },
    {
     "data": {
      "image/png": "[encoded data removed]",
      "text/plain": [
       "<Figure size 432x288 with 1 Axes>"
      ]
     },
     "metadata": {
      "needs_background": "light"
     },
     "output_type": "display_data"
    },
    {
     "name": "stdout",
     "output_type": "stream",
     "text": [
      "************** RMSE= 0.5270121029510312 R square= -3.4618357160434927\n",
      "[0.023100000000000002, 0.06720000000000001, 0.054599999999999996, 0.1533, 0.1449, 0.1554, 0.1743, 0.17850000000000002, 0.1638, 0.1638, 0.168]\n",
      "\n",
      " estimated NEH 21\n"
     ]
    },
    {
     "data": {
      "image/png": "[encoded data removed]",
      "text/plain": [
       "<Figure size 432x288 with 1 Axes>"
      ]
     },
     "metadata": {
      "needs_background": "light"
     },
     "output_type": "display_data"
    },
    {
     "name": "stdout",
     "output_type": "stream",
     "text": [
      "\n",
      "True NEH = 18 \t estimated NEHs median 21\n",
      "\n",
      " _SFDDSGSGYcR_2 Time 1 ==================================>\n",
      "pxt*NEH = 0.1023 real_NEH= 21 ratio = 0.004871428571428572 \n",
      "\n",
      "vals 0.07540056695464877\n",
      "\n",
      " _SFDDSGSGYcR_2 Time 2 ==================================>\n",
      "pxt*NEH = 0.31489993299999997 real_NEH= 21 ratio = 0.014995234904761904 \n",
      "\n",
      "vals 0.2511321965726837\n",
      "\n",
      " _SFDDSGSGYcR_2 Time 3 ==================================>\n",
      "pxt*NEH = 0.31489993299999997 real_NEH= 21 ratio = 0.014995234904761904 \n",
      "\n",
      "vals 0.24641853958306853\n",
      "\n",
      " _SFDDSGSGYcR_2 Time 6 ==================================>\n",
      "pxt*NEH = 0.85680414 real_NEH= 21 ratio = 0.040800197142857146 \n",
      "\n",
      "vals 0.8766090436014912\n",
      "\n",
      " _SFDDSGSGYcR_2 Time 7 ==================================>\n",
      "pxt*NEH = 0.777604 real_NEH= 21 ratio = 0.037028761904761905 \n",
      "\n",
      "vals 0.8286413442761394\n",
      "\n",
      " _SFDDSGSGYcR_2 Time 9 ==================================>\n",
      "pxt*NEH = 0.8844024199999999 real_NEH= 21 ratio = 0.04211440095238095 \n",
      "\n",
      "vals 0.8441248266132406\n",
      "\n",
      " _SFDDSGSGYcR_2 Time 13 ==================================>\n",
      "pxt*NEH = 0.94240513 real_NEH= 21 ratio = 0.04487643476190476 \n",
      "\n",
      "vals 0.9224249346607125\n",
      "\n",
      " _SFDDSGSGYcR_2 Time 16 ==================================>\n",
      "pxt*NEH = 1.02479874 real_NEH= 21 ratio = 0.04879994 \n",
      "\n",
      "vals 0.9042362625743273\n",
      "\n",
      " _SFDDSGSGYcR_2 Time 21 ==================================>\n",
      "pxt*NEH = 0.8982048599999999 real_NEH= 21 ratio = 0.042771659999999996 \n",
      "\n",
      "vals 1.0574505312306137\n",
      "\n",
      " _SFDDSGSGYcR_2 Time 24 ==================================>\n",
      "pxt*NEH = 0.9201987100000001 real_NEH= 21 ratio = 0.043818986190476195 \n",
      "\n",
      "vals 0.839567642640244\n",
      "\n",
      " _SFDDSGSGYcR_2 Time 31 ==================================>\n",
      "pxt*NEH = 0.9560048 real_NEH= 21 ratio = 0.0455240380952381 \n",
      "\n",
      "vals 1.1056462455745952\n",
      "\n",
      " [0.1023, 0.31489993299999997, 0.31489993299999997, 0.85680414, 0.777604, 0.8844024199999999, 0.94240513, 1.02479874, 0.8982048599999999, 0.9201987100000001, 0.9560048] \n",
      " [0.07540056695464877, 0.2511321965726837, 0.24641853958306853, 0.8766090436014912, 0.8286413442761394, 0.8441248266132406, 0.9224249346607125, 0.9042362625743273, 1.0574505312306137, 0.839567642640244, 1.1056462455745952]\n"
     ]
    },
    {
     "data": {
      "image/png": "[encoded data removed]",
      "text/plain": [
       "<Figure size 432x288 with 1 Axes>"
      ]
     },
     "metadata": {
      "needs_background": "light"
     },
     "output_type": "display_data"
    },
    {
     "name": "stdout",
     "output_type": "stream",
     "text": [
      "************** RMSE= 0.6217037410862942 R square= -3.1348607170784097\n",
      "[0.021, 0.06720000000000001, 0.06720000000000001, 0.18269999999999997, 0.16590000000000002, 0.1869, 0.19949999999999998, 0.21, 0.19110000000000002, 0.19529999999999997, 0.2037]\n",
      "\n",
      " estimated NEH 21\n"
     ]
    },
    {
     "data": {
      "image/png": "[encoded data removed]",
      "text/plain": [
       "<Figure size 432x288 with 1 Axes>"
      ]
     },
     "metadata": {
      "needs_background": "light"
     },
     "output_type": "display_data"
    },
    {
     "name": "stdout",
     "output_type": "stream",
     "text": [
      "\n",
      "True NEH = 21 \t estimated NEHs median 21\n",
      "\n",
      " _TLLEGSGLESIINIIHSSLAEPR_3 Time 1 ==================================>\n",
      "pxt*NEH = 0.261 real_NEH= 47 ratio = 0.005553191489361702 \n",
      "\n",
      "vals 0.1289966718234252\n",
      "\n",
      " _TLLEGSGLESIINIIHSSLAEPR_3 Time 2 ==================================>\n",
      "pxt*NEH = 0.713999643 real_NEH= 47 ratio = 0.015191481765957447 \n",
      "\n",
      "vals 0.3908719526339813\n",
      "\n",
      " _TLLEGSGLESIINIIHSSLAEPR_3 Time 3 ==================================>\n",
      "pxt*NEH = 0.713999643 real_NEH= 47 ratio = 0.015191481765957447 \n",
      "\n",
      "vals 0.34408117220204054\n",
      "\n",
      " _TLLEGSGLESIINIIHSSLAEPR_3 Time 6 ==================================>\n",
      "pxt*NEH = 1.760409 real_NEH= 47 ratio = 0.03745551063829787 \n",
      "\n",
      "vals 1.5020842726072736\n",
      "\n",
      " _TLLEGSGLESIINIIHSSLAEPR_3 Time 7 ==================================>\n",
      "pxt*NEH = 1.6236085800000002 real_NEH= 47 ratio = 0.034544863404255326 \n",
      "\n",
      "vals 1.446700900331282\n",
      "\n",
      " _TLLEGSGLESIINIIHSSLAEPR_3 Time 9 ==================================>\n",
      "pxt*NEH = 1.7964097199999998 real_NEH= 47 ratio = 0.03822148340425532 \n",
      "\n",
      "vals 1.767977214663494\n",
      "\n",
      " _TLLEGSGLESIINIIHSSLAEPR_3 Time 13 ==================================>\n",
      "pxt*NEH = 1.9188101400000002 real_NEH= 47 ratio = 0.040825747659574474 \n",
      "\n",
      "vals 2.100852727545152\n",
      "\n",
      " _TLLEGSGLESIINIIHSSLAEPR_3 Time 16 ==================================>\n",
      "pxt*NEH = 2.04591107 real_NEH= 47 ratio = 0.043530022765957445 \n",
      "\n",
      "vals 2.3659306116693766\n",
      "\n",
      " _TLLEGSGLESIINIIHSSLAEPR_3 Time 21 ==================================>\n",
      "pxt*NEH = 1.84630999 real_NEH= 47 ratio = 0.03928319127659574 \n",
      "\n",
      "vals 1.621276305945285\n",
      "\n",
      " _TLLEGSGLESIINIIHSSLAEPR_3 Time 24 ==================================>\n",
      "pxt*NEH = 1.88100988 real_NEH= 47 ratio = 0.040021486808510635 \n",
      "\n",
      "vals 1.7839013330513973\n",
      "\n",
      " _TLLEGSGLESIINIIHSSLAEPR_3 Time 31 ==================================>\n",
      "pxt*NEH = 1.94611053 real_NEH= 47 ratio = 0.0414066070212766 \n",
      "\n",
      "vals 2.184331948546064\n",
      "\n",
      " [0.261, 0.713999643, 0.713999643, 1.760409, 1.6236085800000002, 1.7964097199999998, 1.9188101400000002, 2.04591107, 1.84630999, 1.88100988, 1.94611053] \n",
      " [0.1289966718234252, 0.3908719526339813, 0.34408117220204054, 1.5020842726072736, 1.446700900331282, 1.767977214663494, 2.100852727545152, 2.3659306116693766, 1.621276305945285, 1.7839013330513973, 2.184331948546064]\n"
     ]
    },
    {
     "data": {
      "image/png": "[encoded data removed]",
      "text/plain": [
       "<Figure size 432x288 with 1 Axes>"
      ]
     },
     "metadata": {
      "needs_background": "light"
     },
     "output_type": "display_data"
    },
    {
     "name": "stdout",
     "output_type": "stream",
     "text": [
      "************** RMSE= 1.2479952246673864 R square= -3.4164876360000758\n",
      "[0.1066, 0.2952, 0.2952, 0.41000000000000003, 0.41000000000000003, 0.41000000000000003, 0.41000000000000003, 0.41000000000000003, 0.41000000000000003, 0.41000000000000003, 0.41000000000000003]\n",
      "\n",
      " estimated NEH 41\n"
     ]
    },
    {
     "data": {
      "image/png": "[encoded data removed]",
      "text/plain": [
       "<Figure size 432x288 with 1 Axes>"
      ]
     },
     "metadata": {
      "needs_background": "light"
     },
     "output_type": "display_data"
    },
    {
     "name": "stdout",
     "output_type": "stream",
     "text": [
      "\n",
      "True NEH = 47 \t estimated NEHs median 41\n",
      "\n",
      " _VQEVQQVSTNK_2 Time 1 ==================================>\n",
      "pxt*NEH = 0.147 real_NEH= 22 ratio = 0.006681818181818181 \n",
      "\n",
      "vals 0.12723304989071438\n",
      "\n",
      " _VQEVQQVSTNK_2 Time 2 ==================================>\n",
      "pxt*NEH = 0.4095 real_NEH= 22 ratio = 0.018613636363636363 \n",
      "\n",
      "vals 0.35338434882639486\n",
      "\n",
      " _VQEVQQVSTNK_2 Time 3 ==================================>\n",
      "pxt*NEH = 0.396 real_NEH= 22 ratio = 0.018000000000000002 \n",
      "\n",
      "vals 0.2936163321078215\n",
      "\n",
      " _VQEVQQVSTNK_2 Time 6 ==================================>\n",
      "pxt*NEH = 0.9471992600000001 real_NEH= 22 ratio = 0.043054511818181825 \n",
      "\n",
      "vals 0.8202860941658714\n",
      "\n",
      " _VQEVQQVSTNK_2 Time 7 ==================================>\n",
      "pxt*NEH = 0.8774992500000001 real_NEH= 22 ratio = 0.03988632954545455 \n",
      "\n",
      "vals 0.8127319285316217\n",
      "\n",
      " _VQEVQQVSTNK_2 Time 9 ==================================>\n",
      "pxt*NEH = 0.9372033000000001 real_NEH= 22 ratio = 0.04260015 \n",
      "\n",
      "vals 0.9315959780895731\n",
      "\n",
      " _VQEVQQVSTNK_2 Time 13 ==================================>\n",
      "pxt*NEH = 1.05380528 real_NEH= 22 ratio = 0.04790024 \n",
      "\n",
      "vals 1.1142651284437461\n",
      "\n",
      " _VQEVQQVSTNK_2 Time 16 ==================================>\n",
      "pxt*NEH = 1.11780575 real_NEH= 22 ratio = 0.05080935227272727 \n",
      "\n",
      "vals 1.2315160270762158\n",
      "\n",
      " _VQEVQQVSTNK_2 Time 21 ==================================>\n",
      "pxt*NEH = 0.99899852 real_NEH= 22 ratio = 0.045409023636363635 \n",
      "\n",
      "vals 0.9669254750801731\n",
      "\n",
      " _VQEVQQVSTNK_2 Time 24 ==================================>\n",
      "pxt*NEH = 1.0582052800000001 real_NEH= 22 ratio = 0.04810024000000001 \n",
      "\n",
      "vals 1.0720296395515654\n",
      "\n",
      " _VQEVQQVSTNK_2 Time 31 ==================================>\n",
      "pxt*NEH = 1.06260528 real_NEH= 22 ratio = 0.04830024 \n",
      "\n",
      "vals 1.1892249406770294\n",
      "\n",
      " [0.147, 0.4095, 0.396, 0.9471992600000001, 0.8774992500000001, 0.9372033000000001, 1.05380528, 1.11780575, 0.99899852, 1.0582052800000001, 1.06260528] \n",
      " [0.12723304989071438, 0.35338434882639486, 0.2936163321078215, 0.8202860941658714, 0.8127319285316217, 0.9315959780895731, 1.1142651284437461, 1.2315160270762158, 0.9669254750801731, 1.0720296395515654, 1.1892249406770294]\n"
     ]
    },
    {
     "data": {
      "image/png": "[encoded data removed]",
      "text/plain": [
       "<Figure size 432x288 with 1 Axes>"
      ]
     },
     "metadata": {
      "needs_background": "light"
     },
     "output_type": "display_data"
    },
    {
     "name": "stdout",
     "output_type": "stream",
     "text": [
      "************** RMSE= 0.6834831174422864 R square= -3.566008106908913\n",
      "[0.0345, 0.09430000000000001, 0.092, 0.22079999999999997, 0.2047, 0.2185, 0.23, 0.23, 0.23, 0.23, 0.23]\n",
      "\n",
      " estimated NEH 23\n"
     ]
    },
    {
     "data": {
      "image/png": "[encoded data removed]",
      "text/plain": [
       "<Figure size 432x288 with 1 Axes>"
      ]
     },
     "metadata": {
      "needs_background": "light"
     },
     "output_type": "display_data"
    },
    {
     "name": "stdout",
     "output_type": "stream",
     "text": [
      "\n",
      "True NEH = 22 \t estimated NEHs median 23\n",
      "\n",
      " _VSDLLLSTDER_2 Time 1 ==================================>\n",
      "pxt*NEH = 0.14400000000000002 real_NEH= 18 ratio = 0.008 \n",
      "\n",
      "vals 0.10000031013853093\n",
      "\n",
      " _VSDLLLSTDER_2 Time 2 ==================================>\n",
      "pxt*NEH = 0.40040000000000003 real_NEH= 18 ratio = 0.022244444444444445 \n",
      "\n",
      "vals 0.32618842362669387\n",
      "\n",
      " _VSDLLLSTDER_2 Time 3 ==================================>\n",
      "pxt*NEH = 0.414 real_NEH= 18 ratio = 0.023 \n",
      "\n",
      "vals 0.23085549759658017\n",
      "\n",
      " _VSDLLLSTDER_2 Time 6 ==================================>\n",
      "pxt*NEH = 0.81619923 real_NEH= 18 ratio = 0.04534440166666667 \n",
      "\n",
      "vals 0.6615010270986237\n",
      "\n",
      " _VSDLLLSTDER_2 Time 7 ==================================>\n",
      "pxt*NEH = 0.80559924 real_NEH= 18 ratio = 0.04475551333333334 \n",
      "\n",
      "vals 0.665211362642578\n",
      "\n",
      " _VSDLLLSTDER_2 Time 9 ==================================>\n",
      "pxt*NEH = 0.79039924 real_NEH= 18 ratio = 0.043911068888888884 \n",
      "\n",
      "vals 0.6362390047914224\n",
      "\n",
      " _VSDLLLSTDER_2 Time 13 ==================================>\n",
      "pxt*NEH = 0.85879924 real_NEH= 18 ratio = 0.04771106888888889 \n",
      "\n",
      "vals 0.7656489933937161\n",
      "\n",
      " _VSDLLLSTDER_2 Time 16 ==================================>\n",
      "pxt*NEH = 0.9195992399999999 real_NEH= 18 ratio = 0.05108884666666666 \n",
      "\n",
      "vals 0.8117035978773377\n",
      "\n",
      " _VSDLLLSTDER_2 Time 21 ==================================>\n",
      "pxt*NEH = 0.8550041399999999 real_NEH= 18 ratio = 0.04750023 \n",
      "\n",
      "vals 0.8452055790326372\n",
      "\n",
      " _VSDLLLSTDER_2 Time 24 ==================================>\n",
      "pxt*NEH = 0.87399924 real_NEH= 18 ratio = 0.04855551333333333 \n",
      "\n",
      "vals 0.7399464793767492\n",
      "\n",
      " _VSDLLLSTDER_2 Time 31 ==================================>\n",
      "pxt*NEH = 0.8815992399999999 real_NEH= 18 ratio = 0.04897773555555555 \n",
      "\n",
      "vals 0.7384786223652285\n",
      "\n",
      " [0.14400000000000002, 0.40040000000000003, 0.414, 0.81619923, 0.80559924, 0.79039924, 0.85879924, 0.9195992399999999, 0.8550041399999999, 0.87399924, 0.8815992399999999] \n",
      " [0.10000031013853093, 0.32618842362669387, 0.23085549759658017, 0.6615010270986237, 0.665211362642578, 0.6362390047914224, 0.7656489933937161, 0.8117035978773377, 0.8452055790326372, 0.7399464793767492, 0.7384786223652285]\n"
     ]
    },
    {
     "data": {
      "image/png": "[encoded data removed]",
      "text/plain": [
       "<Figure size 432x288 with 1 Axes>"
      ]
     },
     "metadata": {
      "needs_background": "light"
     },
     "output_type": "display_data"
    },
    {
     "name": "stdout",
     "output_type": "stream",
     "text": [
      "************** RMSE= 0.6043053847064411 R square= -4.960734897830614\n",
      "[0.0285, 0.076, 0.0798, 0.15580000000000002, 0.15389999999999998, 0.152, 0.1653, 0.1767, 0.1634, 0.16720000000000002, 0.1691]\n",
      "\n",
      " estimated NEH 19\n"
     ]
    },
    {
     "data": {
      "image/png": "[encoded data removed]",
      "text/plain": [
       "<Figure size 432x288 with 1 Axes>"
      ]
     },
     "metadata": {
      "needs_background": "light"
     },
     "output_type": "display_data"
    },
    {
     "name": "stdout",
     "output_type": "stream",
     "text": [
      "\n",
      "True NEH = 18 \t estimated NEHs median 19\n",
      "\n",
      " _VSVHIIEGDHR_2 Time 1 ==================================>\n",
      "pxt*NEH = 0.111 real_NEH= 22 ratio = 0.005045454545454546 \n",
      "\n",
      "vals 0.00244517346876926\n",
      "\n",
      " _VSVHIIEGDHR_2 Time 2 ==================================>\n",
      "pxt*NEH = 0.2958 real_NEH= 22 ratio = 0.013445454545454545 \n",
      "\n",
      "vals 0.23910721089845255\n",
      "\n",
      " _VSVHIIEGDHR_2 Time 3 ==================================>\n",
      "pxt*NEH = 0.2937 real_NEH= 22 ratio = 0.01335 \n",
      "\n",
      "vals 0.20850982590868836\n",
      "\n",
      " _VSVHIIEGDHR_2 Time 6 ==================================>\n",
      "pxt*NEH = 0.65359957 real_NEH= 22 ratio = 0.029709071363636364 \n",
      "\n",
      "vals 0.46549746526152685\n",
      "\n",
      " _VSVHIIEGDHR_2 Time 7 ==================================>\n",
      "pxt*NEH = 0.692999384 real_NEH= 22 ratio = 0.031499972 \n",
      "\n",
      "vals 0.6173943987030966\n",
      "\n",
      " _VSVHIIEGDHR_2 Time 9 ==================================>\n",
      "pxt*NEH = 0.79039924 real_NEH= 22 ratio = 0.03592723818181818 \n",
      "\n",
      "vals 0.704339309643644\n",
      "\n",
      " _VSVHIIEGDHR_2 Time 13 ==================================>\n",
      "pxt*NEH = 0.8815992399999999 real_NEH= 22 ratio = 0.04007269272727272 \n",
      "\n",
      "vals 0.6995609297550254\n",
      "\n",
      " _VSVHIIEGDHR_2 Time 16 ==================================>\n",
      "pxt*NEH = 0.9162992299999999 real_NEH= 22 ratio = 0.041649965 \n",
      "\n",
      "vals 0.8492482720672594\n",
      "\n",
      " _VSVHIIEGDHR_2 Time 21 ==================================>\n",
      "pxt*NEH = 0.8931992299999999 real_NEH= 22 ratio = 0.040599964999999995 \n",
      "\n",
      "vals 0.730145586763278\n",
      "\n",
      " _VSVHIIEGDHR_2 Time 24 ==================================>\n",
      "pxt*NEH = 0.85119924 real_NEH= 22 ratio = 0.03869087454545455 \n",
      "\n",
      "vals 0.7972625712977842\n",
      "\n",
      " _VSVHIIEGDHR_2 Time 31 ==================================>\n",
      "pxt*NEH = 0.89679924 real_NEH= 22 ratio = 0.04076360181818182 \n",
      "\n",
      "vals 0.7892184483043394\n",
      "\n",
      " [0.111, 0.2958, 0.2937, 0.65359957, 0.692999384, 0.79039924, 0.8815992399999999, 0.9162992299999999, 0.8931992299999999, 0.85119924, 0.89679924] \n",
      " [0.00244517346876926, 0.23910721089845255, 0.20850982590868836, 0.46549746526152685, 0.6173943987030966, 0.704339309643644, 0.6995609297550254, 0.8492482720672594, 0.730145586763278, 0.7972625712977842, 0.7892184483043394]\n"
     ]
    },
    {
     "data": {
      "image/png": "[encoded data removed]",
      "text/plain": [
       "<Figure size 432x288 with 1 Axes>"
      ]
     },
     "metadata": {
      "needs_background": "light"
     },
     "output_type": "display_data"
    },
    {
     "name": "stdout",
     "output_type": "stream",
     "text": [
      "************** RMSE= 0.5795491857319368 R square= -3.3562017623757727\n",
      "[0.020900000000000002, 0.057, 0.057, 0.1254, 0.133, 0.152, 0.1691, 0.1767, 0.17099999999999999, 0.1634, 0.1729]\n",
      "\n",
      " estimated NEH 19\n"
     ]
    },
    {
     "data": {
      "image/png": "[encoded data removed]",
      "text/plain": [
       "<Figure size 432x288 with 1 Axes>"
      ]
     },
     "metadata": {
      "needs_background": "light"
     },
     "output_type": "display_data"
    },
    {
     "name": "stdout",
     "output_type": "stream",
     "text": [
      "\n",
      "True NEH = 22 \t estimated NEHs median 19\n",
      "\n",
      " _VSVHIIEGDHR_3 Time 1 ==================================>\n",
      "pxt*NEH = 0.1178 real_NEH= 22 ratio = 0.005354545454545455 \n",
      "\n",
      "vals 0.08495916940020538\n",
      "\n",
      " _VSVHIIEGDHR_3 Time 2 ==================================>\n",
      "pxt*NEH = 0.32930000000000004 real_NEH= 22 ratio = 0.01496818181818182 \n",
      "\n",
      "vals 0.28997197346108056\n",
      "\n",
      " _VSVHIIEGDHR_3 Time 3 ==================================>\n",
      "pxt*NEH = 0.261 real_NEH= 22 ratio = 0.011863636363636364 \n",
      "\n",
      "vals 0.09067202252038993\n",
      "\n",
      " _VSVHIIEGDHR_3 Time 6 ==================================>\n",
      "pxt*NEH = 0.7961026600000001 real_NEH= 22 ratio = 0.03618648454545455 \n",
      "\n",
      "vals 0.7508856599265418\n",
      "\n",
      " _VSVHIIEGDHR_3 Time 7 ==================================>\n",
      "pxt*NEH = 0.7125034499999999 real_NEH= 22 ratio = 0.03238652045454545 \n",
      "\n",
      "vals 0.7839189387120586\n",
      "\n",
      " _VSVHIIEGDHR_3 Time 9 ==================================>\n",
      "pxt*NEH = 0.83470442 real_NEH= 22 ratio = 0.03794111 \n",
      "\n",
      "vals 0.9340791759028324\n",
      "\n",
      " _VSVHIIEGDHR_3 Time 13 ==================================>\n",
      "pxt*NEH = 0.92910475 real_NEH= 22 ratio = 0.042232034090909094 \n",
      "\n",
      "vals 1.06762160458896\n",
      "\n",
      " _VSVHIIEGDHR_3 Time 16 ==================================>\n",
      "pxt*NEH = 1.00590504 real_NEH= 22 ratio = 0.045722956363636366 \n",
      "\n",
      "vals 1.0747801970544506\n",
      "\n",
      " _VSVHIIEGDHR_3 Time 21 ==================================>\n",
      "pxt*NEH = 0.87099974 real_NEH= 22 ratio = 0.03959089727272727 \n",
      "\n",
      "vals 0.8768014673371387\n",
      "\n",
      " _VSVHIIEGDHR_3 Time 24 ==================================>\n",
      "pxt*NEH = 0.90519927 real_NEH= 22 ratio = 0.041145421363636366 \n",
      "\n",
      "vals 0.8444132072507824\n",
      "\n",
      " _VSVHIIEGDHR_3 Time 31 ==================================>\n",
      "pxt*NEH = 0.97789923 real_NEH= 22 ratio = 0.044449965 \n",
      "\n",
      "vals 0.9262133254941206\n",
      "\n",
      " [0.1178, 0.32930000000000004, 0.261, 0.7961026600000001, 0.7125034499999999, 0.83470442, 0.92910475, 1.00590504, 0.87099974, 0.90519927, 0.97789923] \n",
      " [0.08495916940020538, 0.28997197346108056, 0.09067202252038993, 0.7508856599265418, 0.7839189387120586, 0.9340791759028324, 1.06762160458896, 1.0747801970544506, 0.8768014673371387, 0.8444132072507824, 0.9262133254941206]\n"
     ]
    },
    {
     "data": {
      "image/png": "[encoded data removed]",
      "text/plain": [
       "<Figure size 432x288 with 1 Axes>"
      ]
     },
     "metadata": {
      "needs_background": "light"
     },
     "output_type": "display_data"
    },
    {
     "name": "stdout",
     "output_type": "stream",
     "text": [
      "************** RMSE= 0.5802472327355322 R square= -2.7367114590161443\n",
      "[0.0288, 0.07919999999999999, 0.0624, 0.192, 0.1728, 0.2016, 0.22560000000000002, 0.24, 0.2112, 0.2184, 0.23760000000000003]\n",
      "\n",
      " estimated NEH 24\n"
     ]
    },
    {
     "data": {
      "image/png": "[encoded data removed]",
      "text/plain": [
       "<Figure size 432x288 with 1 Axes>"
      ]
     },
     "metadata": {
      "needs_background": "light"
     },
     "output_type": "display_data"
    },
    {
     "name": "stdout",
     "output_type": "stream",
     "text": [
      "\n",
      "True NEH = 22 \t estimated NEHs median 24\n",
      "\n",
      " _VTAIYIDPATHR_3 Time 1 ==================================>\n",
      "pxt*NEH = 0.147 real_NEH= 22 ratio = 0.006681818181818181 \n",
      "\n",
      "vals 0.13065029333816888\n",
      "\n",
      " _VTAIYIDPATHR_3 Time 2 ==================================>\n",
      "pxt*NEH = 0.3456 real_NEH= 22 ratio = 0.01570909090909091 \n",
      "\n",
      "vals 0.3263487316071131\n",
      "\n",
      " _VTAIYIDPATHR_3 Time 3 ==================================>\n",
      "pxt*NEH = 0.3234 real_NEH= 22 ratio = 0.014700000000000001 \n",
      "\n",
      "vals 0.2875851829533048\n",
      "\n",
      " _VTAIYIDPATHR_3 Time 6 ==================================>\n",
      "pxt*NEH = 0.77379927 real_NEH= 22 ratio = 0.03517269409090909 \n",
      "\n",
      "vals 0.886014152938365\n",
      "\n",
      " _VTAIYIDPATHR_3 Time 7 ==================================>\n",
      "pxt*NEH = 0.808399342 real_NEH= 22 ratio = 0.036745424636363634 \n",
      "\n",
      "vals 0.9194487854909997\n",
      "\n",
      " _VTAIYIDPATHR_3 Time 9 ==================================>\n",
      "pxt*NEH = 0.88380468 real_NEH= 22 ratio = 0.04017294 \n",
      "\n",
      "vals 0.9760398112977545\n",
      "\n",
      " _VTAIYIDPATHR_3 Time 13 ==================================>\n",
      "pxt*NEH = 0.92340475 real_NEH= 22 ratio = 0.041972943181818184 \n",
      "\n",
      "vals 1.044629098005284\n",
      "\n",
      " _VTAIYIDPATHR_3 Time 16 ==================================>\n",
      "pxt*NEH = 1.02060525 real_NEH= 22 ratio = 0.04639114772727273 \n",
      "\n",
      "vals 1.022289829605017\n",
      "\n",
      " _VTAIYIDPATHR_3 Time 21 ==================================>\n",
      "pxt*NEH = 0.8657992600000001 real_NEH= 22 ratio = 0.03935451181818182 \n",
      "\n",
      "vals 0.901185248595146\n",
      "\n",
      " _VTAIYIDPATHR_3 Time 24 ==================================>\n",
      "pxt*NEH = 0.91200456 real_NEH= 22 ratio = 0.041454752727272726 \n",
      "\n",
      "vals 1.0449520922052318\n",
      "\n",
      " _VTAIYIDPATHR_3 Time 31 ==================================>\n",
      "pxt*NEH = 0.9521986200000001 real_NEH= 22 ratio = 0.04328175545454546 \n",
      "\n",
      "vals 0.9798088282521725\n",
      "\n",
      " [0.147, 0.3456, 0.3234, 0.77379927, 0.808399342, 0.88380468, 0.92340475, 1.02060525, 0.8657992600000001, 0.91200456, 0.9521986200000001] \n",
      " [0.13065029333816888, 0.3263487316071131, 0.2875851829533048, 0.886014152938365, 0.9194487854909997, 0.9760398112977545, 1.044629098005284, 1.022289829605017, 0.901185248595146, 1.0449520922052318, 0.9798088282521725]\n"
     ]
    },
    {
     "data": {
      "image/png": "[encoded data removed]",
      "text/plain": [
       "<Figure size 432x288 with 1 Axes>"
      ]
     },
     "metadata": {
      "needs_background": "light"
     },
     "output_type": "display_data"
    },
    {
     "name": "stdout",
     "output_type": "stream",
     "text": [
      "************** RMSE= 0.6141061942740285 R square= -3.5737736852324566\n",
      "[0.0315, 0.0735, 0.0693, 0.1638, 0.17220000000000002, 0.1869, 0.19529999999999997, 0.21, 0.18269999999999997, 0.19319999999999998, 0.20159999999999997]\n",
      "\n",
      " estimated NEH 21\n"
     ]
    },
    {
     "data": {
      "image/png": "[encoded data removed]",
      "text/plain": [
       "<Figure size 432x288 with 1 Axes>"
      ]
     },
     "metadata": {
      "needs_background": "light"
     },
     "output_type": "display_data"
    },
    {
     "name": "stdout",
     "output_type": "stream",
     "text": [
      "\n",
      "True NEH = 22 \t estimated NEHs median 21\n",
      "\n",
      " _VYATILNAGTNTDGSK_2 Time 1 ==================================>\n",
      "pxt*NEH = 0.243 real_NEH= 24 ratio = 0.010125 \n",
      "\n",
      "vals 0.03836729439571011\n",
      "\n",
      " _VYATILNAGTNTDGSK_2 Time 2 ==================================>\n",
      "pxt*NEH = 0.45200011300000004 real_NEH= 24 ratio = 0.018833338041666668 \n",
      "\n",
      "vals 0.20962895386942612\n",
      "\n",
      " _VYATILNAGTNTDGSK_2 Time 3 ==================================>\n",
      "pxt*NEH = 0.558599886 real_NEH= 24 ratio = 0.02327499525 \n",
      "\n",
      "vals 0.233819503908841\n",
      "\n",
      " _VYATILNAGTNTDGSK_2 Time 6 ==================================>\n",
      "pxt*NEH = 0.82079943 real_NEH= 24 ratio = 0.03419997625 \n",
      "\n",
      "vals 0.3183985831186042\n",
      "\n",
      " _VYATILNAGTNTDGSK_2 Time 7 ==================================>\n",
      "pxt*NEH = 0.85799934 real_NEH= 24 ratio = 0.0357499725 \n",
      "\n",
      "vals 0.4254739998682265\n",
      "\n",
      " _VYATILNAGTNTDGSK_2 Time 9 ==================================>\n",
      "pxt*NEH = 0.8774992500000001 real_NEH= 24 ratio = 0.03656246875 \n",
      "\n",
      "vals 0.7412433842679174\n",
      "\n",
      " _VYATILNAGTNTDGSK_2 Time 13 ==================================>\n",
      "pxt*NEH = 0.96749925 real_NEH= 24 ratio = 0.040312468750000004 \n",
      "\n",
      "vals 0.9932319278081254\n",
      "\n",
      " _VYATILNAGTNTDGSK_2 Time 16 ==================================>\n",
      "pxt*NEH = 1.0874985000000001 real_NEH= 24 ratio = 0.045312437500000004 \n",
      "\n",
      "vals 1.0399134667804812\n",
      "\n",
      " _VYATILNAGTNTDGSK_2 Time 21 ==================================>\n",
      "pxt*NEH = 0.9974985 real_NEH= 24 ratio = 0.0415624375 \n",
      "\n",
      "vals 0.8911794161636528\n",
      "\n",
      " _VYATILNAGTNTDGSK_2 Time 24 ==================================>\n",
      "pxt*NEH = 1.0724985 real_NEH= 24 ratio = 0.0446874375 \n",
      "\n",
      "vals 0.936035762227999\n",
      "\n",
      " _VYATILNAGTNTDGSK_2 Time 31 ==================================>\n",
      "pxt*NEH = 1.0799985 real_NEH= 24 ratio = 0.044999937500000003 \n",
      "\n",
      "vals 1.1778498534729667\n",
      "\n",
      " [0.243, 0.45200011300000004, 0.558599886, 0.82079943, 0.85799934, 0.8774992500000001, 0.96749925, 1.0874985000000001, 0.9974985, 1.0724985, 1.0799985] \n",
      " [0.03836729439571011, 0.20962895386942612, 0.233819503908841, 0.3183985831186042, 0.4254739998682265, 0.7412433842679174, 0.9932319278081254, 1.0399134667804812, 0.8911794161636528, 0.936035762227999, 1.1778498534729667]\n"
     ]
    },
    {
     "data": {
      "image/png": "[encoded data removed]",
      "text/plain": [
       "<Figure size 432x288 with 1 Axes>"
      ]
     },
     "metadata": {
      "needs_background": "light"
     },
     "output_type": "display_data"
    },
    {
     "name": "stdout",
     "output_type": "stream",
     "text": [
      "************** RMSE= 0.6525710694392612 R square= -4.873019157790592\n",
      "[0.0625, 0.11499999999999999, 0.13999999999999999, 0.2075, 0.21749999999999997, 0.2225, 0.245, 0.25, 0.25, 0.25, 0.25]\n",
      "\n",
      " estimated NEH 25\n"
     ]
    },
    {
     "data": {
      "image/png": "[encoded data removed]",
      "text/plain": [
       "<Figure size 432x288 with 1 Axes>"
      ]
     },
     "metadata": {
      "needs_background": "light"
     },
     "output_type": "display_data"
    },
    {
     "name": "stdout",
     "output_type": "stream",
     "text": [
      "\n",
      "True NEH = 24 \t estimated NEHs median 25\n",
      "\n",
      " _WLSTSIPEAQWQSSLAR_2 Time 1 ==================================>\n",
      "pxt*NEH = 0.213 real_NEH= 38 ratio = 0.0056052631578947364 \n",
      "\n",
      "vals 0.15527722895184534\n",
      "\n",
      " _WLSTSIPEAQWQSSLAR_2 Time 2 ==================================>\n",
      "pxt*NEH = 0.4956 real_NEH= 38 ratio = 0.013042105263157895 \n",
      "\n",
      "vals 0.3205288063679858\n",
      "\n",
      " _WLSTSIPEAQWQSSLAR_2 Time 3 ==================================>\n",
      "pxt*NEH = 0.5031 real_NEH= 38 ratio = 0.013239473684210527 \n",
      "\n",
      "vals 0.20363170602646782\n",
      "\n",
      " _WLSTSIPEAQWQSSLAR_2 Time 6 ==================================>\n",
      "pxt*NEH = 1.39119852 real_NEH= 38 ratio = 0.036610487368421055 \n",
      "\n",
      "vals 0.8758019904007248\n",
      "\n",
      " _WLSTSIPEAQWQSSLAR_2 Time 7 ==================================>\n",
      "pxt*NEH = 1.2888010799999998 real_NEH= 38 ratio = 0.033915817894736834 \n",
      "\n",
      "vals 0.9620967385597059\n",
      "\n",
      " _WLSTSIPEAQWQSSLAR_2 Time 9 ==================================>\n",
      "pxt*NEH = 1.43260754 real_NEH= 38 ratio = 0.037700198421052634 \n",
      "\n",
      "vals 1.0186511677630234\n",
      "\n",
      " _WLSTSIPEAQWQSSLAR_2 Time 13 ==================================>\n",
      "pxt*NEH = 1.59680864 real_NEH= 38 ratio = 0.042021279999999994 \n",
      "\n",
      "vals 1.36276230552985\n",
      "\n",
      " _WLSTSIPEAQWQSSLAR_2 Time 16 ==================================>\n",
      "pxt*NEH = 1.7150090999999998 real_NEH= 38 ratio = 0.04513181842105263 \n",
      "\n",
      "vals 1.5780247195956916\n",
      "\n",
      " _WLSTSIPEAQWQSSLAR_2 Time 21 ==================================>\n",
      "pxt*NEH = 1.44420783 real_NEH= 38 ratio = 0.03800546921052632 \n",
      "\n",
      "vals 1.583868625675433\n",
      "\n",
      " _WLSTSIPEAQWQSSLAR_2 Time 24 ==================================>\n",
      "pxt*NEH = 1.5283080599999999 real_NEH= 38 ratio = 0.040218633157894736 \n",
      "\n",
      "vals 1.5777070057999454\n",
      "\n",
      " _WLSTSIPEAQWQSSLAR_2 Time 31 ==================================>\n",
      "pxt*NEH = 2.09581134 real_NEH= 38 ratio = 0.05515293 \n",
      "\n",
      "vals 1.3949987207085854\n",
      "\n",
      " [0.213, 0.4956, 0.5031, 1.39119852, 1.2888010799999998, 1.43260754, 1.59680864, 1.7150090999999998, 1.44420783, 1.5283080599999999, 2.09581134] \n",
      " [0.15527722895184534, 0.3205288063679858, 0.20363170602646782, 0.8758019904007248, 0.9620967385597059, 1.0186511677630234, 1.36276230552985, 1.5780247195956916, 1.583868625675433, 1.5777070057999454, 1.3949987207085854]\n"
     ]
    },
    {
     "data": {
      "image/png": "[encoded data removed]",
      "text/plain": [
       "<Figure size 432x288 with 1 Axes>"
      ]
     },
     "metadata": {
      "needs_background": "light"
     },
     "output_type": "display_data"
    },
    {
     "name": "stdout",
     "output_type": "stream",
     "text": [
      "************** RMSE= 1.0022978176693673 R square= -2.2273732888722506\n",
      "[0.09240000000000001, 0.21, 0.2142, 0.42, 0.42, 0.42, 0.42, 0.42, 0.42, 0.42, 0.42]\n",
      "\n",
      " estimated NEH 42\n"
     ]
    },
    {
     "data": {
      "image/png": "[encoded data removed]",
      "text/plain": [
       "<Figure size 432x288 with 1 Axes>"
      ]
     },
     "metadata": {
      "needs_background": "light"
     },
     "output_type": "display_data"
    },
    {
     "name": "stdout",
     "output_type": "stream",
     "text": [
      "\n",
      "True NEH = 38 \t estimated NEHs median 42\n"
     ]
    }
   ],
   "source": [
    "vals=[]\n",
    "for pep in pept:\n",
    "    neh_coll=[]\n",
    "    pxt_neh=[]\n",
    "    val_col=[]\n",
    "    for time in times:\n",
    "        try:\n",
    "            print(f\"\\n {pep} Time\",time,\"==================================>\")\n",
    "    #         data=pd.read_csv(f\"C:/Workplace/C++/d2ome_v2/v2/v2/bin/Debug/_AAMLGQEDPPQHGLPR_3_{time}_FAS_MOUSE.csv\")\n",
    "    #         data=pd.read_csv(f\"C:/Workplace/C++/d2ome_v2/v2/v2/bin/Debug/_AcVDTALENLSTLK_2_{time}_FAS_MOUSE.csv\")\n",
    "    #         data=pd.read_csv(f\"C:/Workplace/C++/d2ome_v2/v2/v2/bin/Debug/_DAMLENQTPELFQDVNKPK_3_{time}_FAS_MOUSE.csv\")\n",
    "    #         data=pd.read_csv(f\"C:/Workplace/C++/d2ome_v2/v2/v2/bin/Debug/_DcMLGMEFSGR_2_{time}_FAS_MOUSE.csv\")\n",
    "    #         data=pd.read_csv(f\"C:/Workplace/C++/d2ome_v2/v2/v2/bin/Debug/_DPETLLGYSMVGcQR_2_{time}_FAS_MOUSE.csv\")\n",
    "    #         data=pd.read_csv(f\"C:/Workplace/C++/d2ome_v2/v2/v2/bin/Debug/_DTSFEQHVLLHTGGK_3_{time}_FAS_MOUSE.csv\") \n",
    "    #         data=pd.read_csv(f\"C:/Workplace/C++/d2ome_v2/v2/v2/bin/Debug/_EGGFLLVHTVLK_2_{time}_FAS_MOUSE.csv\") \n",
    "            data=pd.read_csv(f\"C:/Workplace/C++/d2ome_v2/v2/v2/bin/Debug/{pep}_{time}_FAS_MOUSE.csv\")\n",
    "\n",
    "            data[\"const\"]=data.NEH*data.pxt\n",
    "            data[\"new_pxt\"]=1-ph- (data.const/( (1-ph)*(data[\"exp_t_A1/A0\"]-data[\"exp_A1/A0\"]) ) )\n",
    "            data[\"new_neh\"]=data.const/data.new_pxt\n",
    "            data=data.sort_values(by=[\"RMSE\"],ascending=True)\n",
    "            data=data[data.NEH<=data.NH]\n",
    "\n",
    "#             plt.scatter(data.const,data.RMSE,s=1,c='k')\n",
    "#             plt.hlines(y=2.5*min(data.RMSE),xmin=min(data.const),xmax=max(data.const),color='r')\n",
    "#             plt.show()\n",
    "            \n",
    "            print(\"pxt*NEH =\",float(data[data.RMSE==min(data.RMSE)].const),\"real_NEH=\",data.T_NEH[0], \"ratio =\",float(data[data.RMSE==min(data.RMSE)].const/data.T_NEH[0]),\"\\n\")\n",
    "            print(\"vals\",(data.loc[0,\"exp_t_A1/A0\"]-data.loc[0,\"exp_A1/A0\"])*(1-ph))\n",
    "            \n",
    "            pxt_neh.append(float(data[data.RMSE==min(data.RMSE)].const))\n",
    "            val_col.append((data.loc[0,\"exp_t_A1/A0\"]-data.loc[0,\"exp_A1/A0\"])*(1-ph))\n",
    "            \n",
    "            \n",
    "#             if(not islinear(data[[\"const\",\"RMSE\"]])):\n",
    "            tempdata=data[data.RMSE<2.5*min(data.RMSE)]\n",
    "            tempdata=tempdata[(tempdata.new_pxt>0) & (tempdata.new_neh>0) & (tempdata.new_neh<data.NH[0])]\n",
    "            tempdata[\"pxt_dif\"]=((abs((tempdata.pxt) - (tempdata.new_pxt)))**2 + (abs((tempdata.NEH) - (tempdata.new_neh)))**2)**0.5 #(abs((tempdata.pxt) - (tempdata.new_pxt))) \n",
    "            tempdata=tempdata.sort_values(by=[\"pxt_dif\"])\n",
    "#             print(data.T_NEH[0],np.array(tempdata.sort_values(by=[\"pxt_dif\"]).new_neh.head(5)))\n",
    "            neh_coll=neh_coll+list(np.array(tempdata.sort_values(by=[\"pxt_dif\"]).new_neh.head(5)))\n",
    "            \n",
    "        except:\n",
    "            print(\"Error\",time)\n",
    "\n",
    "#     print(neh_coll)\n",
    "    print(\"\\n\",pxt_neh,\"\\n\",val_col)\n",
    "    \n",
    "#     plt.hist(neh_coll,color='k',bins=50)\n",
    "#     print(\"\\nTrue NEH =\",data.T_NEH[0],\"\\t estimated NEHs median\",np.median(neh_coll))\n",
    "    eneh=estimateneh(pxt_neh,val_col)\n",
    "    print(\"\\nTrue NEH =\",data.T_NEH[0],\"\\t estimated NEHs median\",eneh)\n",
    "#     vals.append([pep,data.T_NEH[0],np.median(neh_coll)])\n",
    "    vals.append([pep,data.T_NEH[0],eneh])"
   ]
  },
  {
   "cell_type": "code",
   "execution_count": 9,
   "id": "a7730afd",
   "metadata": {},
   "outputs": [
    {
     "data": {
      "text/html": [
       "<div>\n",
       "<style scoped>\n",
       "    .dataframe tbody tr th:only-of-type {\n",
       "        vertical-align: middle;\n",
       "    }\n",
       "\n",
       "    .dataframe tbody tr th {\n",
       "        vertical-align: top;\n",
       "    }\n",
       "\n",
       "    .dataframe thead th {\n",
       "        text-align: right;\n",
       "    }\n",
       "</style>\n",
       "<table border=\"1\" class=\"dataframe\">\n",
       "  <thead>\n",
       "    <tr style=\"text-align: right;\">\n",
       "      <th></th>\n",
       "      <th>Peptieds</th>\n",
       "      <th>True NEH</th>\n",
       "      <th>Estimated NEH</th>\n",
       "      <th>diff</th>\n",
       "    </tr>\n",
       "  </thead>\n",
       "  <tbody>\n",
       "    <tr>\n",
       "      <th>24</th>\n",
       "      <td>_SFDDSGSGYcR_2</td>\n",
       "      <td>21</td>\n",
       "      <td>21</td>\n",
       "      <td>0</td>\n",
       "    </tr>\n",
       "    <tr>\n",
       "      <th>27</th>\n",
       "      <td>_VSDLLLSTDER_2</td>\n",
       "      <td>18</td>\n",
       "      <td>19</td>\n",
       "      <td>1</td>\n",
       "    </tr>\n",
       "    <tr>\n",
       "      <th>2</th>\n",
       "      <td>_DAMLENQTPELFQDVNKPK_3</td>\n",
       "      <td>37</td>\n",
       "      <td>38</td>\n",
       "      <td>1</td>\n",
       "    </tr>\n",
       "    <tr>\n",
       "      <th>3</th>\n",
       "      <td>_DcMLGMEFSGR_2</td>\n",
       "      <td>20</td>\n",
       "      <td>19</td>\n",
       "      <td>1</td>\n",
       "    </tr>\n",
       "    <tr>\n",
       "      <th>30</th>\n",
       "      <td>_VTAIYIDPATHR_3</td>\n",
       "      <td>22</td>\n",
       "      <td>21</td>\n",
       "      <td>1</td>\n",
       "    </tr>\n",
       "    <tr>\n",
       "      <th>31</th>\n",
       "      <td>_VYATILNAGTNTDGSK_2</td>\n",
       "      <td>24</td>\n",
       "      <td>25</td>\n",
       "      <td>1</td>\n",
       "    </tr>\n",
       "    <tr>\n",
       "      <th>14</th>\n",
       "      <td>_LDPGSPELQQVLK_2</td>\n",
       "      <td>26</td>\n",
       "      <td>27</td>\n",
       "      <td>1</td>\n",
       "    </tr>\n",
       "    <tr>\n",
       "      <th>26</th>\n",
       "      <td>_VQEVQQVSTNK_2</td>\n",
       "      <td>22</td>\n",
       "      <td>23</td>\n",
       "      <td>1</td>\n",
       "    </tr>\n",
       "    <tr>\n",
       "      <th>22</th>\n",
       "      <td>_SDEAVKPLGVK_3</td>\n",
       "      <td>19</td>\n",
       "      <td>21</td>\n",
       "      <td>2</td>\n",
       "    </tr>\n",
       "    <tr>\n",
       "      <th>29</th>\n",
       "      <td>_VSVHIIEGDHR_3</td>\n",
       "      <td>22</td>\n",
       "      <td>24</td>\n",
       "      <td>2</td>\n",
       "    </tr>\n",
       "    <tr>\n",
       "      <th>18</th>\n",
       "      <td>_LLLPEDPLISGLLNSQALK_2</td>\n",
       "      <td>33</td>\n",
       "      <td>35</td>\n",
       "      <td>2</td>\n",
       "    </tr>\n",
       "    <tr>\n",
       "      <th>13</th>\n",
       "      <td>_GVDLVLNSLAEEK_2</td>\n",
       "      <td>23</td>\n",
       "      <td>25</td>\n",
       "      <td>2</td>\n",
       "    </tr>\n",
       "    <tr>\n",
       "      <th>23</th>\n",
       "      <td>_SEAVVAVLLTK_2</td>\n",
       "      <td>18</td>\n",
       "      <td>21</td>\n",
       "      <td>3</td>\n",
       "    </tr>\n",
       "    <tr>\n",
       "      <th>0</th>\n",
       "      <td>_AAMLGQEDPPQHGLPR_3</td>\n",
       "      <td>42</td>\n",
       "      <td>39</td>\n",
       "      <td>3</td>\n",
       "    </tr>\n",
       "    <tr>\n",
       "      <th>8</th>\n",
       "      <td>_FPQLDDTSFANSR_2</td>\n",
       "      <td>26</td>\n",
       "      <td>29</td>\n",
       "      <td>3</td>\n",
       "    </tr>\n",
       "    <tr>\n",
       "      <th>7</th>\n",
       "      <td>_EQTAHAFVNVLTR_3</td>\n",
       "      <td>26</td>\n",
       "      <td>23</td>\n",
       "      <td>3</td>\n",
       "    </tr>\n",
       "    <tr>\n",
       "      <th>28</th>\n",
       "      <td>_VSVHIIEGDHR_2</td>\n",
       "      <td>22</td>\n",
       "      <td>19</td>\n",
       "      <td>3</td>\n",
       "    </tr>\n",
       "    <tr>\n",
       "      <th>1</th>\n",
       "      <td>_AcVDTALENLSTLK_2</td>\n",
       "      <td>23</td>\n",
       "      <td>26</td>\n",
       "      <td>3</td>\n",
       "    </tr>\n",
       "    <tr>\n",
       "      <th>10</th>\n",
       "      <td>_GGNVGINSFGFGGSNVHVILQPNTR_3</td>\n",
       "      <td>43</td>\n",
       "      <td>46</td>\n",
       "      <td>3</td>\n",
       "    </tr>\n",
       "    <tr>\n",
       "      <th>21</th>\n",
       "      <td>_SDEAVKPLGVK_2</td>\n",
       "      <td>19</td>\n",
       "      <td>22</td>\n",
       "      <td>3</td>\n",
       "    </tr>\n",
       "    <tr>\n",
       "      <th>32</th>\n",
       "      <td>_WLSTSIPEAQWQSSLAR_2</td>\n",
       "      <td>38</td>\n",
       "      <td>42</td>\n",
       "      <td>4</td>\n",
       "    </tr>\n",
       "    <tr>\n",
       "      <th>11</th>\n",
       "      <td>_GILLDALFEEANDSWR_2</td>\n",
       "      <td>32</td>\n",
       "      <td>36</td>\n",
       "      <td>4</td>\n",
       "    </tr>\n",
       "    <tr>\n",
       "      <th>5</th>\n",
       "      <td>_EGGFLLVHTVLK_3</td>\n",
       "      <td>14</td>\n",
       "      <td>18</td>\n",
       "      <td>4</td>\n",
       "    </tr>\n",
       "    <tr>\n",
       "      <th>4</th>\n",
       "      <td>_DPETLLGYSMVGcQR_2</td>\n",
       "      <td>27</td>\n",
       "      <td>31</td>\n",
       "      <td>4</td>\n",
       "    </tr>\n",
       "    <tr>\n",
       "      <th>20</th>\n",
       "      <td>_QGIQVLVSTSNVSSLEGAR_2</td>\n",
       "      <td>39</td>\n",
       "      <td>35</td>\n",
       "      <td>4</td>\n",
       "    </tr>\n",
       "    <tr>\n",
       "      <th>19</th>\n",
       "      <td>_LLLPEDPLISGLLNSQALK_3</td>\n",
       "      <td>33</td>\n",
       "      <td>38</td>\n",
       "      <td>5</td>\n",
       "    </tr>\n",
       "    <tr>\n",
       "      <th>15</th>\n",
       "      <td>_LFDHPEVPTPPESASVSR_3</td>\n",
       "      <td>40</td>\n",
       "      <td>34</td>\n",
       "      <td>6</td>\n",
       "    </tr>\n",
       "    <tr>\n",
       "      <th>25</th>\n",
       "      <td>_TLLEGSGLESIINIIHSSLAEPR_3</td>\n",
       "      <td>47</td>\n",
       "      <td>41</td>\n",
       "      <td>6</td>\n",
       "    </tr>\n",
       "    <tr>\n",
       "      <th>9</th>\n",
       "      <td>_FVFTPHMEAEcLSESTALQK_3</td>\n",
       "      <td>40</td>\n",
       "      <td>47</td>\n",
       "      <td>7</td>\n",
       "    </tr>\n",
       "    <tr>\n",
       "      <th>16</th>\n",
       "      <td>_LGMLSPDGTcR_2</td>\n",
       "      <td>18</td>\n",
       "      <td>25</td>\n",
       "      <td>7</td>\n",
       "    </tr>\n",
       "    <tr>\n",
       "      <th>17</th>\n",
       "      <td>_LKEDTQVADVTTSR_3</td>\n",
       "      <td>24</td>\n",
       "      <td>34</td>\n",
       "      <td>10</td>\n",
       "    </tr>\n",
       "    <tr>\n",
       "      <th>12</th>\n",
       "      <td>_GNAGQTNYGFANSTMER_2</td>\n",
       "      <td>36</td>\n",
       "      <td>61</td>\n",
       "      <td>25</td>\n",
       "    </tr>\n",
       "    <tr>\n",
       "      <th>6</th>\n",
       "      <td>_ELSFAAVSFYHK_2</td>\n",
       "      <td>22</td>\n",
       "      <td>75</td>\n",
       "      <td>53</td>\n",
       "    </tr>\n",
       "  </tbody>\n",
       "</table>\n",
       "</div>"
      ],
      "text/plain": [
       "                        Peptieds  True NEH  Estimated NEH  diff\n",
       "24                _SFDDSGSGYcR_2        21             21     0\n",
       "27                _VSDLLLSTDER_2        18             19     1\n",
       "2         _DAMLENQTPELFQDVNKPK_3        37             38     1\n",
       "3                 _DcMLGMEFSGR_2        20             19     1\n",
       "30               _VTAIYIDPATHR_3        22             21     1\n",
       "31           _VYATILNAGTNTDGSK_2        24             25     1\n",
       "14              _LDPGSPELQQVLK_2        26             27     1\n",
       "26                _VQEVQQVSTNK_2        22             23     1\n",
       "22                _SDEAVKPLGVK_3        19             21     2\n",
       "29                _VSVHIIEGDHR_3        22             24     2\n",
       "18        _LLLPEDPLISGLLNSQALK_2        33             35     2\n",
       "13              _GVDLVLNSLAEEK_2        23             25     2\n",
       "23                _SEAVVAVLLTK_2        18             21     3\n",
       "0            _AAMLGQEDPPQHGLPR_3        42             39     3\n",
       "8               _FPQLDDTSFANSR_2        26             29     3\n",
       "7               _EQTAHAFVNVLTR_3        26             23     3\n",
       "28                _VSVHIIEGDHR_2        22             19     3\n",
       "1              _AcVDTALENLSTLK_2        23             26     3\n",
       "10  _GGNVGINSFGFGGSNVHVILQPNTR_3        43             46     3\n",
       "21                _SDEAVKPLGVK_2        19             22     3\n",
       "32          _WLSTSIPEAQWQSSLAR_2        38             42     4\n",
       "11           _GILLDALFEEANDSWR_2        32             36     4\n",
       "5                _EGGFLLVHTVLK_3        14             18     4\n",
       "4             _DPETLLGYSMVGcQR_2        27             31     4\n",
       "20        _QGIQVLVSTSNVSSLEGAR_2        39             35     4\n",
       "19        _LLLPEDPLISGLLNSQALK_3        33             38     5\n",
       "15         _LFDHPEVPTPPESASVSR_3        40             34     6\n",
       "25    _TLLEGSGLESIINIIHSSLAEPR_3        47             41     6\n",
       "9        _FVFTPHMEAEcLSESTALQK_3        40             47     7\n",
       "16                _LGMLSPDGTcR_2        18             25     7\n",
       "17             _LKEDTQVADVTTSR_3        24             34    10\n",
       "12          _GNAGQTNYGFANSTMER_2        36             61    25\n",
       "6                _ELSFAAVSFYHK_2        22             75    53"
      ]
     },
     "execution_count": 9,
     "metadata": {},
     "output_type": "execute_result"
    }
   ],
   "source": [
    "res=pd.DataFrame(vals,columns=[\"Peptieds\",\"True NEH\",\"Estimated NEH\"])\n",
    "res[\"diff\"]=abs(res[\"True NEH\"]-res[\"Estimated NEH\"])\n",
    "res.sort_values(by=\"diff\")"
   ]
  },
  {
   "cell_type": "code",
   "execution_count": 10,
   "id": "ae0a25f8",
   "metadata": {},
   "outputs": [
    {
     "name": "stdout",
     "output_type": "stream",
     "text": [
      "5.393939393939394 3.0 9.591465587761451\n"
     ]
    }
   ],
   "source": [
    "print( float(res[[\"diff\"]].mean()),float(res[[\"diff\"]].median()),float(res[[\"diff\"]].std()))"
   ]
  },
  {
   "cell_type": "code",
   "execution_count": null,
   "id": "16e9afa2",
   "metadata": {},
   "outputs": [],
   "source": []
  },
  {
   "cell_type": "code",
   "execution_count": null,
   "id": "376ab3e2",
   "metadata": {},
   "outputs": [],
   "source": []
  },
  {
   "cell_type": "code",
   "execution_count": null,
   "id": "0fedcba0",
   "metadata": {},
   "outputs": [],
   "source": []
  },
  {
   "cell_type": "code",
   "execution_count": null,
   "id": "2126dd9d",
   "metadata": {},
   "outputs": [],
   "source": []
  },
  {
   "cell_type": "code",
   "execution_count": null,
   "id": "9924c698",
   "metadata": {},
   "outputs": [],
   "source": []
  },
  {
   "cell_type": "code",
   "execution_count": null,
   "id": "87704ab3",
   "metadata": {},
   "outputs": [],
   "source": []
  },
  {
   "cell_type": "code",
   "execution_count": null,
   "id": "77b30de2",
   "metadata": {},
   "outputs": [],
   "source": []
  },
  {
   "cell_type": "code",
   "execution_count": null,
   "id": "57c04312",
   "metadata": {},
   "outputs": [],
   "source": []
  },
  {
   "cell_type": "code",
   "execution_count": null,
   "id": "2b164a01",
   "metadata": {},
   "outputs": [],
   "source": []
  },
  {
   "cell_type": "code",
   "execution_count": null,
   "id": "15500bae",
   "metadata": {},
   "outputs": [],
   "source": []
  },
  {
   "cell_type": "code",
   "execution_count": null,
   "id": "849a4b15",
   "metadata": {},
   "outputs": [],
   "source": []
  },
  {
   "cell_type": "code",
   "execution_count": null,
   "id": "5136373f",
   "metadata": {},
   "outputs": [],
   "source": []
  },
  {
   "cell_type": "code",
   "execution_count": null,
   "id": "a3c8bc79",
   "metadata": {},
   "outputs": [],
   "source": []
  },
  {
   "cell_type": "code",
   "execution_count": null,
   "id": "9a2c27bb",
   "metadata": {},
   "outputs": [],
   "source": []
  },
  {
   "cell_type": "code",
   "execution_count": null,
   "id": "b8eb3ff9",
   "metadata": {},
   "outputs": [],
   "source": []
  },
  {
   "cell_type": "code",
   "execution_count": null,
   "id": "575d599a",
   "metadata": {},
   "outputs": [],
   "source": []
  },
  {
   "cell_type": "code",
   "execution_count": null,
   "id": "809c8353",
   "metadata": {},
   "outputs": [],
   "source": []
  },
  {
   "cell_type": "code",
   "execution_count": null,
   "id": "29389dad",
   "metadata": {},
   "outputs": [],
   "source": []
  },
  {
   "cell_type": "code",
   "execution_count": null,
   "id": "a6091051",
   "metadata": {},
   "outputs": [],
   "source": []
  },
  {
   "cell_type": "code",
   "execution_count": null,
   "id": "7be2e89f",
   "metadata": {},
   "outputs": [],
   "source": [
    "# data=pd.read_csv(\"C:/Workplace/C++/d2ome_v2/v2/v2/bin/Debug/_AAMLGQEDPPQHGLPR_3_24_FAS_MOUSE.csv\")\n",
    "data=pd.read_csv(\"C:/Workplace/C++/d2ome_v2/v2/v2/bin/Debug/_DPETLLGYSMVGcQR_2_24_FAS_MOUSE.csv\")\n",
    "# data=pd.read_csv(\"data/_DTSFEQHVLLHTGGK_3_21_FAS_MOUSE.csv\")\n",
    "data.head()"
   ]
  },
  {
   "cell_type": "code",
   "execution_count": null,
   "id": "71ba1320",
   "metadata": {},
   "outputs": [],
   "source": [
    "\n",
    "ph"
   ]
  },
  {
   "cell_type": "code",
   "execution_count": null,
   "id": "1a7ecada",
   "metadata": {},
   "outputs": [],
   "source": [
    "# data[\"const\"]=data.NEH*data.pxt\n",
    "# data[\"new_pxt\"]=1-ph- (data.const/( (1-ph)*(data[\"exp_t_A1/A0\"]-data[\"theo_A1/A0\"]) ) )\n",
    "# data[\"new_neh\"]=data.const/data.new_pxt\n",
    "# data=data.sort_values(by=\"RMSE\",ascending=True)\n",
    "# data=data[(data.new_pxt>0) & (data.new_neh>0) & (data.new_neh<118)]\n",
    "\n",
    "# # data[\"temp\"]= (data.new_neh*data.new_pxt)/( (1-ph)*(1-ph-data.new_pxt) )\n",
    "# # data[\"temp2\"]=(data[\"exp_t_A1/A0\"]-data[\"theo_A1/A0\"])\n",
    "\n",
    "# data[\"h1\"]=data.NEH*data.pxt\n",
    "# data[\"h2\"]=data.new_neh*data.new_pxt\n",
    "# data.head(290)"
   ]
  },
  {
   "cell_type": "code",
   "execution_count": null,
   "id": "3ec63e28",
   "metadata": {
    "scrolled": true
   },
   "outputs": [],
   "source": [
    "data[\"const\"]=data.NEH*data.pxt\n",
    "data[\"new_pxt\"]=1-ph- (data.const/( (1-ph)*(data[\"exp_t_A1/A0\"]-data[\"theo_A1/A0\"]) ) )\n",
    "data[\"new_neh\"]=data.const/data.new_pxt\n",
    "data=data.sort_values(by=[\"RMSE\"],ascending=True)\n",
    "\n",
    "data[\"test\"]= 1-ph-data.pxt == (data.NEH*data.pxt)/( (1-ph)*(data[\"exp_t_A1/A0\"]-data[\"exp_A1/A0\"]) )\n",
    "\n",
    "data=data[(data.new_pxt>0) & (data.new_neh>0) & (data.new_neh<118)]\n",
    "\n",
    "\n",
    "\n",
    "# data[\"h1\"]=data.NEH*data.pxt\n",
    "# data[\"h2\"]=data.new_neh*data.new_pxt\n",
    "data.head(20)"
   ]
  },
  {
   "cell_type": "code",
   "execution_count": null,
   "id": "41372295",
   "metadata": {
    "scrolled": true
   },
   "outputs": [],
   "source": [
    "# np.dot(data[[\"NEH\",\"pxt\"]][318],data[[\"new_pxt\",\"new_neh\"]][318])/(norm(data[[\"NEH\",\"pxt\"]][318])*norm(data[[\"new_pxt\",\"new_neh\"]][318]))\n",
    "\n",
    "from sklearn.decomposition import PCA\n",
    "\n",
    "pca = PCA() # Compute PCA\n",
    "pca.fit_transform(  data[[\"const\",\"RMSE\"]])\n",
    "eigenvalues = pca.explained_variance_ # Get eigenvalues\n",
    "eigenvalues = np.round(eigenvalues, 8) # Round off eigenvalues\n",
    "eigenvalues"
   ]
  },
  {
   "cell_type": "code",
   "execution_count": null,
   "id": "9522bdaf",
   "metadata": {},
   "outputs": [],
   "source": [
    "from matplotlib import pyplot as plt\n",
    "# plt.figure(figsize=(15,6))\n",
    "plt.scatter(data.const,data.RMSE,s=1)\n",
    "print(data[data.new_pxt<0].shape)"
   ]
  },
  {
   "cell_type": "code",
   "execution_count": null,
   "id": "9273a79c",
   "metadata": {
    "scrolled": true
   },
   "outputs": [],
   "source": [
    "tempdata=data[data.RMSE<2*min(data.RMSE)]\n",
    "tempdata=tempdata[(tempdata.new_pxt>0) & (tempdata.new_neh>0) & (tempdata.new_neh<data.NH[0])]\n",
    "tempdata[\"pxt_dif\"]=(abs((tempdata.pxt) - (tempdata.new_pxt))) #(abs((tempdata.pxt) - (tempdata.new_pxt)))**2 + (abs((tempdata.NEH) - (tempdata.new_neh)))**2 \n",
    "tempdata.sort_values(by=[\"pxt_dif\"]).head(25)"
   ]
  },
  {
   "cell_type": "code",
   "execution_count": null,
   "id": "b2a8d30c",
   "metadata": {
    "scrolled": false
   },
   "outputs": [],
   "source": [
    "plt.figure(figsize=(15,6))\n",
    "plt.scatter(tempdata.const,tempdata.RMSE,s=1)"
   ]
  },
  {
   "cell_type": "code",
   "execution_count": null,
   "id": "6584650a",
   "metadata": {},
   "outputs": [],
   "source": [
    "np.array(tempdata.sort_values(by=[\"pxt_dif\"]).new_neh.head(5))"
   ]
  },
  {
   "cell_type": "code",
   "execution_count": null,
   "id": "d3718966",
   "metadata": {},
   "outputs": [],
   "source": [
    "np.median(tempdata.sort_values(by=[\"pxt_dif\"]).new_neh.head(5))"
   ]
  },
  {
   "cell_type": "code",
   "execution_count": null,
   "id": "8cfbf7a2",
   "metadata": {},
   "outputs": [],
   "source": [
    "# plt.scatter(range(0,6),[3.94E+06,6.30E+06,8.23E+06,6.51E+06,3.99E+06,3.33E+06])"
   ]
  },
  {
   "cell_type": "code",
   "execution_count": null,
   "id": "d769920d",
   "metadata": {},
   "outputs": [],
   "source": [
    "# plt.scatter(range(0,6),[4.77E+07,9.92E+07,1.11E+08,9.49E+07,5.45E+07,2.81E+07])"
   ]
  },
  {
   "cell_type": "code",
   "execution_count": null,
   "id": "3917fb96",
   "metadata": {},
   "outputs": [],
   "source": []
  },
  {
   "cell_type": "code",
   "execution_count": null,
   "id": "371fd2ce",
   "metadata": {},
   "outputs": [],
   "source": [
    "np.array([0.2475, 0.47250000000000003, 0.345, 1.3425, 0.9825, 1.2075, 1.0725, 1.1925000000000001, 1.1775, 1.1175, 1.335])/75"
   ]
  },
  {
   "cell_type": "code",
   "execution_count": null,
   "id": "4fcf08f4",
   "metadata": {},
   "outputs": [],
   "source": [
    "np.array([[0.16119999999999998, 0.3952, 0.41340000000000005, 0.9229999999999999, 0.9776, 0.9672, 1.0842, 1.183, 1.0608, 1.1258, 1.0972]])/26"
   ]
  },
  {
   "cell_type": "code",
   "execution_count": null,
   "id": "a8a8d9ab",
   "metadata": {},
   "outputs": [],
   "source": []
  }
 ],
 "metadata": {
  "kernelspec": {
   "display_name": "Python 3 (ipykernel)",
   "language": "python",
   "name": "python3"
  },
  "language_info": {
   "codemirror_mode": {
    "name": "ipython",
    "version": 3
   },
   "file_extension": ".py",
   "mimetype": "text/x-python",
   "name": "python",
   "nbconvert_exporter": "python",
   "pygments_lexer": "ipython3",
   "version": "3.9.11"
  }
 },
 "nbformat": 4,
 "nbformat_minor": 5
}
