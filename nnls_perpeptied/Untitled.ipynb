{
 "cells": [
  {
   "cell_type": "code",
   "execution_count": 1,
   "id": "ea2d36a0",
   "metadata": {},
   "outputs": [],
   "source": [
    "import numpy as np\n",
    "import pandas as pd\n",
    "from scipy.optimize import nnls\n",
    "pd.set_option('display.max_rows', None)"
   ]
  },
  {
   "cell_type": "code",
   "execution_count": 14,
   "id": "5c999b13",
   "metadata": {},
   "outputs": [],
   "source": [
    "path=\"C:/Workplace/C++/d2ome_v2/v2/v2/bin/Debug/\"#proportion_pxt_neh/\"\n",
    "time=24\n",
    "# pw=0.046"
   ]
  },
  {
   "cell_type": "code",
   "execution_count": 15,
   "id": "a52e830d",
   "metadata": {
    "scrolled": false
   },
   "outputs": [
    {
     "name": "stdout",
     "output_type": "stream",
     "text": [
      "(2, 13)\n",
      "(2, 13)\n"
     ]
    },
    {
     "data": {
      "text/html": [
       "<div>\n",
       "<style scoped>\n",
       "    .dataframe tbody tr th:only-of-type {\n",
       "        vertical-align: middle;\n",
       "    }\n",
       "\n",
       "    .dataframe tbody tr th {\n",
       "        vertical-align: top;\n",
       "    }\n",
       "\n",
       "    .dataframe thead th {\n",
       "        text-align: right;\n",
       "    }\n",
       "</style>\n",
       "<table border=\"1\" class=\"dataframe\">\n",
       "  <thead>\n",
       "    <tr style=\"text-align: right;\">\n",
       "      <th></th>\n",
       "      <th>Peptied</th>\n",
       "      <th>charge</th>\n",
       "      <th>exp_Time</th>\n",
       "      <th>NEH</th>\n",
       "      <th>NEH_new</th>\n",
       "      <th>dif</th>\n",
       "      <th>new_RMSE</th>\n",
       "      <th>map</th>\n",
       "    </tr>\n",
       "  </thead>\n",
       "  <tbody>\n",
       "    <tr>\n",
       "      <th>0</th>\n",
       "      <td>SLGQWLQEEK</td>\n",
       "      <td>2</td>\n",
       "      <td>24</td>\n",
       "      <td>22</td>\n",
       "      <td>24.252318</td>\n",
       "      <td>2.252318</td>\n",
       "      <td>0.016166</td>\n",
       "      <td>12.122095</td>\n",
       "    </tr>\n",
       "    <tr>\n",
       "      <th>1</th>\n",
       "      <td>TFEESFQK</td>\n",
       "      <td>2</td>\n",
       "      <td>24</td>\n",
       "      <td>15</td>\n",
       "      <td>15.752593</td>\n",
       "      <td>0.752593</td>\n",
       "      <td>0.004480</td>\n",
       "      <td>4.729990</td>\n",
       "    </tr>\n",
       "  </tbody>\n",
       "</table>\n",
       "</div>"
      ],
      "text/plain": [
       "      Peptied  charge  exp_Time  NEH    NEH_new       dif  new_RMSE        map\n",
       "0  SLGQWLQEEK       2        24   22  24.252318  2.252318  0.016166  12.122095\n",
       "1    TFEESFQK       2        24   15  15.752593  0.752593  0.004480   4.729990"
      ]
     },
     "execution_count": 15,
     "metadata": {},
     "output_type": "execute_result"
    }
   ],
   "source": [
    "data=pd.read_csv(path+\"__CPSM_MOUSE.csv\")\n",
    "# data=data[data.exp_Time==time]\n",
    "data=data[data.exp_Time==time].reset_index(drop=\"True\")\n",
    "\n",
    "data=data[['Peptied', 'charge', 'exp_Time', 'NEH', \n",
    "       'NEH_new', 'new_RMSE', 'new_cor', 'new_rsq', 'map', 'mean', 'median',\n",
    "       'sd']]\n",
    "data[\"dif\"]=abs(data.NEH - data.NEH_new)\n",
    "print(data.shape)\n",
    "\n",
    "# data=data[data.new_cor>0.9]\n",
    "# print(data.shape) \n",
    "\n",
    "# data=data[data.new_rsq>0.9]\n",
    "# print(data.shape)\n",
    "\n",
    "# data=data[data.new_error<0.05]\n",
    "# print(data.shape) \n",
    "\n",
    "# data=data[data[\"mean\"]<0.016]\n",
    "# print(data.shape) \n",
    "\n",
    "# data=data[data.new_RMSE<0.015]\n",
    "\n",
    "print(data.shape)\n",
    "data.sort_values(by=\"dif\",ascending=False)[['Peptied', 'charge', 'exp_Time', 'NEH',  'NEH_new','dif', 'new_RMSE', 'map']]"
   ]
  },
  {
   "cell_type": "code",
   "execution_count": 13,
   "id": "da4ea780",
   "metadata": {},
   "outputs": [],
   "source": [
    "from matplotlib import pyplot as plt\n",
    "import seaborn as sns"
   ]
  },
  {
   "cell_type": "code",
   "execution_count": 5,
   "id": "15e0aadb",
   "metadata": {},
   "outputs": [
    {
     "data": {
      "text/plain": [
       "<matplotlib.legend.Legend at 0x2ce023983d0>"
      ]
     },
     "execution_count": 5,
     "metadata": {},
     "output_type": "execute_result"
    },
    {
     "data": {
      "image/png": "[encoded data removed]",
      "text/plain": [
       "<Figure size 432x288 with 1 Axes>"
      ]
     },
     "metadata": {
      "needs_background": "light"
     },
     "output_type": "display_data"
    }
   ],
   "source": [
    "sns.kdeplot(data.NEH, x=\"NEH\",label=\"T NEH\")\n",
    "sns.kdeplot(data.NEH_new, x=\"NEH_new\",label=\"T NEH\")\n",
    "plt.legend()"
   ]
  },
  {
   "cell_type": "code",
   "execution_count": 6,
   "id": "937b9156",
   "metadata": {},
   "outputs": [
    {
     "data": {
      "text/plain": [
       "(array([5., 1., 4., 2., 5., 5., 1., 2., 3., 0., 0., 0., 1., 2., 0., 0., 1.,\n",
       "        2., 0., 0., 2., 0., 0., 0., 1.]),\n",
       " array([ 0.03947304,  0.44443132,  0.84938961,  1.25434789,  1.65930617,\n",
       "         2.06426445,  2.46922274,  2.87418102,  3.2791393 ,  3.68409759,\n",
       "         4.08905587,  4.49401415,  4.89897243,  5.30393072,  5.708889  ,\n",
       "         6.11384728,  6.51880556,  6.92376385,  7.32872213,  7.73368041,\n",
       "         8.13863869,  8.54359698,  8.94855526,  9.35351354,  9.75847183,\n",
       "        10.16343011]),\n",
       " <BarContainer object of 25 artists>)"
      ]
     },
     "execution_count": 6,
     "metadata": {},
     "output_type": "execute_result"
    },
    {
     "data": {
      "image/png": "[encoded data removed]",
      "text/plain": [
       "<Figure size 432x288 with 1 Axes>"
      ]
     },
     "metadata": {
      "needs_background": "light"
     },
     "output_type": "display_data"
    }
   ],
   "source": [
    "plt.hist(data.dif,bins=25)"
   ]
  },
  {
   "cell_type": "code",
   "execution_count": null,
   "id": "81feae0a",
   "metadata": {},
   "outputs": [],
   "source": []
  },
  {
   "cell_type": "code",
   "execution_count": null,
   "id": "e135334e",
   "metadata": {},
   "outputs": [],
   "source": []
  }
 ],
 "metadata": {
  "kernelspec": {
   "display_name": "Python 3 (ipykernel)",
   "language": "python",
   "name": "python3"
  },
  "language_info": {
   "codemirror_mode": {
    "name": "ipython",
    "version": 3
   },
   "file_extension": ".py",
   "mimetype": "text/x-python",
   "name": "python",
   "nbconvert_exporter": "python",
   "pygments_lexer": "ipython3",
   "version": "3.9.11"
  }
 },
 "nbformat": 4,
 "nbformat_minor": 5
}
