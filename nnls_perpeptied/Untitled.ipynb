{
 "cells": [
  {
   "cell_type": "code",
   "execution_count": 79,
   "id": "ea2d36a0",
   "metadata": {},
   "outputs": [],
   "source": [
    "import numpy as np\n",
    "import pandas as pd\n",
    "from scipy.optimize import nnls\n",
    "pd.set_option('display.max_rows', None)"
   ]
  },
  {
   "cell_type": "code",
   "execution_count": 86,
   "id": "5c999b13",
   "metadata": {},
   "outputs": [],
   "source": [
    "path=\"C:/Workplace/C++/d2ome_v2/v2/v2/bin/Debug/\"#proportion_pxt_neh/\"\n",
    "time=31\n",
    "# pw=0.046"
   ]
  },
  {
   "cell_type": "code",
   "execution_count": 87,
   "id": "a52e830d",
   "metadata": {
    "scrolled": false
   },
   "outputs": [
    {
     "name": "stdout",
     "output_type": "stream",
     "text": [
      "(0, 13)\n",
      "(0, 13)\n"
     ]
    },
    {
     "data": {
      "text/html": [
       "<div>\n",
       "<style scoped>\n",
       "    .dataframe tbody tr th:only-of-type {\n",
       "        vertical-align: middle;\n",
       "    }\n",
       "\n",
       "    .dataframe tbody tr th {\n",
       "        vertical-align: top;\n",
       "    }\n",
       "\n",
       "    .dataframe thead th {\n",
       "        text-align: right;\n",
       "    }\n",
       "</style>\n",
       "<table border=\"1\" class=\"dataframe\">\n",
       "  <thead>\n",
       "    <tr style=\"text-align: right;\">\n",
       "      <th></th>\n",
       "      <th>Peptied</th>\n",
       "      <th>charge</th>\n",
       "      <th>exp_Time</th>\n",
       "      <th>NEH</th>\n",
       "      <th>NEH_new</th>\n",
       "      <th>dif</th>\n",
       "      <th>new_RMSE</th>\n",
       "      <th>map</th>\n",
       "    </tr>\n",
       "  </thead>\n",
       "  <tbody>\n",
       "  </tbody>\n",
       "</table>\n",
       "</div>"
      ],
      "text/plain": [
       "Empty DataFrame\n",
       "Columns: [Peptied, charge, exp_Time, NEH, NEH_new, dif, new_RMSE, map]\n",
       "Index: []"
      ]
     },
     "execution_count": 87,
     "metadata": {},
     "output_type": "execute_result"
    }
   ],
   "source": [
    "data=pd.read_csv(path+\"__FAS_MOUSE.csv\")\n",
    "# data=data[data.exp_Time==time]\n",
    "data=data[data.exp_Time==time].reset_index(drop=\"True\")\n",
    "\n",
    "data=data[['Peptied', 'charge', 'exp_Time', 'NEH', \n",
    "       'NEH_new', 'new_RMSE', 'new_cor', 'new_rsq', 'map', 'mean', 'median',\n",
    "       'sd']]\n",
    "data[\"dif\"]=abs(data.NEH - data.NEH_new)\n",
    "print(data.shape)\n",
    "\n",
    "# data=data[data.new_cor>0.9]\n",
    "# print(data.shape) \n",
    "\n",
    "# data=data[data.new_rsq>0.9]\n",
    "# print(data.shape)\n",
    "\n",
    "# data=data[data.new_error<0.05]\n",
    "# print(data.shape) \n",
    "\n",
    "# data=data[data[\"mean\"]<0.016]\n",
    "# print(data.shape) \n",
    "\n",
    "# data=data[data.new_RMSE<0.015]\n",
    "\n",
    "print(data.shape)\n",
    "data.sort_values(by=\"dif\")[['Peptied', 'charge', 'exp_Time', 'NEH',  'NEH_new','dif', 'new_RMSE', 'map']]"
   ]
  },
  {
   "cell_type": "code",
   "execution_count": 82,
   "id": "da4ea780",
   "metadata": {},
   "outputs": [],
   "source": [
    "from matplotlib import pyplot as plt\n",
    "import seaborn as sns"
   ]
  },
  {
   "cell_type": "code",
   "execution_count": 83,
   "id": "15e0aadb",
   "metadata": {},
   "outputs": [
    {
     "name": "stderr",
     "output_type": "stream",
     "text": [
      "C:\\Users\\hmdebern.UTMB-USERS-M\\.conda\\envs\\myenv\\lib\\site-packages\\seaborn\\distributions.py:316: UserWarning: Dataset has 0 variance; skipping density estimate. Pass `warn_singular=False` to disable this warning.\n",
      "  warnings.warn(msg, UserWarning)\n",
      "C:\\Users\\hmdebern.UTMB-USERS-M\\.conda\\envs\\myenv\\lib\\site-packages\\seaborn\\distributions.py:316: UserWarning: Dataset has 0 variance; skipping density estimate. Pass `warn_singular=False` to disable this warning.\n",
      "  warnings.warn(msg, UserWarning)\n",
      "No artists with labels found to put in legend.  Note that artists whose label start with an underscore are ignored when legend() is called with no argument.\n"
     ]
    },
    {
     "data": {
      "text/plain": [
       "<matplotlib.legend.Legend at 0x2ce0b9819d0>"
      ]
     },
     "execution_count": 83,
     "metadata": {},
     "output_type": "execute_result"
    },
    {
     "data": {
      "image/png": "[encoded data removed]",
      "text/plain": [
       "<Figure size 432x288 with 1 Axes>"
      ]
     },
     "metadata": {
      "needs_background": "light"
     },
     "output_type": "display_data"
    }
   ],
   "source": [
    "sns.kdeplot(data.NEH, x=\"NEH\",label=\"T NEH\")\n",
    "sns.kdeplot(data.NEH_new, x=\"NEH_new\",label=\"T NEH\")\n",
    "plt.legend()"
   ]
  },
  {
   "cell_type": "code",
   "execution_count": 78,
   "id": "937b9156",
   "metadata": {},
   "outputs": [
    {
     "data": {
      "text/plain": [
       "(array([0., 0., 0., 0., 0., 0., 0., 0., 0., 0., 0., 0., 1., 0., 0., 0., 0.,\n",
       "        0., 0., 0., 0., 0., 0., 0., 0.]),\n",
       " array([0.82999744, 0.86999744, 0.90999744, 0.94999744, 0.98999744,\n",
       "        1.02999744, 1.06999744, 1.10999744, 1.14999744, 1.18999744,\n",
       "        1.22999744, 1.26999744, 1.30999744, 1.34999744, 1.38999744,\n",
       "        1.42999744, 1.46999744, 1.50999744, 1.54999744, 1.58999744,\n",
       "        1.62999744, 1.66999744, 1.70999744, 1.74999744, 1.78999744,\n",
       "        1.82999744]),\n",
       " <BarContainer object of 25 artists>)"
      ]
     },
     "execution_count": 78,
     "metadata": {},
     "output_type": "execute_result"
    },
    {
     "data": {
      "image/png": "[encoded data removed]",
      "text/plain": [
       "<Figure size 432x288 with 1 Axes>"
      ]
     },
     "metadata": {
      "needs_background": "light"
     },
     "output_type": "display_data"
    }
   ],
   "source": [
    "plt.hist(data.dif,bins=25)"
   ]
  },
  {
   "cell_type": "code",
   "execution_count": null,
   "id": "81feae0a",
   "metadata": {},
   "outputs": [],
   "source": []
  },
  {
   "cell_type": "code",
   "execution_count": null,
   "id": "e135334e",
   "metadata": {},
   "outputs": [],
   "source": []
  }
 ],
 "metadata": {
  "kernelspec": {
   "display_name": "Python 3 (ipykernel)",
   "language": "python",
   "name": "python3"
  },
  "language_info": {
   "codemirror_mode": {
    "name": "ipython",
    "version": 3
   },
   "file_extension": ".py",
   "mimetype": "text/x-python",
   "name": "python",
   "nbconvert_exporter": "python",
   "pygments_lexer": "ipython3",
   "version": "3.9.11"
  }
 },
 "nbformat": 4,
 "nbformat_minor": 5
}
