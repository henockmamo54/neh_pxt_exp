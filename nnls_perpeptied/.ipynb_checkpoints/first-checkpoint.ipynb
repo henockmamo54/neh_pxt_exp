{
 "cells": [
  {
   "cell_type": "code",
   "execution_count": 1,
   "id": "0a078c13",
   "metadata": {},
   "outputs": [],
   "source": [
    "import numpy as np\n",
    "import pandas as pd"
   ]
  },
  {
   "cell_type": "code",
   "execution_count": 73,
   "id": "b59d09ea",
   "metadata": {},
   "outputs": [],
   "source": [
    "path=\"C:/Workplace/C++/d2ome_v2/v2/v2/bin/Debug/\"\n",
    "time=21"
   ]
  },
  {
   "cell_type": "code",
   "execution_count": 74,
   "id": "a55f1104",
   "metadata": {},
   "outputs": [],
   "source": [
    "data=pd.read_csv(path+\"__FAS_MOUSE.csv\")\n",
    "data=data[data.exp_Time==time]\n",
    "pw=0.046"
   ]
  },
  {
   "cell_type": "code",
   "execution_count": 75,
   "id": "5060a614",
   "metadata": {},
   "outputs": [
    {
     "data": {
      "text/html": [
       "<div>\n",
       "<style scoped>\n",
       "    .dataframe tbody tr th:only-of-type {\n",
       "        vertical-align: middle;\n",
       "    }\n",
       "\n",
       "    .dataframe tbody tr th {\n",
       "        vertical-align: top;\n",
       "    }\n",
       "\n",
       "    .dataframe thead th {\n",
       "        text-align: right;\n",
       "    }\n",
       "</style>\n",
       "<table border=\"1\" class=\"dataframe\">\n",
       "  <thead>\n",
       "    <tr style=\"text-align: right;\">\n",
       "      <th></th>\n",
       "      <th>Peptied</th>\n",
       "      <th>charge</th>\n",
       "      <th>exp_Time</th>\n",
       "      <th>NEH</th>\n",
       "      <th>e_NEH</th>\n",
       "      <th>pxt</th>\n",
       "      <th>e_pxt</th>\n",
       "      <th>mo</th>\n",
       "      <th>m1</th>\n",
       "      <th>m2</th>\n",
       "      <th>m3</th>\n",
       "      <th>m4</th>\n",
       "      <th>m5</th>\n",
       "      <th>io</th>\n",
       "      <th>i1</th>\n",
       "      <th>i2</th>\n",
       "      <th>i3</th>\n",
       "      <th>i4</th>\n",
       "      <th>i5</th>\n",
       "    </tr>\n",
       "  </thead>\n",
       "  <tbody>\n",
       "    <tr>\n",
       "      <th>0</th>\n",
       "      <td>AIPQEKPIFLSVEDTSFQWVDSLK</td>\n",
       "      <td>3</td>\n",
       "      <td>21</td>\n",
       "      <td>42</td>\n",
       "      <td>37</td>\n",
       "      <td>0.046</td>\n",
       "      <td>0.049</td>\n",
       "      <td>0.18934</td>\n",
       "      <td>0.30167</td>\n",
       "      <td>0.25405</td>\n",
       "      <td>0.14932</td>\n",
       "      <td>0.06850</td>\n",
       "      <td>0.02604</td>\n",
       "      <td>0.039400</td>\n",
       "      <td>0.112244</td>\n",
       "      <td>0.195820</td>\n",
       "      <td>0.246674</td>\n",
       "      <td>0.231145</td>\n",
       "      <td>0.174718</td>\n",
       "    </tr>\n",
       "    <tr>\n",
       "      <th>1</th>\n",
       "      <td>DAMLENQTPELFQDVNKPK</td>\n",
       "      <td>3</td>\n",
       "      <td>21</td>\n",
       "      <td>37</td>\n",
       "      <td>34</td>\n",
       "      <td>0.046</td>\n",
       "      <td>0.049</td>\n",
       "      <td>0.26885</td>\n",
       "      <td>0.32549</td>\n",
       "      <td>0.22513</td>\n",
       "      <td>0.11343</td>\n",
       "      <td>0.04576</td>\n",
       "      <td>0.01554</td>\n",
       "      <td>0.055461</td>\n",
       "      <td>0.161626</td>\n",
       "      <td>0.223541</td>\n",
       "      <td>0.241834</td>\n",
       "      <td>0.181380</td>\n",
       "      <td>0.136158</td>\n",
       "    </tr>\n",
       "    <tr>\n",
       "      <th>2</th>\n",
       "      <td>TLLEGSGLESIINIIHSSLAEPR</td>\n",
       "      <td>3</td>\n",
       "      <td>21</td>\n",
       "      <td>47</td>\n",
       "      <td>36</td>\n",
       "      <td>0.046</td>\n",
       "      <td>0.050</td>\n",
       "      <td>0.24379</td>\n",
       "      <td>0.32816</td>\n",
       "      <td>0.23693</td>\n",
       "      <td>0.12068</td>\n",
       "      <td>0.04837</td>\n",
       "      <td>0.01617</td>\n",
       "      <td>0.044925</td>\n",
       "      <td>0.132836</td>\n",
       "      <td>0.219543</td>\n",
       "      <td>0.252164</td>\n",
       "      <td>0.210043</td>\n",
       "      <td>0.140487</td>\n",
       "    </tr>\n",
       "    <tr>\n",
       "      <th>3</th>\n",
       "      <td>QGIQVLVSTSNVSSLEGAR</td>\n",
       "      <td>2</td>\n",
       "      <td>21</td>\n",
       "      <td>39</td>\n",
       "      <td>31</td>\n",
       "      <td>0.046</td>\n",
       "      <td>0.049</td>\n",
       "      <td>0.33707</td>\n",
       "      <td>0.34807</td>\n",
       "      <td>0.19824</td>\n",
       "      <td>0.08099</td>\n",
       "      <td>0.02634</td>\n",
       "      <td>0.00720</td>\n",
       "      <td>0.069005</td>\n",
       "      <td>0.196355</td>\n",
       "      <td>0.260952</td>\n",
       "      <td>0.233938</td>\n",
       "      <td>0.153417</td>\n",
       "      <td>0.086332</td>\n",
       "    </tr>\n",
       "    <tr>\n",
       "      <th>4</th>\n",
       "      <td>FVFTPHMEAEcLSESTALQK</td>\n",
       "      <td>3</td>\n",
       "      <td>21</td>\n",
       "      <td>40</td>\n",
       "      <td>40</td>\n",
       "      <td>0.046</td>\n",
       "      <td>0.050</td>\n",
       "      <td>0.24608</td>\n",
       "      <td>0.30967</td>\n",
       "      <td>0.23096</td>\n",
       "      <td>0.12699</td>\n",
       "      <td>0.05630</td>\n",
       "      <td>0.02110</td>\n",
       "      <td>0.042196</td>\n",
       "      <td>0.127896</td>\n",
       "      <td>0.204723</td>\n",
       "      <td>0.223871</td>\n",
       "      <td>0.196663</td>\n",
       "      <td>0.204652</td>\n",
       "    </tr>\n",
       "  </tbody>\n",
       "</table>\n",
       "</div>"
      ],
      "text/plain": [
       "                    Peptied  charge  exp_Time  NEH  e_NEH    pxt  e_pxt  \\\n",
       "0  AIPQEKPIFLSVEDTSFQWVDSLK       3        21   42     37  0.046  0.049   \n",
       "1       DAMLENQTPELFQDVNKPK       3        21   37     34  0.046  0.049   \n",
       "2   TLLEGSGLESIINIIHSSLAEPR       3        21   47     36  0.046  0.050   \n",
       "3       QGIQVLVSTSNVSSLEGAR       2        21   39     31  0.046  0.049   \n",
       "4      FVFTPHMEAEcLSESTALQK       3        21   40     40  0.046  0.050   \n",
       "\n",
       "        mo       m1       m2       m3       m4       m5        io        i1  \\\n",
       "0  0.18934  0.30167  0.25405  0.14932  0.06850  0.02604  0.039400  0.112244   \n",
       "1  0.26885  0.32549  0.22513  0.11343  0.04576  0.01554  0.055461  0.161626   \n",
       "2  0.24379  0.32816  0.23693  0.12068  0.04837  0.01617  0.044925  0.132836   \n",
       "3  0.33707  0.34807  0.19824  0.08099  0.02634  0.00720  0.069005  0.196355   \n",
       "4  0.24608  0.30967  0.23096  0.12699  0.05630  0.02110  0.042196  0.127896   \n",
       "\n",
       "         i2        i3        i4        i5  \n",
       "0  0.195820  0.246674  0.231145  0.174718  \n",
       "1  0.223541  0.241834  0.181380  0.136158  \n",
       "2  0.219543  0.252164  0.210043  0.140487  \n",
       "3  0.260952  0.233938  0.153417  0.086332  \n",
       "4  0.204723  0.223871  0.196663  0.204652  "
      ]
     },
     "execution_count": 75,
     "metadata": {},
     "output_type": "execute_result"
    }
   ],
   "source": [
    "temp_data=data[data.exp_Time==time].reset_index(drop=\"True\")\n",
    "temp_data.head()"
   ]
  },
  {
   "cell_type": "code",
   "execution_count": 76,
   "id": "2daefb81",
   "metadata": {},
   "outputs": [],
   "source": [
    "pep_index=4\n",
    "exp_0=list(temp_data.loc[pep_index,[\"mo\",\"m1\",\"m2\",\"m3\",\"m4\",\"m5\"]])\n",
    "b=list(temp_data.loc[pep_index,[\"io\",\"i1\",\"i2\",\"i3\",\"i4\",\"i5\"]])#exp_t"
   ]
  },
  {
   "cell_type": "code",
   "execution_count": 77,
   "id": "5184b892",
   "metadata": {},
   "outputs": [
    {
     "data": {
      "text/plain": [
       "array([[0.24608, 0.     , 0.     , 0.     , 0.     , 0.     ],\n",
       "       [0.30967, 0.24608, 0.     , 0.     , 0.     , 0.     ],\n",
       "       [0.23096, 0.30967, 0.24608, 0.     , 0.     , 0.     ],\n",
       "       [0.12699, 0.23096, 0.30967, 0.24608, 0.     , 0.     ],\n",
       "       [0.0563 , 0.12699, 0.23096, 0.30967, 0.24608, 0.     ],\n",
       "       [0.0211 , 0.0563 , 0.12699, 0.23096, 0.30967, 0.24608]])"
      ]
     },
     "execution_count": 77,
     "metadata": {},
     "output_type": "execute_result"
    }
   ],
   "source": [
    "A=[]\n",
    "for i in range(6):\n",
    "    A.append(([0]*i)+exp_0[:6-i])\n",
    "A=np.array(A).transpose()\n",
    "A"
   ]
  },
  {
   "cell_type": "code",
   "execution_count": 78,
   "id": "9a267bdf",
   "metadata": {},
   "outputs": [
    {
     "data": {
      "text/plain": [
       "array([0.17147108, 0.30395074, 0.28850569, 0.17292586, 0.11470925,\n",
       "       0.29186836])"
      ]
     },
     "execution_count": 78,
     "metadata": {},
     "output_type": "execute_result"
    }
   ],
   "source": [
    "x=np.matmul( np.linalg.inv ( np.matmul(A.transpose(),A)) , np.matmul(A.transpose(),b)  )\n",
    "x"
   ]
  },
  {
   "cell_type": "code",
   "execution_count": 79,
   "id": "491077aa",
   "metadata": {},
   "outputs": [
    {
     "data": {
      "text/plain": [
       "40.37057164391473"
      ]
     },
     "execution_count": 79,
     "metadata": {},
     "output_type": "execute_result"
    }
   ],
   "source": [
    "neh= (x[2]/x[1])*2* ((1-pw)/pw) +1\n",
    "neh"
   ]
  },
  {
   "cell_type": "code",
   "execution_count": null,
   "id": "a44b749a",
   "metadata": {},
   "outputs": [],
   "source": []
  },
  {
   "cell_type": "code",
   "execution_count": 85,
   "id": "600d801f",
   "metadata": {},
   "outputs": [
    {
     "data": {
      "text/plain": [
       "[0.171471083329884,\n",
       " 0.30395074113625603,\n",
       " 0.2885056938080688,\n",
       " 0.172925862902831,\n",
       " 0.11470925224211692,\n",
       " 0.29186835760447166]"
      ]
     },
     "execution_count": 85,
     "metadata": {},
     "output_type": "execute_result"
    }
   ],
   "source": [
    "from scipy.optimize import nnls\n",
    "list(nnls(A,b)[0])"
   ]
  },
  {
   "cell_type": "code",
   "execution_count": null,
   "id": "0b14f19c",
   "metadata": {},
   "outputs": [],
   "source": []
  }
 ],
 "metadata": {
  "kernelspec": {
   "display_name": "Python 3 (ipykernel)",
   "language": "python",
   "name": "python3"
  },
  "language_info": {
   "codemirror_mode": {
    "name": "ipython",
    "version": 3
   },
   "file_extension": ".py",
   "mimetype": "text/x-python",
   "name": "python",
   "nbconvert_exporter": "python",
   "pygments_lexer": "ipython3",
   "version": "3.9.11"
  }
 },
 "nbformat": 4,
 "nbformat_minor": 5
}
