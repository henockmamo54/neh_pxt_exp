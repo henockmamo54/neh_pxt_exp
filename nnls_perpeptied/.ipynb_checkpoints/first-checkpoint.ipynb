{
 "cells": [
  {
   "cell_type": "code",
   "execution_count": 1,
   "id": "b708af98",
   "metadata": {},
   "outputs": [],
   "source": [
    "import numpy as np\n",
    "import pandas as pd"
   ]
  },
  {
   "cell_type": "code",
   "execution_count": 47,
   "id": "28858458",
   "metadata": {},
   "outputs": [],
   "source": [
    "path=\"C:/Workplace/C++/d2ome_v2/v2/v2/bin/Debug/\"\n",
    "time=31"
   ]
  },
  {
   "cell_type": "code",
   "execution_count": 48,
   "id": "c252bfa7",
   "metadata": {},
   "outputs": [],
   "source": [
    "data=pd.read_csv(path+\"__FAS_MOUSE.csv\")\n",
    "data=data[data.exp_Time==time]\n",
    "pw=0.046"
   ]
  },
  {
   "cell_type": "code",
   "execution_count": 49,
   "id": "9860654e",
   "metadata": {},
   "outputs": [
    {
     "data": {
      "text/html": [
       "<div>\n",
       "<style scoped>\n",
       "    .dataframe tbody tr th:only-of-type {\n",
       "        vertical-align: middle;\n",
       "    }\n",
       "\n",
       "    .dataframe tbody tr th {\n",
       "        vertical-align: top;\n",
       "    }\n",
       "\n",
       "    .dataframe thead th {\n",
       "        text-align: right;\n",
       "    }\n",
       "</style>\n",
       "<table border=\"1\" class=\"dataframe\">\n",
       "  <thead>\n",
       "    <tr style=\"text-align: right;\">\n",
       "      <th></th>\n",
       "      <th>Peptied</th>\n",
       "      <th>charge</th>\n",
       "      <th>exp_Time</th>\n",
       "      <th>NEH</th>\n",
       "      <th>e_NEH</th>\n",
       "      <th>pxt</th>\n",
       "      <th>e_pxt</th>\n",
       "      <th>mo</th>\n",
       "      <th>m1</th>\n",
       "      <th>m2</th>\n",
       "      <th>m3</th>\n",
       "      <th>m4</th>\n",
       "      <th>m5</th>\n",
       "      <th>io</th>\n",
       "      <th>i1</th>\n",
       "      <th>i2</th>\n",
       "      <th>i3</th>\n",
       "      <th>i4</th>\n",
       "      <th>i5</th>\n",
       "    </tr>\n",
       "  </thead>\n",
       "  <tbody>\n",
       "    <tr>\n",
       "      <th>0</th>\n",
       "      <td>DAMLENQTPELFQDVNKPK</td>\n",
       "      <td>3</td>\n",
       "      <td>31</td>\n",
       "      <td>37</td>\n",
       "      <td>34</td>\n",
       "      <td>0.046</td>\n",
       "      <td>0.050</td>\n",
       "      <td>0.26885</td>\n",
       "      <td>0.32549</td>\n",
       "      <td>0.22513</td>\n",
       "      <td>0.11343</td>\n",
       "      <td>0.04576</td>\n",
       "      <td>0.01554</td>\n",
       "      <td>0.047674</td>\n",
       "      <td>0.148521</td>\n",
       "      <td>0.237125</td>\n",
       "      <td>0.238431</td>\n",
       "      <td>0.204731</td>\n",
       "      <td>0.123518</td>\n",
       "    </tr>\n",
       "    <tr>\n",
       "      <th>1</th>\n",
       "      <td>TLLEGSGLESIINIIHSSLAEPR</td>\n",
       "      <td>3</td>\n",
       "      <td>31</td>\n",
       "      <td>47</td>\n",
       "      <td>38</td>\n",
       "      <td>0.046</td>\n",
       "      <td>0.050</td>\n",
       "      <td>0.24379</td>\n",
       "      <td>0.32816</td>\n",
       "      <td>0.23693</td>\n",
       "      <td>0.12068</td>\n",
       "      <td>0.04837</td>\n",
       "      <td>0.01617</td>\n",
       "      <td>0.034658</td>\n",
       "      <td>0.121995</td>\n",
       "      <td>0.215088</td>\n",
       "      <td>0.258925</td>\n",
       "      <td>0.217512</td>\n",
       "      <td>0.151821</td>\n",
       "    </tr>\n",
       "    <tr>\n",
       "      <th>2</th>\n",
       "      <td>QGIQVLVSTSNVSSLEGAR</td>\n",
       "      <td>2</td>\n",
       "      <td>31</td>\n",
       "      <td>39</td>\n",
       "      <td>33</td>\n",
       "      <td>0.046</td>\n",
       "      <td>0.050</td>\n",
       "      <td>0.33707</td>\n",
       "      <td>0.34807</td>\n",
       "      <td>0.19824</td>\n",
       "      <td>0.08099</td>\n",
       "      <td>0.02634</td>\n",
       "      <td>0.00720</td>\n",
       "      <td>0.058956</td>\n",
       "      <td>0.177812</td>\n",
       "      <td>0.262221</td>\n",
       "      <td>0.229059</td>\n",
       "      <td>0.173550</td>\n",
       "      <td>0.098401</td>\n",
       "    </tr>\n",
       "    <tr>\n",
       "      <th>3</th>\n",
       "      <td>FVFTPHMEAEcLSESTALQK</td>\n",
       "      <td>3</td>\n",
       "      <td>31</td>\n",
       "      <td>40</td>\n",
       "      <td>43</td>\n",
       "      <td>0.046</td>\n",
       "      <td>0.050</td>\n",
       "      <td>0.24608</td>\n",
       "      <td>0.30967</td>\n",
       "      <td>0.23096</td>\n",
       "      <td>0.12699</td>\n",
       "      <td>0.05630</td>\n",
       "      <td>0.02110</td>\n",
       "      <td>0.033122</td>\n",
       "      <td>0.120369</td>\n",
       "      <td>0.194330</td>\n",
       "      <td>0.225977</td>\n",
       "      <td>0.201882</td>\n",
       "      <td>0.224319</td>\n",
       "    </tr>\n",
       "    <tr>\n",
       "      <th>4</th>\n",
       "      <td>LLLPEDPLISGLLNSQALK</td>\n",
       "      <td>3</td>\n",
       "      <td>31</td>\n",
       "      <td>33</td>\n",
       "      <td>31</td>\n",
       "      <td>0.046</td>\n",
       "      <td>0.049</td>\n",
       "      <td>0.29874</td>\n",
       "      <td>0.34596</td>\n",
       "      <td>0.21535</td>\n",
       "      <td>0.09473</td>\n",
       "      <td>0.03282</td>\n",
       "      <td>0.00949</td>\n",
       "      <td>0.061618</td>\n",
       "      <td>0.177097</td>\n",
       "      <td>0.259463</td>\n",
       "      <td>0.240878</td>\n",
       "      <td>0.162941</td>\n",
       "      <td>0.098003</td>\n",
       "    </tr>\n",
       "  </tbody>\n",
       "</table>\n",
       "</div>"
      ],
      "text/plain": [
       "                   Peptied  charge  exp_Time  NEH  e_NEH    pxt  e_pxt  \\\n",
       "0      DAMLENQTPELFQDVNKPK       3        31   37     34  0.046  0.050   \n",
       "1  TLLEGSGLESIINIIHSSLAEPR       3        31   47     38  0.046  0.050   \n",
       "2      QGIQVLVSTSNVSSLEGAR       2        31   39     33  0.046  0.050   \n",
       "3     FVFTPHMEAEcLSESTALQK       3        31   40     43  0.046  0.050   \n",
       "4      LLLPEDPLISGLLNSQALK       3        31   33     31  0.046  0.049   \n",
       "\n",
       "        mo       m1       m2       m3       m4       m5        io        i1  \\\n",
       "0  0.26885  0.32549  0.22513  0.11343  0.04576  0.01554  0.047674  0.148521   \n",
       "1  0.24379  0.32816  0.23693  0.12068  0.04837  0.01617  0.034658  0.121995   \n",
       "2  0.33707  0.34807  0.19824  0.08099  0.02634  0.00720  0.058956  0.177812   \n",
       "3  0.24608  0.30967  0.23096  0.12699  0.05630  0.02110  0.033122  0.120369   \n",
       "4  0.29874  0.34596  0.21535  0.09473  0.03282  0.00949  0.061618  0.177097   \n",
       "\n",
       "         i2        i3        i4        i5  \n",
       "0  0.237125  0.238431  0.204731  0.123518  \n",
       "1  0.215088  0.258925  0.217512  0.151821  \n",
       "2  0.262221  0.229059  0.173550  0.098401  \n",
       "3  0.194330  0.225977  0.201882  0.224319  \n",
       "4  0.259463  0.240878  0.162941  0.098003  "
      ]
     },
     "execution_count": 49,
     "metadata": {},
     "output_type": "execute_result"
    }
   ],
   "source": [
    "temp_data=data[data.exp_Time==time].reset_index(drop=\"True\")\n",
    "temp_data.head()"
   ]
  },
  {
   "cell_type": "code",
   "execution_count": 62,
   "id": "58592694",
   "metadata": {},
   "outputs": [],
   "source": [
    "pep_index=4\n",
    "exp_0=list(temp_data.loc[pep_index,[\"mo\",\"m1\",\"m2\",\"m3\",\"m4\",\"m5\"]])\n",
    "b=list(temp_data.loc[pep_index,[\"io\",\"i1\",\"i2\",\"i3\",\"i4\",\"i5\"]])#exp_t"
   ]
  },
  {
   "cell_type": "code",
   "execution_count": 63,
   "id": "861e13e3",
   "metadata": {},
   "outputs": [
    {
     "data": {
      "text/plain": [
       "array([[0.29874, 0.     , 0.     , 0.     , 0.     , 0.     ],\n",
       "       [0.34596, 0.29874, 0.     , 0.     , 0.     , 0.     ],\n",
       "       [0.21535, 0.34596, 0.29874, 0.     , 0.     , 0.     ],\n",
       "       [0.09473, 0.21535, 0.34596, 0.29874, 0.     , 0.     ],\n",
       "       [0.03282, 0.09473, 0.21535, 0.34596, 0.29874, 0.     ],\n",
       "       [0.00949, 0.03282, 0.09473, 0.21535, 0.34596, 0.29874]])"
      ]
     },
     "execution_count": 63,
     "metadata": {},
     "output_type": "execute_result"
    }
   ],
   "source": [
    "A=[]\n",
    "for i in range(6):\n",
    "    A.append(([0]*i)+exp_0[:6-i])\n",
    "A=np.array(A).transpose()\n",
    "A"
   ]
  },
  {
   "cell_type": "code",
   "execution_count": 64,
   "id": "6e6ec19f",
   "metadata": {},
   "outputs": [
    {
     "data": {
      "text/plain": [
       "array([0.20626071, 0.35395151, 0.30993958, 0.1268273 , 0.0402335 ,\n",
       "       0.0463163 ])"
      ]
     },
     "execution_count": 64,
     "metadata": {},
     "output_type": "execute_result"
    }
   ],
   "source": [
    "x=np.matmul( np.linalg.inv ( np.matmul(A.transpose(),A)) , np.matmul(A.transpose(),b)  )\n",
    "x"
   ]
  },
  {
   "cell_type": "code",
   "execution_count": 65,
   "id": "bcaf5857",
   "metadata": {},
   "outputs": [
    {
     "data": {
      "text/plain": [
       "37.320665878202405"
      ]
     },
     "execution_count": 65,
     "metadata": {},
     "output_type": "execute_result"
    }
   ],
   "source": [
    "neh= (x[2]/x[1])*2* ((1-pw)/pw) +1\n",
    "neh"
   ]
  },
  {
   "cell_type": "code",
   "execution_count": null,
   "id": "25d0cab7",
   "metadata": {},
   "outputs": [],
   "source": []
  },
  {
   "cell_type": "code",
   "execution_count": null,
   "id": "087664a8",
   "metadata": {},
   "outputs": [],
   "source": []
  }
 ],
 "metadata": {
  "kernelspec": {
   "display_name": "Python 3 (ipykernel)",
   "language": "python",
   "name": "python3"
  },
  "language_info": {
   "codemirror_mode": {
    "name": "ipython",
    "version": 3
   },
   "file_extension": ".py",
   "mimetype": "text/x-python",
   "name": "python",
   "nbconvert_exporter": "python",
   "pygments_lexer": "ipython3",
   "version": "3.9.11"
  }
 },
 "nbformat": 4,
 "nbformat_minor": 5
}
