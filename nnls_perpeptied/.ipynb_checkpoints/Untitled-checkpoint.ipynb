{
 "cells": [
  {
   "cell_type": "code",
   "execution_count": 1,
   "id": "ea2d36a0",
   "metadata": {},
   "outputs": [],
   "source": [
    "import numpy as np\n",
    "import pandas as pd\n",
    "from scipy.optimize import nnls\n",
    "pd.set_option('display.max_rows', None)"
   ]
  },
  {
   "cell_type": "code",
   "execution_count": 12,
   "id": "5c999b13",
   "metadata": {},
   "outputs": [],
   "source": [
    "path=\"C:/Workplace/C++/d2ome_v2/v2/v2/bin/Debug/\"#proportion_pxt_neh/\"\n",
    "time=6\n",
    "# pw=0.046"
   ]
  },
  {
   "cell_type": "code",
   "execution_count": 18,
   "id": "a52e830d",
   "metadata": {
    "scrolled": false
   },
   "outputs": [
    {
     "name": "stdout",
     "output_type": "stream",
     "text": [
      "(42, 13)\n",
      "(36, 13)\n",
      "(21, 13)\n",
      "(8, 13)\n"
     ]
    },
    {
     "data": {
      "text/html": [
       "<div>\n",
       "<style scoped>\n",
       "    .dataframe tbody tr th:only-of-type {\n",
       "        vertical-align: middle;\n",
       "    }\n",
       "\n",
       "    .dataframe tbody tr th {\n",
       "        vertical-align: top;\n",
       "    }\n",
       "\n",
       "    .dataframe thead th {\n",
       "        text-align: right;\n",
       "    }\n",
       "</style>\n",
       "<table border=\"1\" class=\"dataframe\">\n",
       "  <thead>\n",
       "    <tr style=\"text-align: right;\">\n",
       "      <th></th>\n",
       "      <th>Peptied</th>\n",
       "      <th>charge</th>\n",
       "      <th>exp_Time</th>\n",
       "      <th>NEH</th>\n",
       "      <th>NEH_new</th>\n",
       "      <th>new_RMSE</th>\n",
       "      <th>new_cor</th>\n",
       "      <th>new_rsq</th>\n",
       "      <th>map</th>\n",
       "      <th>mean</th>\n",
       "      <th>median</th>\n",
       "      <th>sd</th>\n",
       "      <th>dif</th>\n",
       "    </tr>\n",
       "  </thead>\n",
       "  <tbody>\n",
       "    <tr>\n",
       "      <th>24</th>\n",
       "      <td>EWPANLDLK</td>\n",
       "      <td>2</td>\n",
       "      <td>6</td>\n",
       "      <td>16</td>\n",
       "      <td>8.074352</td>\n",
       "      <td>0.007435</td>\n",
       "      <td>0.999828</td>\n",
       "      <td>0.997560</td>\n",
       "      <td>0.204306</td>\n",
       "      <td>0.006601</td>\n",
       "      <td>0.007318</td>\n",
       "      <td>0.003421</td>\n",
       "      <td>7.925648</td>\n",
       "    </tr>\n",
       "    <tr>\n",
       "      <th>40</th>\n",
       "      <td>YMESDGIK</td>\n",
       "      <td>2</td>\n",
       "      <td>6</td>\n",
       "      <td>13</td>\n",
       "      <td>8.519164</td>\n",
       "      <td>0.004288</td>\n",
       "      <td>0.999712</td>\n",
       "      <td>0.999319</td>\n",
       "      <td>0.066394</td>\n",
       "      <td>0.003726</td>\n",
       "      <td>0.003799</td>\n",
       "      <td>0.002122</td>\n",
       "      <td>4.480836</td>\n",
       "    </tr>\n",
       "    <tr>\n",
       "      <th>34</th>\n",
       "      <td>SIFSAVLDELK</td>\n",
       "      <td>2</td>\n",
       "      <td>6</td>\n",
       "      <td>18</td>\n",
       "      <td>14.701035</td>\n",
       "      <td>0.009377</td>\n",
       "      <td>0.999287</td>\n",
       "      <td>0.995650</td>\n",
       "      <td>0.177084</td>\n",
       "      <td>0.007895</td>\n",
       "      <td>0.006447</td>\n",
       "      <td>0.005059</td>\n",
       "      <td>3.298965</td>\n",
       "    </tr>\n",
       "    <tr>\n",
       "      <th>26</th>\n",
       "      <td>NVVFSEDEMKR</td>\n",
       "      <td>2</td>\n",
       "      <td>6</td>\n",
       "      <td>20</td>\n",
       "      <td>16.907299</td>\n",
       "      <td>0.012502</td>\n",
       "      <td>0.998612</td>\n",
       "      <td>0.990159</td>\n",
       "      <td>0.176402</td>\n",
       "      <td>0.011567</td>\n",
       "      <td>0.011224</td>\n",
       "      <td>0.004746</td>\n",
       "      <td>3.092701</td>\n",
       "    </tr>\n",
       "    <tr>\n",
       "      <th>31</th>\n",
       "      <td>TFEESFQK</td>\n",
       "      <td>2</td>\n",
       "      <td>6</td>\n",
       "      <td>15</td>\n",
       "      <td>12.409269</td>\n",
       "      <td>0.012005</td>\n",
       "      <td>0.999242</td>\n",
       "      <td>0.994039</td>\n",
       "      <td>0.233999</td>\n",
       "      <td>0.010833</td>\n",
       "      <td>0.011680</td>\n",
       "      <td>0.005175</td>\n",
       "      <td>2.590731</td>\n",
       "    </tr>\n",
       "    <tr>\n",
       "      <th>37</th>\n",
       "      <td>FVHDNYVIR</td>\n",
       "      <td>3</td>\n",
       "      <td>6</td>\n",
       "      <td>12</td>\n",
       "      <td>10.181812</td>\n",
       "      <td>0.005666</td>\n",
       "      <td>0.999482</td>\n",
       "      <td>0.998677</td>\n",
       "      <td>0.052825</td>\n",
       "      <td>0.004125</td>\n",
       "      <td>0.002505</td>\n",
       "      <td>0.003884</td>\n",
       "      <td>1.818188</td>\n",
       "    </tr>\n",
       "    <tr>\n",
       "      <th>16</th>\n",
       "      <td>FVHDNYVIR</td>\n",
       "      <td>2</td>\n",
       "      <td>6</td>\n",
       "      <td>12</td>\n",
       "      <td>13.730924</td>\n",
       "      <td>0.006881</td>\n",
       "      <td>0.999497</td>\n",
       "      <td>0.998025</td>\n",
       "      <td>0.103840</td>\n",
       "      <td>0.005730</td>\n",
       "      <td>0.005262</td>\n",
       "      <td>0.003809</td>\n",
       "      <td>1.730924</td>\n",
       "    </tr>\n",
       "    <tr>\n",
       "      <th>36</th>\n",
       "      <td>ETLIDLGTK</td>\n",
       "      <td>2</td>\n",
       "      <td>6</td>\n",
       "      <td>11</td>\n",
       "      <td>11.759480</td>\n",
       "      <td>0.007704</td>\n",
       "      <td>0.999626</td>\n",
       "      <td>0.997768</td>\n",
       "      <td>0.327082</td>\n",
       "      <td>0.006806</td>\n",
       "      <td>0.006612</td>\n",
       "      <td>0.003610</td>\n",
       "      <td>0.759480</td>\n",
       "    </tr>\n",
       "  </tbody>\n",
       "</table>\n",
       "</div>"
      ],
      "text/plain": [
       "        Peptied  charge  exp_Time  NEH    NEH_new  new_RMSE   new_cor  \\\n",
       "24    EWPANLDLK       2         6   16   8.074352  0.007435  0.999828   \n",
       "40     YMESDGIK       2         6   13   8.519164  0.004288  0.999712   \n",
       "34  SIFSAVLDELK       2         6   18  14.701035  0.009377  0.999287   \n",
       "26  NVVFSEDEMKR       2         6   20  16.907299  0.012502  0.998612   \n",
       "31     TFEESFQK       2         6   15  12.409269  0.012005  0.999242   \n",
       "37    FVHDNYVIR       3         6   12  10.181812  0.005666  0.999482   \n",
       "16    FVHDNYVIR       2         6   12  13.730924  0.006881  0.999497   \n",
       "36    ETLIDLGTK       2         6   11  11.759480  0.007704  0.999626   \n",
       "\n",
       "     new_rsq       map      mean    median        sd       dif  \n",
       "24  0.997560  0.204306  0.006601  0.007318  0.003421  7.925648  \n",
       "40  0.999319  0.066394  0.003726  0.003799  0.002122  4.480836  \n",
       "34  0.995650  0.177084  0.007895  0.006447  0.005059  3.298965  \n",
       "26  0.990159  0.176402  0.011567  0.011224  0.004746  3.092701  \n",
       "31  0.994039  0.233999  0.010833  0.011680  0.005175  2.590731  \n",
       "37  0.998677  0.052825  0.004125  0.002505  0.003884  1.818188  \n",
       "16  0.998025  0.103840  0.005730  0.005262  0.003809  1.730924  \n",
       "36  0.997768  0.327082  0.006806  0.006612  0.003610  0.759480  "
      ]
     },
     "execution_count": 18,
     "metadata": {},
     "output_type": "execute_result"
    }
   ],
   "source": [
    "data=pd.read_csv(path+\"__CPSM_MOUSE.csv\")\n",
    "# data=data[data.exp_Time==time]\n",
    "data=data[data.exp_Time==time].reset_index(drop=\"True\")\n",
    "\n",
    "data=data[['Peptied', 'charge', 'exp_Time', 'NEH', \n",
    "       'NEH_new', 'new_RMSE', 'new_cor', 'new_rsq', 'map', 'mean', 'median',\n",
    "       'sd']]\n",
    "data[\"dif\"]=abs(data.NEH - data.NEH_new)\n",
    "print(data.shape)\n",
    "\n",
    "data=data[data.new_cor>0.9]\n",
    "print(data.shape) \n",
    "\n",
    "data=data[data.new_rsq>0.9]\n",
    "print(data.shape)\n",
    "\n",
    "# data=data[data.new_error<0.05]\n",
    "# print(data.shape) \n",
    "\n",
    "# data=data[data[\"mean\"]<0.016]\n",
    "# print(data.shape) \n",
    "\n",
    "data=data[data.new_RMSE<0.015]\n",
    "\n",
    "print(data.shape)\n",
    "data.sort_values(by=\"dif\",ascending=False)"
   ]
  },
  {
   "cell_type": "code",
   "execution_count": 16,
   "id": "da4ea780",
   "metadata": {},
   "outputs": [],
   "source": [
    "from matplotlib import pyplot as plt\n",
    "import seaborn as sns"
   ]
  },
  {
   "cell_type": "code",
   "execution_count": 17,
   "id": "15e0aadb",
   "metadata": {},
   "outputs": [
    {
     "data": {
      "text/plain": [
       "<matplotlib.legend.Legend at 0x23f2752fdf0>"
      ]
     },
     "execution_count": 17,
     "metadata": {},
     "output_type": "execute_result"
    },
    {
     "data": {
      "image/png": "[encoded data removed]",
      "text/plain": [
       "<Figure size 432x288 with 1 Axes>"
      ]
     },
     "metadata": {
      "needs_background": "light"
     },
     "output_type": "display_data"
    }
   ],
   "source": [
    "sns.kdeplot(data.NEH, x=\"NEH\",label=\"T NEH\")\n",
    "sns.kdeplot(data.NEH_new, x=\"NEH_new\",label=\"T NEH\")\n",
    "plt.legend()"
   ]
  },
  {
   "cell_type": "code",
   "execution_count": 6,
   "id": "937b9156",
   "metadata": {},
   "outputs": [
    {
     "data": {
      "text/plain": [
       "(array([1., 0., 0., 2., 0., 0., 0., 0., 1., 0., 0., 0., 1., 0., 0., 0., 0.,\n",
       "        0., 0., 0., 0., 0., 0., 0., 1.]),\n",
       " array([0.75948042, 1.04612713, 1.33277383, 1.61942054, 1.90606724,\n",
       "        2.19271395, 2.47936065, 2.76600736, 3.05265406, 3.33930077,\n",
       "        3.62594747, 3.91259418, 4.19924088, 4.48588759, 4.77253429,\n",
       "        5.059181  , 5.3458277 , 5.63247441, 5.91912111, 6.20576782,\n",
       "        6.49241452, 6.77906123, 7.06570793, 7.35235464, 7.63900134,\n",
       "        7.92564805]),\n",
       " <BarContainer object of 25 artists>)"
      ]
     },
     "execution_count": 6,
     "metadata": {},
     "output_type": "execute_result"
    },
    {
     "data": {
      "image/png": "[encoded data removed]",
      "text/plain": [
       "<Figure size 432x288 with 1 Axes>"
      ]
     },
     "metadata": {
      "needs_background": "light"
     },
     "output_type": "display_data"
    }
   ],
   "source": [
    "plt.hist(data.dif,bins=25)"
   ]
  },
  {
   "cell_type": "code",
   "execution_count": null,
   "id": "81feae0a",
   "metadata": {},
   "outputs": [],
   "source": []
  },
  {
   "cell_type": "code",
   "execution_count": null,
   "id": "e135334e",
   "metadata": {},
   "outputs": [],
   "source": []
  }
 ],
 "metadata": {
  "kernelspec": {
   "display_name": "Python 3 (ipykernel)",
   "language": "python",
   "name": "python3"
  },
  "language_info": {
   "codemirror_mode": {
    "name": "ipython",
    "version": 3
   },
   "file_extension": ".py",
   "mimetype": "text/x-python",
   "name": "python",
   "nbconvert_exporter": "python",
   "pygments_lexer": "ipython3",
   "version": "3.9.11"
  }
 },
 "nbformat": 4,
 "nbformat_minor": 5
}
