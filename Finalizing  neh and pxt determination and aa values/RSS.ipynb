{
 "cells": [
  {
   "cell_type": "code",
   "execution_count": 116,
   "id": "93fe566f",
   "metadata": {},
   "outputs": [],
   "source": [
    "import os\n",
    "import numpy as np\n",
    "import pandas as pd\n",
    "import warnings\n",
    "warnings.filterwarnings('ignore')"
   ]
  },
  {
   "cell_type": "code",
   "execution_count": 123,
   "id": "b438af9e",
   "metadata": {},
   "outputs": [
    {
     "name": "stdout",
     "output_type": "stream",
     "text": [
      "2286\n",
      "(19186, 9)\n"
     ]
    }
   ],
   "source": [
    "path=f\"C:/Workplace/C++/d2ome_v2/v2/v2/bin/Debug/\"  \n",
    "protiens=np.unique([x for x in os.listdir(path) if ((\"_MOUSE.csv\" in x) and (\"RSS_comparision_\" in x))])\n",
    "print(len(protiens))\n",
    "\n",
    "data=pd.DataFrame()\n",
    "for file in protiens:\n",
    "    data=pd.concat([data,pd.read_csv(path+file)])\n",
    "print(data.shape)\n",
    "\n",
    "data.RSS_compelete=data.RSS_compelete**0.5\n",
    "data.RSS_FirstThree=data.RSS_FirstThree**0.5\n"
   ]
  },
  {
   "cell_type": "markdown",
   "id": "677aebc9",
   "metadata": {},
   "source": []
  },
  {
   "cell_type": "code",
   "execution_count": 124,
   "id": "06c651aa",
   "metadata": {},
   "outputs": [
    {
     "data": {
      "text/html": [
       "<div>\n",
       "<style scoped>\n",
       "    .dataframe tbody tr th:only-of-type {\n",
       "        vertical-align: middle;\n",
       "    }\n",
       "\n",
       "    .dataframe tbody tr th {\n",
       "        vertical-align: top;\n",
       "    }\n",
       "\n",
       "    .dataframe thead th {\n",
       "        text-align: right;\n",
       "    }\n",
       "</style>\n",
       "<table border=\"1\" class=\"dataframe\">\n",
       "  <thead>\n",
       "    <tr style=\"text-align: right;\">\n",
       "      <th></th>\n",
       "      <th>charge</th>\n",
       "      <th>RSS_compelete</th>\n",
       "      <th>RSS_FirstThree</th>\n",
       "      <th>MAP_C</th>\n",
       "      <th>MAP_P</th>\n",
       "      <th>L1_distance_C</th>\n",
       "      <th>L1_distance_p</th>\n",
       "    </tr>\n",
       "  </thead>\n",
       "  <tbody>\n",
       "    <tr>\n",
       "      <th>count</th>\n",
       "      <td>19186.000000</td>\n",
       "      <td>18773.000000</td>\n",
       "      <td>18773.000000</td>\n",
       "      <td>18773.000000</td>\n",
       "      <td>18773.000000</td>\n",
       "      <td>18773.000000</td>\n",
       "      <td>18773.000000</td>\n",
       "    </tr>\n",
       "    <tr>\n",
       "      <th>mean</th>\n",
       "      <td>2.465756</td>\n",
       "      <td>0.010781</td>\n",
       "      <td>0.018136</td>\n",
       "      <td>15.592418</td>\n",
       "      <td>7.303081</td>\n",
       "      <td>0.084343</td>\n",
       "      <td>0.085752</td>\n",
       "    </tr>\n",
       "    <tr>\n",
       "      <th>std</th>\n",
       "      <td>0.646395</td>\n",
       "      <td>0.012177</td>\n",
       "      <td>0.026203</td>\n",
       "      <td>15.333429</td>\n",
       "      <td>12.038677</td>\n",
       "      <td>0.110108</td>\n",
       "      <td>0.126366</td>\n",
       "    </tr>\n",
       "    <tr>\n",
       "      <th>min</th>\n",
       "      <td>2.000000</td>\n",
       "      <td>0.000192</td>\n",
       "      <td>0.000022</td>\n",
       "      <td>0.082674</td>\n",
       "      <td>0.006705</td>\n",
       "      <td>0.001076</td>\n",
       "      <td>0.000098</td>\n",
       "    </tr>\n",
       "    <tr>\n",
       "      <th>25%</th>\n",
       "      <td>2.000000</td>\n",
       "      <td>0.003695</td>\n",
       "      <td>0.005325</td>\n",
       "      <td>7.267929</td>\n",
       "      <td>2.030493</td>\n",
       "      <td>0.027179</td>\n",
       "      <td>0.024925</td>\n",
       "    </tr>\n",
       "    <tr>\n",
       "      <th>50%</th>\n",
       "      <td>2.000000</td>\n",
       "      <td>0.006843</td>\n",
       "      <td>0.009823</td>\n",
       "      <td>12.290528</td>\n",
       "      <td>3.750984</td>\n",
       "      <td>0.050165</td>\n",
       "      <td>0.046023</td>\n",
       "    </tr>\n",
       "    <tr>\n",
       "      <th>75%</th>\n",
       "      <td>3.000000</td>\n",
       "      <td>0.013341</td>\n",
       "      <td>0.019842</td>\n",
       "      <td>18.913878</td>\n",
       "      <td>7.525521</td>\n",
       "      <td>0.097910</td>\n",
       "      <td>0.093145</td>\n",
       "    </tr>\n",
       "    <tr>\n",
       "      <th>max</th>\n",
       "      <td>7.000000</td>\n",
       "      <td>0.163316</td>\n",
       "      <td>0.331054</td>\n",
       "      <td>259.266071</td>\n",
       "      <td>208.338273</td>\n",
       "      <td>1.572208</td>\n",
       "      <td>1.603130</td>\n",
       "    </tr>\n",
       "  </tbody>\n",
       "</table>\n",
       "</div>"
      ],
      "text/plain": [
       "             charge  RSS_compelete  RSS_FirstThree         MAP_C  \\\n",
       "count  19186.000000   18773.000000    18773.000000  18773.000000   \n",
       "mean       2.465756       0.010781        0.018136     15.592418   \n",
       "std        0.646395       0.012177        0.026203     15.333429   \n",
       "min        2.000000       0.000192        0.000022      0.082674   \n",
       "25%        2.000000       0.003695        0.005325      7.267929   \n",
       "50%        2.000000       0.006843        0.009823     12.290528   \n",
       "75%        3.000000       0.013341        0.019842     18.913878   \n",
       "max        7.000000       0.163316        0.331054    259.266071   \n",
       "\n",
       "              MAP_P  L1_distance_C  L1_distance_p  \n",
       "count  18773.000000   18773.000000   18773.000000  \n",
       "mean       7.303081       0.084343       0.085752  \n",
       "std       12.038677       0.110108       0.126366  \n",
       "min        0.006705       0.001076       0.000098  \n",
       "25%        2.030493       0.027179       0.024925  \n",
       "50%        3.750984       0.050165       0.046023  \n",
       "75%        7.525521       0.097910       0.093145  \n",
       "max      208.338273       1.572208       1.603130  "
      ]
     },
     "execution_count": 124,
     "metadata": {},
     "output_type": "execute_result"
    }
   ],
   "source": [
    "data.describe()"
   ]
  },
  {
   "cell_type": "markdown",
   "id": "73f3785e",
   "metadata": {},
   "source": [
    "1 RSS\n",
    "==="
   ]
  },
  {
   "cell_type": "code",
   "execution_count": 122,
   "id": "9da83439",
   "metadata": {
    "scrolled": false
   },
   "outputs": [
    {
     "data": {
      "text/plain": [
       "<matplotlib.legend.Legend at 0x1bfb1c32e50>"
      ]
     },
     "execution_count": 122,
     "metadata": {},
     "output_type": "execute_result"
    },
    {
     "data": {
      "image/png": "[encoded data removed]",
      "text/plain": [
       "<Figure size 432x288 with 1 Axes>"
      ]
     },
     "metadata": {
      "needs_background": "light"
     },
     "output_type": "display_data"
    }
   ],
   "source": [
    "import seaborn as sns\n",
    "from matplotlib import pyplot as plt\n",
    "\n",
    "sns.distplot(data.RSS_compelete, hist = False,bins=25, kde = True,hist_kws={'edgecolor':'black'},\n",
    "                 kde_kws = {'shade': False, 'linewidth': 2,'bw_adjust':0.1} ,\n",
    "            label=r'Complete')\n",
    "sns.distplot(data.RSS_FirstThree, hist = False,bins=25, kde = True,hist_kws={'edgecolor':'black'},\n",
    "                 kde_kws = {'shade': False, 'linewidth': 2,'bw_adjust':0.1} ,\n",
    "            label=r'Partial')\n",
    "plt.legend()"
   ]
  },
  {
   "cell_type": "markdown",
   "id": "d9998dd9",
   "metadata": {},
   "source": [
    "0.01 Threshold\n",
    "==="
   ]
  },
  {
   "cell_type": "code",
   "execution_count": 95,
   "id": "6e8710da",
   "metadata": {},
   "outputs": [
    {
     "name": "stdout",
     "output_type": "stream",
     "text": [
      "RSS_Complete < 0.01 => 63.58%\n",
      "RSS_Partial < 0.01 =>  49.53%\n"
     ]
    }
   ],
   "source": [
    "print(r'RSS_Complete < 0.01 =>',\"{0:0.2f}%\".format(data[data.RSS_compelete<0.01].shape[0]*100/data.shape[0]))\n",
    "print('RSS_Partial < 0.01 => ',\"{0:0.2f}%\".format(data[data.RSS_FirstThree<0.01].shape[0]*100/data.shape[0]))"
   ]
  },
  {
   "cell_type": "markdown",
   "id": "694a4b06",
   "metadata": {},
   "source": [
    "Compelete profile > 0.01 and Partial profile < 0.01\n",
    "=="
   ]
  },
  {
   "cell_type": "code",
   "execution_count": 96,
   "id": "b250ef61",
   "metadata": {},
   "outputs": [
    {
     "data": {
      "text/plain": [
       "'3.62%'"
      ]
     },
     "execution_count": 96,
     "metadata": {},
     "output_type": "execute_result"
    }
   ],
   "source": [
    "\"{0:0.2f}%\".format(data.query(' RSS_compelete>0.01 and RSS_FirstThree<0.01').shape[0]*100/data.shape[0])"
   ]
  },
  {
   "cell_type": "markdown",
   "id": "9148e4bf",
   "metadata": {},
   "source": [
    "0.005 Threshold\n",
    "==="
   ]
  },
  {
   "cell_type": "code",
   "execution_count": 97,
   "id": "29cb8417",
   "metadata": {},
   "outputs": [
    {
     "name": "stdout",
     "output_type": "stream",
     "text": [
      "RSS_Complete < 0.005 => 35.91%\n",
      "RSS_Partial < 0.005 =>  22.49%\n"
     ]
    }
   ],
   "source": [
    "print(r'RSS_Complete < 0.005 =>',\"{0:0.2f}%\".format(data[data.RSS_compelete<0.005].shape[0]*100/data.shape[0]))\n",
    "print('RSS_Partial < 0.005 => ',\"{0:0.2f}%\".format(data[data.RSS_FirstThree<0.005].shape[0]*100/data.shape[0]))"
   ]
  },
  {
   "cell_type": "markdown",
   "id": "6b6e3939",
   "metadata": {},
   "source": [
    "Compelete profile > 0.005 and Partial profile < 0.005\n",
    "==="
   ]
  },
  {
   "cell_type": "code",
   "execution_count": 98,
   "id": "ccaa3c76",
   "metadata": {},
   "outputs": [
    {
     "data": {
      "text/plain": [
       "'3.96%'"
      ]
     },
     "execution_count": 98,
     "metadata": {},
     "output_type": "execute_result"
    }
   ],
   "source": [
    "\"{0:0.2f}%\".format(data.query(' RSS_compelete>0.005 and RSS_FirstThree<0.005').shape[0]*100/data.shape[0])"
   ]
  },
  {
   "cell_type": "code",
   "execution_count": null,
   "id": "917c3921",
   "metadata": {},
   "outputs": [],
   "source": []
  },
  {
   "cell_type": "markdown",
   "id": "756e859e",
   "metadata": {},
   "source": [
    "2 Mean absolute percentage difference (MAP)\n",
    "==="
   ]
  },
  {
   "cell_type": "code",
   "execution_count": 102,
   "id": "8b2a9b07",
   "metadata": {},
   "outputs": [
    {
     "data": {
      "text/plain": [
       "<matplotlib.legend.Legend at 0x1bfb0b2c1c0>"
      ]
     },
     "execution_count": 102,
     "metadata": {},
     "output_type": "execute_result"
    },
    {
     "data": {
      "image/png": "[encoded data removed]",
      "text/plain": [
       "<Figure size 432x288 with 1 Axes>"
      ]
     },
     "metadata": {
      "needs_background": "light"
     },
     "output_type": "display_data"
    }
   ],
   "source": [
    "import seaborn as sns\n",
    "from matplotlib import pyplot as plt\n",
    "\n",
    "sns.distplot(data.MAP_C, hist = False,bins=25, kde = True,hist_kws={'edgecolor':'black'},\n",
    "                 kde_kws = {'shade': False, 'linewidth': 2,'bw_adjust':0.1} ,\n",
    "            label=r'Complete')\n",
    "sns.distplot(data.MAP_P, hist = False,bins=25, kde = True,hist_kws={'edgecolor':'black'},\n",
    "                 kde_kws = {'shade': False, 'linewidth': 2,'bw_adjust':0.1} ,\n",
    "            label=r'Partial')\n",
    "plt.legend()"
   ]
  },
  {
   "cell_type": "markdown",
   "id": "d146c770",
   "metadata": {},
   "source": [
    "MAP < 10%\n",
    "==="
   ]
  },
  {
   "cell_type": "code",
   "execution_count": 107,
   "id": "85d9d49d",
   "metadata": {},
   "outputs": [
    {
     "name": "stdout",
     "output_type": "stream",
     "text": [
      "map_Complete < 10% => 38.64%\n",
      "map_Partial < 10% =>  80.15%\n"
     ]
    }
   ],
   "source": [
    "print(r'map_Complete < 10% =>',\"{0:0.2f}%\".format(data[data.MAP_C<10].shape[0]*100/data.shape[0]))\n",
    "print('map_Partial < 10% => ',\"{0:0.2f}%\".format(data[data.MAP_P<10].shape[0]*100/data.shape[0]))"
   ]
  },
  {
   "cell_type": "markdown",
   "id": "c5e50e01",
   "metadata": {},
   "source": [
    "Compelete profile > 10% and Partial profile < 10%\n",
    "==="
   ]
  },
  {
   "cell_type": "code",
   "execution_count": 108,
   "id": "2ac847cd",
   "metadata": {},
   "outputs": [
    {
     "data": {
      "text/plain": [
       "'59.20%'"
      ]
     },
     "execution_count": 108,
     "metadata": {},
     "output_type": "execute_result"
    }
   ],
   "source": [
    "\"{0:0.2f}%\".format(data.query(' MAP_C>10 and RSS_FirstThree<10').shape[0]*100/data.shape[0])"
   ]
  },
  {
   "cell_type": "code",
   "execution_count": null,
   "id": "9f03c258",
   "metadata": {},
   "outputs": [],
   "source": []
  },
  {
   "cell_type": "code",
   "execution_count": null,
   "id": "33063c6a",
   "metadata": {},
   "outputs": [],
   "source": []
  }
 ],
 "metadata": {
  "kernelspec": {
   "display_name": "Python 3 (ipykernel)",
   "language": "python",
   "name": "python3"
  },
  "language_info": {
   "codemirror_mode": {
    "name": "ipython",
    "version": 3
   },
   "file_extension": ".py",
   "mimetype": "text/x-python",
   "name": "python",
   "nbconvert_exporter": "python",
   "pygments_lexer": "ipython3",
   "version": "3.9.11"
  }
 },
 "nbformat": 4,
 "nbformat_minor": 5
}
