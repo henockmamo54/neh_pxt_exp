{
 "cells": [
  {
   "cell_type": "code",
   "execution_count": 10,
   "id": "7df20c15",
   "metadata": {},
   "outputs": [],
   "source": [
    "import os\n",
    "import numpy as np\n",
    "import pandas as pd\n",
    "import warnings\n",
    "warnings.filterwarnings('ignore')"
   ]
  },
  {
   "cell_type": "code",
   "execution_count": 58,
   "id": "a320f8d4",
   "metadata": {},
   "outputs": [
    {
     "name": "stdout",
     "output_type": "stream",
     "text": [
      "(19186, 7)\n"
     ]
    }
   ],
   "source": [
    "path=f\"C:/Workplace/C++/d2ome_v2/v2/v2/bin/Debug/\"  \n",
    "protiens=np.unique([x for x in os.listdir(path) if ((\"_MOUSE.csv\" in x) and (\"RSS_comparision_\" in x))])\n",
    "len(protiens)\n",
    "\n",
    "data=pd.DataFrame()\n",
    "for file in protiens:\n",
    "    data=pd.concat([data,pd.read_csv(path+file)])\n",
    "print(data.shape)\n",
    "\n",
    "data.RSS_compelete=data.RSS_compelete**0.5\n",
    "data.RSS_FirstThree=data.RSS_FirstThree**0.5\n"
   ]
  },
  {
   "cell_type": "markdown",
   "id": "22ac37b8",
   "metadata": {},
   "source": []
  },
  {
   "cell_type": "code",
   "execution_count": 92,
   "id": "3add1e42",
   "metadata": {},
   "outputs": [
    {
     "data": {
      "text/html": [
       "<div>\n",
       "<style scoped>\n",
       "    .dataframe tbody tr th:only-of-type {\n",
       "        vertical-align: middle;\n",
       "    }\n",
       "\n",
       "    .dataframe tbody tr th {\n",
       "        vertical-align: top;\n",
       "    }\n",
       "\n",
       "    .dataframe thead th {\n",
       "        text-align: right;\n",
       "    }\n",
       "</style>\n",
       "<table border=\"1\" class=\"dataframe\">\n",
       "  <thead>\n",
       "    <tr style=\"text-align: right;\">\n",
       "      <th></th>\n",
       "      <th>charge</th>\n",
       "      <th>RSS_compelete</th>\n",
       "      <th>RSS_FirstThree</th>\n",
       "      <th>MAP_C</th>\n",
       "      <th>MAP_P</th>\n",
       "    </tr>\n",
       "  </thead>\n",
       "  <tbody>\n",
       "    <tr>\n",
       "      <th>count</th>\n",
       "      <td>19186.000000</td>\n",
       "      <td>18773.000000</td>\n",
       "      <td>18773.000000</td>\n",
       "      <td>18773.000000</td>\n",
       "      <td>18773.000000</td>\n",
       "    </tr>\n",
       "    <tr>\n",
       "      <th>mean</th>\n",
       "      <td>2.465756</td>\n",
       "      <td>0.010781</td>\n",
       "      <td>0.018136</td>\n",
       "      <td>15.592418</td>\n",
       "      <td>7.303081</td>\n",
       "    </tr>\n",
       "    <tr>\n",
       "      <th>std</th>\n",
       "      <td>0.646395</td>\n",
       "      <td>0.012177</td>\n",
       "      <td>0.026203</td>\n",
       "      <td>15.333429</td>\n",
       "      <td>12.038677</td>\n",
       "    </tr>\n",
       "    <tr>\n",
       "      <th>min</th>\n",
       "      <td>2.000000</td>\n",
       "      <td>0.000192</td>\n",
       "      <td>0.000022</td>\n",
       "      <td>0.082674</td>\n",
       "      <td>0.006705</td>\n",
       "    </tr>\n",
       "    <tr>\n",
       "      <th>25%</th>\n",
       "      <td>2.000000</td>\n",
       "      <td>0.003695</td>\n",
       "      <td>0.005325</td>\n",
       "      <td>7.267929</td>\n",
       "      <td>2.030493</td>\n",
       "    </tr>\n",
       "    <tr>\n",
       "      <th>50%</th>\n",
       "      <td>2.000000</td>\n",
       "      <td>0.006843</td>\n",
       "      <td>0.009823</td>\n",
       "      <td>12.290528</td>\n",
       "      <td>3.750984</td>\n",
       "    </tr>\n",
       "    <tr>\n",
       "      <th>75%</th>\n",
       "      <td>3.000000</td>\n",
       "      <td>0.013341</td>\n",
       "      <td>0.019842</td>\n",
       "      <td>18.913878</td>\n",
       "      <td>7.525521</td>\n",
       "    </tr>\n",
       "    <tr>\n",
       "      <th>max</th>\n",
       "      <td>7.000000</td>\n",
       "      <td>0.163316</td>\n",
       "      <td>0.331054</td>\n",
       "      <td>259.266071</td>\n",
       "      <td>208.338273</td>\n",
       "    </tr>\n",
       "  </tbody>\n",
       "</table>\n",
       "</div>"
      ],
      "text/plain": [
       "             charge  RSS_compelete  RSS_FirstThree         MAP_C         MAP_P\n",
       "count  19186.000000   18773.000000    18773.000000  18773.000000  18773.000000\n",
       "mean       2.465756       0.010781        0.018136     15.592418      7.303081\n",
       "std        0.646395       0.012177        0.026203     15.333429     12.038677\n",
       "min        2.000000       0.000192        0.000022      0.082674      0.006705\n",
       "25%        2.000000       0.003695        0.005325      7.267929      2.030493\n",
       "50%        2.000000       0.006843        0.009823     12.290528      3.750984\n",
       "75%        3.000000       0.013341        0.019842     18.913878      7.525521\n",
       "max        7.000000       0.163316        0.331054    259.266071    208.338273"
      ]
     },
     "execution_count": 92,
     "metadata": {},
     "output_type": "execute_result"
    }
   ],
   "source": [
    "data.describe()"
   ]
  },
  {
   "cell_type": "markdown",
   "id": "c9e9c72d",
   "metadata": {},
   "source": [
    "1 RSS\n",
    "==="
   ]
  },
  {
   "cell_type": "code",
   "execution_count": 94,
   "id": "cef5e8ee",
   "metadata": {
    "scrolled": false
   },
   "outputs": [
    {
     "data": {
      "text/plain": [
       "<matplotlib.legend.Legend at 0x1bfb0a99d60>"
      ]
     },
     "execution_count": 94,
     "metadata": {},
     "output_type": "execute_result"
    },
    {
     "data": {
      "image/png": "[encoded data removed]",
      "text/plain": [
       "<Figure size 432x288 with 1 Axes>"
      ]
     },
     "metadata": {
      "needs_background": "light"
     },
     "output_type": "display_data"
    }
   ],
   "source": [
    "import seaborn as sns\n",
    "from matplotlib import pyplot as plt\n",
    "\n",
    "sns.distplot(data.RSS_compelete, hist = False,bins=25, kde = True,hist_kws={'edgecolor':'black'},\n",
    "                 kde_kws = {'shade': False, 'linewidth': 2,'bw_adjust':0.1} ,\n",
    "            label=r'Complete')\n",
    "sns.distplot(data.RSS_FirstThree, hist = False,bins=25, kde = True,hist_kws={'edgecolor':'black'},\n",
    "                 kde_kws = {'shade': False, 'linewidth': 2,'bw_adjust':0.1} ,\n",
    "            label=r'Partial')\n",
    "plt.legend()"
   ]
  },
  {
   "cell_type": "markdown",
   "id": "07f69565",
   "metadata": {},
   "source": [
    "0.01 Threshold\n",
    "==="
   ]
  },
  {
   "cell_type": "code",
   "execution_count": 95,
   "id": "b0588890",
   "metadata": {},
   "outputs": [
    {
     "name": "stdout",
     "output_type": "stream",
     "text": [
      "RSS_Complete < 0.01 => 63.58%\n",
      "RSS_Partial < 0.01 =>  49.53%\n"
     ]
    }
   ],
   "source": [
    "print(r'RSS_Complete < 0.01 =>',\"{0:0.2f}%\".format(data[data.RSS_compelete<0.01].shape[0]*100/data.shape[0]))\n",
    "print('RSS_Partial < 0.01 => ',\"{0:0.2f}%\".format(data[data.RSS_FirstThree<0.01].shape[0]*100/data.shape[0]))"
   ]
  },
  {
   "cell_type": "markdown",
   "id": "e171ebc9",
   "metadata": {},
   "source": [
    "Compelete profile > 0.01 and Partial profile < 0.01\n",
    "=="
   ]
  },
  {
   "cell_type": "code",
   "execution_count": 96,
   "id": "c43451a1",
   "metadata": {},
   "outputs": [
    {
     "data": {
      "text/plain": [
       "'3.62%'"
      ]
     },
     "execution_count": 96,
     "metadata": {},
     "output_type": "execute_result"
    }
   ],
   "source": [
    "\"{0:0.2f}%\".format(data.query(' RSS_compelete>0.01 and RSS_FirstThree<0.01').shape[0]*100/data.shape[0])"
   ]
  },
  {
   "cell_type": "markdown",
   "id": "a7a7527a",
   "metadata": {},
   "source": [
    "0.005 Threshold\n",
    "==="
   ]
  },
  {
   "cell_type": "code",
   "execution_count": 97,
   "id": "23b663c4",
   "metadata": {},
   "outputs": [
    {
     "name": "stdout",
     "output_type": "stream",
     "text": [
      "RSS_Complete < 0.005 => 35.91%\n",
      "RSS_Partial < 0.005 =>  22.49%\n"
     ]
    }
   ],
   "source": [
    "print(r'RSS_Complete < 0.005 =>',\"{0:0.2f}%\".format(data[data.RSS_compelete<0.005].shape[0]*100/data.shape[0]))\n",
    "print('RSS_Partial < 0.005 => ',\"{0:0.2f}%\".format(data[data.RSS_FirstThree<0.005].shape[0]*100/data.shape[0]))"
   ]
  },
  {
   "cell_type": "markdown",
   "id": "8a558cc0",
   "metadata": {},
   "source": [
    "Compelete profile > 0.005 and Partial profile < 0.005\n",
    "==="
   ]
  },
  {
   "cell_type": "code",
   "execution_count": 98,
   "id": "94e802ab",
   "metadata": {},
   "outputs": [
    {
     "data": {
      "text/plain": [
       "'3.96%'"
      ]
     },
     "execution_count": 98,
     "metadata": {},
     "output_type": "execute_result"
    }
   ],
   "source": [
    "\"{0:0.2f}%\".format(data.query(' RSS_compelete>0.005 and RSS_FirstThree<0.005').shape[0]*100/data.shape[0])"
   ]
  },
  {
   "cell_type": "code",
   "execution_count": null,
   "id": "1b4b7fac",
   "metadata": {},
   "outputs": [],
   "source": []
  },
  {
   "cell_type": "markdown",
   "id": "0d6b13c2",
   "metadata": {},
   "source": [
    "2 Mean absolute percentage difference (MAP)\n",
    "==="
   ]
  },
  {
   "cell_type": "code",
   "execution_count": 102,
   "id": "d733a91f",
   "metadata": {},
   "outputs": [
    {
     "data": {
      "text/plain": [
       "<matplotlib.legend.Legend at 0x1bfb0b2c1c0>"
      ]
     },
     "execution_count": 102,
     "metadata": {},
     "output_type": "execute_result"
    },
    {
     "data": {
      "image/png": "[encoded data removed]",
      "text/plain": [
       "<Figure size 432x288 with 1 Axes>"
      ]
     },
     "metadata": {
      "needs_background": "light"
     },
     "output_type": "display_data"
    }
   ],
   "source": [
    "import seaborn as sns\n",
    "from matplotlib import pyplot as plt\n",
    "\n",
    "sns.distplot(data.MAP_C, hist = False,bins=25, kde = True,hist_kws={'edgecolor':'black'},\n",
    "                 kde_kws = {'shade': False, 'linewidth': 2,'bw_adjust':0.1} ,\n",
    "            label=r'Complete')\n",
    "sns.distplot(data.MAP_P, hist = False,bins=25, kde = True,hist_kws={'edgecolor':'black'},\n",
    "                 kde_kws = {'shade': False, 'linewidth': 2,'bw_adjust':0.1} ,\n",
    "            label=r'Partial')\n",
    "plt.legend()"
   ]
  },
  {
   "cell_type": "markdown",
   "id": "b7e0be32",
   "metadata": {},
   "source": [
    "MAP < 10%\n",
    "==="
   ]
  },
  {
   "cell_type": "code",
   "execution_count": 107,
   "id": "c2ec1d4d",
   "metadata": {},
   "outputs": [
    {
     "name": "stdout",
     "output_type": "stream",
     "text": [
      "map_Complete < 10% => 38.64%\n",
      "map_Partial < 10% =>  80.15%\n"
     ]
    }
   ],
   "source": [
    "print(r'map_Complete < 10% =>',\"{0:0.2f}%\".format(data[data.MAP_C<10].shape[0]*100/data.shape[0]))\n",
    "print('map_Partial < 10% => ',\"{0:0.2f}%\".format(data[data.MAP_P<10].shape[0]*100/data.shape[0]))"
   ]
  },
  {
   "cell_type": "markdown",
   "id": "b5e00781",
   "metadata": {},
   "source": [
    "Compelete profile > 10% and Partial profile < 10%\n",
    "==="
   ]
  },
  {
   "cell_type": "code",
   "execution_count": 108,
   "id": "2b635084",
   "metadata": {},
   "outputs": [
    {
     "data": {
      "text/plain": [
       "'59.20%'"
      ]
     },
     "execution_count": 108,
     "metadata": {},
     "output_type": "execute_result"
    }
   ],
   "source": [
    "\"{0:0.2f}%\".format(data.query(' MAP_C>10 and RSS_FirstThree<10').shape[0]*100/data.shape[0])"
   ]
  },
  {
   "cell_type": "code",
   "execution_count": null,
   "id": "6bece38b",
   "metadata": {},
   "outputs": [],
   "source": []
  },
  {
   "cell_type": "code",
   "execution_count": null,
   "id": "748feecf",
   "metadata": {},
   "outputs": [],
   "source": []
  }
 ],
 "metadata": {
  "kernelspec": {
   "display_name": "Python 3 (ipykernel)",
   "language": "python",
   "name": "python3"
  },
  "language_info": {
   "codemirror_mode": {
    "name": "ipython",
    "version": 3
   },
   "file_extension": ".py",
   "mimetype": "text/x-python",
   "name": "python",
   "nbconvert_exporter": "python",
   "pygments_lexer": "ipython3",
   "version": "3.9.11"
  }
 },
 "nbformat": 4,
 "nbformat_minor": 5
}
