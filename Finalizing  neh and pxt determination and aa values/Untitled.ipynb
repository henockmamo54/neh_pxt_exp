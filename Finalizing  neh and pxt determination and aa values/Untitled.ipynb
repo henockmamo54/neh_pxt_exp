{
 "cells": [
  {
   "cell_type": "code",
   "execution_count": 37,
   "id": "bcfcae83",
   "metadata": {},
   "outputs": [],
   "source": [
    "import os\n",
    "import numpy as np\n",
    "import pandas as pd\n",
    "from scipy.optimize import nnls \n",
    "from matplotlib import pyplot as plt"
   ]
  },
  {
   "cell_type": "code",
   "execution_count": 38,
   "id": "62012522",
   "metadata": {},
   "outputs": [],
   "source": [
    " \n",
    "path=f\"C:/Workplace/C++/d2ome_v2/v2/v2/bin/Debug/\"  \n",
    "Protiens=np.unique([x.replace('__','').replace('.csv','') for x in os.listdir(path) if (\"_MOUSE.csv\" in x)])\n",
    "times=[1,2,3,6,7,9,13,16,21,24,31] "
   ]
  },
  {
   "cell_type": "code",
   "execution_count": 43,
   "id": "47d97581",
   "metadata": {},
   "outputs": [
    {
     "name": "stdout",
     "output_type": "stream",
     "text": [
      "<============================= Time = 6 =============================>\n",
      "<============================= Time = 7 =============================>\n",
      "<============================= Time = 9 =============================>\n",
      "<============================= Time = 13 =============================>\n",
      "<============================= Time = 16 =============================>\n",
      "<============================= Time = 21 =============================>\n",
      "<============================= Time = 24 =============================>\n"
     ]
    }
   ],
   "source": [
    "res=[]\n",
    "fdata=pd.DataFrame()\n",
    "\n",
    "for time in times[3:-1]:\n",
    "    print(f\"<============================= Time = {time} =============================>\")\n",
    "    for protien in Protiens:\n",
    "        try:\n",
    "            data=pd.read_csv(path+f\"__{protien}.csv\")\n",
    "            data=data[data.exp_Time==time]        \n",
    "#             data=data[data.new_RMSE.astype('float')<0.005]\n",
    "            fdata=pd.concat([fdata,data[data.exp_Time==time].reset_index(drop=\"True\")])\n",
    "        except:\n",
    "            continue"
   ]
  },
  {
   "cell_type": "code",
   "execution_count": 44,
   "id": "e4b1b6a8",
   "metadata": {},
   "outputs": [],
   "source": [
    "fdata[\"len_seq\"]=[len(x) for x in fdata.Peptied]\n",
    "fdata=fdata[fdata[\"NEH_new\"]!='∞']\n",
    "fdata[\"dif\"]=abs(fdata[\"NEH\"]-fdata[\"NEH_new\"].astype('float'))\n",
    "# fdata=fdata[(fdata[\"NEH_new\"].astype('float')<30) & (fdata[\"NEH_new\"].astype('float')>10)]\n",
    "# # fdata.drop(columns=[\"NEH\"])"
   ]
  },
  {
   "cell_type": "code",
   "execution_count": 45,
   "id": "b1e91560",
   "metadata": {},
   "outputs": [
    {
     "data": {
      "text/plain": [
       "<matplotlib.collections.PathCollection at 0x1bfe98b8610>"
      ]
     },
     "execution_count": 45,
     "metadata": {},
     "output_type": "execute_result"
    },
    {
     "data": {
      "image/png": "[encoded data removed]",
      "text/plain": [
       "<Figure size 432x288 with 1 Axes>"
      ]
     },
     "metadata": {
      "needs_background": "light"
     },
     "output_type": "display_data"
    }
   ],
   "source": [
    "plt.scatter(fdata.NEH,fdata.dif)"
   ]
  },
  {
   "cell_type": "code",
   "execution_count": null,
   "id": "1387844f",
   "metadata": {},
   "outputs": [],
   "source": []
  }
 ],
 "metadata": {
  "kernelspec": {
   "display_name": "Python 3 (ipykernel)",
   "language": "python",
   "name": "python3"
  },
  "language_info": {
   "codemirror_mode": {
    "name": "ipython",
    "version": 3
   },
   "file_extension": ".py",
   "mimetype": "text/x-python",
   "name": "python",
   "nbconvert_exporter": "python",
   "pygments_lexer": "ipython3",
   "version": "3.9.11"
  }
 },
 "nbformat": 4,
 "nbformat_minor": 5
}
