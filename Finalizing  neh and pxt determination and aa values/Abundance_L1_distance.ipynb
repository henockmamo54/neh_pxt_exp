{
 "cells": [
  {
   "cell_type": "code",
   "execution_count": 13,
   "id": "93fe566f",
   "metadata": {},
   "outputs": [],
   "source": [
    "import os\n",
    "import numpy as np\n",
    "import pandas as pd\n",
    "import warnings\n",
    "warnings.filterwarnings('ignore')\n",
    "import seaborn as sns\n",
    "from matplotlib import pyplot as plt"
   ]
  },
  {
   "cell_type": "code",
   "execution_count": 14,
   "id": "b438af9e",
   "metadata": {},
   "outputs": [
    {
     "name": "stdout",
     "output_type": "stream",
     "text": [
      "2272\n",
      "(18773, 17)\n"
     ]
    }
   ],
   "source": [
    "path=f\"C:/Workplace/C++/d2ome_v2/v2/v2/bin/Debug/\"  \n",
    "protiens=np.unique([x for x in os.listdir(path) if ((\"_MOUSE.csv\" in x) and (\"RSS_comparision_\" in x))])\n",
    "print(len(protiens))\n",
    "\n",
    "data=pd.DataFrame()\n",
    "for file in protiens:\n",
    "    data=pd.concat([data,pd.read_csv(path+file)])\n",
    "print(data.shape)\n",
    "\n",
    "data=data.dropna()\n"
   ]
  },
  {
   "cell_type": "code",
   "execution_count": 15,
   "id": "06c651aa",
   "metadata": {},
   "outputs": [],
   "source": [
    "# # data.describe()"
   ]
  },
  {
   "cell_type": "code",
   "execution_count": 16,
   "id": "27549646",
   "metadata": {},
   "outputs": [
    {
     "name": "stdout",
     "output_type": "stream",
     "text": [
      "ALL 18773\n",
      "Abundance < 10^6 0.12784317903371864\n",
      "Abundance < 10^7 12.459383156661163\n",
      "Abundance < 10^8 60.58701326372982\n",
      "Abundance < 10^9 92.89937676450221\n",
      "Abundance < 10^10 99.54722207425559\n"
     ]
    }
   ],
   "source": [
    "print(\"ALL\",data.shape[0])\n",
    "print(\"Abundance < 10^6\",100*data[data.Abundance<1E6].shape[0]/data.shape[0])\n",
    "print(\"Abundance < 10^7\",100*data[data.Abundance<1E7].shape[0]/data.shape[0])\n",
    "print(\"Abundance < 10^8\",100*data[data.Abundance<1E8].shape[0]/data.shape[0])\n",
    "print(\"Abundance < 10^9\",100*data[data.Abundance<1E9].shape[0]/data.shape[0])\n",
    "print(\"Abundance < 10^10\",100*data[data.Abundance<1E10].shape[0]/data.shape[0])"
   ]
  },
  {
   "cell_type": "code",
   "execution_count": 17,
   "id": "401d2eab",
   "metadata": {},
   "outputs": [],
   "source": [
    "data=data[data.Abundance<1E7]"
   ]
  },
  {
   "cell_type": "code",
   "execution_count": 18,
   "id": "2be2fe4c",
   "metadata": {},
   "outputs": [
    {
     "name": "stdout",
     "output_type": "stream",
     "text": [
      "(2339, 17)\n",
      "(2339, 19)\n"
     ]
    },
    {
     "data": {
      "text/html": [
       "<div>\n",
       "<style scoped>\n",
       "    .dataframe tbody tr th:only-of-type {\n",
       "        vertical-align: middle;\n",
       "    }\n",
       "\n",
       "    .dataframe tbody tr th {\n",
       "        vertical-align: top;\n",
       "    }\n",
       "\n",
       "    .dataframe thead th {\n",
       "        text-align: right;\n",
       "    }\n",
       "</style>\n",
       "<table border=\"1\" class=\"dataframe\">\n",
       "  <thead>\n",
       "    <tr style=\"text-align: right;\">\n",
       "      <th></th>\n",
       "      <th>mo</th>\n",
       "      <th>io_e</th>\n",
       "      <th>io_a1a0</th>\n",
       "      <th>io_a2a0</th>\n",
       "      <th>io_a2a1</th>\n",
       "      <th>Protein</th>\n",
       "      <th>Peptied</th>\n",
       "      <th>charge</th>\n",
       "      <th>Abundance</th>\n",
       "      <th>RSS_compelete</th>\n",
       "      <th>RSS_FirstThree</th>\n",
       "      <th>MAP_C</th>\n",
       "      <th>MAP_P</th>\n",
       "      <th>L1_distance_C</th>\n",
       "      <th>L1_distance_p</th>\n",
       "      <th>sap_c</th>\n",
       "      <th>sap_p</th>\n",
       "      <th>closest_3</th>\n",
       "      <th>closest</th>\n",
       "    </tr>\n",
       "  </thead>\n",
       "  <tbody>\n",
       "    <tr>\n",
       "      <th>11</th>\n",
       "      <td>0.34720</td>\n",
       "      <td>0.362243</td>\n",
       "      <td>0.350532</td>\n",
       "      <td>0.352377</td>\n",
       "      <td>0.356308</td>\n",
       "      <td>1433E_MOUSE</td>\n",
       "      <td>IISSIEQKEENKGGEDK</td>\n",
       "      <td>2</td>\n",
       "      <td>6.328704e+06</td>\n",
       "      <td>0.000029</td>\n",
       "      <td>0.000004</td>\n",
       "      <td>2.876877</td>\n",
       "      <td>0.726132</td>\n",
       "      <td>0.027495</td>\n",
       "      <td>0.008137</td>\n",
       "      <td>0.084237</td>\n",
       "      <td>0.029045</td>\n",
       "      <td>0.350532</td>\n",
       "      <td>0.350532</td>\n",
       "    </tr>\n",
       "    <tr>\n",
       "      <th>3</th>\n",
       "      <td>0.26915</td>\n",
       "      <td>0.280340</td>\n",
       "      <td>0.332422</td>\n",
       "      <td>0.179390</td>\n",
       "      <td>0.058564</td>\n",
       "      <td>1433G_MOUSE</td>\n",
       "      <td>ELEAVcQDVLSLLDNYLIK</td>\n",
       "      <td>2</td>\n",
       "      <td>3.339156e+06</td>\n",
       "      <td>0.000509</td>\n",
       "      <td>0.000333</td>\n",
       "      <td>23.028583</td>\n",
       "      <td>5.641255</td>\n",
       "      <td>0.138110</td>\n",
       "      <td>0.080431</td>\n",
       "      <td>0.474949</td>\n",
       "      <td>0.225650</td>\n",
       "      <td>0.332422</td>\n",
       "      <td>0.280340</td>\n",
       "    </tr>\n",
       "    <tr>\n",
       "      <th>3</th>\n",
       "      <td>0.45150</td>\n",
       "      <td>0.214896</td>\n",
       "      <td>0.176970</td>\n",
       "      <td>0.236377</td>\n",
       "      <td>0.319528</td>\n",
       "      <td>1433T_MOUSE</td>\n",
       "      <td>YLAEVAcGDDRK</td>\n",
       "      <td>2</td>\n",
       "      <td>9.867651e+06</td>\n",
       "      <td>0.002126</td>\n",
       "      <td>0.009955</td>\n",
       "      <td>47.207308</td>\n",
       "      <td>39.949305</td>\n",
       "      <td>0.431512</td>\n",
       "      <td>0.488789</td>\n",
       "      <td>1.478908</td>\n",
       "      <td>1.597972</td>\n",
       "      <td>0.319528</td>\n",
       "      <td>0.319528</td>\n",
       "    </tr>\n",
       "    <tr>\n",
       "      <th>5</th>\n",
       "      <td>0.31577</td>\n",
       "      <td>0.332940</td>\n",
       "      <td>0.285539</td>\n",
       "      <td>0.305331</td>\n",
       "      <td>0.330695</td>\n",
       "      <td>1433T_MOUSE</td>\n",
       "      <td>QTIENSQGAYQEAFDISK</td>\n",
       "      <td>2</td>\n",
       "      <td>6.622425e+06</td>\n",
       "      <td>0.000194</td>\n",
       "      <td>0.000062</td>\n",
       "      <td>17.419378</td>\n",
       "      <td>2.302829</td>\n",
       "      <td>0.090183</td>\n",
       "      <td>0.034343</td>\n",
       "      <td>0.308221</td>\n",
       "      <td>0.092113</td>\n",
       "      <td>0.305331</td>\n",
       "      <td>0.305331</td>\n",
       "    </tr>\n",
       "    <tr>\n",
       "      <th>9</th>\n",
       "      <td>0.28607</td>\n",
       "      <td>0.414108</td>\n",
       "      <td>0.412937</td>\n",
       "      <td>0.284785</td>\n",
       "      <td>0.153058</td>\n",
       "      <td>1433Z_MOUSE</td>\n",
       "      <td>KGIVDQSQQAYQEAFEISK</td>\n",
       "      <td>2</td>\n",
       "      <td>8.794673e+06</td>\n",
       "      <td>0.000886</td>\n",
       "      <td>0.001616</td>\n",
       "      <td>19.532967</td>\n",
       "      <td>12.868331</td>\n",
       "      <td>0.213189</td>\n",
       "      <td>0.183952</td>\n",
       "      <td>0.781319</td>\n",
       "      <td>0.514733</td>\n",
       "      <td>0.284785</td>\n",
       "      <td>0.284785</td>\n",
       "    </tr>\n",
       "  </tbody>\n",
       "</table>\n",
       "</div>"
      ],
      "text/plain": [
       "         mo      io_e   io_a1a0   io_a2a0   io_a2a1      Protein  \\\n",
       "11  0.34720  0.362243  0.350532  0.352377  0.356308  1433E_MOUSE   \n",
       "3   0.26915  0.280340  0.332422  0.179390  0.058564  1433G_MOUSE   \n",
       "3   0.45150  0.214896  0.176970  0.236377  0.319528  1433T_MOUSE   \n",
       "5   0.31577  0.332940  0.285539  0.305331  0.330695  1433T_MOUSE   \n",
       "9   0.28607  0.414108  0.412937  0.284785  0.153058  1433Z_MOUSE   \n",
       "\n",
       "                Peptied  charge     Abundance  RSS_compelete  RSS_FirstThree  \\\n",
       "11    IISSIEQKEENKGGEDK       2  6.328704e+06       0.000029        0.000004   \n",
       "3   ELEAVcQDVLSLLDNYLIK       2  3.339156e+06       0.000509        0.000333   \n",
       "3          YLAEVAcGDDRK       2  9.867651e+06       0.002126        0.009955   \n",
       "5    QTIENSQGAYQEAFDISK       2  6.622425e+06       0.000194        0.000062   \n",
       "9   KGIVDQSQQAYQEAFEISK       2  8.794673e+06       0.000886        0.001616   \n",
       "\n",
       "        MAP_C      MAP_P  L1_distance_C  L1_distance_p     sap_c     sap_p  \\\n",
       "11   2.876877   0.726132       0.027495       0.008137  0.084237  0.029045   \n",
       "3   23.028583   5.641255       0.138110       0.080431  0.474949  0.225650   \n",
       "3   47.207308  39.949305       0.431512       0.488789  1.478908  1.597972   \n",
       "5   17.419378   2.302829       0.090183       0.034343  0.308221  0.092113   \n",
       "9   19.532967  12.868331       0.213189       0.183952  0.781319  0.514733   \n",
       "\n",
       "    closest_3   closest  \n",
       "11   0.350532  0.350532  \n",
       "3    0.332422  0.280340  \n",
       "3    0.319528  0.319528  \n",
       "5    0.305331  0.305331  \n",
       "9    0.284785  0.284785  "
      ]
     },
     "execution_count": 18,
     "metadata": {},
     "output_type": "execute_result"
    }
   ],
   "source": [
    "def closest(lst, K):      \n",
    "    return lst[min(range(len(lst)), key = lambda i: abs(lst[i]-K))]\n",
    "\n",
    "temp=data[['mo','io_e','io_a1a0','io_a2a0','io_a2a1','Protein', 'Peptied', 'charge', 'Abundance', 'RSS_compelete',\n",
    "       'RSS_FirstThree', 'MAP_C', 'MAP_P', 'L1_distance_C', 'L1_distance_p','sap_c', 'sap_p']]\n",
    "temp['closest_3']=[closest(x[2:5],x[0]) for x in np.array(temp)]\n",
    "temp['closest']=[closest(x[1:5],x[0]) for x in np.array(temp)]\n",
    "print(data.shape)\n",
    "\n",
    "print(temp.shape)\n",
    "temp.head()"
   ]
  },
  {
   "cell_type": "code",
   "execution_count": 19,
   "id": "8d969ca4",
   "metadata": {},
   "outputs": [],
   "source": [
    "temp['index']=[list(x[1:5]).index(x[-1]) for x in np.array(temp)]\n",
    "count=pd.DataFrame(temp.groupby(by='index')['index'].count())\n",
    "x=np.array(count).flatten()"
   ]
  },
  {
   "cell_type": "code",
   "execution_count": 20,
   "id": "94bb0610",
   "metadata": {},
   "outputs": [],
   "source": [
    "# plt.figure(figsize=(14,14))\n",
    "# plt.pie(x,\n",
    "#         labels=[f'Experiment',f'A1/A0',f'A2/A0',f'A2/A1'],\n",
    "#         autopct='%1.1f%%',\n",
    "#         explode=(0.02,0.05,0.02, 0.02), \n",
    "#         colors = ['#FFA000','#00695C','#C2185B', '#1976D2'])\n",
    "# plt.show()"
   ]
  },
  {
   "cell_type": "code",
   "execution_count": 21,
   "id": "aa383553",
   "metadata": {},
   "outputs": [
    {
     "name": "stdout",
     "output_type": "stream",
     "text": [
      "(2339, 20)\n"
     ]
    }
   ],
   "source": [
    "print(temp.shape)"
   ]
  },
  {
   "cell_type": "code",
   "execution_count": 22,
   "id": "bf1b3834",
   "metadata": {},
   "outputs": [
    {
     "data": {
      "text/plain": [
       "0.7126977340743907"
      ]
     },
     "execution_count": 22,
     "metadata": {},
     "output_type": "execute_result"
    }
   ],
   "source": [
    "temp[temp.RSS_compelete<temp.RSS_FirstThree].shape[0]/temp.shape[0]"
   ]
  },
  {
   "cell_type": "code",
   "execution_count": 23,
   "id": "f5e57e31",
   "metadata": {},
   "outputs": [
    {
     "data": {
      "text/plain": [
       "0.864044463445917"
      ]
     },
     "execution_count": 23,
     "metadata": {},
     "output_type": "execute_result"
    }
   ],
   "source": [
    "temp[temp.L1_distance_C/6<temp.L1_distance_p/3].shape[0]/temp.shape[0]"
   ]
  },
  {
   "cell_type": "code",
   "execution_count": 24,
   "id": "d71dfc29",
   "metadata": {},
   "outputs": [
    {
     "data": {
      "text/plain": [
       "0.814450619923044"
      ]
     },
     "execution_count": 24,
     "metadata": {},
     "output_type": "execute_result"
    }
   ],
   "source": [
    "temp[temp.sap_c/6<temp.sap_p/3].shape[0]/temp.shape[0]"
   ]
  },
  {
   "cell_type": "code",
   "execution_count": 25,
   "id": "ae71b860",
   "metadata": {},
   "outputs": [],
   "source": [
    "# temp[temp.MAP_C/6<temp.MAP_P/3].shape[0]/temp.shape[0]"
   ]
  },
  {
   "cell_type": "code",
   "execution_count": null,
   "id": "d9d49bce",
   "metadata": {},
   "outputs": [],
   "source": []
  },
  {
   "cell_type": "markdown",
   "id": "73f3785e",
   "metadata": {},
   "source": [
    "1 L1_distance\n",
    "==="
   ]
  },
  {
   "cell_type": "code",
   "execution_count": 47,
   "id": "9da83439",
   "metadata": {
    "scrolled": false
   },
   "outputs": [
    {
     "data": {
      "text/plain": [
       "<matplotlib.legend.Legend at 0x29c6960a430>"
      ]
     },
     "execution_count": 47,
     "metadata": {},
     "output_type": "execute_result"
    },
    {
     "data": {
      "image/png": "[encoded data removed]",
      "text/plain": [
       "<Figure size 432x288 with 1 Axes>"
      ]
     },
     "metadata": {
      "needs_background": "light"
     },
     "output_type": "display_data"
    }
   ],
   "source": [
    "\n",
    "\n",
    "sns.distplot(data.L1_distance_C, hist = False,bins=25, kde = True,hist_kws={'edgecolor':'black'},\n",
    "                 kde_kws = {'shade': False, 'linewidth': 2,'bw_adjust':0.1} ,\n",
    "            label=r'Complete')\n",
    "sns.distplot(data.L1_distance_p, hist = False,bins=25, kde = True,hist_kws={'edgecolor':'black'},\n",
    "                 kde_kws = {'shade': False, 'linewidth': 2,'bw_adjust':0.1} ,\n",
    "            label=r'Partial')\n",
    "plt.legend()"
   ]
  },
  {
   "cell_type": "markdown",
   "id": "d9998dd9",
   "metadata": {},
   "source": [
    "0.01 Threshold\n",
    "==="
   ]
  },
  {
   "cell_type": "code",
   "execution_count": 48,
   "id": "6e8710da",
   "metadata": {},
   "outputs": [
    {
     "name": "stdout",
     "output_type": "stream",
     "text": [
      "L1_distance_C_Complete < 0.01 => 3.40%\n",
      "L1_distance_p_Partial < 0.01 =>  5.53%\n"
     ]
    }
   ],
   "source": [
    "print('L1_distance_C_Complete < 0.01 =>',\"{0:0.2f}%\".format(data[data.L1_distance_C<0.01].shape[0]*100/data.shape[0]))\n",
    "print('L1_distance_p_Partial < 0.01 => ',\"{0:0.2f}%\".format(data[data.L1_distance_p<0.01].shape[0]*100/data.shape[0]))"
   ]
  },
  {
   "cell_type": "markdown",
   "id": "694a4b06",
   "metadata": {},
   "source": [
    "Compelete profile > 0.01 and Partial profile < 0.01\n",
    "=="
   ]
  },
  {
   "cell_type": "code",
   "execution_count": 49,
   "id": "b250ef61",
   "metadata": {},
   "outputs": [
    {
     "data": {
      "text/plain": [
       "'2.91%'"
      ]
     },
     "execution_count": 49,
     "metadata": {},
     "output_type": "execute_result"
    }
   ],
   "source": [
    "\"{0:0.2f}%\".format(data.query(' L1_distance_C>0.01 and L1_distance_p<0.01').shape[0]*100/data.shape[0])"
   ]
  },
  {
   "cell_type": "markdown",
   "id": "9148e4bf",
   "metadata": {},
   "source": [
    "0.1 Threshold\n",
    "==="
   ]
  },
  {
   "cell_type": "code",
   "execution_count": 50,
   "id": "29cb8417",
   "metadata": {},
   "outputs": [
    {
     "name": "stdout",
     "output_type": "stream",
     "text": [
      "L1_distance_C_Complete < 0.1 => 75.73%\n",
      "L1_distance_p_Partial < 0.1 =>  77.05%\n"
     ]
    }
   ],
   "source": [
    "print('L1_distance_C_Complete < 0.1 =>',\"{0:0.2f}%\".format(data[data.L1_distance_C<0.1].shape[0]*100/data.shape[0]))\n",
    "print('L1_distance_p_Partial < 0.1 => ',\"{0:0.2f}%\".format(data[data.L1_distance_p<0.1].shape[0]*100/data.shape[0]))"
   ]
  },
  {
   "cell_type": "markdown",
   "id": "6b6e3939",
   "metadata": {},
   "source": [
    "Compelete profile > 0.1 and Partial profile < 0.1\n",
    "==="
   ]
  },
  {
   "cell_type": "code",
   "execution_count": 51,
   "id": "ccaa3c76",
   "metadata": {},
   "outputs": [
    {
     "data": {
      "text/plain": [
       "'4.18%'"
      ]
     },
     "execution_count": 51,
     "metadata": {},
     "output_type": "execute_result"
    }
   ],
   "source": [
    "\"{0:0.2f}%\".format(data.query(' L1_distance_C>0.1 and L1_distance_p<0.1').shape[0]*100/data.shape[0])"
   ]
  },
  {
   "cell_type": "code",
   "execution_count": 56,
   "id": "9f03c258",
   "metadata": {},
   "outputs": [
    {
     "data": {
      "text/plain": [
       "'59.05%'"
      ]
     },
     "execution_count": 56,
     "metadata": {},
     "output_type": "execute_result"
    }
   ],
   "source": [
    "\"{0:0.2f}%\".format(data.query('L1_distance_p > L1_distance_C').shape[0]*100/data.shape[0])"
   ]
  },
  {
   "cell_type": "code",
   "execution_count": 57,
   "id": "33063c6a",
   "metadata": {},
   "outputs": [
    {
     "data": {
      "text/plain": [
       "'40.95%'"
      ]
     },
     "execution_count": 57,
     "metadata": {},
     "output_type": "execute_result"
    }
   ],
   "source": [
    "\"{0:0.2f}%\".format(data.query('L1_distance_p < L1_distance_C').shape[0]*100/data.shape[0])"
   ]
  },
  {
   "cell_type": "code",
   "execution_count": 58,
   "id": "aff92e8a",
   "metadata": {},
   "outputs": [
    {
     "data": {
      "text/plain": [
       "'0.00%'"
      ]
     },
     "execution_count": 58,
     "metadata": {},
     "output_type": "execute_result"
    }
   ],
   "source": [
    "\"{0:0.2f}%\".format(data.query('L1_distance_p == L1_distance_C').shape[0]*100/data.shape[0])"
   ]
  },
  {
   "cell_type": "code",
   "execution_count": null,
   "id": "f12e1823",
   "metadata": {},
   "outputs": [],
   "source": []
  },
  {
   "cell_type": "code",
   "execution_count": null,
   "id": "0c1bbc17",
   "metadata": {},
   "outputs": [],
   "source": []
  },
  {
   "cell_type": "code",
   "execution_count": null,
   "id": "cfa564d0",
   "metadata": {},
   "outputs": [],
   "source": []
  }
 ],
 "metadata": {
  "kernelspec": {
   "display_name": "Python 3 (ipykernel)",
   "language": "python",
   "name": "python3"
  },
  "language_info": {
   "codemirror_mode": {
    "name": "ipython",
    "version": 3
   },
   "file_extension": ".py",
   "mimetype": "text/x-python",
   "name": "python",
   "nbconvert_exporter": "python",
   "pygments_lexer": "ipython3",
   "version": "3.9.11"
  }
 },
 "nbformat": 4,
 "nbformat_minor": 5
}
