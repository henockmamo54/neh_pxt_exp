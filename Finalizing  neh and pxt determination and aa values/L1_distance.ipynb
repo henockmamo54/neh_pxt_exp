{
 "cells": [
  {
   "cell_type": "code",
   "execution_count": 14,
   "id": "93fe566f",
   "metadata": {},
   "outputs": [],
   "source": [
    "import os\n",
    "import numpy as np\n",
    "import pandas as pd\n",
    "import warnings\n",
    "warnings.filterwarnings('ignore')"
   ]
  },
  {
   "cell_type": "code",
   "execution_count": 17,
   "id": "b438af9e",
   "metadata": {},
   "outputs": [
    {
     "name": "stdout",
     "output_type": "stream",
     "text": [
      "2286\n",
      "(19186, 9)\n"
     ]
    }
   ],
   "source": [
    "path=f\"C:/Workplace/C++/d2ome_v2/v2/v2/bin/Debug/\"  \n",
    "protiens=np.unique([x for x in os.listdir(path) if ((\"_MOUSE.csv\" in x) and (\"RSS_comparision_\" in x))])\n",
    "print(len(protiens))\n",
    "\n",
    "data=pd.DataFrame()\n",
    "for file in protiens:\n",
    "    data=pd.concat([data,pd.read_csv(path+file)])\n",
    "print(data.shape)\n",
    "\n",
    "# data.RSS_compelete=data.RSS_compelete**0.5\n",
    "# data.RSS_FirstThree=data.RSS_FirstThree**0.5\n"
   ]
  },
  {
   "cell_type": "code",
   "execution_count": 18,
   "id": "06c651aa",
   "metadata": {},
   "outputs": [
    {
     "data": {
      "text/html": [
       "<div>\n",
       "<style scoped>\n",
       "    .dataframe tbody tr th:only-of-type {\n",
       "        vertical-align: middle;\n",
       "    }\n",
       "\n",
       "    .dataframe tbody tr th {\n",
       "        vertical-align: top;\n",
       "    }\n",
       "\n",
       "    .dataframe thead th {\n",
       "        text-align: right;\n",
       "    }\n",
       "</style>\n",
       "<table border=\"1\" class=\"dataframe\">\n",
       "  <thead>\n",
       "    <tr style=\"text-align: right;\">\n",
       "      <th></th>\n",
       "      <th>charge</th>\n",
       "      <th>RSS_compelete</th>\n",
       "      <th>RSS_FirstThree</th>\n",
       "      <th>MAP_C</th>\n",
       "      <th>MAP_P</th>\n",
       "      <th>L1_distance_C</th>\n",
       "      <th>L1_distance_p</th>\n",
       "    </tr>\n",
       "  </thead>\n",
       "  <tbody>\n",
       "    <tr>\n",
       "      <th>count</th>\n",
       "      <td>19186.000000</td>\n",
       "      <td>1.877300e+04</td>\n",
       "      <td>1.877300e+04</td>\n",
       "      <td>18773.000000</td>\n",
       "      <td>18773.000000</td>\n",
       "      <td>18773.000000</td>\n",
       "      <td>18773.000000</td>\n",
       "    </tr>\n",
       "    <tr>\n",
       "      <th>mean</th>\n",
       "      <td>2.465756</td>\n",
       "      <td>2.645097e-04</td>\n",
       "      <td>1.015467e-03</td>\n",
       "      <td>15.592418</td>\n",
       "      <td>7.303081</td>\n",
       "      <td>0.084343</td>\n",
       "      <td>0.085752</td>\n",
       "    </tr>\n",
       "    <tr>\n",
       "      <th>std</th>\n",
       "      <td>0.646395</td>\n",
       "      <td>9.247959e-04</td>\n",
       "      <td>4.734363e-03</td>\n",
       "      <td>15.333429</td>\n",
       "      <td>12.038677</td>\n",
       "      <td>0.110108</td>\n",
       "      <td>0.126366</td>\n",
       "    </tr>\n",
       "    <tr>\n",
       "      <th>min</th>\n",
       "      <td>2.000000</td>\n",
       "      <td>3.671392e-08</td>\n",
       "      <td>4.991837e-10</td>\n",
       "      <td>0.082674</td>\n",
       "      <td>0.006705</td>\n",
       "      <td>0.001076</td>\n",
       "      <td>0.000098</td>\n",
       "    </tr>\n",
       "    <tr>\n",
       "      <th>25%</th>\n",
       "      <td>2.000000</td>\n",
       "      <td>1.365653e-05</td>\n",
       "      <td>2.835692e-05</td>\n",
       "      <td>7.267929</td>\n",
       "      <td>2.030493</td>\n",
       "      <td>0.027179</td>\n",
       "      <td>0.024925</td>\n",
       "    </tr>\n",
       "    <tr>\n",
       "      <th>50%</th>\n",
       "      <td>2.000000</td>\n",
       "      <td>4.683063e-05</td>\n",
       "      <td>9.648576e-05</td>\n",
       "      <td>12.290528</td>\n",
       "      <td>3.750984</td>\n",
       "      <td>0.050165</td>\n",
       "      <td>0.046023</td>\n",
       "    </tr>\n",
       "    <tr>\n",
       "      <th>75%</th>\n",
       "      <td>3.000000</td>\n",
       "      <td>1.779729e-04</td>\n",
       "      <td>3.937201e-04</td>\n",
       "      <td>18.913878</td>\n",
       "      <td>7.525521</td>\n",
       "      <td>0.097910</td>\n",
       "      <td>0.093145</td>\n",
       "    </tr>\n",
       "    <tr>\n",
       "      <th>max</th>\n",
       "      <td>7.000000</td>\n",
       "      <td>2.667216e-02</td>\n",
       "      <td>1.095966e-01</td>\n",
       "      <td>259.266071</td>\n",
       "      <td>208.338273</td>\n",
       "      <td>1.572208</td>\n",
       "      <td>1.603130</td>\n",
       "    </tr>\n",
       "  </tbody>\n",
       "</table>\n",
       "</div>"
      ],
      "text/plain": [
       "             charge  RSS_compelete  RSS_FirstThree         MAP_C  \\\n",
       "count  19186.000000   1.877300e+04    1.877300e+04  18773.000000   \n",
       "mean       2.465756   2.645097e-04    1.015467e-03     15.592418   \n",
       "std        0.646395   9.247959e-04    4.734363e-03     15.333429   \n",
       "min        2.000000   3.671392e-08    4.991837e-10      0.082674   \n",
       "25%        2.000000   1.365653e-05    2.835692e-05      7.267929   \n",
       "50%        2.000000   4.683063e-05    9.648576e-05     12.290528   \n",
       "75%        3.000000   1.779729e-04    3.937201e-04     18.913878   \n",
       "max        7.000000   2.667216e-02    1.095966e-01    259.266071   \n",
       "\n",
       "              MAP_P  L1_distance_C  L1_distance_p  \n",
       "count  18773.000000   18773.000000   18773.000000  \n",
       "mean       7.303081       0.084343       0.085752  \n",
       "std       12.038677       0.110108       0.126366  \n",
       "min        0.006705       0.001076       0.000098  \n",
       "25%        2.030493       0.027179       0.024925  \n",
       "50%        3.750984       0.050165       0.046023  \n",
       "75%        7.525521       0.097910       0.093145  \n",
       "max      208.338273       1.572208       1.603130  "
      ]
     },
     "execution_count": 18,
     "metadata": {},
     "output_type": "execute_result"
    }
   ],
   "source": [
    "data.describe()"
   ]
  },
  {
   "cell_type": "markdown",
   "id": "73f3785e",
   "metadata": {},
   "source": [
    "1 L1_distance\n",
    "==="
   ]
  },
  {
   "cell_type": "code",
   "execution_count": 9,
   "id": "9da83439",
   "metadata": {
    "scrolled": false
   },
   "outputs": [
    {
     "data": {
      "text/plain": [
       "<matplotlib.legend.Legend at 0x29c681f5880>"
      ]
     },
     "execution_count": 9,
     "metadata": {},
     "output_type": "execute_result"
    },
    {
     "data": {
      "image/png": "[encoded data removed]",
      "text/plain": [
       "<Figure size 432x288 with 1 Axes>"
      ]
     },
     "metadata": {
      "needs_background": "light"
     },
     "output_type": "display_data"
    }
   ],
   "source": [
    "import seaborn as sns\n",
    "from matplotlib import pyplot as plt\n",
    "\n",
    "sns.distplot(data.L1_distance_C, hist = False,bins=25, kde = True,hist_kws={'edgecolor':'black'},\n",
    "                 kde_kws = {'shade': False, 'linewidth': 2,'bw_adjust':0.1} ,\n",
    "            label=r'Complete')\n",
    "sns.distplot(data.L1_distance_p, hist = False,bins=25, kde = True,hist_kws={'edgecolor':'black'},\n",
    "                 kde_kws = {'shade': False, 'linewidth': 2,'bw_adjust':0.1} ,\n",
    "            label=r'Partial')\n",
    "plt.legend()"
   ]
  },
  {
   "cell_type": "markdown",
   "id": "d9998dd9",
   "metadata": {},
   "source": [
    "0.01 Threshold\n",
    "==="
   ]
  },
  {
   "cell_type": "code",
   "execution_count": 10,
   "id": "6e8710da",
   "metadata": {},
   "outputs": [
    {
     "name": "stdout",
     "output_type": "stream",
     "text": [
      "L1_distance_C_Complete < 0.01 => 3.33%\n",
      "L1_distance_p_Partial < 0.01 =>  5.41%\n"
     ]
    }
   ],
   "source": [
    "print('L1_distance_C_Complete < 0.01 =>',\"{0:0.2f}%\".format(data[data.L1_distance_C<0.01].shape[0]*100/data.shape[0]))\n",
    "print('L1_distance_p_Partial < 0.01 => ',\"{0:0.2f}%\".format(data[data.L1_distance_p<0.01].shape[0]*100/data.shape[0]))"
   ]
  },
  {
   "cell_type": "markdown",
   "id": "694a4b06",
   "metadata": {},
   "source": [
    "Compelete profile > 0.01 and Partial profile < 0.01\n",
    "=="
   ]
  },
  {
   "cell_type": "code",
   "execution_count": 11,
   "id": "b250ef61",
   "metadata": {},
   "outputs": [
    {
     "data": {
      "text/plain": [
       "'2.85%'"
      ]
     },
     "execution_count": 11,
     "metadata": {},
     "output_type": "execute_result"
    }
   ],
   "source": [
    "\"{0:0.2f}%\".format(data.query(' L1_distance_C>0.01 and L1_distance_p<0.01').shape[0]*100/data.shape[0])"
   ]
  },
  {
   "cell_type": "markdown",
   "id": "9148e4bf",
   "metadata": {},
   "source": [
    "0.1 Threshold\n",
    "==="
   ]
  },
  {
   "cell_type": "code",
   "execution_count": 12,
   "id": "29cb8417",
   "metadata": {},
   "outputs": [
    {
     "name": "stdout",
     "output_type": "stream",
     "text": [
      "L1_distance_C_Complete < 0.1 => 74.10%\n",
      "L1_distance_p_Partial < 0.1 =>  75.39%\n"
     ]
    }
   ],
   "source": [
    "print('L1_distance_C_Complete < 0.1 =>',\"{0:0.2f}%\".format(data[data.L1_distance_C<0.1].shape[0]*100/data.shape[0]))\n",
    "print('L1_distance_p_Partial < 0.1 => ',\"{0:0.2f}%\".format(data[data.L1_distance_p<0.1].shape[0]*100/data.shape[0]))"
   ]
  },
  {
   "cell_type": "markdown",
   "id": "6b6e3939",
   "metadata": {},
   "source": [
    "Compelete profile > 0.1 and Partial profile < 0.1\n",
    "==="
   ]
  },
  {
   "cell_type": "code",
   "execution_count": 13,
   "id": "ccaa3c76",
   "metadata": {},
   "outputs": [
    {
     "data": {
      "text/plain": [
       "'4.09%'"
      ]
     },
     "execution_count": 13,
     "metadata": {},
     "output_type": "execute_result"
    }
   ],
   "source": [
    "\"{0:0.2f}%\".format(data.query(' L1_distance_C>0.1 and L1_distance_p<0.1').shape[0]*100/data.shape[0])"
   ]
  },
  {
   "cell_type": "code",
   "execution_count": null,
   "id": "9f03c258",
   "metadata": {},
   "outputs": [],
   "source": []
  },
  {
   "cell_type": "code",
   "execution_count": null,
   "id": "33063c6a",
   "metadata": {},
   "outputs": [],
   "source": []
  }
 ],
 "metadata": {
  "kernelspec": {
   "display_name": "Python 3 (ipykernel)",
   "language": "python",
   "name": "python3"
  },
  "language_info": {
   "codemirror_mode": {
    "name": "ipython",
    "version": 3
   },
   "file_extension": ".py",
   "mimetype": "text/x-python",
   "name": "python",
   "nbconvert_exporter": "python",
   "pygments_lexer": "ipython3",
   "version": "3.9.11"
  }
 },
 "nbformat": 4,
 "nbformat_minor": 5
}
