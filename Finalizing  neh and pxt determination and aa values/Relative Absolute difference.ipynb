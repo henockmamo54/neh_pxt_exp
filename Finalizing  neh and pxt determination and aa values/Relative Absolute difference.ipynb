{
 "cells": [
  {
   "cell_type": "code",
   "execution_count": 1,
   "id": "93fe566f",
   "metadata": {},
   "outputs": [],
   "source": [
    "import os\n",
    "import numpy as np\n",
    "import pandas as pd\n",
    "import warnings\n",
    "warnings.filterwarnings('ignore')"
   ]
  },
  {
   "cell_type": "code",
   "execution_count": 2,
   "id": "b438af9e",
   "metadata": {},
   "outputs": [
    {
     "name": "stdout",
     "output_type": "stream",
     "text": [
      "744\n",
      "(7272, 12)\n"
     ]
    }
   ],
   "source": [
    "path=f\"C:/Workplace/C++/d2ome_v2/v2/v2/bin/Debug/\"  \n",
    "protiens=np.unique([x for x in os.listdir(path) if ((\"_MOUSE.csv\" in x) and (\"RSS_comparision_\" in x))])\n",
    "print(len(protiens))\n",
    "\n",
    "data=pd.DataFrame()\n",
    "for file in protiens:\n",
    "    data=pd.concat([data,pd.read_csv(path+file)])\n",
    "print(data.shape)\n",
    "\n",
    "data=data.dropna()\n",
    "\n",
    "# data.RSS_compelete=data.RSS_compelete**0.5\n",
    "# data.RSS_FirstThree=data.RSS_FirstThree**0.5\n"
   ]
  },
  {
   "cell_type": "code",
   "execution_count": 3,
   "id": "06c651aa",
   "metadata": {},
   "outputs": [
    {
     "data": {
      "text/html": [
       "<div>\n",
       "<style scoped>\n",
       "    .dataframe tbody tr th:only-of-type {\n",
       "        vertical-align: middle;\n",
       "    }\n",
       "\n",
       "    .dataframe tbody tr th {\n",
       "        vertical-align: top;\n",
       "    }\n",
       "\n",
       "    .dataframe thead th {\n",
       "        text-align: right;\n",
       "    }\n",
       "</style>\n",
       "<table border=\"1\" class=\"dataframe\">\n",
       "  <thead>\n",
       "    <tr style=\"text-align: right;\">\n",
       "      <th></th>\n",
       "      <th>charge</th>\n",
       "      <th>Abundance</th>\n",
       "      <th>RSS_compelete</th>\n",
       "      <th>RSS_FirstThree</th>\n",
       "      <th>MAP_C</th>\n",
       "      <th>MAP_P</th>\n",
       "      <th>L1_distance_C</th>\n",
       "      <th>L1_distance_p</th>\n",
       "      <th>sap_c</th>\n",
       "      <th>sap_p</th>\n",
       "    </tr>\n",
       "  </thead>\n",
       "  <tbody>\n",
       "    <tr>\n",
       "      <th>count</th>\n",
       "      <td>7138.000000</td>\n",
       "      <td>7.138000e+03</td>\n",
       "      <td>7.138000e+03</td>\n",
       "      <td>7.138000e+03</td>\n",
       "      <td>7138.000000</td>\n",
       "      <td>7138.000000</td>\n",
       "      <td>7138.000000</td>\n",
       "      <td>7138.000000</td>\n",
       "      <td>7138.000000</td>\n",
       "      <td>7138.000000</td>\n",
       "    </tr>\n",
       "    <tr>\n",
       "      <th>mean</th>\n",
       "      <td>2.491174</td>\n",
       "      <td>4.971773e+08</td>\n",
       "      <td>2.456794e-04</td>\n",
       "      <td>9.625337e-04</td>\n",
       "      <td>15.128104</td>\n",
       "      <td>6.965958</td>\n",
       "      <td>0.080219</td>\n",
       "      <td>0.082117</td>\n",
       "      <td>0.310990</td>\n",
       "      <td>0.278638</td>\n",
       "    </tr>\n",
       "    <tr>\n",
       "      <th>std</th>\n",
       "      <td>0.660962</td>\n",
       "      <td>2.025676e+09</td>\n",
       "      <td>8.500754e-04</td>\n",
       "      <td>4.647973e-03</td>\n",
       "      <td>15.117618</td>\n",
       "      <td>11.685546</td>\n",
       "      <td>0.106425</td>\n",
       "      <td>0.124010</td>\n",
       "      <td>0.441919</td>\n",
       "      <td>0.467422</td>\n",
       "    </tr>\n",
       "    <tr>\n",
       "      <th>min</th>\n",
       "      <td>2.000000</td>\n",
       "      <td>6.532006e+05</td>\n",
       "      <td>3.671392e-08</td>\n",
       "      <td>4.693333e-09</td>\n",
       "      <td>0.377973</td>\n",
       "      <td>0.025548</td>\n",
       "      <td>0.001076</td>\n",
       "      <td>0.000292</td>\n",
       "      <td>0.004025</td>\n",
       "      <td>0.001022</td>\n",
       "    </tr>\n",
       "    <tr>\n",
       "      <th>25%</th>\n",
       "      <td>2.000000</td>\n",
       "      <td>2.221511e+07</td>\n",
       "      <td>1.161517e-05</td>\n",
       "      <td>2.520208e-05</td>\n",
       "      <td>6.770975</td>\n",
       "      <td>1.914694</td>\n",
       "      <td>0.025097</td>\n",
       "      <td>0.023589</td>\n",
       "      <td>0.093307</td>\n",
       "      <td>0.076588</td>\n",
       "    </tr>\n",
       "    <tr>\n",
       "      <th>50%</th>\n",
       "      <td>2.000000</td>\n",
       "      <td>7.352207e+07</td>\n",
       "      <td>4.129366e-05</td>\n",
       "      <td>8.557048e-05</td>\n",
       "      <td>11.866723</td>\n",
       "      <td>3.539835</td>\n",
       "      <td>0.047286</td>\n",
       "      <td>0.043062</td>\n",
       "      <td>0.171929</td>\n",
       "      <td>0.141593</td>\n",
       "    </tr>\n",
       "    <tr>\n",
       "      <th>75%</th>\n",
       "      <td>3.000000</td>\n",
       "      <td>2.732048e+08</td>\n",
       "      <td>1.634526e-04</td>\n",
       "      <td>3.525870e-04</td>\n",
       "      <td>18.542841</td>\n",
       "      <td>7.108245</td>\n",
       "      <td>0.092637</td>\n",
       "      <td>0.088401</td>\n",
       "      <td>0.352267</td>\n",
       "      <td>0.284330</td>\n",
       "    </tr>\n",
       "    <tr>\n",
       "      <th>max</th>\n",
       "      <td>6.000000</td>\n",
       "      <td>7.353005e+10</td>\n",
       "      <td>1.881577e-02</td>\n",
       "      <td>1.095966e-01</td>\n",
       "      <td>259.266071</td>\n",
       "      <td>198.754285</td>\n",
       "      <td>1.336539</td>\n",
       "      <td>1.598410</td>\n",
       "      <td>6.413375</td>\n",
       "      <td>7.950171</td>\n",
       "    </tr>\n",
       "  </tbody>\n",
       "</table>\n",
       "</div>"
      ],
      "text/plain": [
       "            charge     Abundance  RSS_compelete  RSS_FirstThree        MAP_C  \\\n",
       "count  7138.000000  7.138000e+03   7.138000e+03    7.138000e+03  7138.000000   \n",
       "mean      2.491174  4.971773e+08   2.456794e-04    9.625337e-04    15.128104   \n",
       "std       0.660962  2.025676e+09   8.500754e-04    4.647973e-03    15.117618   \n",
       "min       2.000000  6.532006e+05   3.671392e-08    4.693333e-09     0.377973   \n",
       "25%       2.000000  2.221511e+07   1.161517e-05    2.520208e-05     6.770975   \n",
       "50%       2.000000  7.352207e+07   4.129366e-05    8.557048e-05    11.866723   \n",
       "75%       3.000000  2.732048e+08   1.634526e-04    3.525870e-04    18.542841   \n",
       "max       6.000000  7.353005e+10   1.881577e-02    1.095966e-01   259.266071   \n",
       "\n",
       "             MAP_P  L1_distance_C  L1_distance_p        sap_c        sap_p  \n",
       "count  7138.000000    7138.000000    7138.000000  7138.000000  7138.000000  \n",
       "mean      6.965958       0.080219       0.082117     0.310990     0.278638  \n",
       "std      11.685546       0.106425       0.124010     0.441919     0.467422  \n",
       "min       0.025548       0.001076       0.000292     0.004025     0.001022  \n",
       "25%       1.914694       0.025097       0.023589     0.093307     0.076588  \n",
       "50%       3.539835       0.047286       0.043062     0.171929     0.141593  \n",
       "75%       7.108245       0.092637       0.088401     0.352267     0.284330  \n",
       "max     198.754285       1.336539       1.598410     6.413375     7.950171  "
      ]
     },
     "execution_count": 3,
     "metadata": {},
     "output_type": "execute_result"
    }
   ],
   "source": [
    "data.describe()"
   ]
  },
  {
   "cell_type": "markdown",
   "id": "73f3785e",
   "metadata": {},
   "source": [
    "1 L1_distance\n",
    "==="
   ]
  },
  {
   "cell_type": "code",
   "execution_count": 4,
   "id": "9da83439",
   "metadata": {
    "scrolled": false
   },
   "outputs": [
    {
     "data": {
      "text/plain": [
       "<matplotlib.legend.Legend at 0x2c45243d490>"
      ]
     },
     "execution_count": 4,
     "metadata": {},
     "output_type": "execute_result"
    },
    {
     "data": {
      "image/png": "[encoded data removed]",
      "text/plain": [
       "<Figure size 432x288 with 1 Axes>"
      ]
     },
     "metadata": {
      "needs_background": "light"
     },
     "output_type": "display_data"
    }
   ],
   "source": [
    "import seaborn as sns\n",
    "from matplotlib import pyplot as plt\n",
    "\n",
    "sns.distplot(data.sap_p, hist = False,bins=10, kde = True,hist_kws={'edgecolor':'black'},\n",
    "                 kde_kws = {'shade': False, 'linewidth': 2,'bw_adjust':0.1} ,\n",
    "            label=r'Partial')\n",
    "sns.distplot(data.sap_c, hist = False,bins=10, kde = True,hist_kws={'edgecolor':'black'},\n",
    "                 kde_kws = {'shade': False, 'linewidth': 2,'bw_adjust':0.1} ,\n",
    "            label=r'Complete')\n",
    "plt.xlabel(\"Relative difference\")\n",
    "plt.legend()"
   ]
  },
  {
   "cell_type": "code",
   "execution_count": 5,
   "id": "a7a62b0c",
   "metadata": {},
   "outputs": [
    {
     "data": {
      "text/plain": [
       "Text(0, 0.5, 'Complete')"
      ]
     },
     "execution_count": 5,
     "metadata": {},
     "output_type": "execute_result"
    },
    {
     "data": {
      "image/png": "[encoded data removed]",
      "text/plain": [
       "<Figure size 504x504 with 1 Axes>"
      ]
     },
     "metadata": {
      "needs_background": "light"
     },
     "output_type": "display_data"
    }
   ],
   "source": [
    "plt.figure(figsize=(7,7))\n",
    "plt.scatter(data.sap_p,data.sap_c,c='k',s=50,alpha=0.8)\n",
    "plt.plot(data.sap_c,data.sap_c,c='r')\n",
    "plt.xlabel(\"Partial\")\n",
    "plt.ylabel(\"Complete\")"
   ]
  },
  {
   "cell_type": "code",
   "execution_count": null,
   "id": "4cd31d56",
   "metadata": {},
   "outputs": [],
   "source": [
    "# fig, ax = plt.subplots(figsize=(6, 6))\n",
    "# sns.kdeplot(\n",
    "#     data.sap_p,data.sap_c,\n",
    "#     levels=5,\n",
    "#     fill=True,\n",
    "#     alpha=0.6,\n",
    "#     cut=2,\n",
    "#     ax=ax,\n",
    "# )\n",
    "\n",
    "\n",
    "sns.jointplot(data.sap_p,data.sap_c)"
   ]
  },
  {
   "cell_type": "markdown",
   "id": "d9998dd9",
   "metadata": {},
   "source": [
    "0.01 Threshold\n",
    "==="
   ]
  },
  {
   "cell_type": "code",
   "execution_count": null,
   "id": "6e8710da",
   "metadata": {},
   "outputs": [],
   "source": [
    "print('L1_distance_C_Complete < 0.01 =>',\"{0:0.2f}%\".format(data[data.sap_c<0.01].shape[0]*100/data.shape[0]))\n",
    "print('L1_distance_p_Partial < 0.01 => ',\"{0:0.2f}%\".format(data[data.sap_p<0.01].shape[0]*100/data.shape[0]))"
   ]
  },
  {
   "cell_type": "markdown",
   "id": "694a4b06",
   "metadata": {},
   "source": [
    "Compelete profile > 0.01 and Partial profile < 0.01\n",
    "=="
   ]
  },
  {
   "cell_type": "code",
   "execution_count": null,
   "id": "b250ef61",
   "metadata": {},
   "outputs": [],
   "source": [
    "\"{0:0.2f}%\".format(data.query(' sap_c>0.01 and sap_p<0.01').shape[0]*100/data.shape[0])"
   ]
  },
  {
   "cell_type": "markdown",
   "id": "9148e4bf",
   "metadata": {},
   "source": [
    "0.1 Threshold\n",
    "==="
   ]
  },
  {
   "cell_type": "code",
   "execution_count": null,
   "id": "29cb8417",
   "metadata": {},
   "outputs": [],
   "source": [
    "print('L1_distance_C_Complete < 0.1 =>',\"{0:0.2f}%\".format(data[data.L1_distance_C<0.1].shape[0]*100/data.shape[0]))\n",
    "print('L1_distance_p_Partial < 0.1 => ',\"{0:0.2f}%\".format(data[data.L1_distance_p<0.1].shape[0]*100/data.shape[0]))"
   ]
  },
  {
   "cell_type": "markdown",
   "id": "6b6e3939",
   "metadata": {},
   "source": [
    "Compelete profile > 0.1 and Partial profile < 0.1\n",
    "==="
   ]
  },
  {
   "cell_type": "code",
   "execution_count": null,
   "id": "ccaa3c76",
   "metadata": {},
   "outputs": [],
   "source": [
    "\"{0:0.2f}%\".format(data.query(' sap_c>0.1 and sap_p<0.1').shape[0]*100/data.shape[0])"
   ]
  },
  {
   "cell_type": "code",
   "execution_count": null,
   "id": "9f03c258",
   "metadata": {},
   "outputs": [],
   "source": [
    "\"{0:0.2f}%\".format(data.query('sap_c < sap_p').shape[0]*100/data.shape[0])"
   ]
  },
  {
   "cell_type": "code",
   "execution_count": null,
   "id": "33063c6a",
   "metadata": {},
   "outputs": [],
   "source": [
    "\"{0:0.2f}%\".format(data.query('sap_p < sap_c').shape[0]*100/data.shape[0])"
   ]
  },
  {
   "cell_type": "code",
   "execution_count": null,
   "id": "ce09c89f",
   "metadata": {},
   "outputs": [],
   "source": [
    "\"{0:0.2f}%\".format(data.query('sap_c == sap_p').shape[0]*100/data.shape[0])"
   ]
  },
  {
   "cell_type": "code",
   "execution_count": null,
   "id": "d6147e3f",
   "metadata": {},
   "outputs": [],
   "source": []
  },
  {
   "cell_type": "code",
   "execution_count": null,
   "id": "a42d4132",
   "metadata": {},
   "outputs": [],
   "source": []
  }
 ],
 "metadata": {
  "kernelspec": {
   "display_name": "Python 3 (ipykernel)",
   "language": "python",
   "name": "python3"
  },
  "language_info": {
   "codemirror_mode": {
    "name": "ipython",
    "version": 3
   },
   "file_extension": ".py",
   "mimetype": "text/x-python",
   "name": "python",
   "nbconvert_exporter": "python",
   "pygments_lexer": "ipython3",
   "version": "3.9.11"
  }
 },
 "nbformat": 4,
 "nbformat_minor": 5
}
