{
 "cells": [
  {
   "cell_type": "code",
   "execution_count": 4,
   "id": "8e91b3fe",
   "metadata": {},
   "outputs": [],
   "source": [
    "import os\n",
    "import pandas as pd\n",
    "import numpy as np\n",
    "from matplotlib import pyplot as plt\n",
    "from itertools import combinations\n",
    "from sklearn.decomposition import PCA"
   ]
  },
  {
   "cell_type": "code",
   "execution_count": 8,
   "id": "81697923",
   "metadata": {},
   "outputs": [],
   "source": [
    "path=\"C:/Workplace/C++/d2ome_v2/v2/v2/bin/Debug/\"\n",
    "pept=[x.split('_1_')[0] for x in os.listdir(path) if ((\".csv\" in x) and (\"_1_\" in x)) ]\n",
    "ph=1.5574E-4"
   ]
  },
  {
   "cell_type": "code",
   "execution_count": 80,
   "id": "a2911d92",
   "metadata": {},
   "outputs": [
    {
     "name": "stdout",
     "output_type": "stream",
     "text": [
      "\n",
      " _DAMLENQTPELFQDVNKPK_3 Time 24 ==================================>\n"
     ]
    },
    {
     "data": {
      "image/png": "[encoded data removed]",
      "text/plain": [
       "<Figure size 432x288 with 1 Axes>"
      ]
     },
     "metadata": {
      "needs_background": "light"
     },
     "output_type": "display_data"
    },
    {
     "name": "stdout",
     "output_type": "stream",
     "text": [
      "pxt*NEH = 1.57760832 real_NEH= 37 ratio = 0.0426380627027027 \n",
      "\n",
      "vals 1.526972649496557\n"
     ]
    }
   ],
   "source": [
    "time=24\n",
    "protien=\"FAS_MOUSE\"\n",
    "pep=pept[1]\n",
    "print(f\"\\n {pep} Time\",time,\"==================================>\")\n",
    "data=pd.read_csv(f\"C:/Workplace/C++/d2ome_v2/v2/v2/bin/Debug/{pep}_{time}_{protien}.csv\")\n",
    "\n",
    "data[\"const\"]=data.NEH*data.pxt\n",
    "data[\"new_pxt\"]=1-ph- (data.const/( (1-ph)*(data[\"exp_t_A1/A0\"]-data[\"exp_A1/A0\"]) ) )\n",
    "data[\"new_neh\"]=data.const/data.new_pxt\n",
    "data=data.sort_values(by=[\"RMSE\"],ascending=True)\n",
    "data=data[data.NEH<=data.NH]\n",
    "\n",
    "plt.scatter(data.const,data.RMSE,s=1,c='k')\n",
    "#             plt.hlines(y=2.5*min(data.RMSE),xmin=min(data.const),xmax=max(data.const),color='r')\n",
    "plt.show()\n",
    "\n",
    "print(\"pxt*NEH =\",float(data[data.RMSE==min(data.RMSE)].const),\"real_NEH=\",data.T_NEH[0], \"ratio =\",float(data[data.RMSE==min(data.RMSE)].const/data.T_NEH[0]),\"\\n\")\n",
    "print(\"vals\",(data.loc[0,\"exp_t_A1/A0\"]-data.loc[0,\"exp_A1/A0\"])*(1-ph))\n",
    "\n",
    "# pxt_neh.append(float(data[data.RMSE==min(data.RMSE)].const))\n",
    " \n",
    "# tempdata=data[data.RMSE<2.5*min(data.RMSE)]\n",
    "# tempdata=tempdata[(tempdata.new_pxt>0) & (tempdata.new_neh>0) & (tempdata.new_neh<data.NH[0])]\n",
    "# tempdata[\"pxt_dif\"]=((abs((tempdata.pxt) - (tempdata.new_pxt)))**2 + (abs((tempdata.NEH) - (tempdata.new_neh)))**2)**0.5 #(abs((tempdata.pxt) - (tempdata.new_pxt))) \n",
    "# tempdata=tempdata.sort_values(by=[\"pxt_dif\"]) \n",
    "# neh_coll=neh_coll+list(np.array(tempdata.sort_values(by=[\"pxt_dif\"]).new_neh.head(5)))"
   ]
  },
  {
   "cell_type": "code",
   "execution_count": 81,
   "id": "9bc7d8fe",
   "metadata": {},
   "outputs": [
    {
     "name": "stdout",
     "output_type": "stream",
     "text": [
      "1.57760832 0.0583284713078659 0.259475112862761 154.0\n"
     ]
    }
   ],
   "source": [
    "# data.sort_values(by='RMSE')\n",
    "const=float(data[data.RMSE==min(data.RMSE)].const)\n",
    "ria_t=float(data[data.RMSE==min(data.RMSE)].ria_t)\n",
    "ria_0=float(data[data.RMSE==min(data.RMSE)].ria_0)\n",
    "NH=float(data[data.RMSE==min(data.RMSE)].NH)\n",
    "print(const,ria_t,ria_0,NH)"
   ]
  },
  {
   "cell_type": "code",
   "execution_count": 82,
   "id": "c10764c7",
   "metadata": {},
   "outputs": [],
   "source": [
    "pxt=[(x/10000) for x in list(range(1,500,1))]\n",
    "neh=[const/x for x in pxt]"
   ]
  },
  {
   "cell_type": "code",
   "execution_count": 83,
   "id": "460b752d",
   "metadata": {},
   "outputs": [],
   "source": [
    "# diff=[abs((1- ((ria_t/ria_0)**(1/ (const/px)))) - (px/(1-ph))) for px in pxt]\n",
    "# pxt[diff.index(min(diff))]"
   ]
  },
  {
   "cell_type": "code",
   "execution_count": 87,
   "id": "527d91a1",
   "metadata": {},
   "outputs": [
    {
     "data": {
      "text/plain": [
       "5.410354170855015e-06"
      ]
     },
     "execution_count": 87,
     "metadata": {},
     "output_type": "execute_result"
    }
   ],
   "source": [
    "diff=[abs((1 - ((ria_t/ria_0)**(1/(const/px)))) - (px/(1-ph)) ) for px in pxt]\n",
    "# pxt[diff.index(min(diff))]\n",
    "min(diff)"
   ]
  },
  {
   "cell_type": "code",
   "execution_count": 90,
   "id": "f58fb683",
   "metadata": {},
   "outputs": [
    {
     "data": {
      "text/html": [
       "<div>\n",
       "<style scoped>\n",
       "    .dataframe tbody tr th:only-of-type {\n",
       "        vertical-align: middle;\n",
       "    }\n",
       "\n",
       "    .dataframe tbody tr th {\n",
       "        vertical-align: top;\n",
       "    }\n",
       "\n",
       "    .dataframe thead th {\n",
       "        text-align: right;\n",
       "    }\n",
       "</style>\n",
       "<table border=\"1\" class=\"dataframe\">\n",
       "  <thead>\n",
       "    <tr style=\"text-align: right;\">\n",
       "      <th></th>\n",
       "      <th>pxt</th>\n",
       "      <th>neh</th>\n",
       "      <th>dif</th>\n",
       "    </tr>\n",
       "  </thead>\n",
       "  <tbody>\n",
       "    <tr>\n",
       "      <th>102</th>\n",
       "      <td>0.0103</td>\n",
       "      <td>153.165856</td>\n",
       "      <td>0.000604</td>\n",
       "    </tr>\n",
       "    <tr>\n",
       "      <th>103</th>\n",
       "      <td>0.0104</td>\n",
       "      <td>151.693108</td>\n",
       "      <td>0.000610</td>\n",
       "    </tr>\n",
       "    <tr>\n",
       "      <th>104</th>\n",
       "      <td>0.0105</td>\n",
       "      <td>150.248411</td>\n",
       "      <td>0.000617</td>\n",
       "    </tr>\n",
       "    <tr>\n",
       "      <th>105</th>\n",
       "      <td>0.0106</td>\n",
       "      <td>148.830974</td>\n",
       "      <td>0.000623</td>\n",
       "    </tr>\n",
       "    <tr>\n",
       "      <th>106</th>\n",
       "      <td>0.0107</td>\n",
       "      <td>147.440030</td>\n",
       "      <td>0.000629</td>\n",
       "    </tr>\n",
       "    <tr>\n",
       "      <th>...</th>\n",
       "      <td>...</td>\n",
       "      <td>...</td>\n",
       "      <td>...</td>\n",
       "    </tr>\n",
       "    <tr>\n",
       "      <th>494</th>\n",
       "      <td>0.0495</td>\n",
       "      <td>31.870875</td>\n",
       "      <td>0.003756</td>\n",
       "    </tr>\n",
       "    <tr>\n",
       "      <th>495</th>\n",
       "      <td>0.0496</td>\n",
       "      <td>31.806619</td>\n",
       "      <td>0.003765</td>\n",
       "    </tr>\n",
       "    <tr>\n",
       "      <th>496</th>\n",
       "      <td>0.0497</td>\n",
       "      <td>31.742622</td>\n",
       "      <td>0.003775</td>\n",
       "    </tr>\n",
       "    <tr>\n",
       "      <th>497</th>\n",
       "      <td>0.0498</td>\n",
       "      <td>31.678882</td>\n",
       "      <td>0.003785</td>\n",
       "    </tr>\n",
       "    <tr>\n",
       "      <th>498</th>\n",
       "      <td>0.0499</td>\n",
       "      <td>31.615397</td>\n",
       "      <td>0.003795</td>\n",
       "    </tr>\n",
       "  </tbody>\n",
       "</table>\n",
       "<p>397 rows × 3 columns</p>\n",
       "</div>"
      ],
      "text/plain": [
       "        pxt         neh       dif\n",
       "102  0.0103  153.165856  0.000604\n",
       "103  0.0104  151.693108  0.000610\n",
       "104  0.0105  150.248411  0.000617\n",
       "105  0.0106  148.830974  0.000623\n",
       "106  0.0107  147.440030  0.000629\n",
       "..      ...         ...       ...\n",
       "494  0.0495   31.870875  0.003756\n",
       "495  0.0496   31.806619  0.003765\n",
       "496  0.0497   31.742622  0.003775\n",
       "497  0.0498   31.678882  0.003785\n",
       "498  0.0499   31.615397  0.003795\n",
       "\n",
       "[397 rows x 3 columns]"
      ]
     },
     "execution_count": 90,
     "metadata": {},
     "output_type": "execute_result"
    }
   ],
   "source": [
    "tempvals=pd.DataFrame()\n",
    "tempvals[\"pxt\"]=pxt\n",
    "tempvals[\"neh\"]=neh\n",
    "tempvals[\"dif\"]=diff\n",
    "tempvals=tempvals[tempvals.neh<=NH]\n",
    "tempvals.sort_values(by=\"dif\")#[tempvals.dif==min(tempvals.dif)]"
   ]
  },
  {
   "cell_type": "code",
   "execution_count": 91,
   "id": "a51afb48",
   "metadata": {},
   "outputs": [
    {
     "data": {
      "text/plain": [
       "<matplotlib.collections.PathCollection at 0x2183c4f3520>"
      ]
     },
     "execution_count": 91,
     "metadata": {},
     "output_type": "execute_result"
    },
    {
     "data": {
      "image/png": "[encoded data removed]",
      "text/plain": [
       "<Figure size 432x288 with 1 Axes>"
      ]
     },
     "metadata": {
      "needs_background": "light"
     },
     "output_type": "display_data"
    }
   ],
   "source": [
    "import seaborn as sns\n",
    "from matplotlib import pyplot as plt\n",
    "plt.scatter(tempvals.neh,tempvals.pxt,c=tempvals.dif)"
   ]
  },
  {
   "cell_type": "code",
   "execution_count": null,
   "id": "b13ff97a",
   "metadata": {},
   "outputs": [],
   "source": []
  },
  {
   "cell_type": "code",
   "execution_count": null,
   "id": "c295eccf",
   "metadata": {},
   "outputs": [],
   "source": []
  }
 ],
 "metadata": {
  "kernelspec": {
   "display_name": "Python 3 (ipykernel)",
   "language": "python",
   "name": "python3"
  },
  "language_info": {
   "codemirror_mode": {
    "name": "ipython",
    "version": 3
   },
   "file_extension": ".py",
   "mimetype": "text/x-python",
   "name": "python",
   "nbconvert_exporter": "python",
   "pygments_lexer": "ipython3",
   "version": "3.9.11"
  }
 },
 "nbformat": 4,
 "nbformat_minor": 5
}
