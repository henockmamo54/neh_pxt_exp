{
 "cells": [
  {
   "cell_type": "code",
   "execution_count": 43,
   "id": "4f47571e",
   "metadata": {},
   "outputs": [],
   "source": [
    "import numpy as np\n",
    "from matplotlib import pyplot as plt\n",
    "import math"
   ]
  },
  {
   "cell_type": "code",
   "execution_count": 287,
   "id": "552f055d",
   "metadata": {},
   "outputs": [
    {
     "data": {
      "text/plain": [
       "Text(0.5, 0, 'Time')"
      ]
     },
     "execution_count": 287,
     "metadata": {},
     "output_type": "execute_result"
    },
    {
     "data": {
      "image/png": "[encoded data removed]",
      "text/plain": [
       "<Figure size 432x288 with 1 Axes>"
      ]
     },
     "metadata": {
      "needs_background": "light"
     },
     "output_type": "display_data"
    }
   ],
   "source": [
    "# const=[0.21, 0.631799766, 0.613599882, 1.6170085799999998, 1.57499775, 1.66530585, 1.7465094499999998, 1.89621026, 1.6830088399999998, 1.81670962, 1.78560972]\n",
    "# const=[0.21, 0.631799766, 0.613599882, 1.6170085799999998, 1.57499775, 1.66530585, 1.7465094499999998, 1.89621026, 1.6830088399999998, 1.81670962, 1.78560972]\n",
    "# const=[0.16119999999999998, 0.39590000000000003, 0.413400106, 0.92340475, 0.978005, 0.968005, 1.0846057199999999, 1.18320624, 1.06040528, 1.1270059799999999, 1.09780594]\n",
    "# const=[0.225, 0.695999652, 0.725899643, 1.44710783, 1.42680754, 1.4970081, 1.54690837, 1.6830088399999998, 1.64010891, 1.54380837, 1.6830088399999998]\n",
    "# const=[0.09, 0.2886, 0.31980000000000003, 0.84239928, 0.7410039, 0.75999924, 0.84490459, 0.9323992600000001, 0.82790425, 0.88920468, 0.9139045600000001]\n",
    "# const=[0.249, 0.474999905, 0.3456, 1.3424985, 0.98249925, 1.2074985, 1.0724985, 1.1924985000000001, 1.1774985, 1.1174985, 1.3349985]\n",
    "# const=[0.156, 0.3465, 0.3465, 0.9960054, 0.887399286, 1.01850525, 1.0582052800000001, 1.1270059799999999, 1.0063985199999999, 1.09560594, 1.1474985]\n",
    "\n",
    "const=[0.249, 0.474999905, 0.3456, 1.3424985, 0.98249925, 1.2074985, 1.0724985, 1.1924985000000001, 1.1774985, 1.1174985, 1.3349985]\n",
    "\n",
    "\n",
    "plt.scatter(range(11),const,c='k',s=70)\n",
    "plt.ylabel(\"px(t)*NEH\")\n",
    "plt.xlabel(\"Time\")"
   ]
  },
  {
   "cell_type": "code",
   "execution_count": 288,
   "id": "530a1016",
   "metadata": {},
   "outputs": [],
   "source": [
    "\n",
    "# plt.plot(range(11),[math.exp(x)-1 for x in const])"
   ]
  },
  {
   "cell_type": "code",
   "execution_count": 289,
   "id": "fb65702e",
   "metadata": {
    "scrolled": true
   },
   "outputs": [],
   "source": [
    "# [(x/100000) for x in list(range(1,5000,1))]"
   ]
  },
  {
   "cell_type": "code",
   "execution_count": 290,
   "id": "270d90e4",
   "metadata": {
    "scrolled": true
   },
   "outputs": [],
   "source": [
    "# pxt=[abs(const[-1]-(42*x/100)) for x in list(range(1,50,1))]\n",
    "# min(pxt)"
   ]
  },
  {
   "cell_type": "code",
   "execution_count": null,
   "id": "a273f960",
   "metadata": {},
   "outputs": [],
   "source": []
  },
  {
   "cell_type": "code",
   "execution_count": 291,
   "id": "3c2a2331",
   "metadata": {},
   "outputs": [
    {
     "name": "stdout",
     "output_type": "stream",
     "text": [
      "0.0499 0.9778985\n"
     ]
    }
   ],
   "source": [
    "neh=4\n",
    "pxt=[(x/10000) for x in list(range(1,500,1))]\n",
    "diff=[abs(const[8]-neh*x) for x in pxt]\n",
    "print(pxt[diff.index(min(diff))], min(diff))"
   ]
  },
  {
   "cell_type": "code",
   "execution_count": 292,
   "id": "e19bf4b1",
   "metadata": {},
   "outputs": [
    {
     "name": "stdout",
     "output_type": "stream",
     "text": [
      "0.028 0.0014985000000000692\n"
     ]
    }
   ],
   "source": [
    "neh=42\n",
    "pxt=[(x/10000) for x in list(range(1,500,1))]\n",
    "diff=[abs(const[8]-neh*x) for x in pxt]\n",
    "print(pxt[diff.index(min(diff))], min(diff))"
   ]
  },
  {
   "cell_type": "code",
   "execution_count": 293,
   "id": "9ec487f1",
   "metadata": {},
   "outputs": [],
   "source": [
    "res=[]\n",
    "for neh in range(100):\n",
    "    sum_er=0\n",
    "#     neh=50\n",
    "    for i in range(11):\n",
    "        pxt=[(x/10000) for x in list(range(1,500,1))]\n",
    "        diff=[abs(const[i]-neh*x) for x in pxt]\n",
    "        sum_er+=min(diff)\n",
    "    res.append(sum_er)"
   ]
  },
  {
   "cell_type": "code",
   "execution_count": 332,
   "id": "2edff0b7",
   "metadata": {
    "scrolled": true
   },
   "outputs": [
    {
     "name": "stdout",
     "output_type": "stream",
     "text": [
      "22\n"
     ]
    },
    {
     "data": {
      "text/plain": [
       "<matplotlib.collections.PathCollection at 0x1ac580af280>"
      ]
     },
     "execution_count": 332,
     "metadata": {},
     "output_type": "execute_result"
    },
    {
     "data": {
      "image/png": "[encoded data removed]",
      "text/plain": [
       "<Figure size 432x288 with 1 Axes>"
      ]
     },
     "metadata": {
      "needs_background": "light"
     },
     "output_type": "display_data"
    }
   ],
   "source": [
    "print(res.index(min(res))+1)\n",
    "plt.scatter(range(100),res,s=1)"
   ]
  },
  {
   "cell_type": "code",
   "execution_count": 333,
   "id": "edc3f11f",
   "metadata": {},
   "outputs": [
    {
     "data": {
      "text/plain": [
       "0.0178"
      ]
     },
     "execution_count": 333,
     "metadata": {},
     "output_type": "execute_result"
    }
   ],
   "source": [
    "1.335/75"
   ]
  },
  {
   "cell_type": "code",
   "execution_count": 303,
   "id": "1deedf56",
   "metadata": {},
   "outputs": [
    {
     "data": {
      "text/plain": [
       "-2.2641836232198567"
      ]
     },
     "execution_count": 303,
     "metadata": {},
     "output_type": "execute_result"
    }
   ],
   "source": [
    "ph=1.5574E-4\n",
    "c=0.9191097954226415\n",
    "1-ph-(75*0.04)/c"
   ]
  },
  {
   "cell_type": "code",
   "execution_count": 328,
   "id": "1b2c7ba2",
   "metadata": {
    "scrolled": true
   },
   "outputs": [],
   "source": [
    "pxt=[(x/10000) for x in list(range(1,500,1))]\n",
    "# for kk in  pxt:\n",
    "#     print(kk,1-ph-(75*kk)/c)\n",
    "pxt2=[x for x in pxt if (1-ph-(75*x)/c)>0 ]\n",
    "# pxt2"
   ]
  },
  {
   "cell_type": "code",
   "execution_count": 334,
   "id": "d8c70541",
   "metadata": {},
   "outputs": [],
   "source": [
    "vali_cons=[0.0021861044470623064,0.12803567734505597,0.219363005528245,0.724059960730617,\n",
    "0.9394919310349167,0.57701810260093,1.1511997812420727,0.5893425517928276,0.848083298131472,\n",
    "0.8008348171202325,0.9191097954226415,]"
   ]
  },
  {
   "cell_type": "code",
   "execution_count": 335,
   "id": "ff5384ac",
   "metadata": {},
   "outputs": [],
   "source": [
    "res=[]\n",
    "for neh in range(100):\n",
    "    sum_er=0\n",
    "#     neh=50\n",
    "    for i in range(11):\n",
    "        pxt=[(x/10000) for x in list(range(1,500,1))]\n",
    "        pxt2=[x for x in pxt if (1-ph-(neh*x))/vali_cons[i]>0 ]\n",
    "        diff=[abs(const[i]-neh*x) for x in pxt2]\n",
    "        sum_er+=min(diff)\n",
    "    res.append(sum_er)"
   ]
  },
  {
   "cell_type": "code",
   "execution_count": 336,
   "id": "171afdc6",
   "metadata": {},
   "outputs": [
    {
     "name": "stdout",
     "output_type": "stream",
     "text": [
      "22\n"
     ]
    },
    {
     "data": {
      "text/plain": [
       "<matplotlib.collections.PathCollection at 0x1ac580fbcd0>"
      ]
     },
     "execution_count": 336,
     "metadata": {},
     "output_type": "execute_result"
    },
    {
     "data": {
      "image/png": "[encoded data removed]",
      "text/plain": [
       "<Figure size 432x288 with 1 Axes>"
      ]
     },
     "metadata": {
      "needs_background": "light"
     },
     "output_type": "display_data"
    }
   ],
   "source": [
    "print(res.index(min(res))+1)\n",
    "plt.scatter(range(100),res,s=1)"
   ]
  },
  {
   "cell_type": "code",
   "execution_count": 400,
   "id": "c24cfb7e",
   "metadata": {},
   "outputs": [],
   "source": [
    "const=[0.21, 0.631799766, 0.613599882, 1.6170085799999998, 1.57499775, 1.66530585, 1.7465094499999998, 1.89621026, 1.6830088399999998, 1.81670962, 1.78560972] \n",
    "valcons=[0.033473866506427016, 0.3185867306210551, 0.10612223527427816, 1.3351066451562674, 1.3421095466964803, 1.7986213748006061, 1.3797643162273765, 1.8547213523243724, 1.856640111029545, 1.7678798896789083, 1.6754447540722959]\n",
    "\n",
    "# const=[0.249, 0.474999905, 0.3456, 1.3424985, 0.98249925, 1.2074985, 1.0724985, 1.1924985000000001, 1.1774985, 1.1174985, 1.3349985]\n",
    "# valcons=[0.0021861044470623064,0.12803567734505597,0.219363005528245,0.724059960730617,\n",
    "# 0.9394919310349167,0.57701810260093,1.1511997812420727,0.5893425517928276,0.848083298131472,\n",
    "# 0.8008348171202325,0.9191097954226415,]"
   ]
  },
  {
   "cell_type": "code",
   "execution_count": 401,
   "id": "39a268ff",
   "metadata": {
    "scrolled": true
   },
   "outputs": [],
   "source": [
    "res=[]\n",
    "for neh in range(100):\n",
    "    sum_er=0 \n",
    "    for i in range(len(times)):\n",
    "        pxt=[(x/10000) for x in list(range(1,500,1))]\n",
    "#         pxt2=[x for x in pxt if (1-ph-(neh*x)/valcons[i])>0 ]\n",
    "        diff=[abs(const[i]-neh*x)**2 for x in pxt]\n",
    "        try:\n",
    "            sum_er+=min(diff)\n",
    "        except:\n",
    "            sum_er+=float('inf')\n",
    "    res.append((sum_er/11)**0.5)"
   ]
  },
  {
   "cell_type": "code",
   "execution_count": 402,
   "id": "0877e8c5",
   "metadata": {},
   "outputs": [
    {
     "name": "stdout",
     "output_type": "stream",
     "text": [
      "39\n"
     ]
    },
    {
     "data": {
      "image/png": "[encoded data removed]",
      "text/plain": [
       "<Figure size 432x288 with 1 Axes>"
      ]
     },
     "metadata": {
      "needs_background": "light"
     },
     "output_type": "display_data"
    }
   ],
   "source": [
    "# best neh val    \n",
    "nehval=res.index(min(res))\n",
    "print(nehval)\n",
    "nehval=75\n",
    "\n",
    "# compute the points for best neh val\n",
    "temp_const=[]\n",
    "for i in range(11):\n",
    "    pxt=[(x/10000) for x in list(range(1,500,1))]\n",
    "#     pxt2=[x for x in pxt if (1-ph-(nehval*x)/valcons[i])>0 ]\n",
    "    diff=[abs(const[i]-nehval*x) for x in pxt]\n",
    "    temp_const.append(pxt[diff.index(min(diff))]*nehval) \n",
    "\n",
    "plt.scatter(times,const,c='k',s=80)      \n",
    "plt.scatter(times,temp_const,c='r',s=40)    \n",
    "plt.show()"
   ]
  },
  {
   "cell_type": "code",
   "execution_count": 403,
   "id": "ae27084f",
   "metadata": {},
   "outputs": [
    {
     "data": {
      "text/plain": [
       "[0.0028,\n",
       " 0.0084,\n",
       " 0.0082,\n",
       " 0.0216,\n",
       " 0.021,\n",
       " 0.0222,\n",
       " 0.0233,\n",
       " 0.0253,\n",
       " 0.0224,\n",
       " 0.0242,\n",
       " 0.0238]"
      ]
     },
     "execution_count": 403,
     "metadata": {},
     "output_type": "execute_result"
    }
   ],
   "source": [
    "[x/nehval for x in temp_const]"
   ]
  },
  {
   "cell_type": "code",
   "execution_count": 404,
   "id": "e1c10f57",
   "metadata": {},
   "outputs": [
    {
     "data": {
      "text/plain": [
       "[0.008076923076923077,\n",
       " 0.02423076923076923,\n",
       " 0.023653846153846157,\n",
       " 0.062307692307692314,\n",
       " 0.060576923076923084,\n",
       " 0.06403846153846154,\n",
       " 0.06721153846153846,\n",
       " 0.07298076923076922,\n",
       " 0.06461538461538462,\n",
       " 0.0698076923076923,\n",
       " 0.06865384615384616]"
      ]
     },
     "execution_count": 404,
     "metadata": {},
     "output_type": "execute_result"
    }
   ],
   "source": [
    "[x/26 for x in temp_const]"
   ]
  },
  {
   "cell_type": "code",
   "execution_count": 413,
   "id": "e1b1cbed",
   "metadata": {},
   "outputs": [
    {
     "name": "stdout",
     "output_type": "stream",
     "text": [
      "0 0.13610338049923057 inf\n",
      "1 0.13191640559353673 0.04605672396263216\n",
      "2 0.12775329011889003 0.04579427022111382\n",
      "3 0.12361644468988225 0.04550529971908546\n",
      "4 0.11950859738702822 0.04518632033139447\n",
      "5 0.11542776638325557 0.0448891410414991\n",
      "6 0.11136575121911033 0.04468216680559767\n",
      "7 0.10732430975465895 0.044455856108965186\n",
      "8 0.10330585719885108 0.044202978113886626\n",
      "9 0.09931318267687476 0.04391941974173941\n",
      "10 0.09534952536616398 0.043600230417818686\n",
      "11 0.09141866015302641 0.043239517344513256\n",
      "12 0.08752500484500352 0.0428302083882518\n",
      "13 0.08366694212687313 0.04243868989943422\n",
      "14 0.07981605648821959 0.042359742025188996\n",
      "15 0.07596697248634653 0.042339924020603714\n",
      "16 0.07211998452062943 0.042316867622888\n",
      "17 0.06827543848008384 0.04229000644600145\n",
      "18 0.06443377024044829 0.04225835063599115\n",
      "19 0.06059554339998549 0.04222049524509075\n",
      "20 0.05676142629787792 0.042175288123183274\n",
      "21 0.05293234138699867 0.042119934019671734\n",
      "22 0.049109461329551046 0.04205168063192388\n",
      "23 0.04529434214883741 0.041966310987849975\n",
      "24 0.04148914384389131 0.04185718135440708\n",
      "25 0.037696839661181175 0.04171534600981147\n",
      "26 0.033921769336233136 0.04152577357442849\n",
      "27 0.030170432977863558 0.04126469994206533\n",
      "28 0.026452901247565542 0.04089284903327817\n",
      "29 0.02278575484520089 0.04033861042601117\n",
      "30 0.01919782861267269 0.0394671885578102\n",
      "31 0.015743350360677512 0.03799926077194696\n",
      "32 0.012519153580169392 0.03546616458558932\n",
      "33 0.009577299193439267 0.03236039825403138\n",
      "34 0.0069716003511374105 0.028662687265320425\n",
      "35 0.004657861895929736 0.025451123007284422\n",
      "36 0.002794100000080475 0.020501380854341868\n",
      "37 0.0013696944219599256 0.015668461359326043\n",
      "38 0.00010659611490074343 0.013894081377651005\n",
      "NEH= 38\n"
     ]
    }
   ],
   "source": [
    "for i,val in enumerate(res):\n",
    "    diff=float('inf')\n",
    "    if i!=0:\n",
    "        diff=res[i-1]-val\n",
    "        \n",
    "    if(diff <0.001):\n",
    "        print(\"NEH=\",i-1)\n",
    "        break\n",
    "    print(i,val/11,abs(diff))"
   ]
  },
  {
   "cell_type": "code",
   "execution_count": null,
   "id": "4c04ae99",
   "metadata": {},
   "outputs": [],
   "source": []
  },
  {
   "cell_type": "code",
   "execution_count": null,
   "id": "d206ba62",
   "metadata": {},
   "outputs": [],
   "source": []
  },
  {
   "cell_type": "code",
   "execution_count": null,
   "id": "7e8df532",
   "metadata": {},
   "outputs": [],
   "source": []
  },
  {
   "cell_type": "code",
   "execution_count": null,
   "id": "628db1f8",
   "metadata": {},
   "outputs": [],
   "source": []
  },
  {
   "cell_type": "code",
   "execution_count": 109,
   "id": "a03d712d",
   "metadata": {},
   "outputs": [
    {
     "name": "stdout",
     "output_type": "stream",
     "text": [
      "wefound next 0.03 0.03 \n",
      " 0.03 0.03\n",
      "1.08231934\n",
      "wefound next 0.04 0.04 \n",
      " 0.04 0.04\n",
      "0.2423193400000001\n"
     ]
    }
   ],
   "source": [
    "neh=42\n",
    "for pxt in [0.03,0.04]:\n",
    "    \n",
    "    sum_val=abs(const[-1]-neh*pxt)\n",
    "    pxt_p=pxt\n",
    "    prev_const=neh*pxt\n",
    "    for i in [9,8]:#range(len(const)-1,-1,-1):\n",
    "        new_p=0\n",
    "        for spxt in [x/100 for x in list(range(1,50,1))]:\n",
    "            if(pxt_p/spxt== prev_const/(neh*spxt)):\n",
    "                new_p=spxt\n",
    "                print(\"wefound next\",pxt_p,spxt,\"\\n\",pxt_p,spxt)\n",
    "                break\n",
    "        pxt_p=pxt_p*const[i]/prev_const\n",
    "        sum_val+=abs(const[i]-pxt*neh)\n",
    "        break\n",
    "    print(sum_val)"
   ]
  },
  {
   "cell_type": "code",
   "execution_count": 107,
   "id": "88d2e2f6",
   "metadata": {},
   "outputs": [
    {
     "data": {
      "text/plain": [
       "0.03"
      ]
     },
     "execution_count": 107,
     "metadata": {},
     "output_type": "execute_result"
    }
   ],
   "source": [
    "i"
   ]
  },
  {
   "cell_type": "code",
   "execution_count": null,
   "id": "15510782",
   "metadata": {},
   "outputs": [],
   "source": []
  },
  {
   "cell_type": "code",
   "execution_count": 86,
   "id": "67cdb92a",
   "metadata": {},
   "outputs": [
    {
     "name": "stdout",
     "output_type": "stream",
     "text": [
      "6.661338147750939e-16\n"
     ]
    }
   ],
   "source": [
    "neh=42\n",
    "for pxt in range(0.03,0.045,0.001):\n",
    "    \n",
    "    sum_val=abs(const[i-1]-neh*pxt)\n",
    "    pxt_p=pxt\n",
    "    prev_const=neh*pxt\n",
    "    for i in range(len(const)-1,-1,-1):\n",
    "        pxt_p=pxt_p*const[i]/prev_const\n",
    "        sum_val+=abs(const[i]-pxt*neh)\n",
    "    print(sum_val)"
   ]
  },
  {
   "cell_type": "code",
   "execution_count": 96,
   "id": "5fe53896",
   "metadata": {
    "scrolled": true
   },
   "outputs": [
    {
     "data": {
      "text/plain": [
       "[0.03,\n",
       " 0.04,\n",
       " 0.05,\n",
       " 0.06,\n",
       " 0.07,\n",
       " 0.08,\n",
       " 0.09,\n",
       " 0.1,\n",
       " 0.11,\n",
       " 0.12,\n",
       " 0.13,\n",
       " 0.14,\n",
       " 0.15,\n",
       " 0.16,\n",
       " 0.17,\n",
       " 0.18,\n",
       " 0.19,\n",
       " 0.2,\n",
       " 0.21,\n",
       " 0.22,\n",
       " 0.23,\n",
       " 0.24,\n",
       " 0.25,\n",
       " 0.26,\n",
       " 0.27,\n",
       " 0.28,\n",
       " 0.29,\n",
       " 0.3,\n",
       " 0.31,\n",
       " 0.32,\n",
       " 0.33,\n",
       " 0.34,\n",
       " 0.35,\n",
       " 0.36,\n",
       " 0.37,\n",
       " 0.38,\n",
       " 0.39,\n",
       " 0.4,\n",
       " 0.41,\n",
       " 0.42,\n",
       " 0.43,\n",
       " 0.44]"
      ]
     },
     "execution_count": 96,
     "metadata": {},
     "output_type": "execute_result"
    }
   ],
   "source": [
    "[x/100 for x in list(range(3,45,1))]"
   ]
  },
  {
   "cell_type": "code",
   "execution_count": null,
   "id": "211ac292",
   "metadata": {},
   "outputs": [],
   "source": []
  },
  {
   "cell_type": "code",
   "execution_count": null,
   "id": "3b1726d6",
   "metadata": {},
   "outputs": [],
   "source": []
  },
  {
   "cell_type": "code",
   "execution_count": null,
   "id": "8ea46973",
   "metadata": {},
   "outputs": [],
   "source": []
  },
  {
   "cell_type": "code",
   "execution_count": null,
   "id": "084cd8b9",
   "metadata": {},
   "outputs": [],
   "source": []
  },
  {
   "cell_type": "code",
   "execution_count": 71,
   "id": "19ac0dd9",
   "metadata": {},
   "outputs": [
    {
     "data": {
      "text/plain": [
       "0.0"
      ]
     },
     "execution_count": 71,
     "metadata": {},
     "output_type": "execute_result"
    }
   ],
   "source": [
    "neh=42\n",
    "#31\n",
    "pxt31=const[10]/neh\n",
    "pxt24=pxt31*const[9]/const[10]\n",
    "const[9]-neh*pxt24"
   ]
  },
  {
   "cell_type": "code",
   "execution_count": 30,
   "id": "98aad4f8",
   "metadata": {},
   "outputs": [
    {
     "data": {
      "text/plain": [
       "-2.220446049250313e-16"
      ]
     },
     "execution_count": 30,
     "metadata": {},
     "output_type": "execute_result"
    }
   ],
   "source": [
    "pxt21=pxt24*const[8]/const[9]\n",
    "const[8]-neh*pxt21"
   ]
  },
  {
   "cell_type": "code",
   "execution_count": null,
   "id": "685664ad",
   "metadata": {},
   "outputs": [],
   "source": []
  },
  {
   "cell_type": "code",
   "execution_count": 73,
   "id": "e4e1e79c",
   "metadata": {},
   "outputs": [
    {
     "name": "stdout",
     "output_type": "stream",
     "text": [
      "9\n",
      "0.0\n",
      "8\n",
      "0.0\n",
      "7\n",
      "0.0\n",
      "6\n",
      "0.0\n",
      "5\n",
      "0.0\n",
      "4\n",
      "0.0\n",
      "3\n",
      "0.0\n",
      "2\n",
      "0.0\n",
      "1\n",
      "0.0\n",
      "0\n",
      "-2.7755575615628914e-17\n"
     ]
    }
   ],
   "source": [
    "neh=1\n",
    "pxt_p=const[len(const)-1]/neh\n",
    "for i in range(len(const)-2,-1,-1):\n",
    "    print(i)\n",
    "    pxt_p=pxt_p*const[i]/const[i+1]\n",
    "    print(const[i]-pxt_p*neh)\n",
    "    "
   ]
  },
  {
   "cell_type": "code",
   "execution_count": 35,
   "id": "a2699b1e",
   "metadata": {},
   "outputs": [],
   "source": [
    "# res=[]\n",
    "# for neh in range (1,50):\n",
    "#     print(neh)\n",
    "#     pxt_p=const[len(const)-1]/neh\n",
    "#     sumval=0\n",
    "#     for i in range(len(const)-2,-1,-1):\n",
    "#         pxt_p=pxt_p*const[i]/const[i+1]\n",
    "#         sumval+=abs(const[i]-pxt_p*neh)\n",
    "#     res.append(sumval)\n",
    "    "
   ]
  },
  {
   "cell_type": "code",
   "execution_count": 23,
   "id": "94f4a3a4",
   "metadata": {},
   "outputs": [
    {
     "data": {
      "text/plain": [
       "2.7755575615628914e-17"
      ]
     },
     "execution_count": 23,
     "metadata": {},
     "output_type": "execute_result"
    }
   ],
   "source": [
    "min(res)"
   ]
  },
  {
   "cell_type": "code",
   "execution_count": 24,
   "id": "2971d552",
   "metadata": {},
   "outputs": [
    {
     "data": {
      "text/plain": [
       "[2.7755575615628914e-17,\n",
       " 2.7755575615628914e-17,\n",
       " 2.7478019859472624e-15,\n",
       " 2.7755575615628914e-17,\n",
       " 3.191891195797325e-15,\n",
       " 2.7478019859472624e-15,\n",
       " 9.159339953157541e-16,\n",
       " 2.7755575615628914e-17,\n",
       " 1.2490009027033011e-15,\n",
       " 3.191891195797325e-15,\n",
       " 4.718447854656915e-16,\n",
       " 2.7478019859472624e-15,\n",
       " 1.8041124150158794e-15,\n",
       " 9.159339953157541e-16,\n",
       " 1.1379786002407855e-15,\n",
       " 2.7755575615628914e-17,\n",
       " 1.3322676295501878e-15,\n",
       " 1.2490009027033011e-15,\n",
       " 4.718447854656915e-16,\n",
       " 3.191891195797325e-15,\n",
       " 1.9984014443252818e-15,\n",
       " 4.718447854656915e-16,\n",
       " 2.8033131371785203e-15,\n",
       " 2.7478019859472624e-15,\n",
       " 1.609823385706477e-15,\n",
       " 1.8041124150158794e-15,\n",
       " 2.3037127760972e-15,\n",
       " 9.159339953157541e-16,\n",
       " 6.938893903907228e-16,\n",
       " 1.1379786002407855e-15,\n",
       " 8.326672684688674e-16,\n",
       " 2.7755575615628914e-17,\n",
       " 1.304512053934559e-15,\n",
       " 1.3322676295501878e-15,\n",
       " 4.996003610813204e-16,\n",
       " 1.2490009027033011e-15,\n",
       " 1.4988010832439613e-15,\n",
       " 4.718447854656915e-16,\n",
       " 1.1379786002407855e-15,\n",
       " 3.191891195797325e-15,\n",
       " 2.0539125955565396e-15,\n",
       " 1.9984014443252818e-15,\n",
       " 8.881784197001252e-16,\n",
       " 4.718447854656915e-16,\n",
       " 2.4702462297909733e-15,\n",
       " 2.8033131371785203e-15,\n",
       " 3.0531133177191805e-15,\n",
       " 2.7478019859472624e-15,\n",
       " 6.938893903907228e-16]"
      ]
     },
     "execution_count": 24,
     "metadata": {},
     "output_type": "execute_result"
    }
   ],
   "source": [
    "res"
   ]
  },
  {
   "cell_type": "code",
   "execution_count": null,
   "id": "2c5745ce",
   "metadata": {},
   "outputs": [],
   "source": []
  }
 ],
 "metadata": {
  "kernelspec": {
   "display_name": "Python 3 (ipykernel)",
   "language": "python",
   "name": "python3"
  },
  "language_info": {
   "codemirror_mode": {
    "name": "ipython",
    "version": 3
   },
   "file_extension": ".py",
   "mimetype": "text/x-python",
   "name": "python",
   "nbconvert_exporter": "python",
   "pygments_lexer": "ipython3",
   "version": "3.9.11"
  }
 },
 "nbformat": 4,
 "nbformat_minor": 5
}
