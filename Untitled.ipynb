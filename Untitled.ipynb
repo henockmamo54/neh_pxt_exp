{
 "cells": [
  {
   "cell_type": "code",
   "execution_count": 43,
   "id": "a0a8bafd",
   "metadata": {},
   "outputs": [],
   "source": [
    "import numpy as np\n",
    "from matplotlib import pyplot as plt\n",
    "import math"
   ]
  },
  {
   "cell_type": "code",
   "execution_count": 275,
   "id": "bc379f77",
   "metadata": {},
   "outputs": [
    {
     "data": {
      "text/plain": [
       "Text(0.5, 0, 'Time')"
      ]
     },
     "execution_count": 275,
     "metadata": {},
     "output_type": "execute_result"
    },
    {
     "data": {
      "image/png": "[encoded data removed]",
      "text/plain": [
       "<Figure size 432x288 with 1 Axes>"
      ]
     },
     "metadata": {
      "needs_background": "light"
     },
     "output_type": "display_data"
    }
   ],
   "source": [
    "# const=[0.21, 0.631799766, 0.613599882, 1.6170085799999998, 1.57499775, 1.66530585, 1.7465094499999998, 1.89621026, 1.6830088399999998, 1.81670962, 1.78560972]\n",
    "# const=[0.21, 0.631799766, 0.613599882, 1.6170085799999998, 1.57499775, 1.66530585, 1.7465094499999998, 1.89621026, 1.6830088399999998, 1.81670962, 1.78560972]\n",
    "# const=[0.16119999999999998, 0.39590000000000003, 0.413400106, 0.92340475, 0.978005, 0.968005, 1.0846057199999999, 1.18320624, 1.06040528, 1.1270059799999999, 1.09780594]\n",
    "# const=[0.225, 0.695999652, 0.725899643, 1.44710783, 1.42680754, 1.4970081, 1.54690837, 1.6830088399999998, 1.64010891, 1.54380837, 1.6830088399999998]\n",
    "# const=[0.09, 0.2886, 0.31980000000000003, 0.84239928, 0.7410039, 0.75999924, 0.84490459, 0.9323992600000001, 0.82790425, 0.88920468, 0.9139045600000001]\n",
    "# const=[0.249, 0.474999905, 0.3456, 1.3424985, 0.98249925, 1.2074985, 1.0724985, 1.1924985000000001, 1.1774985, 1.1174985, 1.3349985]\n",
    "const=[0.156, 0.3465, 0.3465, 0.9960054, 0.887399286, 1.01850525, 1.0582052800000001, 1.1270059799999999, 1.0063985199999999, 1.09560594, 1.1474985]\n",
    "\n",
    "plt.scatter(range(11),const,c='k',s=70)\n",
    "plt.ylabel(\"px(t)*NEH\")\n",
    "plt.xlabel(\"Time\")"
   ]
  },
  {
   "cell_type": "code",
   "execution_count": 263,
   "id": "d0b28d0a",
   "metadata": {},
   "outputs": [],
   "source": [
    "\n",
    "# plt.plot(range(11),[math.exp(x)-1 for x in const])"
   ]
  },
  {
   "cell_type": "code",
   "execution_count": 264,
   "id": "4df0fdc2",
   "metadata": {
    "scrolled": true
   },
   "outputs": [],
   "source": [
    "# [(x/100000) for x in list(range(1,5000,1))]"
   ]
  },
  {
   "cell_type": "code",
   "execution_count": 265,
   "id": "5876e8da",
   "metadata": {
    "scrolled": true
   },
   "outputs": [],
   "source": [
    "# pxt=[abs(const[-1]-(42*x/100)) for x in list(range(1,50,1))]\n",
    "# min(pxt)"
   ]
  },
  {
   "cell_type": "code",
   "execution_count": 266,
   "id": "aefb8d24",
   "metadata": {},
   "outputs": [
    {
     "name": "stdout",
     "output_type": "stream",
     "text": [
      "0.0499 0.8067985199999999\n"
     ]
    }
   ],
   "source": [
    "neh=4\n",
    "pxt=[(x/10000) for x in list(range(1,500,1))]\n",
    "diff=[abs(const[8]-neh*x) for x in pxt]\n",
    "print(pxt[diff.index(min(diff))], min(diff))"
   ]
  },
  {
   "cell_type": "code",
   "execution_count": 267,
   "id": "2a26f2df",
   "metadata": {},
   "outputs": [
    {
     "name": "stdout",
     "output_type": "stream",
     "text": [
      "0.024 0.001601480000000155\n"
     ]
    }
   ],
   "source": [
    "neh=42\n",
    "pxt=[(x/10000) for x in list(range(1,500,1))]\n",
    "diff=[abs(const[8]-neh*x) for x in pxt]\n",
    "print(pxt[diff.index(min(diff))], min(diff))"
   ]
  },
  {
   "cell_type": "code",
   "execution_count": 268,
   "id": "7efd34a5",
   "metadata": {},
   "outputs": [],
   "source": [
    "res=[]\n",
    "for neh in range(100):\n",
    "    sum_er=0\n",
    "#     neh=50\n",
    "    for i in range(11):\n",
    "        pxt=[(x/10000) for x in list(range(1,500,1))]\n",
    "        diff=[abs(const[i]-neh*x) for x in pxt]\n",
    "        sum_er+=min(diff)\n",
    "    res.append(sum_er)"
   ]
  },
  {
   "cell_type": "code",
   "execution_count": 269,
   "id": "b19a4ab3",
   "metadata": {
    "scrolled": true
   },
   "outputs": [
    {
     "name": "stdout",
     "output_type": "stream",
     "text": [
      "24\n"
     ]
    },
    {
     "data": {
      "text/plain": [
       "<matplotlib.collections.PathCollection at 0x1ac56716970>"
      ]
     },
     "execution_count": 269,
     "metadata": {},
     "output_type": "execute_result"
    },
    {
     "data": {
      "image/png": "[encoded data removed]",
      "text/plain": [
       "<Figure size 432x288 with 1 Axes>"
      ]
     },
     "metadata": {
      "needs_background": "light"
     },
     "output_type": "display_data"
    }
   ],
   "source": [
    "print(res.index(min(res))+1)\n",
    "plt.scatter(range(100),res,s=1)"
   ]
  },
  {
   "cell_type": "code",
   "execution_count": 213,
   "id": "c1d1c62d",
   "metadata": {},
   "outputs": [
    {
     "data": {
      "text/plain": [
       "66"
      ]
     },
     "execution_count": 213,
     "metadata": {},
     "output_type": "execute_result"
    }
   ],
   "source": []
  },
  {
   "cell_type": "code",
   "execution_count": null,
   "id": "fbfb4e13",
   "metadata": {},
   "outputs": [],
   "source": []
  },
  {
   "cell_type": "code",
   "execution_count": null,
   "id": "4a3e2935",
   "metadata": {},
   "outputs": [],
   "source": []
  },
  {
   "cell_type": "code",
   "execution_count": null,
   "id": "bedebb89",
   "metadata": {},
   "outputs": [],
   "source": []
  },
  {
   "cell_type": "code",
   "execution_count": null,
   "id": "3ce4b551",
   "metadata": {},
   "outputs": [],
   "source": []
  },
  {
   "cell_type": "code",
   "execution_count": null,
   "id": "5623afcd",
   "metadata": {},
   "outputs": [],
   "source": []
  },
  {
   "cell_type": "code",
   "execution_count": null,
   "id": "82ff8ae8",
   "metadata": {},
   "outputs": [],
   "source": []
  },
  {
   "cell_type": "code",
   "execution_count": 109,
   "id": "926e0983",
   "metadata": {},
   "outputs": [
    {
     "name": "stdout",
     "output_type": "stream",
     "text": [
      "wefound next 0.03 0.03 \n",
      " 0.03 0.03\n",
      "1.08231934\n",
      "wefound next 0.04 0.04 \n",
      " 0.04 0.04\n",
      "0.2423193400000001\n"
     ]
    }
   ],
   "source": [
    "neh=42\n",
    "for pxt in [0.03,0.04]:\n",
    "    \n",
    "    sum_val=abs(const[-1]-neh*pxt)\n",
    "    pxt_p=pxt\n",
    "    prev_const=neh*pxt\n",
    "    for i in [9,8]:#range(len(const)-1,-1,-1):\n",
    "        new_p=0\n",
    "        for spxt in [x/100 for x in list(range(1,50,1))]:\n",
    "            if(pxt_p/spxt== prev_const/(neh*spxt)):\n",
    "                new_p=spxt\n",
    "                print(\"wefound next\",pxt_p,spxt,\"\\n\",pxt_p,spxt)\n",
    "                break\n",
    "        pxt_p=pxt_p*const[i]/prev_const\n",
    "        sum_val+=abs(const[i]-pxt*neh)\n",
    "        break\n",
    "    print(sum_val)"
   ]
  },
  {
   "cell_type": "code",
   "execution_count": 107,
   "id": "1497d732",
   "metadata": {},
   "outputs": [
    {
     "data": {
      "text/plain": [
       "0.03"
      ]
     },
     "execution_count": 107,
     "metadata": {},
     "output_type": "execute_result"
    }
   ],
   "source": [
    "i"
   ]
  },
  {
   "cell_type": "code",
   "execution_count": null,
   "id": "c9fcd0f0",
   "metadata": {},
   "outputs": [],
   "source": []
  },
  {
   "cell_type": "code",
   "execution_count": 86,
   "id": "5453754d",
   "metadata": {},
   "outputs": [
    {
     "name": "stdout",
     "output_type": "stream",
     "text": [
      "6.661338147750939e-16\n"
     ]
    }
   ],
   "source": [
    "neh=42\n",
    "for pxt in range(0.03,0.045,0.001):\n",
    "    \n",
    "    sum_val=abs(const[i-1]-neh*pxt)\n",
    "    pxt_p=pxt\n",
    "    prev_const=neh*pxt\n",
    "    for i in range(len(const)-1,-1,-1):\n",
    "        pxt_p=pxt_p*const[i]/prev_const\n",
    "        sum_val+=abs(const[i]-pxt*neh)\n",
    "    print(sum_val)"
   ]
  },
  {
   "cell_type": "code",
   "execution_count": 96,
   "id": "59c34fe8",
   "metadata": {
    "scrolled": true
   },
   "outputs": [
    {
     "data": {
      "text/plain": [
       "[0.03,\n",
       " 0.04,\n",
       " 0.05,\n",
       " 0.06,\n",
       " 0.07,\n",
       " 0.08,\n",
       " 0.09,\n",
       " 0.1,\n",
       " 0.11,\n",
       " 0.12,\n",
       " 0.13,\n",
       " 0.14,\n",
       " 0.15,\n",
       " 0.16,\n",
       " 0.17,\n",
       " 0.18,\n",
       " 0.19,\n",
       " 0.2,\n",
       " 0.21,\n",
       " 0.22,\n",
       " 0.23,\n",
       " 0.24,\n",
       " 0.25,\n",
       " 0.26,\n",
       " 0.27,\n",
       " 0.28,\n",
       " 0.29,\n",
       " 0.3,\n",
       " 0.31,\n",
       " 0.32,\n",
       " 0.33,\n",
       " 0.34,\n",
       " 0.35,\n",
       " 0.36,\n",
       " 0.37,\n",
       " 0.38,\n",
       " 0.39,\n",
       " 0.4,\n",
       " 0.41,\n",
       " 0.42,\n",
       " 0.43,\n",
       " 0.44]"
      ]
     },
     "execution_count": 96,
     "metadata": {},
     "output_type": "execute_result"
    }
   ],
   "source": [
    "[x/100 for x in list(range(3,45,1))]"
   ]
  },
  {
   "cell_type": "code",
   "execution_count": null,
   "id": "973c26bc",
   "metadata": {},
   "outputs": [],
   "source": []
  },
  {
   "cell_type": "code",
   "execution_count": null,
   "id": "ff31a37c",
   "metadata": {},
   "outputs": [],
   "source": []
  },
  {
   "cell_type": "code",
   "execution_count": null,
   "id": "800985a5",
   "metadata": {},
   "outputs": [],
   "source": []
  },
  {
   "cell_type": "code",
   "execution_count": null,
   "id": "71ad2ad6",
   "metadata": {},
   "outputs": [],
   "source": []
  },
  {
   "cell_type": "code",
   "execution_count": 71,
   "id": "5c37bc52",
   "metadata": {},
   "outputs": [
    {
     "data": {
      "text/plain": [
       "0.0"
      ]
     },
     "execution_count": 71,
     "metadata": {},
     "output_type": "execute_result"
    }
   ],
   "source": [
    "neh=42\n",
    "#31\n",
    "pxt31=const[10]/neh\n",
    "pxt24=pxt31*const[9]/const[10]\n",
    "const[9]-neh*pxt24"
   ]
  },
  {
   "cell_type": "code",
   "execution_count": 30,
   "id": "fe6d8d64",
   "metadata": {},
   "outputs": [
    {
     "data": {
      "text/plain": [
       "-2.220446049250313e-16"
      ]
     },
     "execution_count": 30,
     "metadata": {},
     "output_type": "execute_result"
    }
   ],
   "source": [
    "pxt21=pxt24*const[8]/const[9]\n",
    "const[8]-neh*pxt21"
   ]
  },
  {
   "cell_type": "code",
   "execution_count": null,
   "id": "fc8b4aad",
   "metadata": {},
   "outputs": [],
   "source": []
  },
  {
   "cell_type": "code",
   "execution_count": 73,
   "id": "1ea07a14",
   "metadata": {},
   "outputs": [
    {
     "name": "stdout",
     "output_type": "stream",
     "text": [
      "9\n",
      "0.0\n",
      "8\n",
      "0.0\n",
      "7\n",
      "0.0\n",
      "6\n",
      "0.0\n",
      "5\n",
      "0.0\n",
      "4\n",
      "0.0\n",
      "3\n",
      "0.0\n",
      "2\n",
      "0.0\n",
      "1\n",
      "0.0\n",
      "0\n",
      "-2.7755575615628914e-17\n"
     ]
    }
   ],
   "source": [
    "neh=1\n",
    "pxt_p=const[len(const)-1]/neh\n",
    "for i in range(len(const)-2,-1,-1):\n",
    "    print(i)\n",
    "    pxt_p=pxt_p*const[i]/const[i+1]\n",
    "    print(const[i]-pxt_p*neh)\n",
    "    "
   ]
  },
  {
   "cell_type": "code",
   "execution_count": 35,
   "id": "8ba3e085",
   "metadata": {},
   "outputs": [],
   "source": [
    "# res=[]\n",
    "# for neh in range (1,50):\n",
    "#     print(neh)\n",
    "#     pxt_p=const[len(const)-1]/neh\n",
    "#     sumval=0\n",
    "#     for i in range(len(const)-2,-1,-1):\n",
    "#         pxt_p=pxt_p*const[i]/const[i+1]\n",
    "#         sumval+=abs(const[i]-pxt_p*neh)\n",
    "#     res.append(sumval)\n",
    "    "
   ]
  },
  {
   "cell_type": "code",
   "execution_count": 23,
   "id": "8e4c9d8f",
   "metadata": {},
   "outputs": [
    {
     "data": {
      "text/plain": [
       "2.7755575615628914e-17"
      ]
     },
     "execution_count": 23,
     "metadata": {},
     "output_type": "execute_result"
    }
   ],
   "source": [
    "min(res)"
   ]
  },
  {
   "cell_type": "code",
   "execution_count": 24,
   "id": "f6b90fab",
   "metadata": {},
   "outputs": [
    {
     "data": {
      "text/plain": [
       "[2.7755575615628914e-17,\n",
       " 2.7755575615628914e-17,\n",
       " 2.7478019859472624e-15,\n",
       " 2.7755575615628914e-17,\n",
       " 3.191891195797325e-15,\n",
       " 2.7478019859472624e-15,\n",
       " 9.159339953157541e-16,\n",
       " 2.7755575615628914e-17,\n",
       " 1.2490009027033011e-15,\n",
       " 3.191891195797325e-15,\n",
       " 4.718447854656915e-16,\n",
       " 2.7478019859472624e-15,\n",
       " 1.8041124150158794e-15,\n",
       " 9.159339953157541e-16,\n",
       " 1.1379786002407855e-15,\n",
       " 2.7755575615628914e-17,\n",
       " 1.3322676295501878e-15,\n",
       " 1.2490009027033011e-15,\n",
       " 4.718447854656915e-16,\n",
       " 3.191891195797325e-15,\n",
       " 1.9984014443252818e-15,\n",
       " 4.718447854656915e-16,\n",
       " 2.8033131371785203e-15,\n",
       " 2.7478019859472624e-15,\n",
       " 1.609823385706477e-15,\n",
       " 1.8041124150158794e-15,\n",
       " 2.3037127760972e-15,\n",
       " 9.159339953157541e-16,\n",
       " 6.938893903907228e-16,\n",
       " 1.1379786002407855e-15,\n",
       " 8.326672684688674e-16,\n",
       " 2.7755575615628914e-17,\n",
       " 1.304512053934559e-15,\n",
       " 1.3322676295501878e-15,\n",
       " 4.996003610813204e-16,\n",
       " 1.2490009027033011e-15,\n",
       " 1.4988010832439613e-15,\n",
       " 4.718447854656915e-16,\n",
       " 1.1379786002407855e-15,\n",
       " 3.191891195797325e-15,\n",
       " 2.0539125955565396e-15,\n",
       " 1.9984014443252818e-15,\n",
       " 8.881784197001252e-16,\n",
       " 4.718447854656915e-16,\n",
       " 2.4702462297909733e-15,\n",
       " 2.8033131371785203e-15,\n",
       " 3.0531133177191805e-15,\n",
       " 2.7478019859472624e-15,\n",
       " 6.938893903907228e-16]"
      ]
     },
     "execution_count": 24,
     "metadata": {},
     "output_type": "execute_result"
    }
   ],
   "source": [
    "res"
   ]
  },
  {
   "cell_type": "code",
   "execution_count": null,
   "id": "8ec24945",
   "metadata": {},
   "outputs": [],
   "source": []
  }
 ],
 "metadata": {
  "kernelspec": {
   "display_name": "Python 3 (ipykernel)",
   "language": "python",
   "name": "python3"
  },
  "language_info": {
   "codemirror_mode": {
    "name": "ipython",
    "version": 3
   },
   "file_extension": ".py",
   "mimetype": "text/x-python",
   "name": "python",
   "nbconvert_exporter": "python",
   "pygments_lexer": "ipython3",
   "version": "3.9.11"
  }
 },
 "nbformat": 4,
 "nbformat_minor": 5
}
